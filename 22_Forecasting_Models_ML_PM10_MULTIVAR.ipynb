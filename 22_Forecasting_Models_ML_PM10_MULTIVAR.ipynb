{
  "nbformat": 4,
  "nbformat_minor": 0,
  "metadata": {
    "colab": {
      "name": "22_Forecasting_Models_ML_PM10_MULTIVAR.ipynb",
      "version": "0.3.2",
      "provenance": [],
      "collapsed_sections": [],
      "include_colab_link": true
    },
    "kernelspec": {
      "name": "python3",
      "display_name": "Python 3"
    },
    "accelerator": "GPU"
  },
  "cells": [
    {
      "cell_type": "markdown",
      "metadata": {
        "id": "view-in-github",
        "colab_type": "text"
      },
      "source": [
        "<a href=\"https://colab.research.google.com/github/sergioberdiales/TFM_KSchool_Gijon_Air_Pollution/blob/master/22_Forecasting_Models_ML_PM10_MULTIVAR.ipynb\" target=\"_parent\"><img src=\"https://colab.research.google.com/assets/colab-badge.svg\" alt=\"Open In Colab\"/></a>"
      ]
    },
    {
      "metadata": {
        "id": "bG8CQ0NLo_XX",
        "colab_type": "code",
        "colab": {}
      },
      "cell_type": "code",
      "source": [
        ""
      ],
      "execution_count": 0,
      "outputs": []
    },
    {
      "metadata": {
        "id": "C2KUABWEp4T6",
        "colab_type": "text"
      },
      "cell_type": "markdown",
      "source": [
        "We are going to try to improve the autoregressive forecasting models introducing more variables.\n",
        "We will use the XGBoost algorithm. "
      ]
    },
    {
      "metadata": {
        "colab_type": "code",
        "outputId": "50bb9e3b-100a-439a-cbe9-b545b2980b11",
        "id": "OxJRU8VLpp9W",
        "colab": {
          "base_uri": "https://localhost:8080/",
          "height": 85
        }
      },
      "cell_type": "code",
      "source": [
        "%pylab inline\n",
        "import pandas as pd\n",
        "\n",
        "# We install and import pyreadr, in order to read rds objects.  \n",
        "# https://github.com/ofajardo/pyreadr\n",
        "\n",
        "!pip install pyreadr\n",
        "import pyreadr\n",
        "\n",
        "\n",
        "# Importing models\n",
        "\n",
        "\n",
        "import statsmodels.api as sm\n",
        "from sklearn.linear_model import LinearRegression\n",
        "from sklearn.ensemble import RandomForestRegressor\n",
        "from xgboost import XGBRegressor\n",
        "import os\n",
        "os.environ[\"KMP_DUPLICATE_LIB_OK\"]=\"TRUE\"\n",
        "\n",
        "# Importing metrics\n",
        "\n",
        "from sklearn.metrics import mean_squared_error\n",
        "from sklearn.metrics import mean_absolute_error\n",
        "from sklearn.metrics import r2_score\n",
        "\n",
        "# Model selection\n",
        "from sklearn.model_selection import GridSearchCV\n",
        "\n",
        "# Variable selection\n",
        "\n",
        "import sklearn\n",
        "from sklearn.feature_selection import f_regression\n"
      ],
      "execution_count": 0,
      "outputs": [
        {
          "output_type": "stream",
          "text": [
            "Populating the interactive namespace from numpy and matplotlib\n",
            "Requirement already satisfied: pyreadr in /usr/local/lib/python3.6/dist-packages (0.1.6)\n"
          ],
          "name": "stdout"
        },
        {
          "output_type": "stream",
          "text": [
            "/usr/local/lib/python3.6/dist-packages/statsmodels/compat/pandas.py:56: FutureWarning: The pandas.core.datetools module is deprecated and will be removed in a future version. Please use the pandas.tseries module instead.\n",
            "  from pandas.core import datetools\n"
          ],
          "name": "stderr"
        }
      ]
    },
    {
      "metadata": {
        "id": "adowIIZEus6d",
        "colab_type": "text"
      },
      "cell_type": "markdown",
      "source": [
        "\n",
        "\n"
      ]
    },
    {
      "metadata": {
        "colab_type": "text",
        "id": "Dh0qqPFMpp9d"
      },
      "cell_type": "markdown",
      "source": [
        "We upload the train and test data. All rds files from this folder  ~\\`TFM_KSchool_Gijon_Air_Pollution\\train_test\\\n",
        "Forecasting_Models_ML_PM10_MULTIVAR"
      ]
    },
    {
      "metadata": {
        "colab_type": "code",
        "outputId": "1b6b0826-21eb-4036-e144-55506cae608e",
        "id": "gWOu3DSopp9e",
        "colab": {
          "resources": {
            "http://localhost:8080/nbextensions/google.colab/files.js": {
              "data": "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",
              "ok": true,
              "headers": [
                [
                  "content-type",
                  "application/javascript"
                ]
              ],
              "status": 200,
              "status_text": ""
            }
          },
          "base_uri": "https://localhost:8080/",
          "height": 650
        }
      },
      "cell_type": "code",
      "source": [
        "from google.colab import files\n",
        "\n",
        "uploaded = files.upload()\n",
        "\n",
        "for fn in uploaded.keys():\n",
        "  print('User uploaded file \"{name}\" with length {length} bytes'.format(\n",
        "      name=fn, length=len(uploaded[fn])))"
      ],
      "execution_count": 0,
      "outputs": [
        {
          "output_type": "display_data",
          "data": {
            "text/html": [
              "\n",
              "     <input type=\"file\" id=\"files-7d450ec3-0c5b-448f-bbfa-d546ef6ef67d\" name=\"files[]\" multiple disabled />\n",
              "     <output id=\"result-7d450ec3-0c5b-448f-bbfa-d546ef6ef67d\">\n",
              "      Upload widget is only available when the cell has been executed in the\n",
              "      current browser session. Please rerun this cell to enable.\n",
              "      </output>\n",
              "      <script src=\"/nbextensions/google.colab/files.js\"></script> "
            ],
            "text/plain": [
              "<IPython.core.display.HTML object>"
            ]
          },
          "metadata": {
            "tags": []
          }
        },
        {
          "output_type": "stream",
          "text": [
            "Saving X_test_PM10_201701_201709_multivar.rds to X_test_PM10_201701_201709_multivar.rds\n",
            "Saving X_test_PM10_20170101_20170114_multivar.rds to X_test_PM10_20170101_20170114_multivar.rds\n",
            "Saving X_train_PM10_200901_201612_multivar.rds to X_train_PM10_200901_201612_multivar.rds\n",
            "Saving X_train_PM10_201401_201612_multivar.rds to X_train_PM10_201401_201612_multivar.rds\n",
            "Saving X_train_PM10_201610_201612_multivar.rds to X_train_PM10_201610_201612_multivar.rds\n",
            "Saving X_validation_PM10_201710_201712_multivar.rds to X_validation_PM10_201710_201712_multivar.rds\n",
            "Saving y_test_PM10_201701_201709_multivar.rds to y_test_PM10_201701_201709_multivar.rds\n",
            "Saving y_test_PM10_20170101_20170114_multivar.rds to y_test_PM10_20170101_20170114_multivar.rds\n",
            "Saving y_train_PM10_200901_201612_multivar.rds to y_train_PM10_200901_201612_multivar.rds\n",
            "Saving y_train_PM10_201401_201612_multivar.rds to y_train_PM10_201401_201612_multivar.rds\n",
            "Saving y_train_PM10_201610_201612_multivar.rds to y_train_PM10_201610_201612_multivar.rds\n",
            "Saving y_validation_PM10_201710_201712_multivar.rds to y_validation_PM10_201710_201712_multivar.rds\n",
            "User uploaded file \"X_test_PM10_201701_201709_multivar.rds\" with length 341344 bytes\n",
            "User uploaded file \"X_test_PM10_20170101_20170114_multivar.rds\" with length 4906 bytes\n",
            "User uploaded file \"X_train_PM10_200901_201612_multivar.rds\" with length 1611389 bytes\n",
            "User uploaded file \"X_train_PM10_201401_201612_multivar.rds\" with length 1398482 bytes\n",
            "User uploaded file \"X_train_PM10_201610_201612_multivar.rds\" with length 45903 bytes\n",
            "User uploaded file \"X_validation_PM10_201710_201712_multivar.rds\" with length 52715 bytes\n",
            "User uploaded file \"y_test_PM10_201701_201709_multivar.rds\" with length 8389 bytes\n",
            "User uploaded file \"y_test_PM10_20170101_20170114_multivar.rds\" with length 1179 bytes\n",
            "User uploaded file \"y_train_PM10_200901_201612_multivar.rds\" with length 237551 bytes\n",
            "User uploaded file \"y_train_PM10_201401_201612_multivar.rds\" with length 32888 bytes\n",
            "User uploaded file \"y_train_PM10_201610_201612_multivar.rds\" with length 3558 bytes\n",
            "User uploaded file \"y_validation_PM10_201710_201712_multivar.rds\" with length 3607 bytes\n"
          ],
          "name": "stdout"
        }
      ]
    },
    {
      "metadata": {
        "id": "kV-EfqxNtTqI",
        "colab_type": "code",
        "outputId": "b8ea6eed-26c0-4deb-de94-409babd9a66b",
        "colab": {
          "base_uri": "https://localhost:8080/",
          "height": 34
        }
      },
      "cell_type": "code",
      "source": [
        "!ls"
      ],
      "execution_count": 0,
      "outputs": [
        {
          "output_type": "stream",
          "text": [
            "sample_data\n"
          ],
          "name": "stdout"
        }
      ]
    },
    {
      "metadata": {
        "id": "kIKToPXf14-t",
        "colab_type": "code",
        "outputId": "19dac596-5a40-49f5-df46-e463840709f5",
        "colab": {
          "base_uri": "https://localhost:8080/",
          "height": 34
        }
      },
      "cell_type": "code",
      "source": [
        "# !rm *"
      ],
      "execution_count": 0,
      "outputs": [
        {
          "output_type": "stream",
          "text": [
            "rm: cannot remove 'sample_data': Is a directory\n"
          ],
          "name": "stdout"
        }
      ]
    },
    {
      "metadata": {
        "id": "lJ_JT489NpgG",
        "colab_type": "code",
        "outputId": "17650d3d-cc73-441b-d1da-1b337b5eaab1",
        "colab": {
          "base_uri": "https://localhost:8080/",
          "height": 233
        }
      },
      "cell_type": "code",
      "source": [
        "X_train = pyreadr.read_r(\"X_train_PM10_201401_201612_multivar.rds\")\n",
        "y_train = pyreadr.read_r(\"y_train_PM10_201401_201612_multivar.rds\")\n",
        "\n",
        "X_test = pyreadr.read_r(\"X_test_PM10_201701_201709_multivar.rds\")\n",
        "y_test = pyreadr.read_r(\"y_test_PM10_201701_201709_multivar.rds\")\n",
        "\n",
        "X_train = X_train[None]\n",
        "y_train = y_train[None]\n",
        "X_test = X_test[None]\n",
        "y_test = y_test[None]\n",
        "\n",
        "\n",
        "X_train.head()\n",
        "\n"
      ],
      "execution_count": 0,
      "outputs": [
        {
          "output_type": "execute_result",
          "data": {
            "text/html": [
              "<div>\n",
              "<style scoped>\n",
              "    .dataframe tbody tr th:only-of-type {\n",
              "        vertical-align: middle;\n",
              "    }\n",
              "\n",
              "    .dataframe tbody tr th {\n",
              "        vertical-align: top;\n",
              "    }\n",
              "\n",
              "    .dataframe thead th {\n",
              "        text-align: right;\n",
              "    }\n",
              "</style>\n",
              "<table border=\"1\" class=\"dataframe\">\n",
              "  <thead>\n",
              "    <tr style=\"text-align: right;\">\n",
              "      <th></th>\n",
              "      <th>no_lab_days</th>\n",
              "      <th>hour</th>\n",
              "      <th>week_day</th>\n",
              "      <th>month</th>\n",
              "      <th>PM10_1</th>\n",
              "      <th>PM10_2</th>\n",
              "      <th>PM10_3</th>\n",
              "      <th>PM10_4</th>\n",
              "      <th>PM10_5</th>\n",
              "      <th>PM10_6</th>\n",
              "      <th>...</th>\n",
              "      <th>LL_1</th>\n",
              "      <th>LL_2</th>\n",
              "      <th>TMP_1</th>\n",
              "      <th>TMP_2</th>\n",
              "      <th>HR_1</th>\n",
              "      <th>HR_2</th>\n",
              "      <th>PRB_1</th>\n",
              "      <th>PRB_2</th>\n",
              "      <th>RS_1</th>\n",
              "      <th>RS_2</th>\n",
              "    </tr>\n",
              "  </thead>\n",
              "  <tbody>\n",
              "    <tr>\n",
              "      <th>0</th>\n",
              "      <td>lab</td>\n",
              "      <td>23</td>\n",
              "      <td>2.0</td>\n",
              "      <td>1.0</td>\n",
              "      <td>51.0</td>\n",
              "      <td>62.0</td>\n",
              "      <td>54.0</td>\n",
              "      <td>49.0</td>\n",
              "      <td>51.0</td>\n",
              "      <td>64.0</td>\n",
              "      <td>...</td>\n",
              "      <td>0.0</td>\n",
              "      <td>0.0</td>\n",
              "      <td>10.4</td>\n",
              "      <td>11.1</td>\n",
              "      <td>96.0</td>\n",
              "      <td>96.0</td>\n",
              "      <td>1010.0</td>\n",
              "      <td>1010.0</td>\n",
              "      <td>17.0</td>\n",
              "      <td>17.0</td>\n",
              "    </tr>\n",
              "    <tr>\n",
              "      <th>1</th>\n",
              "      <td>lab</td>\n",
              "      <td>0</td>\n",
              "      <td>3.0</td>\n",
              "      <td>1.0</td>\n",
              "      <td>57.0</td>\n",
              "      <td>51.0</td>\n",
              "      <td>62.0</td>\n",
              "      <td>54.0</td>\n",
              "      <td>49.0</td>\n",
              "      <td>51.0</td>\n",
              "      <td>...</td>\n",
              "      <td>0.0</td>\n",
              "      <td>0.0</td>\n",
              "      <td>9.6</td>\n",
              "      <td>10.4</td>\n",
              "      <td>96.0</td>\n",
              "      <td>96.0</td>\n",
              "      <td>1010.0</td>\n",
              "      <td>1010.0</td>\n",
              "      <td>17.0</td>\n",
              "      <td>17.0</td>\n",
              "    </tr>\n",
              "    <tr>\n",
              "      <th>2</th>\n",
              "      <td>lab</td>\n",
              "      <td>1</td>\n",
              "      <td>3.0</td>\n",
              "      <td>1.0</td>\n",
              "      <td>51.0</td>\n",
              "      <td>57.0</td>\n",
              "      <td>51.0</td>\n",
              "      <td>62.0</td>\n",
              "      <td>54.0</td>\n",
              "      <td>49.0</td>\n",
              "      <td>...</td>\n",
              "      <td>0.0</td>\n",
              "      <td>0.0</td>\n",
              "      <td>8.9</td>\n",
              "      <td>9.6</td>\n",
              "      <td>95.0</td>\n",
              "      <td>96.0</td>\n",
              "      <td>1010.0</td>\n",
              "      <td>1010.0</td>\n",
              "      <td>17.0</td>\n",
              "      <td>17.0</td>\n",
              "    </tr>\n",
              "    <tr>\n",
              "      <th>3</th>\n",
              "      <td>lab</td>\n",
              "      <td>2</td>\n",
              "      <td>3.0</td>\n",
              "      <td>1.0</td>\n",
              "      <td>34.0</td>\n",
              "      <td>51.0</td>\n",
              "      <td>57.0</td>\n",
              "      <td>51.0</td>\n",
              "      <td>62.0</td>\n",
              "      <td>54.0</td>\n",
              "      <td>...</td>\n",
              "      <td>0.0</td>\n",
              "      <td>0.0</td>\n",
              "      <td>8.9</td>\n",
              "      <td>8.9</td>\n",
              "      <td>96.0</td>\n",
              "      <td>95.0</td>\n",
              "      <td>1009.0</td>\n",
              "      <td>1010.0</td>\n",
              "      <td>17.0</td>\n",
              "      <td>17.0</td>\n",
              "    </tr>\n",
              "    <tr>\n",
              "      <th>4</th>\n",
              "      <td>lab</td>\n",
              "      <td>3</td>\n",
              "      <td>3.0</td>\n",
              "      <td>1.0</td>\n",
              "      <td>29.0</td>\n",
              "      <td>34.0</td>\n",
              "      <td>51.0</td>\n",
              "      <td>57.0</td>\n",
              "      <td>51.0</td>\n",
              "      <td>62.0</td>\n",
              "      <td>...</td>\n",
              "      <td>0.0</td>\n",
              "      <td>0.0</td>\n",
              "      <td>8.8</td>\n",
              "      <td>8.9</td>\n",
              "      <td>96.0</td>\n",
              "      <td>96.0</td>\n",
              "      <td>1009.0</td>\n",
              "      <td>1009.0</td>\n",
              "      <td>17.0</td>\n",
              "      <td>17.0</td>\n",
              "    </tr>\n",
              "  </tbody>\n",
              "</table>\n",
              "<p>5 rows × 55 columns</p>\n",
              "</div>"
            ],
            "text/plain": [
              "  no_lab_days  hour  week_day  month  PM10_1  PM10_2  PM10_3  PM10_4  PM10_5  \\\n",
              "0         lab    23       2.0    1.0    51.0    62.0    54.0    49.0    51.0   \n",
              "1         lab     0       3.0    1.0    57.0    51.0    62.0    54.0    49.0   \n",
              "2         lab     1       3.0    1.0    51.0    57.0    51.0    62.0    54.0   \n",
              "3         lab     2       3.0    1.0    34.0    51.0    57.0    51.0    62.0   \n",
              "4         lab     3       3.0    1.0    29.0    34.0    51.0    57.0    51.0   \n",
              "\n",
              "   PM10_6  ...   LL_1  LL_2  TMP_1  TMP_2  HR_1  HR_2   PRB_1   PRB_2  RS_1  \\\n",
              "0    64.0  ...    0.0   0.0   10.4   11.1  96.0  96.0  1010.0  1010.0  17.0   \n",
              "1    51.0  ...    0.0   0.0    9.6   10.4  96.0  96.0  1010.0  1010.0  17.0   \n",
              "2    49.0  ...    0.0   0.0    8.9    9.6  95.0  96.0  1010.0  1010.0  17.0   \n",
              "3    54.0  ...    0.0   0.0    8.9    8.9  96.0  95.0  1009.0  1010.0  17.0   \n",
              "4    62.0  ...    0.0   0.0    8.8    8.9  96.0  96.0  1009.0  1009.0  17.0   \n",
              "\n",
              "   RS_2  \n",
              "0  17.0  \n",
              "1  17.0  \n",
              "2  17.0  \n",
              "3  17.0  \n",
              "4  17.0  \n",
              "\n",
              "[5 rows x 55 columns]"
            ]
          },
          "metadata": {
            "tags": []
          },
          "execution_count": 5
        }
      ]
    },
    {
      "metadata": {
        "id": "hmOhVnHk4lGx",
        "colab_type": "text"
      },
      "cell_type": "markdown",
      "source": [
        "## Adding the variable 'no_lab_days'\n",
        "As we saw in the data exploration phase if a day is holiday or not has a great effect in the PM10 levels. So, we add the variable 'no_lab_days' to try to improve the model."
      ]
    },
    {
      "metadata": {
        "id": "iGSPRxpvOsMc",
        "colab_type": "text"
      },
      "cell_type": "markdown",
      "source": [
        "#### LINEAR REGRESSION"
      ]
    },
    {
      "metadata": {
        "id": "pJMW2Ohho_av",
        "colab_type": "code",
        "outputId": "87de4a6e-72ce-466a-89fd-900cd7277853",
        "colab": {
          "base_uri": "https://localhost:8080/",
          "height": 231
        }
      },
      "cell_type": "code",
      "source": [
        "# We select the X variables to include in the model\n",
        "\n",
        "X_train = X_train[['PM10_1', 'PM10_2', 'PM10_3', 'PM10_4', 'PM10_22', 'PM10_23', 'PM10_24', 'PM10_48', 'PM10_72', 'PM10_96', 'PM10_120', 'PM10_144', 'PM10_168', 'no_lab_days']]\n",
        "X_test = X_test[['PM10_1', 'PM10_2', 'PM10_3', 'PM10_4', 'PM10_22', 'PM10_23', 'PM10_24', 'PM10_48', 'PM10_72', 'PM10_96', 'PM10_120', 'PM10_144', 'PM10_168', 'no_lab_days']]\n",
        "\n",
        "# One hot encoding\n",
        "X_train = pd.get_dummies(X_train)\n",
        "X_test  = pd.get_dummies(X_test)\n",
        "\n",
        "# We create and fit the model with the data\n",
        "regLR = LinearRegression()\n",
        "regLR.fit(X_train, y_train)\n",
        "\n",
        "\n",
        "# Compute train scores\n",
        "\n",
        "y_pred = regLR.predict(X_train)\n",
        "\n",
        "r2_train = r2_score(y_train, y_pred)\n",
        "rmse_train = np.sqrt(mean_squared_error(y_train, y_pred))\n",
        "mae_train = mean_absolute_error(y_train, y_pred)\n",
        "r2_adjusted_train = 1 - (1-r2_score(y_train, y_pred))*(len(y_train)-1)/(len(y_train)-X_train.shape[1]-1)\n",
        "sd_train = std(y_train)\n",
        "\n",
        "print(\"R^2 train: {}\".format(r2_train))\n",
        "print(\"R^2 adjusted train: {}\".format(r2_adjusted_train))\n",
        "print(\"Mean Absolute Error train: {}\".format(mae_train))\n",
        "print(\"Root Mean Squared Error train: {}\".format(rmse_train)) \n",
        "print(\"Standard Deviation train: {}\".format(sd_train))  \n",
        "\n",
        "# Compute test scores\n",
        "\n",
        "y_pred = regLR.predict(X_test)\n",
        "\n",
        "r2_test = r2_score(y_test, y_pred)\n",
        "rmse_test = np.sqrt(mean_squared_error(y_test, y_pred))\n",
        "mae_test = mean_absolute_error(y_test, y_pred)\n",
        "r2_adjusted_test = 1 - (1-r2_score(y_test, y_pred))*(len(y_test)-1)/(len(y_test)-X_test.shape[1]-1)\n",
        "sd_test = std(y_test)\n",
        "\n",
        "print(\"R^2 test: {}\".format(r2_test))\n",
        "print(\"R^2 adjusted test: {}\".format(r2_adjusted_test))\n",
        "print(\"Mean Absolute Error test: {}\".format(mae_test))\n",
        "print(\"Root Mean Squared Error test: {}\".format(rmse_test))\n",
        "print(\"Standard Deviation test: {}\".format(sd_test))  \n"
      ],
      "execution_count": 0,
      "outputs": [
        {
          "output_type": "error",
          "ename": "NameError",
          "evalue": "ignored",
          "traceback": [
            "\u001b[0;31m---------------------------------------------------------------------------\u001b[0m",
            "\u001b[0;31mNameError\u001b[0m                                 Traceback (most recent call last)",
            "\u001b[0;32m<ipython-input-4-d509ac632ca8>\u001b[0m in \u001b[0;36m<module>\u001b[0;34m()\u001b[0m\n\u001b[1;32m      1\u001b[0m \u001b[0;34m\u001b[0m\u001b[0m\n\u001b[0;32m----> 2\u001b[0;31m \u001b[0mX_train\u001b[0m \u001b[0;34m=\u001b[0m \u001b[0mX_train\u001b[0m\u001b[0;34m[\u001b[0m\u001b[0;34m[\u001b[0m\u001b[0;34m'PM10_1'\u001b[0m\u001b[0;34m,\u001b[0m \u001b[0;34m'PM10_2'\u001b[0m\u001b[0;34m,\u001b[0m \u001b[0;34m'PM10_3'\u001b[0m\u001b[0;34m,\u001b[0m \u001b[0;34m'PM10_4'\u001b[0m\u001b[0;34m,\u001b[0m \u001b[0;34m'PM10_22'\u001b[0m\u001b[0;34m,\u001b[0m \u001b[0;34m'PM10_23'\u001b[0m\u001b[0;34m,\u001b[0m \u001b[0;34m'PM10_24'\u001b[0m\u001b[0;34m,\u001b[0m \u001b[0;34m'PM10_48'\u001b[0m\u001b[0;34m,\u001b[0m \u001b[0;34m'PM10_72'\u001b[0m\u001b[0;34m,\u001b[0m \u001b[0;34m'PM10_96'\u001b[0m\u001b[0;34m,\u001b[0m \u001b[0;34m'PM10_120'\u001b[0m\u001b[0;34m,\u001b[0m \u001b[0;34m'PM10_144'\u001b[0m\u001b[0;34m,\u001b[0m \u001b[0;34m'PM10_168'\u001b[0m\u001b[0;34m,\u001b[0m \u001b[0;34m'no_lab_days'\u001b[0m\u001b[0;34m]\u001b[0m\u001b[0;34m]\u001b[0m\u001b[0;34m\u001b[0m\u001b[0;34m\u001b[0m\u001b[0m\n\u001b[0m\u001b[1;32m      3\u001b[0m \u001b[0mX_test\u001b[0m \u001b[0;34m=\u001b[0m \u001b[0mX_test\u001b[0m\u001b[0;34m[\u001b[0m\u001b[0;34m[\u001b[0m\u001b[0;34m'PM10_1'\u001b[0m\u001b[0;34m,\u001b[0m \u001b[0;34m'PM10_2'\u001b[0m\u001b[0;34m,\u001b[0m \u001b[0;34m'PM10_3'\u001b[0m\u001b[0;34m,\u001b[0m \u001b[0;34m'PM10_4'\u001b[0m\u001b[0;34m,\u001b[0m \u001b[0;34m'PM10_22'\u001b[0m\u001b[0;34m,\u001b[0m \u001b[0;34m'PM10_23'\u001b[0m\u001b[0;34m,\u001b[0m \u001b[0;34m'PM10_24'\u001b[0m\u001b[0;34m,\u001b[0m \u001b[0;34m'PM10_48'\u001b[0m\u001b[0;34m,\u001b[0m \u001b[0;34m'PM10_72'\u001b[0m\u001b[0;34m,\u001b[0m \u001b[0;34m'PM10_96'\u001b[0m\u001b[0;34m,\u001b[0m \u001b[0;34m'PM10_120'\u001b[0m\u001b[0;34m,\u001b[0m \u001b[0;34m'PM10_144'\u001b[0m\u001b[0;34m,\u001b[0m \u001b[0;34m'PM10_168'\u001b[0m\u001b[0;34m,\u001b[0m \u001b[0;34m'no_lab_days'\u001b[0m\u001b[0;34m]\u001b[0m\u001b[0;34m]\u001b[0m\u001b[0;34m\u001b[0m\u001b[0;34m\u001b[0m\u001b[0m\n\u001b[1;32m      4\u001b[0m \u001b[0;34m\u001b[0m\u001b[0m\n\u001b[1;32m      5\u001b[0m \u001b[0;31m# One hot encoding\u001b[0m\u001b[0;34m\u001b[0m\u001b[0;34m\u001b[0m\u001b[0;34m\u001b[0m\u001b[0m\n",
            "\u001b[0;31mNameError\u001b[0m: name 'X_train' is not defined"
          ]
        }
      ]
    },
    {
      "metadata": {
        "id": "kK1hRo93OzCi",
        "colab_type": "text"
      },
      "cell_type": "markdown",
      "source": [
        "#### XGBOOST"
      ]
    },
    {
      "metadata": {
        "id": "a-qac8vAo_dy",
        "colab_type": "code",
        "outputId": "3f9c7b90-e051-4a45-ccff-8d303887f592",
        "colab": {
          "base_uri": "https://localhost:8080/",
          "height": 221
        }
      },
      "cell_type": "code",
      "source": [
        "X_train = pyreadr.read_r(\"X_train_PM10_201401_201612_multivar.rds\")\n",
        "y_train = pyreadr.read_r(\"y_train_PM10_201401_201612_multivar.rds\")\n",
        "\n",
        "X_test = pyreadr.read_r(\"X_test_PM10_201701_201709_multivar.rds\")\n",
        "y_test = pyreadr.read_r(\"y_test_PM10_201701_201709_multivar.rds\")\n",
        "\n",
        "X_train = X_train[None]\n",
        "y_train = y_train[None]\n",
        "X_test = X_test[None]\n",
        "y_test = y_test[None]\n",
        "\n",
        "X_train = X_train[['PM10_1', 'PM10_2', 'PM10_3', 'PM10_4', 'PM10_22', 'PM10_23', 'PM10_24', 'PM10_48', 'PM10_72', 'PM10_96', 'PM10_120', 'PM10_144', 'PM10_168', 'no_lab_days']]\n",
        "X_test = X_test[['PM10_1', 'PM10_2', 'PM10_3', 'PM10_4', 'PM10_22', 'PM10_23', 'PM10_24', 'PM10_48', 'PM10_72', 'PM10_96', 'PM10_120', 'PM10_144', 'PM10_168', 'no_lab_days']]\n",
        "\n",
        "\n",
        "X_train = pd.get_dummies(X_train)\n",
        "X_test  = pd.get_dummies(X_test)\n",
        "\n",
        "\n",
        "\n",
        "regXGB = XGBRegressor(n_estimators=500, min_samples_leaf=10,max_depth=2, random_state=42)\n",
        "regXGB.fit(X_train,y_train)\n",
        "\n",
        "\n",
        "# Compute train scores\n",
        "\n",
        "y_pred = regXGB.predict(X_train)\n",
        "\n",
        "r2_train = r2_score(y_train, y_pred)\n",
        "rmse_train = np.sqrt(mean_squared_error(y_train, y_pred))\n",
        "mae_train = mean_absolute_error(y_train, y_pred)\n",
        "r2_adjusted_train = 1 - (1-r2_score(y_train, y_pred))*(len(y_train)-1)/(len(y_train)-X_train.shape[1]-1)\n",
        "sd_train = std(y_train)\n",
        "\n",
        "print(\"R^2 train: {}\".format(r2_train))\n",
        "print(\"R^2 adjusted train: {}\".format(r2_adjusted_train))\n",
        "print(\"Mean Absolute Error train: {}\".format(mae_train))\n",
        "print(\"Root Mean Squared Error train: {}\".format(rmse_train)) \n",
        "print(\"Standard Deviation train: {}\".format(sd_train))  \n",
        "\n",
        "# Compute test scores\n",
        "\n",
        "y_pred = regXGB.predict(X_test)\n",
        "\n",
        "r2_test = r2_score(y_test, y_pred)\n",
        "rmse_test = np.sqrt(mean_squared_error(y_test, y_pred))\n",
        "mae_test = mean_absolute_error(y_test, y_pred)\n",
        "r2_adjusted_test = 1 - (1-r2_score(y_test, y_pred))*(len(y_test)-1)/(len(y_test)-X_test.shape[1]-1)\n",
        "sd_test = std(y_test)\n",
        "\n",
        "print(\"R^2 test: {}\".format(r2_test))\n",
        "print(\"R^2 adjusted test: {}\".format(r2_adjusted_test))\n",
        "print(\"Mean Absolute Error test: {}\".format(mae_test))\n",
        "print(\"Root Mean Squared Error test: {}\".format(rmse_test))\n",
        "print(\"Standard Deviation test: {}\".format(sd_test))  \n"
      ],
      "execution_count": 0,
      "outputs": [
        {
          "output_type": "stream",
          "text": [
            "R^2 train: 0.6631146245341922\n",
            "R^2 adjusted train: 0.6629191549135831\n",
            "Mean Absolute Error train: 5.503836677301813\n",
            "Root Mean Squared Error train: 8.597633475294032\n",
            "Standard Deviation train: PM10_0    14.812823\n",
            "dtype: float64\n",
            "R^2 test: 0.5989526095973352\n",
            "R^2 adjusted test: 0.5980077830140087\n",
            "Mean Absolute Error test: 4.796642205995463\n",
            "Root Mean Squared Error test: 6.80743069887127\n",
            "Standard Deviation test: PM10_0    10.749429\n",
            "dtype: float64\n"
          ],
          "name": "stdout"
        }
      ]
    },
    {
      "metadata": {
        "id": "AVzvaYhz7PWa",
        "colab_type": "text"
      },
      "cell_type": "markdown",
      "source": [
        "The levels of the PM10 pollutant also depends on the hour of the day. We add as a new variable to the models"
      ]
    },
    {
      "metadata": {
        "id": "pBRprxjZ_o04",
        "colab_type": "text"
      },
      "cell_type": "markdown",
      "source": [
        ""
      ]
    },
    {
      "metadata": {
        "colab_type": "text",
        "id": "y97KjgSq_pRL"
      },
      "cell_type": "markdown",
      "source": [
        "## Adding the variable 'hour'"
      ]
    },
    {
      "metadata": {
        "id": "25znkqb67rJJ",
        "colab_type": "text"
      },
      "cell_type": "markdown",
      "source": [
        "#### LINEAR REGRESSION"
      ]
    },
    {
      "metadata": {
        "colab_type": "code",
        "outputId": "92fefc80-c4aa-4721-a54b-2f5d374f8264",
        "id": "y0nRGSeJ4bbt",
        "colab": {
          "base_uri": "https://localhost:8080/",
          "height": 221
        }
      },
      "cell_type": "code",
      "source": [
        "X_train = pyreadr.read_r(\"X_train_PM10_201401_201612_multivar.rds\")\n",
        "y_train = pyreadr.read_r(\"y_train_PM10_201401_201612_multivar.rds\")\n",
        "\n",
        "X_test = pyreadr.read_r(\"X_test_PM10_201701_201709_multivar.rds\")\n",
        "y_test = pyreadr.read_r(\"y_test_PM10_201701_201709_multivar.rds\")\n",
        "\n",
        "X_train = X_train[None]\n",
        "y_train = y_train[None]\n",
        "X_test = X_test[None]\n",
        "y_test = y_test[None]\n",
        "\n",
        "# We convert the 'hour' variable to string\n",
        "X_train.hour = X_train.hour.astype(str)\n",
        "X_test.hour = X_test.hour.astype(str)\n",
        "\n",
        "# We select the X variables to include in the model\n",
        "\n",
        "X_train = X_train[['PM10_1', 'PM10_2', 'PM10_3', 'PM10_4', 'PM10_22', 'PM10_23', 'PM10_24', 'PM10_48', 'PM10_72', 'PM10_96', 'PM10_120', 'PM10_144', 'PM10_168', 'no_lab_days', 'hour']]\n",
        "X_test = X_test[['PM10_1', 'PM10_2', 'PM10_3', 'PM10_4', 'PM10_22', 'PM10_23', 'PM10_24', 'PM10_48', 'PM10_72', 'PM10_96', 'PM10_120', 'PM10_144', 'PM10_168', 'no_lab_days', 'hour']]\n",
        "\n",
        "# One hot encoding\n",
        "X_train = pd.get_dummies(X_train)\n",
        "X_test  = pd.get_dummies(X_test)\n",
        "\n",
        "# We create and fit the model with the data\n",
        "regLR = LinearRegression()\n",
        "regLR.fit(X_train, y_train)\n",
        "\n",
        "\n",
        "# Compute train scores\n",
        "\n",
        "y_pred = regLR.predict(X_train)\n",
        "\n",
        "r2_train = r2_score(y_train, y_pred)\n",
        "rmse_train = np.sqrt(mean_squared_error(y_train, y_pred))\n",
        "mae_train = mean_absolute_error(y_train, y_pred)\n",
        "r2_adjusted_train = 1 - (1-r2_score(y_train, y_pred))*(len(y_train)-1)/(len(y_train)-X_train.shape[1]-1)\n",
        "sd_train = std(y_train)\n",
        "\n",
        "print(\"R^2 train: {}\".format(r2_train))\n",
        "print(\"R^2 adjusted train: {}\".format(r2_adjusted_train))\n",
        "print(\"Mean Absolute Error train: {}\".format(mae_train))\n",
        "print(\"Root Mean Squared Error train: {}\".format(rmse_train)) \n",
        "print(\"Standard Deviation train: {}\".format(sd_train))  \n",
        "\n",
        "# Compute test scores\n",
        "\n",
        "y_pred = regLR.predict(X_test)\n",
        "\n",
        "r2_test = r2_score(y_test, y_pred)\n",
        "rmse_test = np.sqrt(mean_squared_error(y_test, y_pred))\n",
        "mae_test = mean_absolute_error(y_test, y_pred)\n",
        "r2_adjusted_test = 1 - (1-r2_score(y_test, y_pred))*(len(y_test)-1)/(len(y_test)-X_test.shape[1]-1)\n",
        "sd_test = std(y_test)\n",
        "\n",
        "print(\"R^2 test: {}\".format(r2_test))\n",
        "print(\"R^2 adjusted test: {}\".format(r2_adjusted_test))\n",
        "print(\"Mean Absolute Error test: {}\".format(mae_test))\n",
        "print(\"Root Mean Squared Error test: {}\".format(rmse_test))\n",
        "print(\"Standard Deviation test: {}\".format(sd_test))  \n"
      ],
      "execution_count": 0,
      "outputs": [
        {
          "output_type": "stream",
          "text": [
            "R^2 train: 0.6123128332612953\n",
            "R^2 adjusted train: 0.6117334418027265\n",
            "Mean Absolute Error train: 5.676488878524956\n",
            "Root Mean Squared Error train: 9.177617544391579\n",
            "Standard Deviation train: PM10_0    14.73972\n",
            "dtype: float64\n",
            "R^2 test: 0.5983335678204147\n",
            "R^2 adjusted test: 0.5958639176777372\n",
            "Mean Absolute Error test: 4.828590091792767\n",
            "Root Mean Squared Error test: 6.812682520944004\n",
            "Standard Deviation test: PM10_0    10.749429\n",
            "dtype: float64\n"
          ],
          "name": "stdout"
        }
      ]
    },
    {
      "metadata": {
        "colab_type": "text",
        "id": "N2pFwNHO4bbw"
      },
      "cell_type": "markdown",
      "source": [
        "#### XGBOOST"
      ]
    },
    {
      "metadata": {
        "colab_type": "code",
        "outputId": "51272b5f-b7f5-4e19-fe32-8cb2443e03c6",
        "id": "8WEOp3WA4bbx",
        "colab": {
          "base_uri": "https://localhost:8080/",
          "height": 221
        }
      },
      "cell_type": "code",
      "source": [
        "X_train = pyreadr.read_r(\"X_train_PM10_201401_201612_multivar.rds\")\n",
        "y_train = pyreadr.read_r(\"y_train_PM10_201401_201612_multivar.rds\")\n",
        "\n",
        "X_test = pyreadr.read_r(\"X_test_PM10_201701_201709_multivar.rds\")\n",
        "y_test = pyreadr.read_r(\"y_test_PM10_201701_201709_multivar.rds\")\n",
        "\n",
        "X_train = X_train[None]\n",
        "y_train = y_train[None]\n",
        "X_test = X_test[None]\n",
        "y_test = y_test[None]\n",
        "\n",
        "# We convert the 'hour' variable to string\n",
        "X_train.hour = X_train.hour.astype(str)\n",
        "X_test.hour = X_test.hour.astype(str)\n",
        "\n",
        "X_train = X_train[['PM10_1', 'PM10_2', 'PM10_3', 'PM10_4', 'PM10_22', 'PM10_23', 'PM10_24', 'PM10_48', 'PM10_72', 'PM10_96', 'PM10_120', 'PM10_144', 'PM10_168', 'no_lab_days', 'hour']]\n",
        "X_test = X_test[['PM10_1', 'PM10_2', 'PM10_3', 'PM10_4', 'PM10_22', 'PM10_23', 'PM10_24', 'PM10_48', 'PM10_72', 'PM10_96', 'PM10_120', 'PM10_144', 'PM10_168', 'no_lab_days', 'hour']]\n",
        "\n",
        "\n",
        "X_train = pd.get_dummies(X_train)\n",
        "X_test  = pd.get_dummies(X_test)\n",
        "\n",
        "\n",
        "\n",
        "regXGB = XGBRegressor(n_estimators=500, min_samples_leaf=10,max_depth=2, random_state=42)\n",
        "regXGB.fit(X_train,y_train)\n",
        "\n",
        "\n",
        "# Compute train scores\n",
        "\n",
        "y_pred = regXGB.predict(X_train)\n",
        "\n",
        "r2_train = r2_score(y_train, y_pred)\n",
        "rmse_train = np.sqrt(mean_squared_error(y_train, y_pred))\n",
        "mae_train = mean_absolute_error(y_train, y_pred)\n",
        "r2_adjusted_train = 1 - (1-r2_score(y_train, y_pred))*(len(y_train)-1)/(len(y_train)-X_train.shape[1]-1)\n",
        "sd_train = std(y_train)\n",
        "\n",
        "print(\"R^2 train: {}\".format(r2_train))\n",
        "print(\"R^2 adjusted train: {}\".format(r2_adjusted_train))\n",
        "print(\"Mean Absolute Error train: {}\".format(mae_train))\n",
        "print(\"Root Mean Squared Error train: {}\".format(rmse_train)) \n",
        "print(\"Standard Deviation train: {}\".format(sd_train))  \n",
        "\n",
        "# Compute test scores\n",
        "\n",
        "y_pred = regXGB.predict(X_test)\n",
        "\n",
        "r2_test = r2_score(y_test, y_pred)\n",
        "rmse_test = np.sqrt(mean_squared_error(y_test, y_pred))\n",
        "mae_test = mean_absolute_error(y_test, y_pred)\n",
        "r2_adjusted_test = 1 - (1-r2_score(y_test, y_pred))*(len(y_test)-1)/(len(y_test)-X_test.shape[1]-1)\n",
        "sd_test = std(y_test)\n",
        "\n",
        "print(\"R^2 test: {}\".format(r2_test))\n",
        "print(\"R^2 adjusted test: {}\".format(r2_adjusted_test))\n",
        "print(\"Mean Absolute Error test: {}\".format(mae_test))\n",
        "print(\"Root Mean Squared Error test: {}\".format(rmse_test))\n",
        "print(\"Standard Deviation test: {}\".format(sd_test))  \n"
      ],
      "execution_count": 0,
      "outputs": [
        {
          "output_type": "stream",
          "text": [
            "R^2 train: 0.6677327260973054\n",
            "R^2 adjusted train: 0.6672310061158044\n",
            "Mean Absolute Error train: 5.450381722721943\n",
            "Root Mean Squared Error train: 8.538500965207893\n",
            "Standard Deviation train: PM10_0    14.812823\n",
            "dtype: float64\n",
            "R^2 test: 0.6050019940808449\n",
            "R^2 adjusted test: 0.6025733448248387\n",
            "Mean Absolute Error test: 4.7570254454696705\n",
            "Root Mean Squared Error test: 6.7558940958393645\n",
            "Standard Deviation test: PM10_0    10.749429\n",
            "dtype: float64\n"
          ],
          "name": "stdout"
        }
      ]
    },
    {
      "metadata": {
        "id": "X5-fy1GN95pG",
        "colab_type": "text"
      },
      "cell_type": "markdown",
      "source": [
        "The XGBoost model is constantly obtaining better R2 and MAE than the Linear Regression algorithm. So, from now on we are going to use exclusively the XGBoost algorithm. "
      ]
    },
    {
      "metadata": {
        "id": "IS08jh0tyLem",
        "colab_type": "text"
      },
      "cell_type": "markdown",
      "source": [
        ""
      ]
    },
    {
      "metadata": {
        "id": "9Q9nBHjf_AsA",
        "colab_type": "text"
      },
      "cell_type": "markdown",
      "source": [
        "##Adding lagged SO2 - NO2 levels as variables\n",
        "The SO2 and the NO2 are precursors of the PM10 pollutant. So, in theory the levels of these pollutants had to have influence on the PM10 levels. We include the one hour lagged levels of these pollutants to check if they increase the explanatory power of the model. "
      ]
    },
    {
      "metadata": {
        "colab_type": "text",
        "id": "y-VpFfQC0yE5"
      },
      "cell_type": "markdown",
      "source": [
        "#### XGBOOST"
      ]
    },
    {
      "metadata": {
        "colab_type": "code",
        "outputId": "a2fe4a57-7624-48bc-d62d-88e79353be44",
        "id": "w7e0JIN00yE6",
        "colab": {
          "base_uri": "https://localhost:8080/",
          "height": 221
        }
      },
      "cell_type": "code",
      "source": [
        "X_train = pyreadr.read_r(\"X_train_PM10_201401_201612_multivar.rds\")\n",
        "y_train = pyreadr.read_r(\"y_train_PM10_201401_201612_multivar.rds\")\n",
        "\n",
        "X_test = pyreadr.read_r(\"X_test_PM10_201701_201709_multivar.rds\")\n",
        "y_test = pyreadr.read_r(\"y_test_PM10_201701_201709_multivar.rds\")\n",
        "\n",
        "X_train = X_train[None]\n",
        "y_train = y_train[None]\n",
        "X_test = X_test[None]\n",
        "y_test = y_test[None]\n",
        "\n",
        "# We convert the 'hour' variable to string\n",
        "X_train.hour = X_train.hour.astype(str)\n",
        "X_test.hour = X_test.hour.astype(str)\n",
        "\n",
        "X_train = X_train[['PM10_1', 'PM10_2', 'PM10_3', 'PM10_4', 'PM10_22', 'PM10_23', 'PM10_24', 'PM10_48', 'PM10_72', 'PM10_96', 'PM10_120', 'PM10_144', 'PM10_168', 'no_lab_days', 'hour', 'NO2_1', 'SO2_1']]\n",
        "X_test = X_test[['PM10_1', 'PM10_2', 'PM10_3', 'PM10_4', 'PM10_22', 'PM10_23', 'PM10_24', 'PM10_48', 'PM10_72', 'PM10_96', 'PM10_120', 'PM10_144', 'PM10_168', 'no_lab_days', 'hour', 'NO2_1', 'SO2_1']]\n",
        "\n",
        "\n",
        "X_train = pd.get_dummies(X_train)\n",
        "X_test  = pd.get_dummies(X_test)\n",
        "\n",
        "\n",
        "\n",
        "regXGB = XGBRegressor(n_estimators=500, min_samples_leaf=10,max_depth=2, random_state=42)\n",
        "regXGB.fit(X_train,y_train)\n",
        "\n",
        "\n",
        "# Compute train scores\n",
        "\n",
        "y_pred = regXGB.predict(X_train)\n",
        "\n",
        "r2_train = r2_score(y_train, y_pred)\n",
        "rmse_train = np.sqrt(mean_squared_error(y_train, y_pred))\n",
        "mae_train = mean_absolute_error(y_train, y_pred)\n",
        "r2_adjusted_train = 1 - (1-r2_score(y_train, y_pred))*(len(y_train)-1)/(len(y_train)-X_train.shape[1]-1)\n",
        "sd_train = std(y_train)\n",
        "\n",
        "print(\"R^2 train: {}\".format(r2_train))\n",
        "print(\"R^2 adjusted train: {}\".format(r2_adjusted_train))\n",
        "print(\"Mean Absolute Error train: {}\".format(mae_train))\n",
        "print(\"Root Mean Squared Error train: {}\".format(rmse_train)) \n",
        "print(\"Standard Deviation train: {}\".format(sd_train))  \n",
        "\n",
        "# Compute test scores\n",
        "\n",
        "y_pred = regXGB.predict(X_test)\n",
        "\n",
        "r2_test = r2_score(y_test, y_pred)\n",
        "rmse_test = np.sqrt(mean_squared_error(y_test, y_pred))\n",
        "mae_test = mean_absolute_error(y_test, y_pred)\n",
        "r2_adjusted_test = 1 - (1-r2_score(y_test, y_pred))*(len(y_test)-1)/(len(y_test)-X_test.shape[1]-1)\n",
        "sd_test = std(y_test)\n",
        "\n",
        "print(\"R^2 test: {}\".format(r2_test))\n",
        "print(\"R^2 adjusted test: {}\".format(r2_adjusted_test))\n",
        "print(\"Mean Absolute Error test: {}\".format(mae_test))\n",
        "print(\"Root Mean Squared Error test: {}\".format(rmse_test))\n",
        "print(\"Standard Deviation test: {}\".format(sd_test))  \n"
      ],
      "execution_count": 0,
      "outputs": [
        {
          "output_type": "stream",
          "text": [
            "R^2 train: 0.6708710797301828\n",
            "R^2 adjusted train: 0.6703485719577418\n",
            "Mean Absolute Error train: 5.419195400780771\n",
            "Root Mean Squared Error train: 8.498081077267432\n",
            "Standard Deviation train: PM10_0    14.812823\n",
            "dtype: float64\n",
            "R^2 test: 0.6022340090312309\n",
            "R^2 adjusted test: 0.5996621109663012\n",
            "Mean Absolute Error test: 4.808309839715303\n",
            "Root Mean Squared Error test: 6.779524047120161\n",
            "Standard Deviation test: PM10_0    10.749429\n",
            "dtype: float64\n"
          ],
          "name": "stdout"
        }
      ]
    },
    {
      "metadata": {
        "id": "epAz5EoIAvYF",
        "colab_type": "text"
      },
      "cell_type": "markdown",
      "source": [
        "The R2 and R2 - adjusted increase but the MAE increases. The model is explaining more variability but the mean error is higher. How could that be possible? If we look to the RMSE value we see that is has decreased, so it could be the model, with the inclusion of the SO2 - NO2 variables is estimating better the outliers of the PM10 levels. "
      ]
    },
    {
      "metadata": {
        "id": "tfiMJPeBDYfr",
        "colab_type": "text"
      },
      "cell_type": "markdown",
      "source": [
        "#### We add the two hour lagged NO2-SO2 variables"
      ]
    },
    {
      "metadata": {
        "id": "NrjJyy2BpGd1",
        "colab_type": "code",
        "outputId": "257fb1fd-cc42-4faa-8bb6-80a60af3f039",
        "colab": {
          "base_uri": "https://localhost:8080/",
          "height": 221
        }
      },
      "cell_type": "code",
      "source": [
        "X_train = pyreadr.read_r(\"X_train_PM10_201401_201612_multivar.rds\")\n",
        "y_train = pyreadr.read_r(\"y_train_PM10_201401_201612_multivar.rds\")\n",
        "\n",
        "X_test = pyreadr.read_r(\"X_test_PM10_201701_201709_multivar.rds\")\n",
        "y_test = pyreadr.read_r(\"y_test_PM10_201701_201709_multivar.rds\")\n",
        "\n",
        "X_train = X_train[None]\n",
        "y_train = y_train[None]\n",
        "X_test = X_test[None]\n",
        "y_test = y_test[None]\n",
        "\n",
        "\n",
        "# We convert the 'hour' variable to string\n",
        "X_train.hour = X_train.hour.astype(str)\n",
        "X_test.hour = X_test.hour.astype(str)\n",
        "\n",
        "X_train = X_train[['PM10_1', 'PM10_2', 'PM10_3', 'PM10_4', 'PM10_22', 'PM10_23', 'PM10_24', 'PM10_48', 'PM10_72', 'PM10_96', 'PM10_120', 'PM10_144', 'PM10_168', 'no_lab_days', 'hour', 'NO2_1', 'SO2_1', 'NO2_2', 'SO2_2']]\n",
        "X_test = X_test[['PM10_1', 'PM10_2', 'PM10_3', 'PM10_4', 'PM10_22', 'PM10_23', 'PM10_24', 'PM10_48', 'PM10_72', 'PM10_96', 'PM10_120', 'PM10_144', 'PM10_168', 'no_lab_days', 'hour', 'NO2_1', 'SO2_1', 'NO2_2', 'SO2_2']]\n",
        "\n",
        "\n",
        "X_train = pd.get_dummies(X_train)\n",
        "X_test  = pd.get_dummies(X_test)\n",
        "\n",
        "\n",
        "\n",
        "regXGB = XGBRegressor(n_estimators=500, min_samples_leaf=10,max_depth=2, random_state=42)\n",
        "regXGB.fit(X_train,y_train)\n",
        "\n",
        "\n",
        "# Compute train scores\n",
        "\n",
        "y_pred = regXGB.predict(X_train)\n",
        "\n",
        "r2_train = r2_score(y_train, y_pred)\n",
        "rmse_train = np.sqrt(mean_squared_error(y_train, y_pred))\n",
        "mae_train = mean_absolute_error(y_train, y_pred)\n",
        "r2_adjusted_train = 1 - (1-r2_score(y_train, y_pred))*(len(y_train)-1)/(len(y_train)-X_train.shape[1]-1)\n",
        "sd_train = std(y_train)\n",
        "\n",
        "print(\"R^2 train: {}\".format(r2_train))\n",
        "print(\"R^2 adjusted train: {}\".format(r2_adjusted_train))\n",
        "print(\"Mean Absolute Error train: {}\".format(mae_train))\n",
        "print(\"Root Mean Squared Error train: {}\".format(rmse_train)) \n",
        "print(\"Standard Deviation train: {}\".format(sd_train))  \n",
        "\n",
        "# Compute test scores\n",
        "\n",
        "y_pred = regXGB.predict(X_test)\n",
        "\n",
        "r2_test = r2_score(y_test, y_pred)\n",
        "rmse_test = np.sqrt(mean_squared_error(y_test, y_pred))\n",
        "mae_test = mean_absolute_error(y_test, y_pred)\n",
        "r2_adjusted_test = 1 - (1-r2_score(y_test, y_pred))*(len(y_test)-1)/(len(y_test)-X_test.shape[1]-1)\n",
        "sd_test = std(y_test)\n",
        "\n",
        "print(\"R^2 test: {}\".format(r2_test))\n",
        "print(\"R^2 adjusted test: {}\".format(r2_adjusted_test))\n",
        "print(\"Mean Absolute Error test: {}\".format(mae_test))\n",
        "print(\"Root Mean Squared Error test: {}\".format(rmse_test))\n",
        "print(\"Standard Deviation test: {}\".format(sd_test))  \n"
      ],
      "execution_count": 0,
      "outputs": [
        {
          "output_type": "stream",
          "text": [
            "R^2 train: 0.6776283921791099\n",
            "R^2 adjusted train: 0.6770916055025185\n",
            "Mean Absolute Error train: 5.3659117188625025\n",
            "Root Mean Squared Error train: 8.410392039468533\n",
            "Standard Deviation train: PM10_0    14.812823\n",
            "dtype: float64\n",
            "R^2 test: 0.610202964288507\n",
            "R^2 adjusted test: 0.6075588133915841\n",
            "Mean Absolute Error test: 4.787998290970434\n",
            "Root Mean Squared Error test: 6.71126901573553\n",
            "Standard Deviation test: PM10_0    10.749429\n",
            "dtype: float64\n"
          ],
          "name": "stdout"
        }
      ]
    },
    {
      "metadata": {
        "id": "j-TKQ3ua9dCx",
        "colab_type": "text"
      },
      "cell_type": "markdown",
      "source": [
        ""
      ]
    },
    {
      "metadata": {
        "id": "3TZlnQ88ESve",
        "colab_type": "text"
      },
      "cell_type": "markdown",
      "source": [
        "Same effect. "
      ]
    },
    {
      "metadata": {
        "id": "uJx2zJBzF0EC",
        "colab_type": "text"
      },
      "cell_type": "markdown",
      "source": [
        ""
      ]
    },
    {
      "metadata": {
        "id": "oAdhkpfU9REe",
        "colab_type": "code",
        "outputId": "f02bfe4d-1e34-47ac-9205-6cdd992f9f20",
        "colab": {
          "base_uri": "https://localhost:8080/",
          "height": 221
        }
      },
      "cell_type": "code",
      "source": [
        "X_train = pyreadr.read_r(\"X_train_PM10_201401_201612_multivar.rds\")\n",
        "y_train = pyreadr.read_r(\"y_train_PM10_201401_201612_multivar.rds\")\n",
        "\n",
        "X_test = pyreadr.read_r(\"X_test_PM10_201701_201709_multivar.rds\")\n",
        "y_test = pyreadr.read_r(\"y_test_PM10_201701_201709_multivar.rds\")\n",
        "\n",
        "X_train = X_train[None]\n",
        "y_train = y_train[None]\n",
        "X_test = X_test[None]\n",
        "y_test = y_test[None]\n",
        "\n",
        "\n",
        "# We convert the 'hour' variable to string\n",
        "X_train.hour = X_train.hour.astype(str)\n",
        "X_test.hour = X_test.hour.astype(str)\n",
        "\n",
        "X_train = X_train[['PM10_1', 'PM10_2', 'PM10_3', 'PM10_4', 'PM10_22', 'PM10_23', 'PM10_24', 'PM10_48', 'PM10_72', 'PM10_96', 'PM10_120', 'PM10_144', 'PM10_168', 'no_lab_days', 'hour', 'NO2_2', 'SO2_2']]\n",
        "X_test = X_test[['PM10_1', 'PM10_2', 'PM10_3', 'PM10_4', 'PM10_22', 'PM10_23', 'PM10_24', 'PM10_48', 'PM10_72', 'PM10_96', 'PM10_120', 'PM10_144', 'PM10_168', 'no_lab_days', 'hour', 'NO2_2', 'SO2_2']]\n",
        "\n",
        "\n",
        "X_train = pd.get_dummies(X_train)\n",
        "X_test  = pd.get_dummies(X_test)\n",
        "\n",
        "\n",
        "\n",
        "regXGB = XGBRegressor(n_estimators=500, min_samples_leaf=10,max_depth=2, random_state=42)\n",
        "regXGB.fit(X_train,y_train)\n",
        "\n",
        "\n",
        "# Compute train scores\n",
        "\n",
        "y_pred = regXGB.predict(X_train)\n",
        "\n",
        "r2_train = r2_score(y_train, y_pred)\n",
        "rmse_train = np.sqrt(mean_squared_error(y_train, y_pred))\n",
        "mae_train = mean_absolute_error(y_train, y_pred)\n",
        "r2_adjusted_train = 1 - (1-r2_score(y_train, y_pred))*(len(y_train)-1)/(len(y_train)-X_train.shape[1]-1)\n",
        "sd_train = std(y_train)\n",
        "\n",
        "print(\"R^2 train: {}\".format(r2_train))\n",
        "print(\"R^2 adjusted train: {}\".format(r2_adjusted_train))\n",
        "print(\"Mean Absolute Error train: {}\".format(mae_train))\n",
        "print(\"Root Mean Squared Error train: {}\".format(rmse_train)) \n",
        "print(\"Standard Deviation train: {}\".format(sd_train))  \n",
        "\n",
        "# Compute test scores\n",
        "\n",
        "y_pred = regXGB.predict(X_test)\n",
        "\n",
        "r2_test = r2_score(y_test, y_pred)\n",
        "rmse_test = np.sqrt(mean_squared_error(y_test, y_pred))\n",
        "mae_test = mean_absolute_error(y_test, y_pred)\n",
        "r2_adjusted_test = 1 - (1-r2_score(y_test, y_pred))*(len(y_test)-1)/(len(y_test)-X_test.shape[1]-1)\n",
        "sd_test = std(y_test)\n",
        "\n",
        "print(\"R^2 test: {}\".format(r2_test))\n",
        "print(\"R^2 adjusted test: {}\".format(r2_adjusted_test))\n",
        "print(\"Mean Absolute Error test: {}\".format(mae_test))\n",
        "print(\"Root Mean Squared Error test: {}\".format(rmse_test))\n",
        "print(\"Standard Deviation test: {}\".format(sd_test))  \n"
      ],
      "execution_count": 0,
      "outputs": [
        {
          "output_type": "stream",
          "text": [
            "R^2 train: 0.6693234568223363\n",
            "R^2 adjusted train: 0.6687984921251209\n",
            "Mean Absolute Error train: 5.438887894125119\n",
            "Root Mean Squared Error train: 8.518037391988942\n",
            "Standard Deviation train: PM10_0    14.812823\n",
            "dtype: float64\n",
            "R^2 test: 0.6034198146821572\n",
            "R^2 adjusted test: 0.6008555838671388\n",
            "Mean Absolute Error test: 4.781358190585523\n",
            "Root Mean Squared Error test: 6.769411067883948\n",
            "Standard Deviation test: PM10_0    10.749429\n",
            "dtype: float64\n"
          ],
          "name": "stdout"
        }
      ]
    },
    {
      "metadata": {
        "colab_type": "text",
        "id": "awzYULqeF0uW"
      },
      "cell_type": "markdown",
      "source": [
        "# Weather variables"
      ]
    },
    {
      "metadata": {
        "id": "j3gA-WwGpGg3",
        "colab_type": "code",
        "colab": {}
      },
      "cell_type": "code",
      "source": [
        ""
      ],
      "execution_count": 0,
      "outputs": []
    },
    {
      "metadata": {
        "colab_type": "text",
        "id": "Wd_iDNPi_Eze"
      },
      "cell_type": "markdown",
      "source": [
        "##Adding lagged vv - wd (wind speed and wind direction)"
      ]
    },
    {
      "metadata": {
        "colab_type": "text",
        "id": "KqmX-Mfy_Eze"
      },
      "cell_type": "markdown",
      "source": [
        "#### XGBOOST"
      ]
    },
    {
      "metadata": {
        "colab_type": "code",
        "outputId": "822c47fd-4701-42d2-9284-472be2c13640",
        "id": "ew6VpSJL_Ezg",
        "colab": {
          "base_uri": "https://localhost:8080/",
          "height": 221
        }
      },
      "cell_type": "code",
      "source": [
        "X_train = pyreadr.read_r(\"X_train_PM10_201401_201612_multivar.rds\")\n",
        "y_train = pyreadr.read_r(\"y_train_PM10_201401_201612_multivar.rds\")\n",
        "\n",
        "X_test = pyreadr.read_r(\"X_test_PM10_201701_201709_multivar.rds\")\n",
        "y_test = pyreadr.read_r(\"y_test_PM10_201701_201709_multivar.rds\")\n",
        "\n",
        "X_train = X_train[None]\n",
        "y_train = y_train[None]\n",
        "X_test = X_test[None]\n",
        "y_test = y_test[None]\n",
        "\n",
        "# We convert the 'hour' variable to string\n",
        "X_train.hour = X_train.hour.astype(str)\n",
        "X_test.hour = X_test.hour.astype(str)\n",
        "\n",
        "X_train = X_train[['PM10_1', 'PM10_2', 'PM10_3', 'PM10_4', 'PM10_22', 'PM10_23', 'PM10_24', 'PM10_48', 'PM10_72', 'PM10_96', 'PM10_120',\n",
        "                   'PM10_144', 'PM10_168', 'no_lab_days', 'hour', 'NO2_1', 'SO2_1', 'NO2_2', 'SO2_2', 'vv_1','wd_1']]\n",
        "X_test = X_test[['PM10_1', 'PM10_2', 'PM10_3', 'PM10_4', 'PM10_22', 'PM10_23', 'PM10_24', 'PM10_48', 'PM10_72', 'PM10_96', 'PM10_120', \n",
        "                 'PM10_144', 'PM10_168', 'no_lab_days', 'hour', 'NO2_1', 'SO2_1', 'NO2_2', 'SO2_2', 'vv_1','wd_1']]\n",
        "\n",
        "X_train = pd.get_dummies(X_train)\n",
        "X_test  = pd.get_dummies(X_test)\n",
        "\n",
        "\n",
        "\n",
        "regXGB = XGBRegressor(n_estimators=500, min_samples_leaf=10,max_depth=2, random_state=42)\n",
        "regXGB.fit(X_train,y_train)\n",
        "\n",
        "\n",
        "# Compute train scores\n",
        "\n",
        "y_pred = regXGB.predict(X_train)\n",
        "\n",
        "r2_train = r2_score(y_train, y_pred)\n",
        "rmse_train = np.sqrt(mean_squared_error(y_train, y_pred))\n",
        "mae_train = mean_absolute_error(y_train, y_pred)\n",
        "r2_adjusted_train = 1 - (1-r2_score(y_train, y_pred))*(len(y_train)-1)/(len(y_train)-X_train.shape[1]-1)\n",
        "sd_train = std(y_train)\n",
        "\n",
        "print(\"R^2 train: {}\".format(r2_train))\n",
        "print(\"R^2 adjusted train: {}\".format(r2_adjusted_train))\n",
        "print(\"Mean Absolute Error train: {}\".format(mae_train))\n",
        "print(\"Root Mean Squared Error train: {}\".format(rmse_train)) \n",
        "print(\"Standard Deviation train: {}\".format(sd_train))  \n",
        "\n",
        "# Compute test scores\n",
        "\n",
        "y_pred = regXGB.predict(X_test)\n",
        "\n",
        "r2_test = r2_score(y_test, y_pred)\n",
        "rmse_test = np.sqrt(mean_squared_error(y_test, y_pred))\n",
        "mae_test = mean_absolute_error(y_test, y_pred)\n",
        "r2_adjusted_test = 1 - (1-r2_score(y_test, y_pred))*(len(y_test)-1)/(len(y_test)-X_test.shape[1]-1)\n",
        "sd_test = std(y_test)\n",
        "\n",
        "print(\"R^2 test: {}\".format(r2_test))\n",
        "print(\"R^2 adjusted test: {}\".format(r2_adjusted_test))\n",
        "print(\"Mean Absolute Error test: {}\".format(mae_test))\n",
        "print(\"Root Mean Squared Error test: {}\".format(rmse_test))\n",
        "print(\"Standard Deviation test: {}\".format(sd_test))  \n"
      ],
      "execution_count": 0,
      "outputs": [
        {
          "output_type": "stream",
          "text": [
            "R^2 train: 0.6810569876453221\n",
            "R^2 adjusted train: 0.6803154608990408\n",
            "Mean Absolute Error train: 5.326158664164475\n",
            "Root Mean Squared Error train: 8.365547963702404\n",
            "Standard Deviation train: PM10_0    14.812823\n",
            "dtype: float64\n",
            "R^2 test: 0.6187674367176168\n",
            "R^2 adjusted test: 0.6151492852154113\n",
            "Mean Absolute Error test: 4.734309990348968\n",
            "Root Mean Squared Error test: 6.637130792716746\n",
            "Standard Deviation test: PM10_0    10.749429\n",
            "dtype: float64\n"
          ],
          "name": "stdout"
        }
      ]
    },
    {
      "metadata": {
        "id": "JHq7jxpDDDi-",
        "colab_type": "text"
      },
      "cell_type": "markdown",
      "source": [
        "## Adding rainfall (LL)"
      ]
    },
    {
      "metadata": {
        "colab_type": "text",
        "id": "hMmVhNYZEtqf"
      },
      "cell_type": "markdown",
      "source": [
        "#### XGBOOST"
      ]
    },
    {
      "metadata": {
        "colab_type": "code",
        "outputId": "0023b530-ed2f-4de9-a871-6652e94d6520",
        "id": "1QIjCXCQEtqg",
        "colab": {
          "base_uri": "https://localhost:8080/",
          "height": 221
        }
      },
      "cell_type": "code",
      "source": [
        "X_train = pyreadr.read_r(\"X_train_PM10_201401_201612_multivar.rds\")\n",
        "y_train = pyreadr.read_r(\"y_train_PM10_201401_201612_multivar.rds\")\n",
        "\n",
        "X_test = pyreadr.read_r(\"X_test_PM10_201701_201709_multivar.rds\")\n",
        "y_test = pyreadr.read_r(\"y_test_PM10_201701_201709_multivar.rds\")\n",
        "\n",
        "X_train = X_train[None]\n",
        "y_train = y_train[None]\n",
        "X_test = X_test[None]\n",
        "y_test = y_test[None]\n",
        "\n",
        "# We convert the 'hour' variable to string\n",
        "X_train.hour = X_train.hour.astype(str)\n",
        "X_test.hour = X_test.hour.astype(str)\n",
        "\n",
        "X_train = X_train[['PM10_1', 'PM10_2', 'PM10_3', 'PM10_4', 'PM10_22', 'PM10_23', 'PM10_24', 'PM10_48', 'PM10_72', 'PM10_96', 'PM10_120', 'PM10_144', 'PM10_168', 'no_lab_days', 'hour', 'NO2_1', 'SO2_1', 'NO2_2', 'SO2_2', 'vv_1', 'wd_1', 'LL_1', 'LL_2']]\n",
        "X_test = X_test[['PM10_1', 'PM10_2', 'PM10_3', 'PM10_4', 'PM10_22', 'PM10_23', 'PM10_24', 'PM10_48', 'PM10_72', 'PM10_96', 'PM10_120', 'PM10_144', 'PM10_168', 'no_lab_days', 'hour', 'NO2_1', 'SO2_1', 'NO2_2', 'SO2_2', 'vv_1', 'wd_1', 'LL_1', 'LL_2']]\n",
        "\n",
        "X_train = pd.get_dummies(X_train)\n",
        "X_test  = pd.get_dummies(X_test)\n",
        "\n",
        "\n",
        "\n",
        "regXGB = XGBRegressor(n_estimators=500, min_samples_leaf=10,max_depth=2, random_state=42)\n",
        "regXGB.fit(X_train,y_train)\n",
        "\n",
        "\n",
        "# Compute train scores\n",
        "\n",
        "y_pred = regXGB.predict(X_train)\n",
        "\n",
        "r2_train = r2_score(y_train, y_pred)\n",
        "rmse_train = np.sqrt(mean_squared_error(y_train, y_pred))\n",
        "mae_train = mean_absolute_error(y_train, y_pred)\n",
        "r2_adjusted_train = 1 - (1-r2_score(y_train, y_pred))*(len(y_train)-1)/(len(y_train)-X_train.shape[1]-1)\n",
        "sd_train = std(y_train)\n",
        "\n",
        "print(\"R^2 train: {}\".format(r2_train))\n",
        "print(\"R^2 adjusted train: {}\".format(r2_adjusted_train))\n",
        "print(\"Mean Absolute Error train: {}\".format(mae_train))\n",
        "print(\"Root Mean Squared Error train: {}\".format(rmse_train)) \n",
        "print(\"Standard Deviation train: {}\".format(sd_train))  \n",
        "\n",
        "# Compute test scores\n",
        "\n",
        "y_pred = regXGB.predict(X_test)\n",
        "\n",
        "r2_test = r2_score(y_test, y_pred)\n",
        "rmse_test = np.sqrt(mean_squared_error(y_test, y_pred))\n",
        "mae_test = mean_absolute_error(y_test, y_pred)\n",
        "r2_adjusted_test = 1 - (1-r2_score(y_test, y_pred))*(len(y_test)-1)/(len(y_test)-X_test.shape[1]-1)\n",
        "sd_test = std(y_test)\n",
        "\n",
        "print(\"R^2 test: {}\".format(r2_test))\n",
        "print(\"R^2 adjusted test: {}\".format(r2_adjusted_test))\n",
        "print(\"Mean Absolute Error test: {}\".format(mae_test))\n",
        "print(\"Root Mean Squared Error test: {}\".format(rmse_test))\n",
        "print(\"Standard Deviation test: {}\".format(sd_test))  \n"
      ],
      "execution_count": 0,
      "outputs": [
        {
          "output_type": "stream",
          "text": [
            "R^2 train: 0.6828500076704573\n",
            "R^2 adjusted train: 0.6820880119516264\n",
            "Mean Absolute Error train: 5.317718214919543\n",
            "Root Mean Squared Error train: 8.342000284458692\n",
            "Standard Deviation train: PM10_0    14.812823\n",
            "dtype: float64\n",
            "R^2 test: 0.618597879199781\n",
            "R^2 adjusted test: 0.6148562761159815\n",
            "Mean Absolute Error test: 4.731867888444789\n",
            "Root Mean Squared Error test: 6.638606598337883\n",
            "Standard Deviation test: PM10_0    10.749429\n",
            "dtype: float64\n"
          ],
          "name": "stdout"
        }
      ]
    },
    {
      "metadata": {
        "id": "sDqg91eTFMRe",
        "colab_type": "text"
      },
      "cell_type": "markdown",
      "source": [
        "Adding the LL variable (rainfall) barely improves the model. "
      ]
    },
    {
      "metadata": {
        "id": "o5pIXCLAVOQ0",
        "colab_type": "text"
      },
      "cell_type": "markdown",
      "source": [
        "## Adding solar radiation (RS)"
      ]
    },
    {
      "metadata": {
        "id": "60Ms-MopV8E1",
        "colab_type": "code",
        "outputId": "c952c7de-6bd3-44d8-e6e1-53024bc953ca",
        "colab": {
          "base_uri": "https://localhost:8080/",
          "height": 221
        }
      },
      "cell_type": "code",
      "source": [
        "X_train = pyreadr.read_r(\"X_train_PM10_201401_201612_multivar.rds\")\n",
        "y_train = pyreadr.read_r(\"y_train_PM10_201401_201612_multivar.rds\")\n",
        "\n",
        "X_test = pyreadr.read_r(\"X_test_PM10_201701_201709_multivar.rds\")\n",
        "y_test = pyreadr.read_r(\"y_test_PM10_201701_201709_multivar.rds\")\n",
        "\n",
        "X_train = X_train[None]\n",
        "y_train = y_train[None]\n",
        "X_test = X_test[None]\n",
        "y_test = y_test[None]\n",
        "\n",
        "# We convert the 'hour' variable to string\n",
        "X_train.hour = X_train.hour.astype(str)\n",
        "X_test.hour = X_test.hour.astype(str)\n",
        "\n",
        "X_train = X_train[['PM10_1', 'PM10_2', 'PM10_3', 'PM10_4', 'PM10_22', 'PM10_23', 'PM10_24', 'PM10_48', 'PM10_72', 'PM10_96', 'PM10_120', \n",
        "                   'PM10_144', 'PM10_168', 'no_lab_days', 'hour', 'NO2_1', 'SO2_1', 'NO2_2', 'SO2_2', 'vv_1', 'wd_1', 'LL_1', 'LL_2', 'RS_1', 'RS_2']]\n",
        "\n",
        "X_test = X_test[['PM10_1', 'PM10_2', 'PM10_3', 'PM10_4', 'PM10_22', 'PM10_23', 'PM10_24', 'PM10_48', 'PM10_72', 'PM10_96', 'PM10_120', \n",
        "                 'PM10_144', 'PM10_168', 'no_lab_days', 'hour', 'NO2_1', 'SO2_1', 'NO2_2', 'SO2_2', 'vv_1', 'wd_1', 'LL_1', 'LL_2','RS_1', 'RS_2']]\n",
        "\n",
        "X_train = pd.get_dummies(X_train)\n",
        "X_test  = pd.get_dummies(X_test)\n",
        "\n",
        "\n",
        "\n",
        "regXGB = XGBRegressor(n_estimators=500, min_samples_leaf=10,max_depth=2, random_state=42)\n",
        "regXGB.fit(X_train,y_train)\n",
        "\n",
        "\n",
        "# Compute train scores\n",
        "\n",
        "y_pred = regXGB.predict(X_train)\n",
        "\n",
        "r2_train = r2_score(y_train, y_pred)\n",
        "rmse_train = np.sqrt(mean_squared_error(y_train, y_pred))\n",
        "mae_train = mean_absolute_error(y_train, y_pred)\n",
        "r2_adjusted_train = 1 - (1-r2_score(y_train, y_pred))*(len(y_train)-1)/(len(y_train)-X_train.shape[1]-1)\n",
        "sd_train = std(y_train)\n",
        "\n",
        "print(\"R^2 train: {}\".format(r2_train))\n",
        "print(\"R^2 adjusted train: {}\".format(r2_adjusted_train))\n",
        "print(\"Mean Absolute Error train: {}\".format(mae_train))\n",
        "print(\"Root Mean Squared Error train: {}\".format(rmse_train)) \n",
        "print(\"Standard Deviation train: {}\".format(sd_train))  \n",
        "\n",
        "# Compute test scores\n",
        "\n",
        "y_pred = regXGB.predict(X_test)\n",
        "\n",
        "r2_test = r2_score(y_test, y_pred)\n",
        "rmse_test = np.sqrt(mean_squared_error(y_test, y_pred))\n",
        "mae_test = mean_absolute_error(y_test, y_pred)\n",
        "r2_adjusted_test = 1 - (1-r2_score(y_test, y_pred))*(len(y_test)-1)/(len(y_test)-X_test.shape[1]-1)\n",
        "sd_test = std(y_test)\n",
        "\n",
        "print(\"R^2 test: {}\".format(r2_test))\n",
        "print(\"R^2 adjusted test: {}\".format(r2_adjusted_test))\n",
        "print(\"Mean Absolute Error test: {}\".format(mae_test))\n",
        "print(\"Root Mean Squared Error test: {}\".format(rmse_test))\n",
        "print(\"Standard Deviation test: {}\".format(sd_test))  \n"
      ],
      "execution_count": 0,
      "outputs": [
        {
          "output_type": "stream",
          "text": [
            "R^2 train: 0.6835838438485328\n",
            "R^2 adjusted train: 0.6827990268119986\n",
            "Mean Absolute Error train: 5.313919474549319\n",
            "Root Mean Squared Error train: 8.33234364406391\n",
            "Standard Deviation train: PM10_0    14.812823\n",
            "dtype: float64\n",
            "R^2 test: 0.6201589973285079\n",
            "R^2 adjusted test: 0.6163112885328486\n",
            "Mean Absolute Error test: 4.72179349764134\n",
            "Root Mean Squared Error test: 6.625006417355604\n",
            "Standard Deviation test: PM10_0    10.749429\n",
            "dtype: float64\n"
          ],
          "name": "stdout"
        }
      ]
    },
    {
      "metadata": {
        "id": "4Dq8RipAPYi7",
        "colab_type": "text"
      },
      "cell_type": "markdown",
      "source": [
        "## Adding week_day"
      ]
    },
    {
      "metadata": {
        "id": "ycjk52M1pGmz",
        "colab_type": "code",
        "outputId": "e925e86b-6b05-4bc4-bcfa-9aba1c472d0d",
        "colab": {
          "base_uri": "https://localhost:8080/",
          "height": 221
        }
      },
      "cell_type": "code",
      "source": [
        "X_train = pyreadr.read_r(\"X_train_PM10_201401_201612_multivar.rds\")\n",
        "y_train = pyreadr.read_r(\"y_train_PM10_201401_201612_multivar.rds\")\n",
        "\n",
        "X_test = pyreadr.read_r(\"X_test_PM10_201701_201709_multivar.rds\")\n",
        "y_test = pyreadr.read_r(\"y_test_PM10_201701_201709_multivar.rds\")\n",
        "\n",
        "X_train = X_train[None]\n",
        "y_train = y_train[None]\n",
        "X_test = X_test[None]\n",
        "y_test = y_test[None]\n",
        "\n",
        "# We convert the 'hour' variable to string\n",
        "X_train.hour = X_train.hour.astype(str)\n",
        "X_test.hour = X_test.hour.astype(str)\n",
        "\n",
        "# We convert the 'week_day' variable to string\n",
        "X_train.week_day = X_train.week_day.astype(str)\n",
        "X_test.week_day = X_test.week_day.astype(str)\n",
        "\n",
        "# We convert the 'month' variable to string\n",
        "X_train.month = X_train.month.astype(str)\n",
        "X_test.month = X_test.month.astype(str)\n",
        "\n",
        "X_train = X_train[['PM10_1', 'PM10_2', 'PM10_3', 'PM10_4', 'PM10_22', 'PM10_23', 'PM10_24', 'PM10_48', 'PM10_72', 'PM10_96', 'PM10_120', \n",
        "                   'PM10_144', 'PM10_168', 'no_lab_days', 'hour', 'NO2_1', 'SO2_1', 'NO2_2', 'SO2_2', 'vv_1', 'wd_1', 'LL_1', 'LL_2', 'week_day']]\n",
        "X_test = X_test[['PM10_1', 'PM10_2', 'PM10_3', 'PM10_4', 'PM10_22', 'PM10_23', 'PM10_24', 'PM10_48', 'PM10_72', 'PM10_96', 'PM10_120',\n",
        "                 'PM10_144', 'PM10_168', 'no_lab_days', 'hour', 'NO2_1', 'SO2_1', 'NO2_2', 'SO2_2', 'vv_1', 'wd_1', 'LL_1', 'LL_2', 'week_day']]\n",
        "\n",
        "\n",
        "\n",
        "X_train = pd.get_dummies(X_train)\n",
        "X_test  = pd.get_dummies(X_test)\n",
        "\n",
        "\n",
        "# Al hacer el one hot encoding el X_train y el X_test tienen distintas dimensiones. X_train tiene 47 variables y X_test 44. Por que? Porque el dataset de test tiene solo 9 meses, de enero a septiembre, y entonces la variable month solo se convierte en 9 variables, mientras que el dataset tendriamos 12, los 12 meses del anho. \n",
        "# Con el siguiente codigo solucionamos el problema (falta referencia)\n",
        "\n",
        "# Get missing columns in the training test\n",
        "missing_cols = set( X_train.columns ) - set( X_test.columns )\n",
        "# Add a missing column in test set with default value equal to 0\n",
        "for c in missing_cols:\n",
        "    X_test[c] = 0\n",
        "# Ensure the order of column in the test set is in the same order than in train set\n",
        "X_test = X_test[X_train.columns]\n",
        "# This code also ensure that column resulting from category in the test dataset but not present in the training dataset will be removed\n",
        "\n",
        "\n",
        "\n",
        "regXGB = XGBRegressor(n_estimators=500, min_samples_leaf=10,max_depth=2, random_state=42)\n",
        "regXGB.fit(X_train,y_train)\n",
        "\n",
        "\n",
        "# Compute train scores\n",
        "\n",
        "y_pred = regXGB.predict(X_train)\n",
        "\n",
        "r2_train = r2_score(y_train, y_pred)\n",
        "rmse_train = np.sqrt(mean_squared_error(y_train, y_pred))\n",
        "mae_train = mean_absolute_error(y_train, y_pred)\n",
        "r2_adjusted_train = 1 - (1-r2_score(y_train, y_pred))*(len(y_train)-1)/(len(y_train)-X_train.shape[1]-1)\n",
        "sd_train = std(y_train)\n",
        "\n",
        "print(\"R^2 train: {}\".format(r2_train))\n",
        "print(\"R^2 adjusted train: {}\".format(r2_adjusted_train))\n",
        "print(\"Mean Absolute Error train: {}\".format(mae_train))\n",
        "print(\"Root Mean Squared Error train: {}\".format(rmse_train)) \n",
        "print(\"Standard Deviation train: {}\".format(sd_train))  \n",
        "\n",
        "# Compute test scores\n",
        "\n",
        "y_pred = regXGB.predict(X_test)\n",
        "\n",
        "r2_test = r2_score(y_test, y_pred)\n",
        "rmse_test = np.sqrt(mean_squared_error(y_test, y_pred))\n",
        "mae_test = mean_absolute_error(y_test, y_pred)\n",
        "r2_adjusted_test = 1 - (1-r2_score(y_test, y_pred))*(len(y_test)-1)/(len(y_test)-X_test.shape[1]-1)\n",
        "sd_test = std(y_test)\n",
        "\n",
        "print(\"R^2 test: {}\".format(r2_test))\n",
        "print(\"R^2 adjusted test: {}\".format(r2_adjusted_test))\n",
        "print(\"Mean Absolute Error test: {}\".format(mae_test))\n",
        "print(\"Root Mean Squared Error test: {}\".format(rmse_test))\n",
        "print(\"Standard Deviation test: {}\".format(sd_test))  \n"
      ],
      "execution_count": 0,
      "outputs": [
        {
          "output_type": "stream",
          "text": [
            "R^2 train: 0.6831209368991138\n",
            "R^2 adjusted train: 0.6822734039371028\n",
            "Mean Absolute Error train: 5.3175100578176755\n",
            "Root Mean Squared Error train: 8.3384363956976\n",
            "Standard Deviation train: PM10_0    14.812823\n",
            "dtype: float64\n",
            "R^2 test: 0.6185895335959442\n",
            "R^2 adjusted test: 0.6144207830523231\n",
            "Mean Absolute Error test: 4.734766277680385\n",
            "Root Mean Squared Error test: 6.638679228869552\n",
            "Standard Deviation test: PM10_0    10.749429\n",
            "dtype: float64\n"
          ],
          "name": "stdout"
        }
      ]
    },
    {
      "metadata": {
        "id": "JEMQQf0aQW7m",
        "colab_type": "text"
      },
      "cell_type": "markdown",
      "source": [
        ""
      ]
    },
    {
      "metadata": {
        "id": "Eb1i74SlQXEd",
        "colab_type": "text"
      },
      "cell_type": "markdown",
      "source": [
        ""
      ]
    },
    {
      "metadata": {
        "colab_type": "text",
        "id": "PgY8wk3DQauf"
      },
      "cell_type": "markdown",
      "source": [
        "## Adding month"
      ]
    },
    {
      "metadata": {
        "colab_type": "code",
        "outputId": "3eb97e25-a172-4334-bf34-3bbfeeb66b0d",
        "id": "qx9SZRdRQaug",
        "colab": {
          "base_uri": "https://localhost:8080/",
          "height": 221
        }
      },
      "cell_type": "code",
      "source": [
        "X_train = pyreadr.read_r(\"X_train_PM10_201401_201612_multivar.rds\")\n",
        "y_train = pyreadr.read_r(\"y_train_PM10_201401_201612_multivar.rds\")\n",
        "\n",
        "X_test = pyreadr.read_r(\"X_test_PM10_201701_201709_multivar.rds\")\n",
        "y_test = pyreadr.read_r(\"y_test_PM10_201701_201709_multivar.rds\")\n",
        "\n",
        "X_train = X_train[None]\n",
        "y_train = y_train[None]\n",
        "X_test = X_test[None]\n",
        "y_test = y_test[None]\n",
        "\n",
        "# We convert the 'hour' variable to string\n",
        "X_train.hour = X_train.hour.astype(str)\n",
        "X_test.hour = X_test.hour.astype(str)\n",
        "\n",
        "# We convert the 'week_day' variable to string\n",
        "X_train.week_day = X_train.week_day.astype(str)\n",
        "X_test.week_day = X_test.week_day.astype(str)\n",
        "\n",
        "# We convert the 'month' variable to string\n",
        "X_train.month = X_train.month.astype(str)\n",
        "X_test.month = X_test.month.astype(str)\n",
        "\n",
        "X_train = X_train[['PM10_1', 'PM10_2', 'PM10_3', 'PM10_4', 'PM10_22', 'PM10_23', 'PM10_24', 'PM10_48', 'PM10_72', 'PM10_96', 'PM10_120', 'PM10_144', 'PM10_168', 'no_lab_days', 'hour', 'NO2_1', 'SO2_1', 'NO2_2', 'SO2_2', 'vv_1', 'wd_1', 'LL_1', 'LL_2', 'week_day', 'month']]\n",
        "X_test = X_test[['PM10_1', 'PM10_2', 'PM10_3', 'PM10_4', 'PM10_22', 'PM10_23', 'PM10_24', 'PM10_48', 'PM10_72', 'PM10_96', 'PM10_120', 'PM10_144', 'PM10_168', 'no_lab_days', 'hour', 'NO2_1', 'SO2_1', 'NO2_2', 'SO2_2', 'vv_1', 'wd_1', 'LL_1', 'LL_2', 'week_day', 'month']]\n",
        "\n",
        "\n",
        "\n",
        "X_train = pd.get_dummies(X_train)\n",
        "X_test  = pd.get_dummies(X_test)\n",
        "\n",
        "\n",
        "# Al hacer el one hot encoding el X_train y el X_test tienen distintas dimensiones. X_train tiene 47 variables y X_test 44. Por que? Porque el dataset de test tiene solo 9 meses, de enero a septiembre, y entonces la variable month solo se convierte en 9 variables, mientras que el dataset tendriamos 12, los 12 meses del anho. \n",
        "# Con el siguiente codigo solucionamos el problema (falta referencia)\n",
        "\n",
        "# Get missing columns in the training test\n",
        "missing_cols = set( X_train.columns ) - set( X_test.columns )\n",
        "# Add a missing column in test set with default value equal to 0\n",
        "for c in missing_cols:\n",
        "    X_test[c] = 0\n",
        "# Ensure the order of column in the test set is in the same order than in train set\n",
        "X_test = X_test[X_train.columns]\n",
        "# This code also ensure that column resulting from category in the test dataset but not present in the training dataset will be removed\n",
        "\n",
        "\n",
        "\n",
        "regXGB = XGBRegressor(n_estimators=500, min_samples_leaf=10,max_depth=2, random_state=42)\n",
        "regXGB.fit(X_train,y_train)\n",
        "\n",
        "\n",
        "# Compute train scores\n",
        "\n",
        "y_pred = regXGB.predict(X_train)\n",
        "\n",
        "r2_train = r2_score(y_train, y_pred)\n",
        "rmse_train = np.sqrt(mean_squared_error(y_train, y_pred))\n",
        "mae_train = mean_absolute_error(y_train, y_pred)\n",
        "r2_adjusted_train = 1 - (1-r2_score(y_train, y_pred))*(len(y_train)-1)/(len(y_train)-X_train.shape[1]-1)\n",
        "sd_train = std(y_train)\n",
        "\n",
        "print(\"R^2 train: {}\".format(r2_train))\n",
        "print(\"R^2 adjusted train: {}\".format(r2_adjusted_train))\n",
        "print(\"Mean Absolute Error train: {}\".format(mae_train))\n",
        "print(\"Root Mean Squared Error train: {}\".format(rmse_train)) \n",
        "print(\"Standard Deviation train: {}\".format(sd_train))  \n",
        "\n",
        "# Compute test scores\n",
        "\n",
        "y_pred = regXGB.predict(X_test)\n",
        "\n",
        "r2_test = r2_score(y_test, y_pred)\n",
        "rmse_test = np.sqrt(mean_squared_error(y_test, y_pred))\n",
        "mae_test = mean_absolute_error(y_test, y_pred)\n",
        "r2_adjusted_test = 1 - (1-r2_score(y_test, y_pred))*(len(y_test)-1)/(len(y_test)-X_test.shape[1]-1)\n",
        "sd_test = std(y_test)\n",
        "\n",
        "print(\"R^2 test: {}\".format(r2_test))\n",
        "print(\"R^2 adjusted test: {}\".format(r2_adjusted_test))\n",
        "print(\"Mean Absolute Error test: {}\".format(mae_test))\n",
        "print(\"Root Mean Squared Error test: {}\".format(rmse_test))\n",
        "print(\"Standard Deviation test: {}\".format(sd_test))  \n"
      ],
      "execution_count": 0,
      "outputs": [
        {
          "output_type": "stream",
          "text": [
            "R^2 train: 0.6827653548537419\n",
            "R^2 adjusted train: 0.6817688448771326\n",
            "Mean Absolute Error train: 5.311897631850796\n",
            "Root Mean Squared Error train: 8.343113522235745\n",
            "Standard Deviation train: PM10_0    14.812823\n",
            "dtype: float64\n",
            "R^2 test: 0.6183819125339685\n",
            "R^2 adjusted test: 0.61347617295537\n",
            "Mean Absolute Error test: 4.742529574133801\n",
            "Root Mean Squared Error test: 6.640485867950488\n",
            "Standard Deviation test: PM10_0    10.749429\n",
            "dtype: float64\n"
          ],
          "name": "stdout"
        }
      ]
    },
    {
      "metadata": {
        "colab_type": "text",
        "id": "M_HF_9CbT6ME"
      },
      "cell_type": "markdown",
      "source": [
        "### All the variables\n",
        "### Gridsearchcv  \n",
        " \"n_estimators\":[100, 500, 1000, 2000],  \n",
        "                                \"min_samples_leaf\":[10,30],  \n",
        "                                  \"max_depth\":range(2,5)},  \n",
        "                                    scoring=\"neg_mean_absolute_error\")  \n"
      ]
    },
    {
      "metadata": {
        "colab_type": "code",
        "outputId": "3f688acd-e53b-47b6-ec91-5a2bd7918411",
        "id": "P5IoXophT6MG",
        "colab": {
          "base_uri": "https://localhost:8080/",
          "height": 289
        }
      },
      "cell_type": "code",
      "source": [
        "X_train = pyreadr.read_r(\"X_train_PM10_201401_201612_multivar.rds\")\n",
        "y_train = pyreadr.read_r(\"y_train_PM10_201401_201612_multivar.rds\")\n",
        "\n",
        "X_test = pyreadr.read_r(\"X_test_PM10_201701_201709_multivar.rds\")\n",
        "y_test = pyreadr.read_r(\"y_test_PM10_201701_201709_multivar.rds\")\n",
        "\n",
        "X_train = X_train[None]\n",
        "y_train = y_train[None]\n",
        "X_test = X_test[None]\n",
        "y_test = y_test[None]\n",
        "\n",
        "# We convert the 'hour' variable to string\n",
        "X_train.hour = X_train.hour.astype(str)\n",
        "X_test.hour = X_test.hour.astype(str)\n",
        "\n",
        "# We convert the 'week_day' variable to string\n",
        "X_train.week_day = X_train.week_day.astype(str)\n",
        "X_test.week_day = X_test.week_day.astype(str)\n",
        "\n",
        "# We convert the 'month' variable to string\n",
        "X_train.month = X_train.month.astype(str)\n",
        "X_test.month = X_test.month.astype(str)\n",
        "\n",
        "X_train = X_train[['PM10_1', 'PM10_2', 'PM10_3', 'PM10_4', 'PM10_22', 'PM10_23', 'PM10_24', \n",
        "                   'PM10_48', 'PM10_72', 'PM10_96', 'PM10_120', 'PM10_144', 'PM10_168', \n",
        "                   'no_lab_days', 'hour', 'NO2_1', 'SO2_1', 'NO2_2', 'SO2_2', 'vv_1', \n",
        "                   'wd_1', 'LL_1', 'LL_2', 'week_day', 'month']]\n",
        "X_test = X_test[['PM10_1', 'PM10_2', 'PM10_3', 'PM10_4', 'PM10_22', 'PM10_23', 'PM10_24',\n",
        "                 'PM10_48', 'PM10_72', 'PM10_96', 'PM10_120', 'PM10_144', 'PM10_168',\n",
        "                 'no_lab_days', 'hour', 'NO2_1', 'SO2_1', 'NO2_2', 'SO2_2', 'vv_1', \n",
        "                 'wd_1', 'LL_1', 'LL_2', 'week_day', 'month']]\n",
        "\n",
        "\n",
        "\n",
        "\n",
        "X_train = pd.get_dummies(X_train)\n",
        "X_test  = pd.get_dummies(X_test)\n",
        "\n",
        "\n",
        "# Al hacer el one hot encoding el X_train y el X_test tienen distintas dimensiones. X_train tiene 47 variables y X_test 44. Por que? Porque el dataset de test tiene solo 9 meses, de enero a septiembre, y entonces la variable month solo se convierte en 9 variables, mientras que el dataset tendriamos 12, los 12 meses del anho. \n",
        "# Con el siguiente codigo solucionamos el problema (falta referencia)\n",
        "\n",
        "# Get missing columns in the training test\n",
        "missing_cols = set( X_train.columns ) - set( X_test.columns )\n",
        "# Add a missing column in test set with default value equal to 0\n",
        "for c in missing_cols:\n",
        "    X_test[c] = 0\n",
        "# Ensure the order of column in the test set is in the same order than in train set\n",
        "X_test = X_test[X_train.columns]\n",
        "# This code also ensure that column resulting from category in the test dataset but not present in the training dataset will be removed\n",
        "\n",
        "\n",
        "\n",
        "regXGB = GridSearchCV(XGBRegressor(n_estimators=350, min_samples_leaf=1,max_depth=4, random_state=42),\n",
        "                   param_grid={\"n_estimators\":[100, 500, 1000, 2000],\n",
        "                                \"min_samples_leaf\":[10,30],\n",
        "                                  \"max_depth\":range(2,5)},\n",
        "                                    scoring=\"neg_mean_absolute_error\")\n",
        "\n",
        "regXGB.fit(X_train,y_train)\n",
        "\n",
        "print(regXGB.best_params_)\n",
        "print(\"Best score: {}\".format(regXGB.best_score_))\n",
        "\n",
        "\n",
        "# Compute train scores\n",
        "\n",
        "y_pred = regXGB.predict(X_train)\n",
        "\n",
        "r2_train = r2_score(y_train, y_pred)\n",
        "rmse_train = np.sqrt(mean_squared_error(y_train, y_pred))\n",
        "mae_train = mean_absolute_error(y_train, y_pred)\n",
        "r2_adjusted_train = 1 - (1-r2_score(y_train, y_pred))*(len(y_train)-1)/(len(y_train)-X_train.shape[1]-1)\n",
        "sd_train = std(y_train)\n",
        "\n",
        "print(\"R^2 train: {}\".format(r2_train))\n",
        "print(\"R^2 adjusted train: {}\".format(r2_adjusted_train))\n",
        "print(\"Mean Absolute Error train: {}\".format(mae_train))\n",
        "print(\"Root Mean Squared Error train: {}\".format(rmse_train)) \n",
        "print(\"Standard Deviation train: {}\".format(sd_train))  \n",
        "\n",
        "# Compute test scores\n",
        "\n",
        "y_pred = regXGB.predict(X_test)\n",
        "\n",
        "r2_test = r2_score(y_test, y_pred)\n",
        "rmse_test = np.sqrt(mean_squared_error(y_test, y_pred))\n",
        "mae_test = mean_absolute_error(y_test, y_pred)\n",
        "r2_adjusted_test = 1 - (1-r2_score(y_test, y_pred))*(len(y_test)-1)/(len(y_test)-X_test.shape[1]-1)\n",
        "sd_test = std(y_test)\n",
        "\n",
        "print(\"R^2 test: {}\".format(r2_test))\n",
        "print(\"R^2 adjusted test: {}\".format(r2_adjusted_test))\n",
        "print(\"Mean Absolute Error test: {}\".format(mae_test))\n",
        "print(\"Root Mean Squared Error test: {}\".format(rmse_test))\n",
        "print(\"Standard Deviation test: {}\".format(sd_test))  \n"
      ],
      "execution_count": 0,
      "outputs": [
        {
          "output_type": "stream",
          "text": [
            "/usr/local/lib/python3.6/dist-packages/sklearn/model_selection/_split.py:2053: FutureWarning: You should specify a value for 'cv' instead of relying on the default value. The default value will change from 3 to 5 in version 0.22.\n",
            "  warnings.warn(CV_WARNING, FutureWarning)\n"
          ],
          "name": "stderr"
        },
        {
          "output_type": "stream",
          "text": [
            "{'max_depth': 2, 'min_samples_leaf': 10, 'n_estimators': 500}\n",
            "Best score: -5.601586251842673\n",
            "R^2 train: 0.6827653548537419\n",
            "R^2 adjusted train: 0.6817688448771326\n",
            "Mean Absolute Error train: 5.311897631850796\n",
            "Root Mean Squared Error train: 8.343113522235745\n",
            "Standard Deviation train: PM10_0    14.812823\n",
            "dtype: float64\n",
            "R^2 test: 0.6183819125339685\n",
            "R^2 adjusted test: 0.61347617295537\n",
            "Mean Absolute Error test: 4.742529574133801\n",
            "Root Mean Squared Error test: 6.640485867950488\n",
            "Standard Deviation test: PM10_0    10.749429\n",
            "dtype: float64\n"
          ],
          "name": "stdout"
        }
      ]
    },
    {
      "metadata": {
        "id": "9QECFM3RQUO3",
        "colab_type": "code",
        "outputId": "7586547f-e717-409f-bc3c-e295d928fe82",
        "colab": {
          "base_uri": "https://localhost:8080/",
          "height": 214
        }
      },
      "cell_type": "code",
      "source": [
        "feature_importances= pd.DataFrame(regXGB.feature_importances_)\n",
        "feature_importances['X_train'] = list[X_train]\n",
        "\n",
        "plot(feature_importances)"
      ],
      "execution_count": 0,
      "outputs": [
        {
          "output_type": "error",
          "ename": "TypeError",
          "evalue": "ignored",
          "traceback": [
            "\u001b[0;31m---------------------------------------------------------------------------\u001b[0m",
            "\u001b[0;31mTypeError\u001b[0m                                 Traceback (most recent call last)",
            "\u001b[0;32m<ipython-input-78-5ebe931a2d00>\u001b[0m in \u001b[0;36m<module>\u001b[0;34m()\u001b[0m\n\u001b[1;32m      1\u001b[0m \u001b[0mfeature_importances\u001b[0m\u001b[0;34m=\u001b[0m \u001b[0mpd\u001b[0m\u001b[0;34m.\u001b[0m\u001b[0mDataFrame\u001b[0m\u001b[0;34m(\u001b[0m\u001b[0mregXGB\u001b[0m\u001b[0;34m.\u001b[0m\u001b[0mfeature_importances_\u001b[0m\u001b[0;34m)\u001b[0m\u001b[0;34m\u001b[0m\u001b[0;34m\u001b[0m\u001b[0m\n\u001b[0;32m----> 2\u001b[0;31m \u001b[0mfeature_importances\u001b[0m\u001b[0;34m[\u001b[0m\u001b[0;34m'X_train'\u001b[0m\u001b[0;34m]\u001b[0m \u001b[0;34m=\u001b[0m \u001b[0mlist\u001b[0m\u001b[0;34m[\u001b[0m\u001b[0mX_train\u001b[0m\u001b[0;34m]\u001b[0m\u001b[0;34m\u001b[0m\u001b[0;34m\u001b[0m\u001b[0m\n\u001b[0m\u001b[1;32m      3\u001b[0m \u001b[0;34m\u001b[0m\u001b[0m\n\u001b[1;32m      4\u001b[0m \u001b[0mplot\u001b[0m\u001b[0;34m(\u001b[0m\u001b[0mfeature_importances\u001b[0m\u001b[0;34m)\u001b[0m\u001b[0;34m\u001b[0m\u001b[0;34m\u001b[0m\u001b[0m\n",
            "\u001b[0;31mTypeError\u001b[0m: 'type' object is not subscriptable"
          ]
        }
      ]
    },
    {
      "metadata": {
        "id": "2JaW4H0Z01aT",
        "colab_type": "code",
        "colab": {}
      },
      "cell_type": "code",
      "source": [
        "#https://machinelearningmastery.com/feature-importance-and-feature-selection-with-xgboost-in-python/\n",
        "import xgboost\n",
        "from xgboost import plot_importance"
      ],
      "execution_count": 0,
      "outputs": []
    },
    {
      "metadata": {
        "id": "W_kBVcm-0S0M",
        "colab_type": "code",
        "outputId": "80a29bbf-03eb-490d-ea64-82271a6d49e5",
        "colab": {
          "base_uri": "https://localhost:8080/",
          "height": 1181
        }
      },
      "cell_type": "code",
      "source": [
        "fig, ax = plt.subplots(figsize=(10, 20))\n",
        "xgboost.plot_importance(regXGB, ax=ax)"
      ],
      "execution_count": 0,
      "outputs": [
        {
          "output_type": "execute_result",
          "data": {
            "text/plain": [
              "<matplotlib.axes._subplots.AxesSubplot at 0x7fa63a914c50>"
            ]
          },
          "metadata": {
            "tags": []
          },
          "execution_count": 13
        },
        {
          "output_type": "display_data",
          "data": {
            "image/png": "[encoded data removed]",
            "text/plain": [
              "<matplotlib.figure.Figure at 0x7fa63a91f5c0>"
            ]
          },
          "metadata": {
            "tags": []
          }
        }
      ]
    },
    {
      "metadata": {
        "id": "bttRnibN4F1y",
        "colab_type": "text"
      },
      "cell_type": "markdown",
      "source": [
        "importances scores explanation\n",
        "https://datascience.stackexchange.com/questions/34209/xgboost-quantifying-feature-importances"
      ]
    },
    {
      "metadata": {
        "id": "9DX8Jlwvx8cu",
        "colab_type": "code",
        "colab": {}
      },
      "cell_type": "code",
      "source": [
        ""
      ],
      "execution_count": 0,
      "outputs": []
    },
    {
      "metadata": {
        "id": "sKKJKkEUyQK5",
        "colab_type": "code",
        "outputId": "b23ef21d-1284-498b-b1d1-78d237a9aeb0",
        "colab": {
          "base_uri": "https://localhost:8080/",
          "height": 163
        }
      },
      "cell_type": "code",
      "source": [
        "plot_importance(regXGB)"
      ],
      "execution_count": 0,
      "outputs": [
        {
          "output_type": "error",
          "ename": "NameError",
          "evalue": "ignored",
          "traceback": [
            "\u001b[0;31m---------------------------------------------------------------------------\u001b[0m",
            "\u001b[0;31mNameError\u001b[0m                                 Traceback (most recent call last)",
            "\u001b[0;32m<ipython-input-89-8ec127b7f110>\u001b[0m in \u001b[0;36m<module>\u001b[0;34m()\u001b[0m\n\u001b[0;32m----> 1\u001b[0;31m \u001b[0mplot_importance\u001b[0m\u001b[0;34m(\u001b[0m\u001b[0mregXGB\u001b[0m\u001b[0;34m)\u001b[0m\u001b[0;34m\u001b[0m\u001b[0;34m\u001b[0m\u001b[0m\n\u001b[0m",
            "\u001b[0;31mNameError\u001b[0m: name 'plot_importance' is not defined"
          ]
        }
      ]
    },
    {
      "metadata": {
        "id": "0e6zqtxTQUSz",
        "colab_type": "code",
        "outputId": "420217b3-ee1f-4c74-a313-82d7b5a3d51d",
        "colab": {
          "base_uri": "https://localhost:8080/",
          "height": 248
        }
      },
      "cell_type": "code",
      "source": [
        "regXGB.feature_importances_"
      ],
      "execution_count": 0,
      "outputs": [
        {
          "output_type": "stream",
          "text": [
            "Exception ignored in: <bound method DMatrix.__del__ of <xgboost.core.DMatrix object at 0x7f2e6953eeb8>>\n",
            "Traceback (most recent call last):\n",
            "  File \"/usr/local/lib/python3.6/dist-packages/xgboost/core.py\", line 368, in __del__\n",
            "    if self.handle is not None:\n",
            "AttributeError: 'DMatrix' object has no attribute 'handle'\n"
          ],
          "name": "stderr"
        },
        {
          "output_type": "error",
          "ename": "AttributeError",
          "evalue": "ignored",
          "traceback": [
            "\u001b[0;31m---------------------------------------------------------------------------\u001b[0m",
            "\u001b[0;31mAttributeError\u001b[0m                            Traceback (most recent call last)",
            "\u001b[0;32m<ipython-input-38-8e5ca5fcf529>\u001b[0m in \u001b[0;36m<module>\u001b[0;34m()\u001b[0m\n\u001b[0;32m----> 1\u001b[0;31m \u001b[0mfscore\u001b[0m \u001b[0;34m=\u001b[0m \u001b[0mregXGB\u001b[0m\u001b[0;34m.\u001b[0m\u001b[0mbest_estimator_\u001b[0m\u001b[0;34m.\u001b[0m\u001b[0mbooster\u001b[0m\u001b[0;34m(\u001b[0m\u001b[0;34m)\u001b[0m\u001b[0;34m.\u001b[0m\u001b[0mget_fscore\u001b[0m\u001b[0;34m(\u001b[0m\u001b[0;34m)\u001b[0m\u001b[0;34m\u001b[0m\u001b[0;34m\u001b[0m\u001b[0m\n\u001b[0m",
            "\u001b[0;31mAttributeError\u001b[0m: 'XGBRegressor' object has no attribute 'best_estimator_'"
          ]
        }
      ]
    },
    {
      "metadata": {
        "id": "WNPs4tFZQUas",
        "colab_type": "code",
        "outputId": "773db44b-84e2-4f2d-a093-778a108cfb51",
        "colab": {
          "base_uri": "https://localhost:8080/",
          "height": 282
        }
      },
      "cell_type": "code",
      "source": [
        "plot(regXGB.feature_importances_)"
      ],
      "execution_count": 0,
      "outputs": [
        {
          "output_type": "execute_result",
          "data": {
            "text/plain": [
              "[<matplotlib.lines.Line2D at 0x7f2e69931b38>]"
            ]
          },
          "metadata": {
            "tags": []
          },
          "execution_count": 46
        },
        {
          "output_type": "display_data",
          "data": {
            "image/png": "[encoded data removed]",
            "text/plain": [
              "<matplotlib.figure.Figure at 0x7f2e65705eb8>"
            ]
          },
          "metadata": {
            "tags": []
          }
        }
      ]
    },
    {
      "metadata": {
        "id": "b32SHLjymL36",
        "colab_type": "code",
        "colab": {}
      },
      "cell_type": "code",
      "source": [
        ""
      ],
      "execution_count": 0,
      "outputs": []
    },
    {
      "metadata": {
        "id": "BGcFlBxqAhIb",
        "colab_type": "text"
      },
      "cell_type": "markdown",
      "source": [
        ""
      ]
    },
    {
      "metadata": {
        "id": "Ht2DvjhDAHzd",
        "colab_type": "text"
      },
      "cell_type": "markdown",
      "source": [
        "# PM10 forecasts 6 hours ahead\n",
        "n_estimators=500, min_samples_leaf=10,max_depth=2, random_state=42"
      ]
    },
    {
      "metadata": {
        "id": "mCef-K8-mL8b",
        "colab_type": "code",
        "outputId": "be99e1c7-4d34-4df0-e1cc-bac5d7ff60d4",
        "colab": {
          "base_uri": "https://localhost:8080/",
          "height": 221
        }
      },
      "cell_type": "code",
      "source": [
        "X_train = pyreadr.read_r(\"X_train_PM10_201401_201612_multivar.rds\")\n",
        "y_train = pyreadr.read_r(\"y_train_PM10_201401_201612_multivar.rds\")\n",
        "\n",
        "X_test = pyreadr.read_r(\"X_test_PM10_201701_201709_multivar.rds\")\n",
        "y_test = pyreadr.read_r(\"y_test_PM10_201701_201709_multivar.rds\")\n",
        "\n",
        "X_train = X_train[None]\n",
        "y_train = y_train[None]\n",
        "X_test = X_test[None]\n",
        "y_test = y_test[None]\n",
        "\n",
        "# We convert the 'hour' variable to string\n",
        "X_train.hour = X_train.hour.astype(str)\n",
        "X_test.hour = X_test.hour.astype(str)\n",
        "\n",
        "# We convert the 'week_day' variable to string\n",
        "X_train.week_day = X_train.week_day.astype(str)\n",
        "X_test.week_day = X_test.week_day.astype(str)\n",
        "\n",
        "# We convert the 'month' variable to string\n",
        "X_train.month = X_train.month.astype(str)\n",
        "X_test.month = X_test.month.astype(str)\n",
        "\n",
        "X_train = X_train[['PM10_7', 'PM10_8', 'PM10_9', 'PM10_10', 'PM10_22', 'PM10_23', 'PM10_24', \n",
        "                   'PM10_48', 'PM10_72', 'PM10_96', 'PM10_120', 'PM10_144', 'PM10_168', \n",
        "                   'no_lab_days', 'hour', 'week_day', 'month']]\n",
        "X_test = X_test[['PM10_7', 'PM10_8', 'PM10_9', 'PM10_10', 'PM10_22', 'PM10_23', 'PM10_24', \n",
        "                 'PM10_48', 'PM10_72', 'PM10_96', 'PM10_120', 'PM10_144', 'PM10_168', \n",
        "                 'no_lab_days', 'hour','week_day', 'month']]\n",
        "\n",
        "\n",
        "\n",
        "X_train = pd.get_dummies(X_train)\n",
        "X_test  = pd.get_dummies(X_test)\n",
        "\n",
        "\n",
        "# Al hacer el one hot encoding el X_train y el X_test tienen distintas dimensiones. X_train tiene 47 variables y X_test 44. Por que? Porque el dataset de test tiene solo 9 meses, de enero a septiembre, y entonces la variable month solo se convierte en 9 variables, mientras que el dataset tendriamos 12, los 12 meses del anho. \n",
        "# Con el siguiente codigo solucionamos el problema (falta referencia)\n",
        "\n",
        "# Get missing columns in the training test\n",
        "missing_cols = set( X_train.columns ) - set( X_test.columns )\n",
        "# Add a missing column in test set with default value equal to 0\n",
        "for c in missing_cols:\n",
        "    X_test[c] = 0\n",
        "# Ensure the order of column in the test set is in the same order than in train set\n",
        "X_test = X_test[X_train.columns]\n",
        "# This code also ensure that column resulting from category in the test dataset but not present in the training dataset will be removed\n",
        "\n",
        "\n",
        "\n",
        "regXGB = XGBRegressor(n_estimators=500, min_samples_leaf=10,max_depth=2, random_state=42)\n",
        "regXGB.fit(X_train,y_train)\n",
        "\n",
        "\n",
        "# Compute train scores\n",
        "\n",
        "y_pred = regXGB.predict(X_train)\n",
        "\n",
        "r2_train = r2_score(y_train, y_pred)\n",
        "rmse_train = np.sqrt(mean_squared_error(y_train, y_pred))\n",
        "mae_train = mean_absolute_error(y_train, y_pred)\n",
        "r2_adjusted_train = 1 - (1-r2_score(y_train, y_pred))*(len(y_train)-1)/(len(y_train)-X_train.shape[1]-1)\n",
        "sd_train = std(y_train)\n",
        "\n",
        "print(\"R^2 train: {}\".format(r2_train))\n",
        "print(\"R^2 adjusted train: {}\".format(r2_adjusted_train))\n",
        "print(\"Mean Absolute Error train: {}\".format(mae_train))\n",
        "print(\"Root Mean Squared Error train: {}\".format(rmse_train)) \n",
        "print(\"Standard Deviation train: {}\".format(sd_train))  \n",
        "\n",
        "# Compute test scores\n",
        "\n",
        "y_pred = regXGB.predict(X_test)\n",
        "\n",
        "r2_test = r2_score(y_test, y_pred)\n",
        "rmse_test = np.sqrt(mean_squared_error(y_test, y_pred))\n",
        "mae_test = mean_absolute_error(y_test, y_pred)\n",
        "r2_adjusted_test = 1 - (1-r2_score(y_test, y_pred))*(len(y_test)-1)/(len(y_test)-X_test.shape[1]-1)\n",
        "sd_test = std(y_test)\n",
        "\n",
        "print(\"R^2 test: {}\".format(r2_test))\n",
        "print(\"R^2 adjusted test: {}\".format(r2_adjusted_test))\n",
        "print(\"Mean Absolute Error test: {}\".format(mae_test))\n",
        "print(\"Root Mean Squared Error test: {}\".format(rmse_test))\n",
        "print(\"Standard Deviation test: {}\".format(sd_test))  \n"
      ],
      "execution_count": 0,
      "outputs": [
        {
          "output_type": "stream",
          "text": [
            "R^2 train: 0.3783363410566375\n",
            "R^2 adjusted train: 0.3769392899419598\n",
            "Mean Absolute Error train: 7.981519507604723\n",
            "Root Mean Squared Error train: 11.679267022942094\n",
            "Standard Deviation train: PM10_0    14.812823\n",
            "dtype: float64\n",
            "R^2 test: 0.23909019501856432\n",
            "R^2 adjusted test: 0.23211157884384526\n",
            "Mean Absolute Error test: 6.95376437207906\n",
            "Root Mean Squared Error test: 9.37674210874117\n",
            "Standard Deviation test: PM10_0    10.749429\n",
            "dtype: float64\n"
          ],
          "name": "stdout"
        }
      ]
    },
    {
      "metadata": {
        "id": "VsFdGORYGEa9",
        "colab_type": "text"
      },
      "cell_type": "markdown",
      "source": [
        "# PM10 forecasts 6 hours ahead\n",
        "### Gridsearchcv  \n",
        " \"n_estimators\":[100, 500, 1000, 2000],  \n",
        "                                \"min_samples_leaf\":[10,30],  \n",
        "                                  \"max_depth\":range(2,5)},  \n",
        "                                    scoring=\"neg_mean_absolute_error\")  \n"
      ]
    },
    {
      "metadata": {
        "colab_type": "code",
        "outputId": "b9b7f7a3-24da-41c3-bafb-b944d1838540",
        "id": "7pd2ElriFRPJ",
        "colab": {
          "base_uri": "https://localhost:8080/",
          "height": 289
        }
      },
      "cell_type": "code",
      "source": [
        "X_train = pyreadr.read_r(\"X_train_PM10_201401_201612_multivar.rds\")\n",
        "y_train = pyreadr.read_r(\"y_train_PM10_201401_201612_multivar.rds\")\n",
        "\n",
        "X_test = pyreadr.read_r(\"X_test_PM10_201701_201709_multivar.rds\")\n",
        "y_test = pyreadr.read_r(\"y_test_PM10_201701_201709_multivar.rds\")\n",
        "\n",
        "X_train = X_train[None]\n",
        "y_train = y_train[None]\n",
        "X_test = X_test[None]\n",
        "y_test = y_test[None]\n",
        "\n",
        "# We convert the 'hour' variable to string\n",
        "X_train.hour = X_train.hour.astype(str)\n",
        "X_test.hour = X_test.hour.astype(str)\n",
        "\n",
        "# We convert the 'week_day' variable to string\n",
        "X_train.week_day = X_train.week_day.astype(str)\n",
        "X_test.week_day = X_test.week_day.astype(str)\n",
        "\n",
        "# We convert the 'month' variable to string\n",
        "X_train.month = X_train.month.astype(str)\n",
        "X_test.month = X_test.month.astype(str)\n",
        "\n",
        "X_train = X_train[['PM10_7', 'PM10_8', 'PM10_9', 'PM10_10', 'PM10_22', 'PM10_23', 'PM10_24', \n",
        "                   'PM10_48', 'PM10_72', 'PM10_96', 'PM10_120', 'PM10_144', 'PM10_168', \n",
        "                   'no_lab_days', 'hour', 'week_day', 'month']]\n",
        "X_test = X_test[['PM10_7', 'PM10_8', 'PM10_9', 'PM10_10', 'PM10_22', 'PM10_23', 'PM10_24', \n",
        "                 'PM10_48', 'PM10_72', 'PM10_96', 'PM10_120', 'PM10_144', 'PM10_168', \n",
        "                 'no_lab_days', 'hour','week_day', 'month']]\n",
        "\n",
        "\n",
        "\n",
        "X_train = pd.get_dummies(X_train)\n",
        "X_test  = pd.get_dummies(X_test)\n",
        "\n",
        "\n",
        "# Al hacer el one hot encoding el X_train y el X_test tienen distintas dimensiones. X_train tiene 47 variables y X_test 44. Por que? Porque el dataset de test tiene solo 9 meses, de enero a septiembre, y entonces la variable month solo se convierte en 9 variables, mientras que el dataset tendriamos 12, los 12 meses del anho. \n",
        "# Con el siguiente codigo solucionamos el problema (falta referencia)\n",
        "\n",
        "# Get missing columns in the training test\n",
        "missing_cols = set( X_train.columns ) - set( X_test.columns )\n",
        "# Add a missing column in test set with default value equal to 0\n",
        "for c in missing_cols:\n",
        "    X_test[c] = 0\n",
        "# Ensure the order of column in the test set is in the same order than in train set\n",
        "X_test = X_test[X_train.columns]\n",
        "# This code also ensure that column resulting from category in the test dataset but not present in the training dataset will be removed\n",
        "\n",
        "\n",
        "\n",
        "regXGB = GridSearchCV(XGBRegressor(n_estimators=350, min_samples_leaf=1,max_depth=4, random_state=42),\n",
        "                   param_grid={\"n_estimators\":[100, 500, 1000, 2000],\n",
        "                                \"min_samples_leaf\":[10,30],\n",
        "                                  \"max_depth\":range(2,5)},\n",
        "                                    scoring=\"neg_mean_absolute_error\")\n",
        "\n",
        "regXGB.fit(X_train,y_train)\n",
        "\n",
        "print(regXGB.best_params_)\n",
        "print(\"Best score: {}\".format(regXGB.best_score_))\n",
        "\n",
        "\n",
        "# Compute train scores\n",
        "\n",
        "y_pred = regXGB.predict(X_train)\n",
        "\n",
        "r2_train = r2_score(y_train, y_pred)\n",
        "rmse_train = np.sqrt(mean_squared_error(y_train, y_pred))\n",
        "mae_train = mean_absolute_error(y_train, y_pred)\n",
        "r2_adjusted_train = 1 - (1-r2_score(y_train, y_pred))*(len(y_train)-1)/(len(y_train)-X_train.shape[1]-1)\n",
        "sd_train = std(y_train)\n",
        "\n",
        "print(\"R^2 train: {}\".format(r2_train))\n",
        "print(\"R^2 adjusted train: {}\".format(r2_adjusted_train))\n",
        "print(\"Mean Absolute Error train: {}\".format(mae_train))\n",
        "print(\"Root Mean Squared Error train: {}\".format(rmse_train)) \n",
        "print(\"Standard Deviation train: {}\".format(sd_train))  \n",
        "\n",
        "# Compute test scores\n",
        "\n",
        "y_pred = regXGB.predict(X_test)\n",
        "\n",
        "r2_test = r2_score(y_test, y_pred)\n",
        "rmse_test = np.sqrt(mean_squared_error(y_test, y_pred))\n",
        "mae_test = mean_absolute_error(y_test, y_pred)\n",
        "r2_adjusted_test = 1 - (1-r2_score(y_test, y_pred))*(len(y_test)-1)/(len(y_test)-X_test.shape[1]-1)\n",
        "sd_test = std(y_test)\n",
        "\n",
        "print(\"R^2 test: {}\".format(r2_test))\n",
        "print(\"R^2 adjusted test: {}\".format(r2_adjusted_test))\n",
        "print(\"Mean Absolute Error test: {}\".format(mae_test))\n",
        "print(\"Root Mean Squared Error test: {}\".format(rmse_test))\n",
        "print(\"Standard Deviation test: {}\".format(sd_test))  \n"
      ],
      "execution_count": 0,
      "outputs": [
        {
          "output_type": "stream",
          "text": [
            "/usr/local/lib/python3.6/dist-packages/sklearn/model_selection/_split.py:2053: FutureWarning: You should specify a value for 'cv' instead of relying on the default value. The default value will change from 3 to 5 in version 0.22.\n",
            "  warnings.warn(CV_WARNING, FutureWarning)\n"
          ],
          "name": "stderr"
        },
        {
          "output_type": "stream",
          "text": [
            "{'max_depth': 2, 'min_samples_leaf': 10, 'n_estimators': 500}\n",
            "Best score: -8.478115268402753\n",
            "R^2 train: 0.3783363410566375\n",
            "R^2 adjusted train: 0.3769392899419598\n",
            "Mean Absolute Error train: 7.981519507604723\n",
            "Root Mean Squared Error train: 11.679267022942094\n",
            "Standard Deviation train: PM10_0    14.812823\n",
            "dtype: float64\n",
            "R^2 test: 0.23909019501856432\n",
            "R^2 adjusted test: 0.23211157884384526\n",
            "Mean Absolute Error test: 6.95376437207906\n",
            "Root Mean Squared Error test: 9.37674210874117\n",
            "Standard Deviation test: PM10_0    10.749429\n",
            "dtype: float64\n"
          ],
          "name": "stdout"
        }
      ]
    },
    {
      "metadata": {
        "colab_type": "text",
        "id": "zF9wio5RBWQ2"
      },
      "cell_type": "markdown",
      "source": [
        "# PM10 forecasts 12 hours ahead"
      ]
    },
    {
      "metadata": {
        "colab_type": "code",
        "outputId": "db07a48d-ed0e-40b3-c14b-246650ec80be",
        "id": "mLQaa1ynBWQ3",
        "colab": {
          "base_uri": "https://localhost:8080/",
          "height": 221
        }
      },
      "cell_type": "code",
      "source": [
        "X_train = pyreadr.read_r(\"X_train_PM10_201401_201612_multivar.rds\")\n",
        "y_train = pyreadr.read_r(\"y_train_PM10_201401_201612_multivar.rds\")\n",
        "\n",
        "X_test = pyreadr.read_r(\"X_test_PM10_201701_201709_multivar.rds\")\n",
        "y_test = pyreadr.read_r(\"y_test_PM10_201701_201709_multivar.rds\")\n",
        "\n",
        "X_train = X_train[None]\n",
        "y_train = y_train[None]\n",
        "X_test = X_test[None]\n",
        "y_test = y_test[None]\n",
        "\n",
        "# We convert the 'hour' variable to string\n",
        "X_train.hour = X_train.hour.astype(str)\n",
        "X_test.hour = X_test.hour.astype(str)\n",
        "\n",
        "# We convert the 'week_day' variable to string\n",
        "X_train.week_day = X_train.week_day.astype(str)\n",
        "X_test.week_day = X_test.week_day.astype(str)\n",
        "\n",
        "# We convert the 'month' variable to string\n",
        "X_train.month = X_train.month.astype(str)\n",
        "X_test.month = X_test.month.astype(str)\n",
        "\n",
        "X_train = X_train[['PM10_13', 'PM10_14', 'PM10_15', 'PM10_16', 'PM10_22', 'PM10_23', 'PM10_24',\n",
        "                   'PM10_48', 'PM10_72', 'PM10_96', 'PM10_120', 'PM10_144', 'PM10_168', \n",
        "                   'no_lab_days', 'hour', 'week_day', 'month']]\n",
        "\n",
        "X_test = X_test[['PM10_13', 'PM10_14', 'PM10_15', 'PM10_16', 'PM10_22', 'PM10_23', 'PM10_24',\n",
        "                   'PM10_48', 'PM10_72', 'PM10_96', 'PM10_120', 'PM10_144', 'PM10_168', \n",
        "                   'no_lab_days', 'hour', 'week_day', 'month']]\n",
        "\n",
        "\n",
        "\n",
        "X_train = pd.get_dummies(X_train)\n",
        "X_test  = pd.get_dummies(X_test)\n",
        "\n",
        "\n",
        "# Al hacer el one hot encoding el X_train y el X_test tienen distintas dimensiones. X_train tiene 47 variables y X_test 44. Por que? Porque el dataset de test tiene solo 9 meses, de enero a septiembre, y entonces la variable month solo se convierte en 9 variables, mientras que el dataset tendriamos 12, los 12 meses del anho. \n",
        "# Con el siguiente codigo solucionamos el problema (falta referencia)\n",
        "\n",
        "# Get missing columns in the training test\n",
        "missing_cols = set( X_train.columns ) - set( X_test.columns )\n",
        "# Add a missing column in test set with default value equal to 0\n",
        "for c in missing_cols:\n",
        "    X_test[c] = 0\n",
        "# Ensure the order of column in the test set is in the same order than in train set\n",
        "X_test = X_test[X_train.columns]\n",
        "# This code also ensure that column resulting from category in the test dataset but not present in the training dataset will be removed\n",
        "\n",
        "\n",
        "\n",
        "regXGB = XGBRegressor(n_estimators=500, min_samples_leaf=10,max_depth=2, random_state=42)\n",
        "regXGB.fit(X_train,y_train)\n",
        "\n",
        "\n",
        "# Compute train scores\n",
        "\n",
        "y_pred = regXGB.predict(X_train)\n",
        "\n",
        "r2_train = r2_score(y_train, y_pred)\n",
        "rmse_train = np.sqrt(mean_squared_error(y_train, y_pred))\n",
        "mae_train = mean_absolute_error(y_train, y_pred)\n",
        "r2_adjusted_train = 1 - (1-r2_score(y_train, y_pred))*(len(y_train)-1)/(len(y_train)-X_train.shape[1]-1)\n",
        "sd_train = std(y_train)\n",
        "\n",
        "print(\"R^2 train: {}\".format(r2_train))\n",
        "print(\"R^2 adjusted train: {}\".format(r2_adjusted_train))\n",
        "print(\"Mean Absolute Error train: {}\".format(mae_train))\n",
        "print(\"Root Mean Squared Error train: {}\".format(rmse_train)) \n",
        "print(\"Standard Deviation train: {}\".format(sd_train))  \n",
        "\n",
        "# Compute test scores\n",
        "\n",
        "y_pred = regXGB.predict(X_test)\n",
        "\n",
        "r2_test = r2_score(y_test, y_pred)\n",
        "rmse_test = np.sqrt(mean_squared_error(y_test, y_pred))\n",
        "mae_test = mean_absolute_error(y_test, y_pred)\n",
        "r2_adjusted_test = 1 - (1-r2_score(y_test, y_pred))*(len(y_test)-1)/(len(y_test)-X_test.shape[1]-1)\n",
        "sd_test = std(y_test)\n",
        "\n",
        "print(\"R^2 test: {}\".format(r2_test))\n",
        "print(\"R^2 adjusted test: {}\".format(r2_adjusted_test))\n",
        "print(\"Mean Absolute Error test: {}\".format(mae_test))\n",
        "print(\"Root Mean Squared Error test: {}\".format(rmse_test))\n",
        "print(\"Standard Deviation test: {}\".format(sd_test))  \n"
      ],
      "execution_count": 0,
      "outputs": [
        {
          "output_type": "stream",
          "text": [
            "R^2 train: 0.32041246662544254\n",
            "R^2 adjusted train: 0.31888524445737243\n",
            "Mean Absolute Error train: 8.438354825714354\n",
            "Root Mean Squared Error train: 12.211262000309592\n",
            "Standard Deviation train: PM10_0    14.812823\n",
            "dtype: float64\n",
            "R^2 test: 0.1604743825300825\n",
            "R^2 adjusted test: 0.15277474846726546\n",
            "Mean Absolute Error test: 7.412786393608017\n",
            "Root Mean Squared Error test: 9.849231782931415\n",
            "Standard Deviation test: PM10_0    10.749429\n",
            "dtype: float64\n"
          ],
          "name": "stdout"
        }
      ]
    },
    {
      "metadata": {
        "id": "1hmir8FFAi6k",
        "colab_type": "code",
        "colab": {}
      },
      "cell_type": "code",
      "source": [
        ""
      ],
      "execution_count": 0,
      "outputs": []
    },
    {
      "metadata": {
        "colab_type": "text",
        "id": "WEwgalJwB2lw"
      },
      "cell_type": "markdown",
      "source": [
        "# PM10 forecasts 24 hours ahead"
      ]
    },
    {
      "metadata": {
        "colab_type": "code",
        "outputId": "e96a8342-c2a0-4ac6-830e-13ec64767568",
        "id": "ThpX0n9dB2lx",
        "colab": {
          "base_uri": "https://localhost:8080/",
          "height": 221
        }
      },
      "cell_type": "code",
      "source": [
        "X_train = pyreadr.read_r(\"X_train_PM10_201401_201612_multivar.rds\")\n",
        "y_train = pyreadr.read_r(\"y_train_PM10_201401_201612_multivar.rds\")\n",
        "\n",
        "X_test = pyreadr.read_r(\"X_test_PM10_201701_201709_multivar.rds\")\n",
        "y_test = pyreadr.read_r(\"y_test_PM10_201701_201709_multivar.rds\")\n",
        "\n",
        "X_train = X_train[None]\n",
        "y_train = y_train[None]\n",
        "X_test = X_test[None]\n",
        "y_test = y_test[None]\n",
        "\n",
        "# We convert the 'hour' variable to string\n",
        "X_train.hour = X_train.hour.astype(str)\n",
        "X_test.hour = X_test.hour.astype(str)\n",
        "\n",
        "# We convert the 'week_day' variable to string\n",
        "X_train.week_day = X_train.week_day.astype(str)\n",
        "X_test.week_day = X_test.week_day.astype(str)\n",
        "\n",
        "# We convert the 'month' variable to string\n",
        "X_train.month = X_train.month.astype(str)\n",
        "X_test.month = X_test.month.astype(str)\n",
        "\n",
        "X_train = X_train[['PM10_25', 'PM10_26', 'PM10_27', 'PM10_48', 'PM10_72', 'PM10_96', 'PM10_120', 'PM10_144', 'PM10_168', 'no_lab_days', 'hour','week_day', 'month']]\n",
        "X_test = X_test[['PM10_25', 'PM10_26', 'PM10_27', 'PM10_48', 'PM10_72', 'PM10_96', 'PM10_120', 'PM10_144', 'PM10_168', 'no_lab_days', 'hour', 'week_day', 'month']]\n",
        "\n",
        "\n",
        "\n",
        "X_train = pd.get_dummies(X_train)\n",
        "X_test  = pd.get_dummies(X_test)\n",
        "\n",
        "\n",
        "# Al hacer el one hot encoding el X_train y el X_test tienen distintas dimensiones. X_train tiene 47 variables y X_test 44. Por que? Porque el dataset de test tiene solo 9 meses, de enero a septiembre, y entonces la variable month solo se convierte en 9 variables, mientras que el dataset tendriamos 12, los 12 meses del anho. \n",
        "# Con el siguiente codigo solucionamos el problema (falta referencia)\n",
        "\n",
        "# Get missing columns in the training test\n",
        "missing_cols = set( X_train.columns ) - set( X_test.columns )\n",
        "# Add a missing column in test set with default value equal to 0\n",
        "for c in missing_cols:\n",
        "    X_test[c] = 0\n",
        "# Ensure the order of column in the test set is in the same order than in train set\n",
        "X_test = X_test[X_train.columns]\n",
        "# This code also ensure that column resulting from category in the test dataset but not present in the training dataset will be removed\n",
        "\n",
        "\n",
        "\n",
        "regXGB = XGBRegressor(n_estimators=500, min_samples_leaf=10,max_depth=2, random_state=42)\n",
        "regXGB.fit(X_train,y_train)\n",
        "\n",
        "\n",
        "# Compute train scores\n",
        "\n",
        "y_pred = regXGB.predict(X_train)\n",
        "\n",
        "r2_train = r2_score(y_train, y_pred)\n",
        "rmse_train = np.sqrt(mean_squared_error(y_train, y_pred))\n",
        "mae_train = mean_absolute_error(y_train, y_pred)\n",
        "r2_adjusted_train = 1 - (1-r2_score(y_train, y_pred))*(len(y_train)-1)/(len(y_train)-X_train.shape[1]-1)\n",
        "sd_train = std(y_train)\n",
        "\n",
        "print(\"R^2 train: {}\".format(r2_train))\n",
        "print(\"R^2 adjusted train: {}\".format(r2_adjusted_train))\n",
        "print(\"Mean Absolute Error train: {}\".format(mae_train))\n",
        "print(\"Root Mean Squared Error train: {}\".format(rmse_train)) \n",
        "print(\"Standard Deviation train: {}\".format(sd_train))  \n",
        "\n",
        "# Compute test scores\n",
        "\n",
        "y_pred = regXGB.predict(X_test)\n",
        "\n",
        "r2_test = r2_score(y_test, y_pred)\n",
        "rmse_test = np.sqrt(mean_squared_error(y_test, y_pred))\n",
        "mae_test = mean_absolute_error(y_test, y_pred)\n",
        "r2_adjusted_test = 1 - (1-r2_score(y_test, y_pred))*(len(y_test)-1)/(len(y_test)-X_test.shape[1]-1)\n",
        "sd_test = std(y_test)\n",
        "\n",
        "print(\"R^2 test: {}\".format(r2_test))\n",
        "print(\"R^2 adjusted test: {}\".format(r2_adjusted_test))\n",
        "print(\"Mean Absolute Error test: {}\".format(mae_test))\n",
        "print(\"Root Mean Squared Error test: {}\".format(rmse_test))\n",
        "print(\"Standard Deviation test: {}\".format(sd_test))  \n"
      ],
      "execution_count": 0,
      "outputs": [
        {
          "output_type": "stream",
          "text": [
            "R^2 train: 0.2756720236313138\n",
            "R^2 adjusted train: 0.2741567518409791\n",
            "Mean Absolute Error train: 8.774617302203806\n",
            "Root Mean Squared Error train: 12.60681783772796\n",
            "Standard Deviation train: PM10_0    14.812823\n",
            "dtype: float64\n",
            "R^2 test: 0.07826190549658962\n",
            "R^2 adjusted test: 0.0703962517192217\n",
            "Mean Absolute Error test: 7.881427475078497\n",
            "Root Mean Squared Error test: 10.320224620628093\n",
            "Standard Deviation test: PM10_0    10.749429\n",
            "dtype: float64\n"
          ],
          "name": "stdout"
        }
      ]
    },
    {
      "metadata": {
        "id": "057vF2jEQUfA",
        "colab_type": "code",
        "outputId": "a13a93e8-6b77-4e53-e7de-c00b8bb594aa",
        "colab": {
          "base_uri": "https://localhost:8080/",
          "height": 221
        }
      },
      "cell_type": "code",
      "source": [
        "X_train = pyreadr.read_r(\"X_train_PM10_201401_201612_multivar.rds\")\n",
        "y_train = pyreadr.read_r(\"y_train_PM10_201401_201612_multivar.rds\")\n",
        "\n",
        "X_test = pyreadr.read_r(\"X_test_PM10_201701_201709_multivar.rds\")\n",
        "y_test = pyreadr.read_r(\"y_test_PM10_201701_201709_multivar.rds\")\n",
        "\n",
        "X_train = X_train[None]\n",
        "y_train = y_train[None]\n",
        "X_test = X_test[None]\n",
        "y_test = y_test[None]\n",
        "\n",
        "# We convert the 'hour' variable to string\n",
        "X_train.hour = X_train.hour.astype(str)\n",
        "X_test.hour = X_test.hour.astype(str)\n",
        "\n",
        "# We convert the 'week_day' variable to string\n",
        "X_train.week_day = X_train.week_day.astype(str)\n",
        "X_test.week_day = X_test.week_day.astype(str)\n",
        "\n",
        "# We convert the 'month' variable to string\n",
        "X_train.month = X_train.month.astype(str)\n",
        "X_test.month = X_test.month.astype(str)\n",
        "\n",
        "\n",
        "X_train = pd.get_dummies(X_train)\n",
        "X_test  = pd.get_dummies(X_test)\n",
        "\n",
        "\n",
        "# Al hacer el one hot encoding el X_train y el X_test tienen distintas dimensiones. X_train tiene 47 variables y X_test 44. Por que? Porque el dataset de test tiene solo 9 meses, de enero a septiembre, y entonces la variable month solo se convierte en 9 variables, mientras que el dataset tendriamos 12, los 12 meses del anho. \n",
        "# Con el siguiente codigo solucionamos el problema (falta referencia)\n",
        "\n",
        "# Get missing columns in the training test\n",
        "missing_cols = set( X_train.columns ) - set( X_test.columns )\n",
        "# Add a missing column in test set with default value equal to 0\n",
        "for c in missing_cols:\n",
        "    X_test[c] = 0\n",
        "# Ensure the order of column in the test set is in the same order than in train set\n",
        "X_test = X_test[X_train.columns]\n",
        "# This code also ensure that column resulting from category in the test dataset but not present in the training dataset will be removed\n",
        "\n",
        "\n",
        "\n",
        "regXGB = XGBRegressor(n_estimators=500, min_samples_leaf=10,max_depth=2, random_state=42)\n",
        "regXGB.fit(X_train,y_train)\n",
        "\n",
        "\n",
        "# Compute train scores\n",
        "\n",
        "y_pred = regXGB.predict(X_train)\n",
        "\n",
        "r2_train = r2_score(y_train, y_pred)\n",
        "rmse_train = np.sqrt(mean_squared_error(y_train, y_pred))\n",
        "mae_train = mean_absolute_error(y_train, y_pred)\n",
        "r2_adjusted_train = 1 - (1-r2_score(y_train, y_pred))*(len(y_train)-1)/(len(y_train)-X_train.shape[1]-1)\n",
        "sd_train = std(y_train)\n",
        "\n",
        "print(\"R^2 train: {}\".format(r2_train))\n",
        "print(\"R^2 adjusted train: {}\".format(r2_adjusted_train))\n",
        "print(\"Mean Absolute Error train: {}\".format(mae_train))\n",
        "print(\"Root Mean Squared Error train: {}\".format(rmse_train)) \n",
        "print(\"Standard Deviation train: {}\".format(sd_train))  \n",
        "\n",
        "# Compute test scores\n",
        "\n",
        "y_pred = regXGB.predict(X_test)\n",
        "\n",
        "r2_test = r2_score(y_test, y_pred)\n",
        "rmse_test = np.sqrt(mean_squared_error(y_test, y_pred))\n",
        "mae_test = mean_absolute_error(y_test, y_pred)\n",
        "r2_adjusted_test = 1 - (1-r2_score(y_test, y_pred))*(len(y_test)-1)/(len(y_test)-X_test.shape[1]-1)\n",
        "sd_test = std(y_test)\n",
        "\n",
        "print(\"R^2 test: {}\".format(r2_test))\n",
        "print(\"R^2 adjusted test: {}\".format(r2_adjusted_test))\n",
        "print(\"Mean Absolute Error test: {}\".format(mae_test))\n",
        "print(\"Root Mean Squared Error test: {}\".format(rmse_test))\n",
        "print(\"Standard Deviation test: {}\".format(sd_test))  "
      ],
      "execution_count": 0,
      "outputs": [
        {
          "output_type": "stream",
          "text": [
            "R^2 train: 0.693806737178493\n",
            "R^2 adjusted train: 0.6923079472668536\n",
            "Mean Absolute Error train: 5.3003355651592825\n",
            "Root Mean Squared Error train: 8.19663626189891\n",
            "Standard Deviation train: PM10_0    14.812823\n",
            "dtype: float64\n",
            "R^2 test: 0.6134122295461306\n",
            "R^2 adjusted test: 0.6056260947831531\n",
            "Mean Absolute Error test: 4.747758221720315\n",
            "Root Mean Squared Error test: 6.683584405600813\n",
            "Standard Deviation test: PM10_0    10.749429\n",
            "dtype: float64\n"
          ],
          "name": "stdout"
        }
      ]
    },
    {
      "metadata": {
        "colab_type": "text",
        "id": "EAIvYkapIU_T"
      },
      "cell_type": "markdown",
      "source": [
        "#### XGBOOST"
      ]
    },
    {
      "metadata": {
        "id": "zG2lg56XIWQ5",
        "colab_type": "text"
      },
      "cell_type": "markdown",
      "source": [
        "All variables"
      ]
    },
    {
      "metadata": {
        "colab_type": "code",
        "outputId": "1adc62b4-a64b-4c65-c99c-9b6035ce6a07",
        "id": "UyiU3rpkIU_T",
        "colab": {
          "base_uri": "https://localhost:8080/",
          "height": 221
        }
      },
      "cell_type": "code",
      "source": [
        "X_train = pyreadr.read_r(\"X_train_PM10_201401_201612_multivar.rds\")\n",
        "y_train = pyreadr.read_r(\"y_train_PM10_201401_201612_multivar.rds\")\n",
        "\n",
        "X_test = pyreadr.read_r(\"X_test_PM10_201701_201709_multivar.rds\")\n",
        "y_test = pyreadr.read_r(\"y_test_PM10_201701_201709_multivar.rds\")\n",
        "\n",
        "X_train = X_train[None]\n",
        "y_train = y_train[None]\n",
        "X_test = X_test[None]\n",
        "y_test = y_test[None]\n",
        "\n",
        "# We convert the 'hour' variable to string\n",
        "X_train.hour = X_train.hour.astype(str)\n",
        "X_test.hour = X_test.hour.astype(str)\n",
        "\n",
        "# We convert the 'week_day' variable to string\n",
        "X_train.week_day = X_train.week_day.astype(str)\n",
        "X_test.week_day = X_test.week_day.astype(str)\n",
        "\n",
        "# We convert the 'month' variable to string\n",
        "X_train.month = X_train.month.astype(str)\n",
        "X_test.month = X_test.month.astype(str)\n",
        "\n",
        "\n",
        "X_train = pd.get_dummies(X_train)\n",
        "X_test  = pd.get_dummies(X_test)\n",
        "\n",
        "\n",
        "# Al hacer el one hot encoding el X_train y el X_test tienen distintas dimensiones. X_train tiene 47 variables y X_test 44. Por que? Porque el dataset de test tiene solo 9 meses, de enero a septiembre, y entonces la variable month solo se convierte en 9 variables, mientras que el dataset tendriamos 12, los 12 meses del anho. \n",
        "# Con el siguiente codigo solucionamos el problema (falta referencia)\n",
        "\n",
        "# Get missing columns in the training test\n",
        "missing_cols = set( X_train.columns ) - set( X_test.columns )\n",
        "# Add a missing column in test set with default value equal to 0\n",
        "for c in missing_cols:\n",
        "    X_test[c] = 0\n",
        "# Ensure the order of column in the test set is in the same order than in train set\n",
        "X_test = X_test[X_train.columns]\n",
        "# This code also ensure that column resulting from category in the test dataset but not present in the training dataset will be removed\n",
        "\n",
        "\n",
        "\n",
        "regXGB = XGBRegressor(n_estimators=500, min_samples_leaf=10,max_depth=2, random_state=42)\n",
        "regXGB.fit(X_train,y_train)\n",
        "\n",
        "\n",
        "# Compute train scores\n",
        "\n",
        "y_pred = regXGB.predict(X_train)\n",
        "\n",
        "r2_train = r2_score(y_train, y_pred)\n",
        "rmse_train = np.sqrt(mean_squared_error(y_train, y_pred))\n",
        "mae_train = mean_absolute_error(y_train, y_pred)\n",
        "r2_adjusted_train = 1 - (1-r2_score(y_train, y_pred))*(len(y_train)-1)/(len(y_train)-X_train.shape[1]-1)\n",
        "sd_train = std(y_train)\n",
        "\n",
        "print(\"R^2 train: {}\".format(r2_train))\n",
        "print(\"R^2 adjusted train: {}\".format(r2_adjusted_train))\n",
        "print(\"Mean Absolute Error train: {}\".format(mae_train))\n",
        "print(\"Root Mean Squared Error train: {}\".format(rmse_train)) \n",
        "print(\"Standard Deviation train: {}\".format(sd_train))  \n",
        "\n",
        "# Compute test scores\n",
        "\n",
        "y_pred = regXGB.predict(X_test)\n",
        "\n",
        "r2_test = r2_score(y_test, y_pred)\n",
        "rmse_test = np.sqrt(mean_squared_error(y_test, y_pred))\n",
        "mae_test = mean_absolute_error(y_test, y_pred)\n",
        "r2_adjusted_test = 1 - (1-r2_score(y_test, y_pred))*(len(y_test)-1)/(len(y_test)-X_test.shape[1]-1)\n",
        "sd_test = std(y_test)\n",
        "\n",
        "print(\"R^2 test: {}\".format(r2_test))\n",
        "print(\"R^2 adjusted test: {}\".format(r2_adjusted_test))\n",
        "print(\"Mean Absolute Error test: {}\".format(mae_test))\n",
        "print(\"Root Mean Squared Error test: {}\".format(rmse_test))\n",
        "print(\"Standard Deviation test: {}\".format(sd_test))  \n"
      ],
      "execution_count": 0,
      "outputs": [
        {
          "output_type": "stream",
          "text": [
            "R^2 train: 0.693806737178493\n",
            "R^2 adjusted train: 0.6923079472668536\n",
            "Mean Absolute Error train: 5.3003355651592825\n",
            "Root Mean Squared Error train: 8.19663626189891\n",
            "Standard Deviation train: PM10_0    14.812823\n",
            "dtype: float64\n",
            "R^2 test: 0.6134122295461306\n",
            "R^2 adjusted test: 0.6056260947831531\n",
            "Mean Absolute Error test: 4.747758221720315\n",
            "Root Mean Squared Error test: 6.683584405600813\n",
            "Standard Deviation test: PM10_0    10.749429\n",
            "dtype: float64\n"
          ],
          "name": "stdout"
        }
      ]
    },
    {
      "metadata": {
        "id": "XaX3XeFypGp6",
        "colab_type": "code",
        "colab": {}
      },
      "cell_type": "code",
      "source": [
        ""
      ],
      "execution_count": 0,
      "outputs": []
    },
    {
      "metadata": {
        "id": "x5TRey4ApGtj",
        "colab_type": "code",
        "colab": {}
      },
      "cell_type": "code",
      "source": [
        ""
      ],
      "execution_count": 0,
      "outputs": []
    },
    {
      "metadata": {
        "id": "pD8VgDkmsIZd",
        "colab_type": "text"
      },
      "cell_type": "markdown",
      "source": [
        "\n",
        "# **Mejores resultados antes de este notebook**\n",
        "Resultados XGBoost con los siguientes parametros (y con hour, month y weekday)\n",
        "\n",
        "regXGB = GridSearchCV(XGBRegressor(n_estimators=100, min_samples_leaf=1,max_depth=4),\n",
        "                   param_grid={\"min_samples_leaf\":[10,20,30,40,70,100],\n",
        "                              \"max_depth\":range(2,10)},\n",
        "                   scoring=\"neg_mean_squared_error\")\n",
        "                   \n",
        "  Mejores parametros {'max_depth': 3, 'min_samples_leaf': 10}\n",
        "  \n",
        "  Train\n",
        "  \n",
        "R2 = 0.6500857644451381\n",
        "rmse =  8.861409992242404\n",
        "\n",
        " Test\n",
        "  \n",
        "R2 = 0.6122589338516852\n",
        "rmse =  6.804600716948688\n",
        "\n",
        "Es el mejor R2 que he obtenido hasta ahora. Pero todavía se me antoja muy bajo. Y sobre todo un rmse muy alto. \n",
        "                   \n",
        "                   \n",
        "Si subimos los n estimators a 350 mejora un poco el resultado en test, a partir de ahi empieza a empeorar (overfitting). Pendiente hacer un grafico con la evolucion del R2 segun vamos variando el numero de estimators.\n",
        "\n",
        "Esto lo he hecho con los mejores parametros elegidos por gridsearchcv. Habria que combinar las tres variables en un gridsearch?\n",
        " "
      ]
    },
    {
      "metadata": {
        "id": "Qm3HqmdVlYV6",
        "colab_type": "text"
      },
      "cell_type": "markdown",
      "source": [
        "**Resultados de este notebook**\n",
        "\n",
        "Me quedo con xgboost. \n",
        "Incluir variables lagged de no2 y so2 para mejorar el modelo de pm10\n",
        "\n",
        "Pues obtengo peores resultados\n",
        "\n",
        "Resultados en train\n",
        "\n",
        "0.6999916104541364\n",
        "\n",
        "0.6993441272715504\n",
        "\n",
        "8.199388923966012\n",
        "\n",
        "Resultados en test\n",
        "\n",
        "0.6064956206343766\n",
        "\n",
        "0.6031155267931912\n",
        "\n",
        "6.862638536821753\n",
        "\n",
        "\n",
        "Incluyo tambien los niveles del O3. Mejora un poquito, muy poco.\n",
        "\n",
        "En este caso en train sube\n",
        "\n",
        "0.7105443286766205\n",
        "\n",
        "0.7098740820279518\n",
        "\n",
        "8.053892316950074\n",
        "\n",
        "\n",
        "Test\n",
        "\n",
        "0.6082040880935934\n",
        "\n",
        "0.604591655088049\n",
        "\n",
        "6.84772466415434\n",
        "\n",
        "Al introducir la variable lab (sin o3 )tampoco se mueve mucho\n",
        "\n",
        "Train\n",
        "\n",
        "0.7010470857165632\n",
        "\n",
        "0.7003784709431913\n",
        "\n",
        "8.184354312220824\n",
        "\n",
        "Test\n",
        "\n",
        "0.6053976949516295\n",
        "\n",
        "0.6018925786375019\n",
        "\n",
        "6.867154043380078\n",
        "\n",
        "### Al incluir la variable vv (fuerza viento) el modelo mejora un poco\n",
        "\n",
        "Train\n",
        "\n",
        "0.7075842640028696\n",
        "\n",
        "0.7068842655766931\n",
        "\n",
        "8.094376414198711\n",
        "\n",
        "Test\n",
        "\n",
        "0.6152870917971485\n",
        "\n",
        "0.6116277299695523\n",
        "\n",
        "6.780556822850893\n",
        "\n",
        "### Al incluir la variable wd (direcci'on viento) el modelo mejora otro poco (mas en train que en test)\n",
        "\n",
        "Train\n",
        "\n",
        "0.7115234312666878\n",
        "\n",
        "0.7101047684650643\n",
        "\n",
        "8.039671399926052\n",
        "\n",
        "Test\n",
        "\n",
        "0.6194624718864719\n",
        "\n",
        "0.6119703958092643\n",
        "\n",
        "6.743660947199181\n",
        "\n",
        "### Incluimos el valor de pm10 de una hora menos de la estacion Argentina, mas proxima a los focos de contaminacion industrial\n",
        "Mejora un poco mas\n",
        "\n",
        "Train\n",
        "\n",
        "0.718860331470167\n",
        "\n",
        "0.7174579165592537\n",
        "\n",
        "7.93632092440623\n",
        "\n",
        "Test\n",
        "\n",
        "0.6204075122922108\n",
        "\n",
        "0.6128144572912294\n",
        "\n",
        "6.731793806147569\n",
        "\n",
        "### Al incluir el pm25 t-1 empeoramos el modelo\n",
        "\n",
        "0.7158746433859251\n",
        "0.7144418889570989\n",
        "7.984338653641078\n",
        "\n",
        "0.6147745549714891\n",
        "0.6070051994817923\n",
        "6.781618222268876"
      ]
    },
    {
      "metadata": {
        "id": "E9AhcDYHL2po",
        "colab_type": "code",
        "outputId": "c8df06b4-9649-4e6b-ff21-5db6b01eeb0c",
        "colab": {
          "base_uri": "https://localhost:8080/",
          "height": 122
        }
      },
      "cell_type": "code",
      "source": [
        "from google.colab import drive\n",
        "drive.mount('/content/gdrive')"
      ],
      "execution_count": 0,
      "outputs": [
        {
          "output_type": "stream",
          "text": [
            "Go to this URL in a browser: https://accounts.google.com/o/oauth2/auth?client_id=947318989803-6bn6qk8qdgf4n4g3pfee6491hc0brc4i.apps.googleusercontent.com&redirect_uri=urn%3Aietf%3Awg%3Aoauth%3A2.0%3Aoob&scope=email%20https%3A%2F%2Fwww.googleapis.com%2Fauth%2Fdocs.test%20https%3A%2F%2Fwww.googleapis.com%2Fauth%2Fdrive%20https%3A%2F%2Fwww.googleapis.com%2Fauth%2Fdrive.photos.readonly%20https%3A%2F%2Fwww.googleapis.com%2Fauth%2Fpeopleapi.readonly&response_type=code\n",
            "\n",
            "Enter your authorization code:\n",
            "··········\n",
            "Mounted at /content/gdrive\n"
          ],
          "name": "stdout"
        }
      ]
    },
    {
      "metadata": {
        "id": "nCZfW3gPlYeZ",
        "colab_type": "text"
      },
      "cell_type": "markdown",
      "source": [
        ""
      ]
    },
    {
      "metadata": {
        "id": "HTQybrUgNcwE",
        "colab_type": "code",
        "outputId": "fb2f5c56-1e3d-42b2-cb02-0726231ef6fe",
        "colab": {
          "base_uri": "https://localhost:8080/",
          "height": 34
        }
      },
      "cell_type": "code",
      "source": [
        "with open('/content/gdrive/My Drive/foo.txt', 'w') as f:\n",
        "  f.write('Hello Google Drive!')\n",
        "!cat /content/gdrive/My\\ Drive/foo.txt"
      ],
      "execution_count": 0,
      "outputs": [
        {
          "output_type": "stream",
          "text": [
            "Hello Google Drive!"
          ],
          "name": "stdout"
        }
      ]
    },
    {
      "metadata": {
        "colab_type": "code",
        "id": "AO5YerXkLhmX",
        "outputId": "6bf0159e-a790-4ea2-b685-474a9352c5da",
        "colab": {
          "base_uri": "https://localhost:8080/",
          "height": 34
        }
      },
      "cell_type": "code",
      "source": [
        "%pylab inline\n",
        "import pandas as pd"
      ],
      "execution_count": 0,
      "outputs": [
        {
          "output_type": "stream",
          "text": [
            "Populating the interactive namespace from numpy and matplotlib\n"
          ],
          "name": "stdout"
        }
      ]
    },
    {
      "metadata": {
        "id": "6MwdXIIoKJ1t",
        "colab_type": "text"
      },
      "cell_type": "markdown",
      "source": [
        "We upload the train and test data"
      ]
    },
    {
      "metadata": {
        "colab_type": "code",
        "outputId": "9726e6d8-8421-4a9f-eb8f-60b01e52aebc",
        "id": "SWHZXA-kLl8M",
        "colab": {
          "resources": {
            "http://localhost:8080/nbextensions/google.colab/files.js": {
              "data": "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",
              "ok": true,
              "headers": [
                [
                  "content-type",
                  "application/javascript"
                ]
              ],
              "status": 200,
              "status_text": ""
            }
          },
          "base_uri": "https://localhost:8080/",
          "height": 246
        }
      },
      "cell_type": "code",
      "source": [
        "from google.colab import files\n",
        "\n",
        "uploaded = files.upload()\n",
        "\n",
        "for fn in uploaded.keys():\n",
        "  print('User uploaded file \"{name}\" with length {length} bytes'.format(\n",
        "      name=fn, length=len(uploaded[fn])))"
      ],
      "execution_count": 0,
      "outputs": [
        {
          "output_type": "display_data",
          "data": {
            "text/html": [
              "\n",
              "     <input type=\"file\" id=\"files-ab7acfa0-e822-4c43-a881-a5f46eb24391\" name=\"files[]\" multiple disabled />\n",
              "     <output id=\"result-ab7acfa0-e822-4c43-a881-a5f46eb24391\">\n",
              "      Upload widget is only available when the cell has been executed in the\n",
              "      current browser session. Please rerun this cell to enable.\n",
              "      </output>\n",
              "      <script src=\"/nbextensions/google.colab/files.js\"></script> "
            ],
            "text/plain": [
              "<IPython.core.display.HTML object>"
            ]
          },
          "metadata": {
            "tags": []
          }
        },
        {
          "output_type": "stream",
          "text": [
            "Saving X_test_201701_201709.csv to X_test_201701_201709.csv\n",
            "Saving y_test_201701_201709.csv to y_test_201701_201709.csv\n",
            "Saving X_train_2014_2016.csv to X_train_2014_2016.csv\n",
            "Saving y_train_2014_2016.csv to y_train_2014_2016.csv\n",
            "User uploaded file \"X_test_201701_201709.csv\" with length 513161 bytes\n",
            "User uploaded file \"y_test_201701_201709.csv\" with length 18546 bytes\n",
            "User uploaded file \"X_train_2014_2016.csv\" with length 2025029 bytes\n",
            "User uploaded file \"y_train_2014_2016.csv\" with length 73801 bytes\n"
          ],
          "name": "stdout"
        }
      ]
    },
    {
      "metadata": {
        "id": "XxicacGTIgGB",
        "colab_type": "code",
        "outputId": "18fe4d46-1d12-4cee-82e2-f475c35b99c5",
        "colab": {
          "base_uri": "https://localhost:8080/",
          "height": 51
        }
      },
      "cell_type": "code",
      "source": [
        "!ls"
      ],
      "execution_count": 0,
      "outputs": [
        {
          "output_type": "stream",
          "text": [
            "gdrive\t     X_test_201701_201709_6h.csv  y_test_201701_201709_6h.csv\n",
            "sample_data  X_train_2014_2016_6h.csv\t  y_train_2014_2016_6h.csv\n"
          ],
          "name": "stdout"
        }
      ]
    },
    {
      "metadata": {
        "id": "CD1rMfVqXxY0",
        "colab_type": "code",
        "outputId": "bdf9e921-636a-4817-b372-114bc7fad974",
        "colab": {
          "base_uri": "https://localhost:8080/",
          "height": 34
        }
      },
      "cell_type": "code",
      "source": [
        " !rm *.csv*"
      ],
      "execution_count": 0,
      "outputs": [
        {
          "output_type": "stream",
          "text": [
            "rm: cannot remove '*.csv*': No such file or directory\n"
          ],
          "name": "stdout"
        }
      ]
    },
    {
      "metadata": {
        "id": "nVKFCFtVKR6B",
        "colab_type": "code",
        "colab": {}
      },
      "cell_type": "code",
      "source": [
        "#X_train = pd.read_csv(\"X_train_lite.csv\")\n",
        "#y_train = pd.read_csv(\"y_train_lite.csv\")\n",
        "\n",
        "X_train = pd.read_csv(\"X_train_2014_2016.csv\")\n",
        "y_train = pd.read_csv(\"y_train_2014_2016.csv\")\n",
        "\n",
        "#X_train = pd.read_csv(\"X_train_2009_2016.csv\")\n",
        "#y_train = pd.read_csv(\"y_train_2009_2016.csv\")\n",
        "\n",
        "X_test = pd.read_csv(\"X_test_201701_201709.csv\")\n",
        "y_test = pd.read_csv(\"y_test_201701_201709.csv\")\n",
        "\n",
        "#X_test = pd.read_csv(\"X_test.csv\")\n",
        "#y_test = pd.read_csv(\"y_test.csv\")"
      ],
      "execution_count": 0,
      "outputs": []
    },
    {
      "metadata": {
        "id": "jzcUyy0tKINw",
        "colab_type": "code",
        "outputId": "5cbaad41-2972-4072-b644-67b4c19b811c",
        "colab": {
          "base_uri": "https://localhost:8080/",
          "height": 255
        }
      },
      "cell_type": "code",
      "source": [
        "X_train.head()"
      ],
      "execution_count": 0,
      "outputs": [
        {
          "output_type": "execute_result",
          "data": {
            "text/html": [
              "<div>\n",
              "<style scoped>\n",
              "    .dataframe tbody tr th:only-of-type {\n",
              "        vertical-align: middle;\n",
              "    }\n",
              "\n",
              "    .dataframe tbody tr th {\n",
              "        vertical-align: top;\n",
              "    }\n",
              "\n",
              "    .dataframe thead th {\n",
              "        text-align: right;\n",
              "    }\n",
              "</style>\n",
              "<table border=\"1\" class=\"dataframe\">\n",
              "  <thead>\n",
              "    <tr style=\"text-align: right;\">\n",
              "      <th></th>\n",
              "      <th>PM10_1_arg</th>\n",
              "      <th>hour</th>\n",
              "      <th>week_day</th>\n",
              "      <th>month</th>\n",
              "      <th>lab</th>\n",
              "      <th>PM10_1</th>\n",
              "      <th>PM10_2</th>\n",
              "      <th>PM10_3</th>\n",
              "      <th>PM10_4</th>\n",
              "      <th>NO2_1</th>\n",
              "      <th>...</th>\n",
              "      <th>SO2_4</th>\n",
              "      <th>vv_1</th>\n",
              "      <th>vv_2</th>\n",
              "      <th>vv_3</th>\n",
              "      <th>vv_4</th>\n",
              "      <th>wd_1</th>\n",
              "      <th>wd_2</th>\n",
              "      <th>wd_3</th>\n",
              "      <th>wd_4</th>\n",
              "      <th>PM25_1</th>\n",
              "    </tr>\n",
              "  </thead>\n",
              "  <tbody>\n",
              "    <tr>\n",
              "      <th>0</th>\n",
              "      <td>18</td>\n",
              "      <td>4</td>\n",
              "      <td>3</td>\n",
              "      <td>1</td>\n",
              "      <td>no_lab</td>\n",
              "      <td>21</td>\n",
              "      <td>16</td>\n",
              "      <td>20</td>\n",
              "      <td>22</td>\n",
              "      <td>29</td>\n",
              "      <td>...</td>\n",
              "      <td>2</td>\n",
              "      <td>0.11</td>\n",
              "      <td>0.10</td>\n",
              "      <td>0.17</td>\n",
              "      <td>0.23</td>\n",
              "      <td>SSW</td>\n",
              "      <td>SSE</td>\n",
              "      <td>WS</td>\n",
              "      <td>S</td>\n",
              "      <td>17</td>\n",
              "    </tr>\n",
              "    <tr>\n",
              "      <th>1</th>\n",
              "      <td>19</td>\n",
              "      <td>5</td>\n",
              "      <td>3</td>\n",
              "      <td>1</td>\n",
              "      <td>no_lab</td>\n",
              "      <td>14</td>\n",
              "      <td>21</td>\n",
              "      <td>16</td>\n",
              "      <td>20</td>\n",
              "      <td>20</td>\n",
              "      <td>...</td>\n",
              "      <td>3</td>\n",
              "      <td>0.10</td>\n",
              "      <td>0.11</td>\n",
              "      <td>0.10</td>\n",
              "      <td>0.17</td>\n",
              "      <td>SE</td>\n",
              "      <td>SSW</td>\n",
              "      <td>SSE</td>\n",
              "      <td>WS</td>\n",
              "      <td>10</td>\n",
              "    </tr>\n",
              "    <tr>\n",
              "      <th>2</th>\n",
              "      <td>15</td>\n",
              "      <td>6</td>\n",
              "      <td>3</td>\n",
              "      <td>1</td>\n",
              "      <td>no_lab</td>\n",
              "      <td>14</td>\n",
              "      <td>14</td>\n",
              "      <td>21</td>\n",
              "      <td>16</td>\n",
              "      <td>23</td>\n",
              "      <td>...</td>\n",
              "      <td>2</td>\n",
              "      <td>0.11</td>\n",
              "      <td>0.10</td>\n",
              "      <td>0.11</td>\n",
              "      <td>0.10</td>\n",
              "      <td>SW</td>\n",
              "      <td>SE</td>\n",
              "      <td>SSW</td>\n",
              "      <td>SSE</td>\n",
              "      <td>16</td>\n",
              "    </tr>\n",
              "    <tr>\n",
              "      <th>3</th>\n",
              "      <td>9</td>\n",
              "      <td>7</td>\n",
              "      <td>3</td>\n",
              "      <td>1</td>\n",
              "      <td>no_lab</td>\n",
              "      <td>12</td>\n",
              "      <td>14</td>\n",
              "      <td>14</td>\n",
              "      <td>21</td>\n",
              "      <td>23</td>\n",
              "      <td>...</td>\n",
              "      <td>2</td>\n",
              "      <td>0.10</td>\n",
              "      <td>0.11</td>\n",
              "      <td>0.10</td>\n",
              "      <td>0.11</td>\n",
              "      <td>SSW</td>\n",
              "      <td>SW</td>\n",
              "      <td>SE</td>\n",
              "      <td>SSW</td>\n",
              "      <td>17</td>\n",
              "    </tr>\n",
              "    <tr>\n",
              "      <th>4</th>\n",
              "      <td>8</td>\n",
              "      <td>8</td>\n",
              "      <td>3</td>\n",
              "      <td>1</td>\n",
              "      <td>no_lab</td>\n",
              "      <td>9</td>\n",
              "      <td>12</td>\n",
              "      <td>14</td>\n",
              "      <td>14</td>\n",
              "      <td>20</td>\n",
              "      <td>...</td>\n",
              "      <td>2</td>\n",
              "      <td>0.91</td>\n",
              "      <td>0.10</td>\n",
              "      <td>0.11</td>\n",
              "      <td>0.10</td>\n",
              "      <td>SE</td>\n",
              "      <td>SSW</td>\n",
              "      <td>SW</td>\n",
              "      <td>SE</td>\n",
              "      <td>16</td>\n",
              "    </tr>\n",
              "  </tbody>\n",
              "</table>\n",
              "<p>5 rows × 26 columns</p>\n",
              "</div>"
            ],
            "text/plain": [
              "   PM10_1_arg  hour  week_day  month     lab  PM10_1  PM10_2  PM10_3  PM10_4  \\\n",
              "0          18     4         3      1  no_lab      21      16      20      22   \n",
              "1          19     5         3      1  no_lab      14      21      16      20   \n",
              "2          15     6         3      1  no_lab      14      14      21      16   \n",
              "3           9     7         3      1  no_lab      12      14      14      21   \n",
              "4           8     8         3      1  no_lab       9      12      14      14   \n",
              "\n",
              "   NO2_1   ...    SO2_4  vv_1  vv_2  vv_3  vv_4  wd_1  wd_2  wd_3  wd_4  \\\n",
              "0     29   ...        2  0.11  0.10  0.17  0.23   SSW   SSE    WS     S   \n",
              "1     20   ...        3  0.10  0.11  0.10  0.17    SE   SSW   SSE    WS   \n",
              "2     23   ...        2  0.11  0.10  0.11  0.10    SW    SE   SSW   SSE   \n",
              "3     23   ...        2  0.10  0.11  0.10  0.11   SSW    SW    SE   SSW   \n",
              "4     20   ...        2  0.91  0.10  0.11  0.10    SE   SSW    SW    SE   \n",
              "\n",
              "   PM25_1  \n",
              "0      17  \n",
              "1      10  \n",
              "2      16  \n",
              "3      17  \n",
              "4      16  \n",
              "\n",
              "[5 rows x 26 columns]"
            ]
          },
          "metadata": {
            "tags": []
          },
          "execution_count": 101
        }
      ]
    },
    {
      "metadata": {
        "id": "j0X1VH_86kzj",
        "colab_type": "code",
        "outputId": "9ddae8e5-b633-4464-f93a-be9b8cd4418d",
        "colab": {
          "base_uri": "https://localhost:8080/",
          "height": 255
        }
      },
      "cell_type": "code",
      "source": [
        "X_test.head()"
      ],
      "execution_count": 0,
      "outputs": [
        {
          "output_type": "execute_result",
          "data": {
            "text/html": [
              "<div>\n",
              "<style scoped>\n",
              "    .dataframe tbody tr th:only-of-type {\n",
              "        vertical-align: middle;\n",
              "    }\n",
              "\n",
              "    .dataframe tbody tr th {\n",
              "        vertical-align: top;\n",
              "    }\n",
              "\n",
              "    .dataframe thead th {\n",
              "        text-align: right;\n",
              "    }\n",
              "</style>\n",
              "<table border=\"1\" class=\"dataframe\">\n",
              "  <thead>\n",
              "    <tr style=\"text-align: right;\">\n",
              "      <th></th>\n",
              "      <th>PM10_1_arg</th>\n",
              "      <th>hour</th>\n",
              "      <th>week_day</th>\n",
              "      <th>month</th>\n",
              "      <th>lab</th>\n",
              "      <th>PM10_1</th>\n",
              "      <th>PM10_2</th>\n",
              "      <th>PM10_3</th>\n",
              "      <th>PM10_4</th>\n",
              "      <th>NO2_1</th>\n",
              "      <th>...</th>\n",
              "      <th>SO2_4</th>\n",
              "      <th>vv_1</th>\n",
              "      <th>vv_2</th>\n",
              "      <th>vv_3</th>\n",
              "      <th>vv_4</th>\n",
              "      <th>wd_1</th>\n",
              "      <th>wd_2</th>\n",
              "      <th>wd_3</th>\n",
              "      <th>wd_4</th>\n",
              "      <th>PM25_1</th>\n",
              "    </tr>\n",
              "  </thead>\n",
              "  <tbody>\n",
              "    <tr>\n",
              "      <th>0</th>\n",
              "      <td>42</td>\n",
              "      <td>4</td>\n",
              "      <td>7</td>\n",
              "      <td>1</td>\n",
              "      <td>no_lab</td>\n",
              "      <td>36</td>\n",
              "      <td>35</td>\n",
              "      <td>38</td>\n",
              "      <td>46</td>\n",
              "      <td>40</td>\n",
              "      <td>...</td>\n",
              "      <td>3</td>\n",
              "      <td>0.10</td>\n",
              "      <td>0.11</td>\n",
              "      <td>0.11</td>\n",
              "      <td>0.10</td>\n",
              "      <td>WNW</td>\n",
              "      <td>W</td>\n",
              "      <td>W</td>\n",
              "      <td>SSW</td>\n",
              "      <td>24</td>\n",
              "    </tr>\n",
              "    <tr>\n",
              "      <th>1</th>\n",
              "      <td>42</td>\n",
              "      <td>5</td>\n",
              "      <td>7</td>\n",
              "      <td>1</td>\n",
              "      <td>no_lab</td>\n",
              "      <td>31</td>\n",
              "      <td>36</td>\n",
              "      <td>35</td>\n",
              "      <td>38</td>\n",
              "      <td>39</td>\n",
              "      <td>...</td>\n",
              "      <td>3</td>\n",
              "      <td>0.11</td>\n",
              "      <td>0.10</td>\n",
              "      <td>0.11</td>\n",
              "      <td>0.11</td>\n",
              "      <td>W</td>\n",
              "      <td>WNW</td>\n",
              "      <td>W</td>\n",
              "      <td>W</td>\n",
              "      <td>32</td>\n",
              "    </tr>\n",
              "    <tr>\n",
              "      <th>2</th>\n",
              "      <td>38</td>\n",
              "      <td>6</td>\n",
              "      <td>7</td>\n",
              "      <td>1</td>\n",
              "      <td>no_lab</td>\n",
              "      <td>22</td>\n",
              "      <td>31</td>\n",
              "      <td>36</td>\n",
              "      <td>35</td>\n",
              "      <td>37</td>\n",
              "      <td>...</td>\n",
              "      <td>5</td>\n",
              "      <td>0.12</td>\n",
              "      <td>0.11</td>\n",
              "      <td>0.10</td>\n",
              "      <td>0.11</td>\n",
              "      <td>WNW</td>\n",
              "      <td>W</td>\n",
              "      <td>WNW</td>\n",
              "      <td>W</td>\n",
              "      <td>21</td>\n",
              "    </tr>\n",
              "    <tr>\n",
              "      <th>3</th>\n",
              "      <td>41</td>\n",
              "      <td>7</td>\n",
              "      <td>7</td>\n",
              "      <td>1</td>\n",
              "      <td>no_lab</td>\n",
              "      <td>32</td>\n",
              "      <td>22</td>\n",
              "      <td>31</td>\n",
              "      <td>36</td>\n",
              "      <td>40</td>\n",
              "      <td>...</td>\n",
              "      <td>7</td>\n",
              "      <td>0.11</td>\n",
              "      <td>0.12</td>\n",
              "      <td>0.11</td>\n",
              "      <td>0.10</td>\n",
              "      <td>WNW</td>\n",
              "      <td>WNW</td>\n",
              "      <td>W</td>\n",
              "      <td>WNW</td>\n",
              "      <td>29</td>\n",
              "    </tr>\n",
              "    <tr>\n",
              "      <th>4</th>\n",
              "      <td>46</td>\n",
              "      <td>8</td>\n",
              "      <td>7</td>\n",
              "      <td>1</td>\n",
              "      <td>no_lab</td>\n",
              "      <td>21</td>\n",
              "      <td>32</td>\n",
              "      <td>22</td>\n",
              "      <td>31</td>\n",
              "      <td>38</td>\n",
              "      <td>...</td>\n",
              "      <td>8</td>\n",
              "      <td>0.10</td>\n",
              "      <td>0.11</td>\n",
              "      <td>0.12</td>\n",
              "      <td>0.11</td>\n",
              "      <td>NW</td>\n",
              "      <td>WNW</td>\n",
              "      <td>WNW</td>\n",
              "      <td>W</td>\n",
              "      <td>29</td>\n",
              "    </tr>\n",
              "  </tbody>\n",
              "</table>\n",
              "<p>5 rows × 26 columns</p>\n",
              "</div>"
            ],
            "text/plain": [
              "   PM10_1_arg  hour  week_day  month     lab  PM10_1  PM10_2  PM10_3  PM10_4  \\\n",
              "0          42     4         7      1  no_lab      36      35      38      46   \n",
              "1          42     5         7      1  no_lab      31      36      35      38   \n",
              "2          38     6         7      1  no_lab      22      31      36      35   \n",
              "3          41     7         7      1  no_lab      32      22      31      36   \n",
              "4          46     8         7      1  no_lab      21      32      22      31   \n",
              "\n",
              "   NO2_1   ...    SO2_4  vv_1  vv_2  vv_3  vv_4  wd_1  wd_2  wd_3  wd_4  \\\n",
              "0     40   ...        3  0.10  0.11  0.11  0.10   WNW     W     W   SSW   \n",
              "1     39   ...        3  0.11  0.10  0.11  0.11     W   WNW     W     W   \n",
              "2     37   ...        5  0.12  0.11  0.10  0.11   WNW     W   WNW     W   \n",
              "3     40   ...        7  0.11  0.12  0.11  0.10   WNW   WNW     W   WNW   \n",
              "4     38   ...        8  0.10  0.11  0.12  0.11    NW   WNW   WNW     W   \n",
              "\n",
              "   PM25_1  \n",
              "0      24  \n",
              "1      32  \n",
              "2      21  \n",
              "3      29  \n",
              "4      29  \n",
              "\n",
              "[5 rows x 26 columns]"
            ]
          },
          "metadata": {
            "tags": []
          },
          "execution_count": 102
        }
      ]
    },
    {
      "metadata": {
        "id": "GuK_KZmvGAqh",
        "colab_type": "text"
      },
      "cell_type": "markdown",
      "source": [
        "Convertimos a strings las variables hour, week_day y month"
      ]
    },
    {
      "metadata": {
        "id": "OxAB-U7RxLSs",
        "colab_type": "code",
        "colab": {}
      },
      "cell_type": "code",
      "source": [
        "X_train.hour = X_train.hour.astype(str)\n",
        "X_test.hour = X_test.hour.astype(str)\n",
        "\n",
        "\n",
        "X_train.week_day = X_train.week_day.astype(str)\n",
        "X_test.week_day = X_test.week_day.astype(str)\n",
        "\n",
        "X_train.month = X_train.month.astype(str)\n",
        "X_test.month = X_test.month.astype(str)"
      ],
      "execution_count": 0,
      "outputs": []
    },
    {
      "metadata": {
        "id": "Zm-QaiPCLWuP",
        "colab_type": "text"
      },
      "cell_type": "markdown",
      "source": [
        "One hot encoding"
      ]
    },
    {
      "metadata": {
        "id": "iqw5gcYbQIQW",
        "colab_type": "code",
        "colab": {}
      },
      "cell_type": "code",
      "source": [
        "X_train = pd.get_dummies(X_train)\n",
        "X_test  = pd.get_dummies(X_test)"
      ],
      "execution_count": 0,
      "outputs": []
    },
    {
      "metadata": {
        "id": "GC2YFfzDbuIE",
        "colab_type": "code",
        "colab": {}
      },
      "cell_type": "code",
      "source": [
        "X_train.info(null_counts=True, verbose=True)"
      ],
      "execution_count": 0,
      "outputs": []
    },
    {
      "metadata": {
        "id": "J62ncY2KQIVU",
        "colab_type": "code",
        "outputId": "8b53d26a-5eb4-4b53-bb5e-b31686f3dca3",
        "colab": {
          "base_uri": "https://localhost:8080/",
          "height": 34
        }
      },
      "cell_type": "code",
      "source": [
        "X_train.shape"
      ],
      "execution_count": 0,
      "outputs": [
        {
          "output_type": "execute_result",
          "data": {
            "text/plain": [
              "(25544, 125)"
            ]
          },
          "metadata": {
            "tags": []
          },
          "execution_count": 68
        }
      ]
    },
    {
      "metadata": {
        "id": "kwIMDbAyQIbT",
        "colab_type": "code",
        "outputId": "386845e3-771e-449c-99ce-135c24c83929",
        "colab": {
          "base_uri": "https://localhost:8080/",
          "height": 34
        }
      },
      "cell_type": "code",
      "source": [
        "X_test.shape"
      ],
      "execution_count": 0,
      "outputs": [
        {
          "output_type": "execute_result",
          "data": {
            "text/plain": [
              "(6475, 122)"
            ]
          },
          "metadata": {
            "tags": []
          },
          "execution_count": 69
        }
      ]
    },
    {
      "metadata": {
        "id": "el7UT_sFSEmB",
        "colab_type": "text"
      },
      "cell_type": "markdown",
      "source": [
        "Al hacer el one hot encoding el X_train y el X_test tienen distintas dimensiones. X_train tiene 47 variables y X_test 44. Por que? Porque el dataset de test tiene solo 9 meses, de enero a septiembre, y entonces la variable month solo se convierte en 9 variables, mientras que el dataset tendriamos 12, los 12 meses del anho. \n",
        "Con el siguiente codigo solucionamos el problema (falta referencia)"
      ]
    },
    {
      "metadata": {
        "id": "wr-ywngFWMmd",
        "colab_type": "code",
        "colab": {}
      },
      "cell_type": "code",
      "source": [
        "# Get missing columns in the training test\n",
        "missing_cols = set( X_train.columns ) - set( X_test.columns )\n",
        "# Add a missing column in test set with default value equal to 0\n",
        "for c in missing_cols:\n",
        "    X_test[c] = 0\n",
        "# Ensure the order of column in the test set is in the same order than in train set\n",
        "X_test = X_test[X_train.columns]\n",
        "# This code also ensure that column resulting from category in the test dataset but not present in the training dataset will be removed"
      ],
      "execution_count": 0,
      "outputs": []
    },
    {
      "metadata": {
        "id": "nIFbNhKeLf-3",
        "colab_type": "text"
      },
      "cell_type": "markdown",
      "source": [
        ""
      ]
    },
    {
      "metadata": {
        "id": "SRla1ULdO47a",
        "colab_type": "code",
        "outputId": "891349aa-f97a-4eda-c187-b1bca6a78891",
        "colab": {
          "base_uri": "https://localhost:8080/",
          "height": 265
        }
      },
      "cell_type": "code",
      "source": [
        "plt.plot(y_test[\"PM10_0\"]);"
      ],
      "execution_count": 0,
      "outputs": [
        {
          "output_type": "display_data",
          "data": {
            "image/png": "[encoded data removed]",
            "text/plain": [
              "<matplotlib.figure.Figure at 0x7f720cad8128>"
            ]
          },
          "metadata": {
            "tags": []
          }
        }
      ]
    },
    {
      "metadata": {
        "id": "vqCay0q0OEhx",
        "colab_type": "text"
      },
      "cell_type": "markdown",
      "source": [
        "Linear Regression"
      ]
    },
    {
      "metadata": {
        "id": "UrOFxuTIx945",
        "colab_type": "code",
        "colab": {}
      },
      "cell_type": "code",
      "source": [
        "from sklearn.linear_model import LinearRegression\n",
        "from sklearn.metrics import mean_squared_error\n",
        "from sklearn.metrics import r2_score\n",
        "\n"
      ],
      "execution_count": 0,
      "outputs": []
    },
    {
      "metadata": {
        "id": "FIcaps1EoaP7",
        "colab_type": "text"
      },
      "cell_type": "markdown",
      "source": [
        "XGBoost"
      ]
    },
    {
      "metadata": {
        "id": "0UizqGOMoeTD",
        "colab_type": "code",
        "outputId": "c5b90a2f-54f2-4ce8-da1c-73336ad76030",
        "colab": {
          "base_uri": "https://localhost:8080/",
          "height": 121
        }
      },
      "cell_type": "code",
      "source": [
        "from xgboost import XGBRegressor\n",
        "import os\n",
        "os.environ[\"KMP_DUPLICATE_LIB_OK\"]=\"TRUE\"\n",
        "#regXGB = GridSearchCV(XGBRegressor(n_estimators=100, min_samples_leaf=1,max_depth=4),\n",
        " #                  param_grid={\"min_samples_leaf\":[10,20,30,40,70,100],\n",
        "  #                            \"max_depth\":range(2,10)},\n",
        "   #                scoring=\"neg_mean_squared_error\")\n",
        "\n",
        "regXGB = XGBRegressor(n_estimators=350, min_samples_leaf=10,max_depth=3)\n",
        "\n",
        "regXGB.fit(X_train,y_train)\n",
        "\n",
        "#print(regXGB.best_params_)\n",
        "#print(regXGB.best_score_)\n",
        "#print(np.sqrt(-regXGB.best_score_))\n",
        "#print(mean_absolute_error(y_test, y_pred))\n"
      ],
      "execution_count": 0,
      "outputs": [
        {
          "output_type": "execute_result",
          "data": {
            "text/plain": [
              "XGBRegressor(base_score=0.5, booster='gbtree', colsample_bylevel=1,\n",
              "       colsample_bytree=1, gamma=0, learning_rate=0.1, max_delta_step=0,\n",
              "       max_depth=3, min_child_weight=1, min_samples_leaf=10, missing=None,\n",
              "       n_estimators=350, n_jobs=1, nthread=None, objective='reg:linear',\n",
              "       random_state=0, reg_alpha=0, reg_lambda=1, scale_pos_weight=1,\n",
              "       seed=None, silent=True, subsample=1)"
            ]
          },
          "metadata": {
            "tags": []
          },
          "execution_count": 106
        }
      ]
    },
    {
      "metadata": {
        "id": "2B_dcgmJABoR",
        "colab_type": "code",
        "outputId": "8aa91ea2-cd7b-4b43-9f02-62fcf75a8f11",
        "colab": {
          "base_uri": "https://localhost:8080/",
          "height": 69
        }
      },
      "cell_type": "code",
      "source": [
        "# Evaluacion con train\n",
        "\n",
        "y_pred = regXGB.predict(X_train)\n",
        "r2 = r2_score(y_train, y_pred)\n",
        "print(r2)\n",
        "r2_adjusted = 1 - (1-r2)*(len(y_train)-1)/(len(y_train)-X_train.shape[1]-1)\n",
        "print(r2_adjusted)\n",
        "rmse = np.sqrt(mean_squared_error(y_train, y_pred))\n",
        "print(rmse)"
      ],
      "execution_count": 0,
      "outputs": [
        {
          "output_type": "stream",
          "text": [
            "0.7158746433859251\n",
            "0.7144418889570989\n",
            "7.984338653641078\n"
          ],
          "name": "stdout"
        }
      ]
    },
    {
      "metadata": {
        "id": "XD0ROMWSIxfz",
        "colab_type": "code",
        "outputId": "fd576b45-1dbb-49df-fb8e-e44854a19497",
        "colab": {
          "base_uri": "https://localhost:8080/",
          "height": 69
        }
      },
      "cell_type": "code",
      "source": [
        "# Evaluacion con test\n",
        "y_pred = regXGB.predict(X_test)\n",
        "r2 = r2_score(y_test, y_pred)\n",
        "print(r2)\n",
        "r2_adjusted = 1 - (1-r2)*(len(y_test)-1)/(len(y_test)-X_test.shape[1]-1)\n",
        "print(r2_adjusted)\n",
        "rmse = np.sqrt(mean_squared_error(y_test, y_pred))\n",
        "print(rmse)"
      ],
      "execution_count": 0,
      "outputs": [
        {
          "output_type": "stream",
          "text": [
            "0.6147745549714891\n",
            "0.6070051994817923\n",
            "6.781618222268876\n"
          ],
          "name": "stdout"
        }
      ]
    },
    {
      "metadata": {
        "colab_type": "code",
        "id": "h70RZaF7_2op",
        "colab": {}
      },
      "cell_type": "code",
      "source": [
        "from xgboost import XGBRegressor\n",
        "from sklearn.model_selection import GridSearchCV\n",
        "import os\n",
        "os.environ[\"KMP_DUPLICATE_LIB_OK\"]=\"TRUE\"\n",
        "regXGB = GridSearchCV(XGBRegressor(n_estimators=350, min_samples_leaf=1,max_depth=4),\n",
        "                   param_grid={\"n_estimators\":[100, 200, 300, 400, 500, 1000],\n",
        "                                \"min_samples_leaf\":[10,20,30,40,70,100],\n",
        "                                  \"max_depth\":range(2,10)},\n",
        "                                    scoring=\"neg_mean_squared_error\")\n",
        "\n",
        "regXGB.fit(X_train,y_train)\n",
        "\n",
        "print(regXGB.best_params_)\n",
        "print(regXGB.best_score_)\n",
        "print(np.sqrt(-regXGB.best_score_))\n",
        "print(mean_absolute_error(y_test, y_pred))\n"
      ],
      "execution_count": 0,
      "outputs": []
    },
    {
      "metadata": {
        "id": "4pWRJTuev2CU",
        "colab_type": "text"
      },
      "cell_type": "markdown",
      "source": [
        "\n",
        "\n"
      ]
    },
    {
      "metadata": {
        "id": "pqqk9mmG1LeF",
        "colab_type": "code",
        "outputId": "37be3e8c-f3f8-4042-a79b-12abfcf33f79",
        "colab": {
          "base_uri": "https://localhost:8080/",
          "height": 609
        }
      },
      "cell_type": "code",
      "source": [
        "y_pred = y_pred.astype(float)\n",
        "y_test = pd.DataFrame(y_test)\n",
        "y_test = y_test.values\n",
        "y_pred = pd.DataFrame(y_pred)\n",
        "plt.figure(figsize=(20,10))\n",
        "plt.scatter(x = y_test, y = y_pred)"
      ],
      "execution_count": 0,
      "outputs": [
        {
          "output_type": "execute_result",
          "data": {
            "text/plain": [
              "<matplotlib.collections.PathCollection at 0x7f720cbadc50>"
            ]
          },
          "metadata": {
            "tags": []
          },
          "execution_count": 74
        },
        {
          "output_type": "display_data",
          "data": {
            "image/png": "[encoded data removed]",
            "text/plain": [
              "<matplotlib.figure.Figure at 0x7f720cc88f28>"
            ]
          },
          "metadata": {
            "tags": []
          }
        }
      ]
    },
    {
      "metadata": {
        "id": "9txDe0Z73XGB",
        "colab_type": "text"
      },
      "cell_type": "markdown",
      "source": [
        ""
      ]
    }
  ]
}