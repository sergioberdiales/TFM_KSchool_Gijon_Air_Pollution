{
  "nbformat": 4,
  "nbformat_minor": 0,
  "metadata": {
    "colab": {
      "name": "22_Forecasting_Models_ML_1_VAR.ipynb",
      "version": "0.3.2",
      "provenance": [],
      "collapsed_sections": [],
      "include_colab_link": true
    },
    "kernelspec": {
      "name": "python3",
      "display_name": "Python 3"
    },
    "accelerator": "GPU"
  },
  "cells": [
    {
      "cell_type": "markdown",
      "metadata": {
        "id": "view-in-github",
        "colab_type": "text"
      },
      "source": [
        "<a href=\"https://colab.research.google.com/github/sergioberdiales/TFM_KSchool_Gijon_Air_Pollution/blob/master/22_Forecasting_Models_ML_1_VAR.ipynb\" target=\"_parent\"><img src=\"https://colab.research.google.com/assets/colab-badge.svg\" alt=\"Open In Colab\"/></a>"
      ]
    },
    {
      "metadata": {
        "id": "bG8CQ0NLo_XX",
        "colab_type": "code",
        "colab": {}
      },
      "cell_type": "code",
      "source": [
        ""
      ],
      "execution_count": 0,
      "outputs": []
    },
    {
      "metadata": {
        "id": "C2KUABWEp4T6",
        "colab_type": "text"
      },
      "cell_type": "markdown",
      "source": [
        "We are going to try to improve the autoregressive forecasting models introducing more variables.\n",
        "We will use the XGBoost algorithm. "
      ]
    },
    {
      "metadata": {
        "colab_type": "code",
        "outputId": "3b5c9160-be5b-4abb-a1eb-639454a4481d",
        "id": "OxJRU8VLpp9W",
        "colab": {
          "base_uri": "https://localhost:8080/",
          "height": 85
        }
      },
      "cell_type": "code",
      "source": [
        "%pylab inline\n",
        "import pandas as pd\n",
        "\n",
        "# We install and import pyreadr, in order to read rds objects.  \n",
        "# https://github.com/ofajardo/pyreadr\n",
        "\n",
        "!pip install pyreadr\n",
        "import pyreadr\n",
        "\n",
        "\n",
        "# Importing models\n",
        "\n",
        "\n",
        "import statsmodels.api as sm\n",
        "from sklearn.linear_model import LinearRegression\n",
        "from sklearn.ensemble import RandomForestRegressor\n",
        "from xgboost import XGBRegressor\n",
        "import os\n",
        "os.environ[\"KMP_DUPLICATE_LIB_OK\"]=\"TRUE\"\n",
        "\n",
        "# Importing metrics\n",
        "\n",
        "from sklearn.metrics import mean_squared_error\n",
        "from sklearn.metrics import mean_absolute_error\n",
        "from sklearn.metrics import r2_score\n",
        "\n",
        "# Model selection\n",
        "from sklearn.model_selection import GridSearchCV\n",
        "\n",
        "# Variable selection\n",
        "\n",
        "import sklearn\n",
        "from sklearn.feature_selection import f_regression\n"
      ],
      "execution_count": 3,
      "outputs": [
        {
          "output_type": "stream",
          "text": [
            "Populating the interactive namespace from numpy and matplotlib\n",
            "Requirement already satisfied: pyreadr in /usr/local/lib/python3.6/dist-packages (0.1.6)\n"
          ],
          "name": "stdout"
        },
        {
          "output_type": "stream",
          "text": [
            "/usr/local/lib/python3.6/dist-packages/statsmodels/compat/pandas.py:56: FutureWarning: The pandas.core.datetools module is deprecated and will be removed in a future version. Please use the pandas.tseries module instead.\n",
            "  from pandas.core import datetools\n"
          ],
          "name": "stderr"
        }
      ]
    },
    {
      "metadata": {
        "id": "adowIIZEus6d",
        "colab_type": "text"
      },
      "cell_type": "markdown",
      "source": [
        "\n",
        "\n"
      ]
    },
    {
      "metadata": {
        "colab_type": "text",
        "id": "Dh0qqPFMpp9d"
      },
      "cell_type": "markdown",
      "source": [
        "We upload the train and test data. All rds files from this folder  ~\\`TFM_KSchool_Gijon_Air_Pollution\\train_test\\Prediction_Models_ML_0_AR"
      ]
    },
    {
      "metadata": {
        "colab_type": "code",
        "outputId": "c2b1b883-3000-42b8-8c4c-8fa4a8f83ad8",
        "id": "gWOu3DSopp9e",
        "colab": {
          "resources": {
            "http://localhost:8080/nbextensions/google.colab/files.js": {
              "data": "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",
              "ok": true,
              "headers": [
                [
                  "content-type",
                  "application/javascript"
                ]
              ],
              "status": 200,
              "status_text": ""
            }
          },
          "base_uri": "https://localhost:8080/",
          "height": 1925
        }
      },
      "cell_type": "code",
      "source": [
        "from google.colab import files\n",
        "\n",
        "uploaded = files.upload()\n",
        "\n",
        "for fn in uploaded.keys():\n",
        "  print('User uploaded file \"{name}\" with length {length} bytes'.format(\n",
        "      name=fn, length=len(uploaded[fn])))"
      ],
      "execution_count": 1,
      "outputs": [
        {
          "output_type": "display_data",
          "data": {
            "text/html": [
              "\n",
              "     <input type=\"file\" id=\"files-c8f8ec7e-a01b-4a1a-9641-c5480f2f3585\" name=\"files[]\" multiple disabled />\n",
              "     <output id=\"result-c8f8ec7e-a01b-4a1a-9641-c5480f2f3585\">\n",
              "      Upload widget is only available when the cell has been executed in the\n",
              "      current browser session. Please rerun this cell to enable.\n",
              "      </output>\n",
              "      <script src=\"/nbextensions/google.colab/files.js\"></script> "
            ],
            "text/plain": [
              "<IPython.core.display.HTML object>"
            ]
          },
          "metadata": {
            "tags": []
          }
        },
        {
          "output_type": "stream",
          "text": [
            "Saving X_test_NO2_201701_201709.rds to X_test_NO2_201701_201709 (2).rds\n",
            "Saving X_test_NO2_20170101_20170114.rds to X_test_NO2_20170101_20170114 (2).rds\n",
            "Saving X_test_PM10_201701_201709.rds to X_test_PM10_201701_201709 (2).rds\n",
            "Saving X_test_PM10_201701_201709_var.rds to X_test_PM10_201701_201709_var.rds\n",
            "Saving X_test_PM10_20170101_20170114.rds to X_test_PM10_20170101_20170114 (2).rds\n",
            "Saving X_test_PM10_20170101_20170114_var.rds to X_test_PM10_20170101_20170114_var.rds\n",
            "Saving X_train_NO2_200901_201612.rds to X_train_NO2_200901_201612 (2).rds\n",
            "Saving X_train_NO2_201401_201612.rds to X_train_NO2_201401_201612 (1).rds\n",
            "Saving X_train_NO2_201610_201612.rds to X_train_NO2_201610_201612 (1).rds\n",
            "Saving X_train_PM10_200901_201612.rds to X_train_PM10_200901_201612 (1).rds\n",
            "Saving X_train_PM10_200901_201612_var.rds to X_train_PM10_200901_201612_var.rds\n",
            "Saving X_train_PM10_201401_201612.rds to X_train_PM10_201401_201612 (1).rds\n",
            "Saving X_train_PM10_201401_201612_var.rds to X_train_PM10_201401_201612_var.rds\n",
            "Saving X_train_PM10_201610_2016_12.rds to X_train_PM10_201610_2016_12 (1).rds\n",
            "Saving X_train_PM10_201610_201612.rds to X_train_PM10_201610_201612 (1).rds\n",
            "Saving X_train_PM10_201610_201612_var.rds to X_train_PM10_201610_201612_var.rds\n",
            "Saving X_validation_NO2_201710_201712.rds to X_validation_NO2_201710_201712 (1).rds\n",
            "Saving X_validation_PM10_201710_201712.rds to X_validation_PM10_201710_201712 (1).rds\n",
            "Saving X_validation_PM10_201710_201712_var.rds to X_validation_PM10_201710_201712_var.rds\n",
            "Saving y_test_NO2_201701_201709.rds to y_test_NO2_201701_201709 (1).rds\n",
            "Saving y_test_NO2_20170101_20170114.rds to y_test_NO2_20170101_20170114 (1).rds\n",
            "Saving y_test_PM10_201701_201709.rds to y_test_PM10_201701_201709 (1).rds\n",
            "Saving y_test_PM10_201701_201709_var.rds to y_test_PM10_201701_201709_var.rds\n",
            "Saving y_test_PM10_20170101_20170114.rds to y_test_PM10_20170101_20170114 (1).rds\n",
            "Saving y_test_PM10_20170101_20170114_var.rds to y_test_PM10_20170101_20170114_var.rds\n",
            "Saving y_train_NO2_200901_201612.rds to y_train_NO2_200901_201612 (1).rds\n",
            "Saving y_train_NO2_201401_201612.rds to y_train_NO2_201401_201612 (1).rds\n",
            "Saving y_train_NO2_201610_201612.rds to y_train_NO2_201610_201612 (1).rds\n",
            "Saving y_train_PM10_200901_201612.rds to y_train_PM10_200901_201612 (1).rds\n",
            "Saving y_train_PM10_200901_201612_var.rds to y_train_PM10_200901_201612_var.rds\n",
            "Saving y_train_PM10_201401_201612.rds to y_train_PM10_201401_201612 (1).rds\n",
            "Saving y_train_PM10_201401_201612_var.rds to y_train_PM10_201401_201612_var.rds\n",
            "Saving y_train_PM10_201610_201612.rds to y_train_PM10_201610_201612 (1).rds\n",
            "Saving y_train_PM10_201610_201612_var.rds to y_train_PM10_201610_201612_var.rds\n",
            "Saving y_validation_NO2_201710_201712.rds to y_validation_NO2_201710_201712 (1).rds\n",
            "Saving y_validation_PM10_201710_201712.rds to y_validation_PM10_201710_201712 (1).rds\n",
            "Saving y_validation_PM10_201710_201712_var.rds to y_validation_PM10_201710_201712_var.rds\n",
            "User uploaded file \"X_test_NO2_201701_201709.rds\" with length 258950 bytes\n",
            "User uploaded file \"X_test_NO2_20170101_20170114.rds\" with length 2408 bytes\n",
            "User uploaded file \"X_test_PM10_201701_201709.rds\" with length 230580 bytes\n",
            "User uploaded file \"X_test_PM10_201701_201709_var.rds\" with length 231480 bytes\n",
            "User uploaded file \"X_test_PM10_20170101_20170114.rds\" with length 2284 bytes\n",
            "User uploaded file \"X_test_PM10_20170101_20170114_var.rds\" with length 2339 bytes\n",
            "User uploaded file \"X_train_NO2_200901_201612.rds\" with length 2812374 bytes\n",
            "User uploaded file \"X_train_NO2_201401_201612.rds\" with length 969850 bytes\n",
            "User uploaded file \"X_train_NO2_201610_201612.rds\" with length 17499 bytes\n",
            "User uploaded file \"X_train_PM10_200901_201612.rds\" with length 2667932 bytes\n",
            "User uploaded file \"X_train_PM10_200901_201612_var.rds\" with length 1187412 bytes\n",
            "User uploaded file \"X_train_PM10_201401_201612.rds\" with length 974424 bytes\n",
            "User uploaded file \"X_train_PM10_201401_201612_var.rds\" with length 977621 bytes\n",
            "User uploaded file \"X_train_PM10_201610_2016_12.rds\" with length 23636 bytes\n",
            "User uploaded file \"X_train_PM10_201610_201612.rds\" with length 22458 bytes\n",
            "User uploaded file \"X_train_PM10_201610_201612_var.rds\" with length 22733 bytes\n",
            "User uploaded file \"X_validation_NO2_201710_201712.rds\" with length 16566 bytes\n",
            "User uploaded file \"X_validation_PM10_201710_201712.rds\" with length 27652 bytes\n",
            "User uploaded file \"X_validation_PM10_201710_201712_var.rds\" with length 27933 bytes\n",
            "User uploaded file \"y_test_NO2_201701_201709.rds\" with length 9275 bytes\n",
            "User uploaded file \"y_test_NO2_20170101_20170114.rds\" with length 1225 bytes\n",
            "User uploaded file \"y_test_PM10_201701_201709.rds\" with length 8389 bytes\n",
            "User uploaded file \"y_test_PM10_201701_201709_var.rds\" with length 8389 bytes\n",
            "User uploaded file \"y_test_PM10_20170101_20170114.rds\" with length 1179 bytes\n",
            "User uploaded file \"y_test_PM10_20170101_20170114_var.rds\" with length 1179 bytes\n",
            "User uploaded file \"y_train_NO2_200901_201612.rds\" with length 86733 bytes\n",
            "User uploaded file \"y_train_NO2_201401_201612.rds\" with length 31005 bytes\n",
            "User uploaded file \"y_train_NO2_201610_201612.rds\" with length 3910 bytes\n",
            "User uploaded file \"y_train_PM10_200901_201612.rds\" with length 82438 bytes\n",
            "User uploaded file \"y_train_PM10_200901_201612_var.rds\" with length 236080 bytes\n",
            "User uploaded file \"y_train_PM10_201401_201612.rds\" with length 31101 bytes\n",
            "User uploaded file \"y_train_PM10_201401_201612_var.rds\" with length 31101 bytes\n",
            "User uploaded file \"y_train_PM10_201610_201612.rds\" with length 3558 bytes\n",
            "User uploaded file \"y_train_PM10_201610_201612_var.rds\" with length 3558 bytes\n",
            "User uploaded file \"y_validation_NO2_201710_201712.rds\" with length 4084 bytes\n",
            "User uploaded file \"y_validation_PM10_201710_201712.rds\" with length 3607 bytes\n",
            "User uploaded file \"y_validation_PM10_201710_201712_var.rds\" with length 3607 bytes\n"
          ],
          "name": "stdout"
        }
      ]
    },
    {
      "metadata": {
        "id": "lJ_JT489NpgG",
        "colab_type": "code",
        "colab": {
          "base_uri": "https://localhost:8080/",
          "height": 233
        },
        "outputId": "d4eb3f30-a311-4ca7-faea-4dd656d56a0a"
      },
      "cell_type": "code",
      "source": [
        "X_train = pyreadr.read_r(\"X_train_PM10_201401_201612_var.rds\")\n",
        "y_train = pyreadr.read_r(\"y_train_PM10_201401_201612_var.rds\")\n",
        "\n",
        "X_test = pyreadr.read_r(\"X_test_PM10_201701_201709_var.rds\")\n",
        "y_test = pyreadr.read_r(\"y_test_PM10_201701_201709_var.rds\")\n",
        "\n",
        "X_train = X_train[None]\n",
        "y_train = y_train[None]\n",
        "X_test = X_test[None]\n",
        "y_test = y_test[None]\n",
        "\n",
        "\n",
        "\n"
      ],
      "execution_count": 8,
      "outputs": [
        {
          "output_type": "execute_result",
          "data": {
            "text/html": [
              "<div>\n",
              "<style scoped>\n",
              "    .dataframe tbody tr th:only-of-type {\n",
              "        vertical-align: middle;\n",
              "    }\n",
              "\n",
              "    .dataframe tbody tr th {\n",
              "        vertical-align: top;\n",
              "    }\n",
              "\n",
              "    .dataframe thead th {\n",
              "        text-align: right;\n",
              "    }\n",
              "</style>\n",
              "<table border=\"1\" class=\"dataframe\">\n",
              "  <thead>\n",
              "    <tr style=\"text-align: right;\">\n",
              "      <th></th>\n",
              "      <th>PM10_1</th>\n",
              "      <th>PM10_2</th>\n",
              "      <th>PM10_3</th>\n",
              "      <th>PM10_4</th>\n",
              "      <th>PM10_5</th>\n",
              "      <th>PM10_6</th>\n",
              "      <th>PM10_7</th>\n",
              "      <th>PM10_8</th>\n",
              "      <th>PM10_9</th>\n",
              "      <th>PM10_10</th>\n",
              "      <th>...</th>\n",
              "      <th>PM10_26</th>\n",
              "      <th>PM10_27</th>\n",
              "      <th>PM10_48</th>\n",
              "      <th>PM10_72</th>\n",
              "      <th>PM10_96</th>\n",
              "      <th>PM10_120</th>\n",
              "      <th>PM10_144</th>\n",
              "      <th>PM10_168</th>\n",
              "      <th>no_lab_days_lab</th>\n",
              "      <th>no_lab_days_no_lab</th>\n",
              "    </tr>\n",
              "  </thead>\n",
              "  <tbody>\n",
              "    <tr>\n",
              "      <th>0</th>\n",
              "      <td>51.0</td>\n",
              "      <td>62.0</td>\n",
              "      <td>54.0</td>\n",
              "      <td>49.0</td>\n",
              "      <td>51.0</td>\n",
              "      <td>64.0</td>\n",
              "      <td>70.0</td>\n",
              "      <td>93.0</td>\n",
              "      <td>63.0</td>\n",
              "      <td>50.0</td>\n",
              "      <td>...</td>\n",
              "      <td>41.0</td>\n",
              "      <td>37.0</td>\n",
              "      <td>9.0</td>\n",
              "      <td>11.0</td>\n",
              "      <td>38.0</td>\n",
              "      <td>16.0</td>\n",
              "      <td>21.0</td>\n",
              "      <td>14.0</td>\n",
              "      <td>1</td>\n",
              "      <td>0</td>\n",
              "    </tr>\n",
              "    <tr>\n",
              "      <th>1</th>\n",
              "      <td>57.0</td>\n",
              "      <td>51.0</td>\n",
              "      <td>62.0</td>\n",
              "      <td>54.0</td>\n",
              "      <td>49.0</td>\n",
              "      <td>51.0</td>\n",
              "      <td>64.0</td>\n",
              "      <td>70.0</td>\n",
              "      <td>93.0</td>\n",
              "      <td>63.0</td>\n",
              "      <td>...</td>\n",
              "      <td>53.0</td>\n",
              "      <td>41.0</td>\n",
              "      <td>5.0</td>\n",
              "      <td>17.0</td>\n",
              "      <td>29.0</td>\n",
              "      <td>8.0</td>\n",
              "      <td>23.0</td>\n",
              "      <td>22.0</td>\n",
              "      <td>1</td>\n",
              "      <td>0</td>\n",
              "    </tr>\n",
              "    <tr>\n",
              "      <th>2</th>\n",
              "      <td>51.0</td>\n",
              "      <td>57.0</td>\n",
              "      <td>51.0</td>\n",
              "      <td>62.0</td>\n",
              "      <td>54.0</td>\n",
              "      <td>49.0</td>\n",
              "      <td>51.0</td>\n",
              "      <td>64.0</td>\n",
              "      <td>70.0</td>\n",
              "      <td>93.0</td>\n",
              "      <td>...</td>\n",
              "      <td>65.0</td>\n",
              "      <td>53.0</td>\n",
              "      <td>5.0</td>\n",
              "      <td>15.0</td>\n",
              "      <td>25.0</td>\n",
              "      <td>7.0</td>\n",
              "      <td>40.0</td>\n",
              "      <td>20.0</td>\n",
              "      <td>1</td>\n",
              "      <td>0</td>\n",
              "    </tr>\n",
              "    <tr>\n",
              "      <th>3</th>\n",
              "      <td>34.0</td>\n",
              "      <td>51.0</td>\n",
              "      <td>57.0</td>\n",
              "      <td>51.0</td>\n",
              "      <td>62.0</td>\n",
              "      <td>54.0</td>\n",
              "      <td>49.0</td>\n",
              "      <td>51.0</td>\n",
              "      <td>64.0</td>\n",
              "      <td>70.0</td>\n",
              "      <td>...</td>\n",
              "      <td>38.0</td>\n",
              "      <td>65.0</td>\n",
              "      <td>3.0</td>\n",
              "      <td>10.0</td>\n",
              "      <td>36.0</td>\n",
              "      <td>5.0</td>\n",
              "      <td>26.0</td>\n",
              "      <td>16.0</td>\n",
              "      <td>1</td>\n",
              "      <td>0</td>\n",
              "    </tr>\n",
              "    <tr>\n",
              "      <th>4</th>\n",
              "      <td>29.0</td>\n",
              "      <td>34.0</td>\n",
              "      <td>51.0</td>\n",
              "      <td>57.0</td>\n",
              "      <td>51.0</td>\n",
              "      <td>62.0</td>\n",
              "      <td>54.0</td>\n",
              "      <td>49.0</td>\n",
              "      <td>51.0</td>\n",
              "      <td>64.0</td>\n",
              "      <td>...</td>\n",
              "      <td>21.0</td>\n",
              "      <td>38.0</td>\n",
              "      <td>3.0</td>\n",
              "      <td>4.0</td>\n",
              "      <td>17.0</td>\n",
              "      <td>20.0</td>\n",
              "      <td>25.0</td>\n",
              "      <td>21.0</td>\n",
              "      <td>1</td>\n",
              "      <td>0</td>\n",
              "    </tr>\n",
              "  </tbody>\n",
              "</table>\n",
              "<p>5 rows × 35 columns</p>\n",
              "</div>"
            ],
            "text/plain": [
              "   PM10_1  PM10_2  PM10_3  PM10_4  PM10_5  PM10_6  PM10_7  PM10_8  PM10_9  \\\n",
              "0    51.0    62.0    54.0    49.0    51.0    64.0    70.0    93.0    63.0   \n",
              "1    57.0    51.0    62.0    54.0    49.0    51.0    64.0    70.0    93.0   \n",
              "2    51.0    57.0    51.0    62.0    54.0    49.0    51.0    64.0    70.0   \n",
              "3    34.0    51.0    57.0    51.0    62.0    54.0    49.0    51.0    64.0   \n",
              "4    29.0    34.0    51.0    57.0    51.0    62.0    54.0    49.0    51.0   \n",
              "\n",
              "   PM10_10         ...          PM10_26  PM10_27  PM10_48  PM10_72  PM10_96  \\\n",
              "0     50.0         ...             41.0     37.0      9.0     11.0     38.0   \n",
              "1     63.0         ...             53.0     41.0      5.0     17.0     29.0   \n",
              "2     93.0         ...             65.0     53.0      5.0     15.0     25.0   \n",
              "3     70.0         ...             38.0     65.0      3.0     10.0     36.0   \n",
              "4     64.0         ...             21.0     38.0      3.0      4.0     17.0   \n",
              "\n",
              "   PM10_120  PM10_144  PM10_168  no_lab_days_lab  no_lab_days_no_lab  \n",
              "0      16.0      21.0      14.0                1                   0  \n",
              "1       8.0      23.0      22.0                1                   0  \n",
              "2       7.0      40.0      20.0                1                   0  \n",
              "3       5.0      26.0      16.0                1                   0  \n",
              "4      20.0      25.0      21.0                1                   0  \n",
              "\n",
              "[5 rows x 35 columns]"
            ]
          },
          "metadata": {
            "tags": []
          },
          "execution_count": 8
        }
      ]
    },
    {
      "metadata": {
        "id": "iGSPRxpvOsMc",
        "colab_type": "text"
      },
      "cell_type": "markdown",
      "source": [
        "### LINEAR REGRESSION"
      ]
    },
    {
      "metadata": {
        "id": "pJMW2Ohho_av",
        "colab_type": "code",
        "colab": {
          "base_uri": "https://localhost:8080/",
          "height": 221
        },
        "outputId": "d053e22e-1dec-48f7-ddbb-c9d3d2729348"
      },
      "cell_type": "code",
      "source": [
        "X_train = pyreadr.read_r(\"X_train_PM10_201401_201612_var.rds\")\n",
        "y_train = pyreadr.read_r(\"y_train_PM10_201401_201612_var.rds\")\n",
        "\n",
        "X_test = pyreadr.read_r(\"X_test_PM10_201701_201709_var.rds\")\n",
        "y_test = pyreadr.read_r(\"y_test_PM10_201701_201709_var.rds\")\n",
        "\n",
        "X_train = X_train[None]\n",
        "y_train = y_train[None]\n",
        "X_test = X_test[None]\n",
        "y_test = y_test[None]\n",
        "\n",
        "X_train = pd.get_dummies(X_train)\n",
        "X_test  = pd.get_dummies(X_test)\n",
        "\n",
        "\n",
        "regLR = LinearRegression()\n",
        "regLR.fit(X_train, y_train)\n",
        "\n",
        "\n",
        "# Compute train scores\n",
        "\n",
        "y_pred = regLR.predict(X_train)\n",
        "\n",
        "r2_train = r2_score(y_train, y_pred)\n",
        "rmse_train = np.sqrt(mean_squared_error(y_train, y_pred))\n",
        "mae_train = mean_absolute_error(y_train, y_pred)\n",
        "r2_adjusted_train = 1 - (1-r2_score(y_train, y_pred))*(len(y_train)-1)/(len(y_train)-X_train.shape[1]-1)\n",
        "sd_train = std(y_train)\n",
        "\n",
        "print(\"R^2 train: {}\".format(r2_train))\n",
        "print(\"R^2 adjusted train: {}\".format(r2_adjusted_train))\n",
        "print(\"Mean Absolute Error train: {}\".format(mae_train))\n",
        "print(\"Root Mean Squared Error train: {}\".format(rmse_train)) \n",
        "print(\"Standard Deviation train: {}\".format(sd_train))  \n",
        "\n",
        "# Compute test scores\n",
        "\n",
        "y_pred = regLR.predict(X_test)\n",
        "\n",
        "r2_test = r2_score(y_test, y_pred)\n",
        "rmse_test = np.sqrt(mean_squared_error(y_test, y_pred))\n",
        "mae_test = mean_absolute_error(y_test, y_pred)\n",
        "r2_adjusted_test = 1 - (1-r2_score(y_test, y_pred))*(len(y_test)-1)/(len(y_test)-X_test.shape[1]-1)\n",
        "sd_test = std(y_test)\n",
        "\n",
        "print(\"R^2 test: {}\".format(r2_test))\n",
        "print(\"R^2 adjusted test: {}\".format(r2_adjusted_test))\n",
        "print(\"Mean Absolute Error test: {}\".format(mae_test))\n",
        "print(\"Root Mean Squared Error test: {}\".format(rmse_test))\n",
        "print(\"Standard Deviation test: {}\".format(sd_test))  \n"
      ],
      "execution_count": 9,
      "outputs": [
        {
          "output_type": "stream",
          "text": [
            "R^2 train: 0.6102203733635343\n",
            "R^2 adjusted train: 0.6096976803776233\n",
            "Mean Absolute Error train: 5.695427471509776\n",
            "Root Mean Squared Error train: 9.202351345112561\n",
            "Standard Deviation train: PM10_0    14.73972\n",
            "dtype: float64\n",
            "R^2 test: 0.5967704170107037\n",
            "R^2 adjusted test: 0.5945468412418955\n",
            "Mean Absolute Error test: 4.817116498111848\n",
            "Root Mean Squared Error test: 6.825925984465093\n",
            "Standard Deviation test: PM10_0    10.749429\n",
            "dtype: float64\n"
          ],
          "name": "stdout"
        }
      ]
    },
    {
      "metadata": {
        "id": "kK1hRo93OzCi",
        "colab_type": "text"
      },
      "cell_type": "markdown",
      "source": [
        "### XGBOOST"
      ]
    },
    {
      "metadata": {
        "id": "a-qac8vAo_dy",
        "colab_type": "code",
        "colab": {
          "base_uri": "https://localhost:8080/",
          "height": 221
        },
        "outputId": "c1be2195-5ce3-4140-c173-48f39c831921"
      },
      "cell_type": "code",
      "source": [
        "X_train = pyreadr.read_r(\"X_train_PM10_201401_201612_var.rds\")\n",
        "y_train = pyreadr.read_r(\"y_train_PM10_201401_201612_var.rds\")\n",
        "\n",
        "X_test = pyreadr.read_r(\"X_test_PM10_201701_201709_var.rds\")\n",
        "y_test = pyreadr.read_r(\"y_test_PM10_201701_201709_var.rds\")\n",
        "\n",
        "X_train = X_train[None]\n",
        "y_train = y_train[None]\n",
        "X_test = X_test[None]\n",
        "y_test = y_test[None]\n",
        "\n",
        "X_train = pd.get_dummies(X_train)\n",
        "X_test  = pd.get_dummies(X_test)\n",
        "\n",
        "X_train = X_train[['PM10_1', 'PM10_2', 'PM10_3', 'PM10_4', 'PM10_22', 'PM10_23', 'PM10_24', 'PM10_48', 'PM10_72', 'PM10_96', 'PM10_120', 'PM10_144', 'PM10_168', 'no_lab_days_lab', 'no_lab_days_no_lab']]\n",
        "X_test = X_test[['PM10_1', 'PM10_2', 'PM10_3', 'PM10_4', 'PM10_22', 'PM10_23', 'PM10_24', 'PM10_48', 'PM10_72', 'PM10_96', 'PM10_120', 'PM10_144', 'PM10_168', 'no_lab_days_lab', 'no_lab_days_no_lab']]\n",
        "\n",
        "\n",
        "regXGB = XGBRegressor(n_estimators=500, min_samples_leaf=10,max_depth=2, random_state=42)\n",
        "regXGB.fit(X_train,y_train)\n",
        "\n",
        "\n",
        "# Compute train scores\n",
        "\n",
        "y_pred = regXGB.predict(X_train)\n",
        "\n",
        "r2_train = r2_score(y_train, y_pred)\n",
        "rmse_train = np.sqrt(mean_squared_error(y_train, y_pred))\n",
        "mae_train = mean_absolute_error(y_train, y_pred)\n",
        "r2_adjusted_train = 1 - (1-r2_score(y_train, y_pred))*(len(y_train)-1)/(len(y_train)-X_train.shape[1]-1)\n",
        "sd_train = std(y_train)\n",
        "\n",
        "print(\"R^2 train: {}\".format(r2_train))\n",
        "print(\"R^2 adjusted train: {}\".format(r2_adjusted_train))\n",
        "print(\"Mean Absolute Error train: {}\".format(mae_train))\n",
        "print(\"Root Mean Squared Error train: {}\".format(rmse_train)) \n",
        "print(\"Standard Deviation train: {}\".format(sd_train))  \n",
        "\n",
        "# Compute test scores\n",
        "\n",
        "y_pred = regXGB.predict(X_test)\n",
        "\n",
        "r2_test = r2_score(y_test, y_pred)\n",
        "rmse_test = np.sqrt(mean_squared_error(y_test, y_pred))\n",
        "mae_test = mean_absolute_error(y_test, y_pred)\n",
        "r2_adjusted_test = 1 - (1-r2_score(y_test, y_pred))*(len(y_test)-1)/(len(y_test)-X_test.shape[1]-1)\n",
        "sd_test = std(y_test)\n",
        "\n",
        "print(\"R^2 test: {}\".format(r2_test))\n",
        "print(\"R^2 adjusted test: {}\".format(r2_adjusted_test))\n",
        "print(\"Mean Absolute Error test: {}\".format(mae_test))\n",
        "print(\"Root Mean Squared Error test: {}\".format(rmse_test))\n",
        "print(\"Standard Deviation test: {}\".format(sd_test))  \n"
      ],
      "execution_count": 13,
      "outputs": [
        {
          "output_type": "stream",
          "text": [
            "R^2 train: 0.6627120513006217\n",
            "R^2 adjusted train: 0.6625183560774023\n",
            "Mean Absolute Error train: 5.4576274657851185\n",
            "Root Mean Squared Error train: 8.560313206122496\n",
            "Standard Deviation train: PM10_0    14.73972\n",
            "dtype: float64\n",
            "R^2 test: 0.5990393212714499\n",
            "R^2 adjusted test: 0.598094698971948\n",
            "Mean Absolute Error test: 4.799518734593902\n",
            "Root Mean Squared Error test: 6.80669473145613\n",
            "Standard Deviation test: PM10_0    10.749429\n",
            "dtype: float64\n"
          ],
          "name": "stdout"
        }
      ]
    },
    {
      "metadata": {
        "id": "iRAXvyTao_gs",
        "colab_type": "code",
        "colab": {}
      },
      "cell_type": "code",
      "source": [
        ""
      ],
      "execution_count": 0,
      "outputs": []
    },
    {
      "metadata": {
        "id": "eZboRFJlo_jd",
        "colab_type": "code",
        "colab": {}
      },
      "cell_type": "code",
      "source": [
        ""
      ],
      "execution_count": 0,
      "outputs": []
    },
    {
      "metadata": {
        "id": "NrjJyy2BpGd1",
        "colab_type": "code",
        "colab": {}
      },
      "cell_type": "code",
      "source": [
        ""
      ],
      "execution_count": 0,
      "outputs": []
    },
    {
      "metadata": {
        "id": "j3gA-WwGpGg3",
        "colab_type": "code",
        "colab": {}
      },
      "cell_type": "code",
      "source": [
        ""
      ],
      "execution_count": 0,
      "outputs": []
    },
    {
      "metadata": {
        "id": "9Zxe47T2pGj5",
        "colab_type": "code",
        "colab": {}
      },
      "cell_type": "code",
      "source": [
        ""
      ],
      "execution_count": 0,
      "outputs": []
    },
    {
      "metadata": {
        "id": "ycjk52M1pGmz",
        "colab_type": "code",
        "colab": {}
      },
      "cell_type": "code",
      "source": [
        ""
      ],
      "execution_count": 0,
      "outputs": []
    },
    {
      "metadata": {
        "id": "XaX3XeFypGp6",
        "colab_type": "code",
        "colab": {}
      },
      "cell_type": "code",
      "source": [
        ""
      ],
      "execution_count": 0,
      "outputs": []
    },
    {
      "metadata": {
        "id": "x5TRey4ApGtj",
        "colab_type": "code",
        "colab": {}
      },
      "cell_type": "code",
      "source": [
        ""
      ],
      "execution_count": 0,
      "outputs": []
    },
    {
      "metadata": {
        "id": "pD8VgDkmsIZd",
        "colab_type": "text"
      },
      "cell_type": "markdown",
      "source": [
        "\n",
        "# **Mejores resultados antes de este notebook**\n",
        "Resultados XGBoost con los siguientes parametros (y con hour, month y weekday)\n",
        "\n",
        "regXGB = GridSearchCV(XGBRegressor(n_estimators=100, min_samples_leaf=1,max_depth=4),\n",
        "                   param_grid={\"min_samples_leaf\":[10,20,30,40,70,100],\n",
        "                              \"max_depth\":range(2,10)},\n",
        "                   scoring=\"neg_mean_squared_error\")\n",
        "                   \n",
        "  Mejores parametros {'max_depth': 3, 'min_samples_leaf': 10}\n",
        "  \n",
        "  Train\n",
        "  \n",
        "R2 = 0.6500857644451381\n",
        "rmse =  8.861409992242404\n",
        "\n",
        " Test\n",
        "  \n",
        "R2 = 0.6122589338516852\n",
        "rmse =  6.804600716948688\n",
        "\n",
        "Es el mejor R2 que he obtenido hasta ahora. Pero todavía se me antoja muy bajo. Y sobre todo un rmse muy alto. \n",
        "                   \n",
        "                   \n",
        "Si subimos los n estimators a 350 mejora un poco el resultado en test, a partir de ahi empieza a empeorar (overfitting). Pendiente hacer un grafico con la evolucion del R2 segun vamos variando el numero de estimators.\n",
        "\n",
        "Esto lo he hecho con los mejores parametros elegidos por gridsearchcv. Habria que combinar las tres variables en un gridsearch?\n",
        " "
      ]
    },
    {
      "metadata": {
        "id": "Qm3HqmdVlYV6",
        "colab_type": "text"
      },
      "cell_type": "markdown",
      "source": [
        "**Resultados de este notebook**\n",
        "\n",
        "Me quedo con xgboost. \n",
        "Incluir variables lagged de no2 y so2 para mejorar el modelo de pm10\n",
        "\n",
        "Pues obtengo peores resultados\n",
        "\n",
        "Resultados en train\n",
        "\n",
        "0.6999916104541364\n",
        "\n",
        "0.6993441272715504\n",
        "\n",
        "8.199388923966012\n",
        "\n",
        "Resultados en test\n",
        "\n",
        "0.6064956206343766\n",
        "\n",
        "0.6031155267931912\n",
        "\n",
        "6.862638536821753\n",
        "\n",
        "\n",
        "Incluyo tambien los niveles del O3. Mejora un poquito, muy poco.\n",
        "\n",
        "En este caso en train sube\n",
        "\n",
        "0.7105443286766205\n",
        "\n",
        "0.7098740820279518\n",
        "\n",
        "8.053892316950074\n",
        "\n",
        "\n",
        "Test\n",
        "\n",
        "0.6082040880935934\n",
        "\n",
        "0.604591655088049\n",
        "\n",
        "6.84772466415434\n",
        "\n",
        "Al introducir la variable lab (sin o3 )tampoco se mueve mucho\n",
        "\n",
        "Train\n",
        "\n",
        "0.7010470857165632\n",
        "\n",
        "0.7003784709431913\n",
        "\n",
        "8.184354312220824\n",
        "\n",
        "Test\n",
        "\n",
        "0.6053976949516295\n",
        "\n",
        "0.6018925786375019\n",
        "\n",
        "6.867154043380078\n",
        "\n",
        "### Al incluir la variable vv (fuerza viento) el modelo mejora un poco\n",
        "\n",
        "Train\n",
        "\n",
        "0.7075842640028696\n",
        "\n",
        "0.7068842655766931\n",
        "\n",
        "8.094376414198711\n",
        "\n",
        "Test\n",
        "\n",
        "0.6152870917971485\n",
        "\n",
        "0.6116277299695523\n",
        "\n",
        "6.780556822850893\n",
        "\n",
        "### Al incluir la variable wd (direcci'on viento) el modelo mejora otro poco (mas en train que en test)\n",
        "\n",
        "Train\n",
        "\n",
        "0.7115234312666878\n",
        "\n",
        "0.7101047684650643\n",
        "\n",
        "8.039671399926052\n",
        "\n",
        "Test\n",
        "\n",
        "0.6194624718864719\n",
        "\n",
        "0.6119703958092643\n",
        "\n",
        "6.743660947199181\n",
        "\n",
        "### Incluimos el valor de pm10 de una hora menos de la estacion Argentina, mas proxima a los focos de contaminacion industrial\n",
        "Mejora un poco mas\n",
        "\n",
        "Train\n",
        "\n",
        "0.718860331470167\n",
        "\n",
        "0.7174579165592537\n",
        "\n",
        "7.93632092440623\n",
        "\n",
        "Test\n",
        "\n",
        "0.6204075122922108\n",
        "\n",
        "0.6128144572912294\n",
        "\n",
        "6.731793806147569\n",
        "\n",
        "### Al incluir el pm25 t-1 empeoramos el modelo\n",
        "\n",
        "0.7158746433859251\n",
        "0.7144418889570989\n",
        "7.984338653641078\n",
        "\n",
        "0.6147745549714891\n",
        "0.6070051994817923\n",
        "6.781618222268876"
      ]
    },
    {
      "metadata": {
        "id": "E9AhcDYHL2po",
        "colab_type": "code",
        "outputId": "c8df06b4-9649-4e6b-ff21-5db6b01eeb0c",
        "colab": {
          "base_uri": "https://localhost:8080/",
          "height": 122
        }
      },
      "cell_type": "code",
      "source": [
        "from google.colab import drive\n",
        "drive.mount('/content/gdrive')"
      ],
      "execution_count": 0,
      "outputs": [
        {
          "output_type": "stream",
          "text": [
            "Go to this URL in a browser: https://accounts.google.com/o/oauth2/auth?client_id=947318989803-6bn6qk8qdgf4n4g3pfee6491hc0brc4i.apps.googleusercontent.com&redirect_uri=urn%3Aietf%3Awg%3Aoauth%3A2.0%3Aoob&scope=email%20https%3A%2F%2Fwww.googleapis.com%2Fauth%2Fdocs.test%20https%3A%2F%2Fwww.googleapis.com%2Fauth%2Fdrive%20https%3A%2F%2Fwww.googleapis.com%2Fauth%2Fdrive.photos.readonly%20https%3A%2F%2Fwww.googleapis.com%2Fauth%2Fpeopleapi.readonly&response_type=code\n",
            "\n",
            "Enter your authorization code:\n",
            "··········\n",
            "Mounted at /content/gdrive\n"
          ],
          "name": "stdout"
        }
      ]
    },
    {
      "metadata": {
        "id": "nCZfW3gPlYeZ",
        "colab_type": "text"
      },
      "cell_type": "markdown",
      "source": [
        ""
      ]
    },
    {
      "metadata": {
        "id": "HTQybrUgNcwE",
        "colab_type": "code",
        "outputId": "fb2f5c56-1e3d-42b2-cb02-0726231ef6fe",
        "colab": {
          "base_uri": "https://localhost:8080/",
          "height": 34
        }
      },
      "cell_type": "code",
      "source": [
        "with open('/content/gdrive/My Drive/foo.txt', 'w') as f:\n",
        "  f.write('Hello Google Drive!')\n",
        "!cat /content/gdrive/My\\ Drive/foo.txt"
      ],
      "execution_count": 0,
      "outputs": [
        {
          "output_type": "stream",
          "text": [
            "Hello Google Drive!"
          ],
          "name": "stdout"
        }
      ]
    },
    {
      "metadata": {
        "colab_type": "code",
        "id": "AO5YerXkLhmX",
        "outputId": "6bf0159e-a790-4ea2-b685-474a9352c5da",
        "colab": {
          "base_uri": "https://localhost:8080/",
          "height": 34
        }
      },
      "cell_type": "code",
      "source": [
        "%pylab inline\n",
        "import pandas as pd"
      ],
      "execution_count": 0,
      "outputs": [
        {
          "output_type": "stream",
          "text": [
            "Populating the interactive namespace from numpy and matplotlib\n"
          ],
          "name": "stdout"
        }
      ]
    },
    {
      "metadata": {
        "id": "6MwdXIIoKJ1t",
        "colab_type": "text"
      },
      "cell_type": "markdown",
      "source": [
        "We upload the train and test data"
      ]
    },
    {
      "metadata": {
        "colab_type": "code",
        "outputId": "9726e6d8-8421-4a9f-eb8f-60b01e52aebc",
        "id": "SWHZXA-kLl8M",
        "colab": {
          "resources": {
            "http://localhost:8080/nbextensions/google.colab/files.js": {
              "data": "Ly8gQ29weXJpZ2h0IDIwMTcgR29vZ2xlIExMQwovLwovLyBMaWNlbnNlZCB1bmRlciB0aGUgQXBhY2hlIExpY2Vuc2UsIFZlcnNpb24gMi4wICh0aGUgIkxpY2Vuc2UiKTsKLy8geW91IG1heSBub3QgdXNlIHRoaXMgZmlsZSBleGNlcHQgaW4gY29tcGxpYW5jZSB3aXRoIHRoZSBMaWNlbnNlLgovLyBZb3UgbWF5IG9idGFpbiBhIGNvcHkgb2YgdGhlIExpY2Vuc2UgYXQKLy8KLy8gICAgICBodHRwOi8vd3d3LmFwYWNoZS5vcmcvbGljZW5zZXMvTElDRU5TRS0yLjAKLy8KLy8gVW5sZXNzIHJlcXVpcmVkIGJ5IGFwcGxpY2FibGUgbGF3IG9yIGFncmVlZCB0byBpbiB3cml0aW5nLCBzb2Z0d2FyZQovLyBkaXN0cmlidXRlZCB1bmRlciB0aGUgTGljZW5zZSBpcyBkaXN0cmlidXRlZCBvbiBhbiAiQVMgSVMiIEJBU0lTLAovLyBXSVRIT1VUIFdBUlJBTlRJRVMgT1IgQ09ORElUSU9OUyBPRiBBTlkgS0lORCwgZWl0aGVyIGV4cHJlc3Mgb3IgaW1wbGllZC4KLy8gU2VlIHRoZSBMaWNlbnNlIGZvciB0aGUgc3BlY2lmaWMgbGFuZ3VhZ2UgZ292ZXJuaW5nIHBlcm1pc3Npb25zIGFuZAovLyBsaW1pdGF0aW9ucyB1bmRlciB0aGUgTGljZW5zZS4KCi8qKgogKiBAZmlsZW92ZXJ2aWV3IEhlbHBlcnMgZm9yIGdvb2dsZS5jb2xhYiBQeXRob24gbW9kdWxlLgogKi8KKGZ1bmN0aW9uKHNjb3BlKSB7CmZ1bmN0aW9uIHNwYW4odGV4dCwgc3R5bGVBdHRyaWJ1dGVzID0ge30pIHsKICBjb25zdCBlbGVtZW50ID0gZG9jdW1lbnQuY3JlYXRlRWxlbWVudCgnc3BhbicpOwogIGVsZW1lbnQudGV4dENvbnRlbnQgPSB0ZXh0OwogIGZvciAoY29uc3Qga2V5IG9mIE9iamVjdC5rZXlzKHN0eWxlQXR0cmlidXRlcykpIHsKICAgIGVsZW1lbnQuc3R5bGVba2V5XSA9IHN0eWxlQXR0cmlidXRlc1trZXldOwogIH0KICByZXR1cm4gZWxlbWVudDsKfQoKLy8gTWF4IG51bWJlciBvZiBieXRlcyB3aGljaCB3aWxsIGJlIHVwbG9hZGVkIGF0IGEgdGltZS4KY29uc3QgTUFYX1BBWUxPQURfU0laRSA9IDEwMCAqIDEwMjQ7Ci8vIE1heCBhbW91bnQgb2YgdGltZSB0byBibG9jayB3YWl0aW5nIGZvciB0aGUgdXNlci4KY29uc3QgRklMRV9DSEFOR0VfVElNRU9VVF9NUyA9IDMwICogMTAwMDsKCmZ1bmN0aW9uIF91cGxvYWRGaWxlcyhpbnB1dElkLCBvdXRwdXRJZCkgewogIGNvbnN0IHN0ZXBzID0gdXBsb2FkRmlsZXNTdGVwKGlucHV0SWQsIG91dHB1dElkKTsKICBjb25zdCBvdXRwdXRFbGVtZW50ID0gZG9jdW1lbnQuZ2V0RWxlbWVudEJ5SWQob3V0cHV0SWQpOwogIC8vIENhY2hlIHN0ZXBzIG9uIHRoZSBvdXRwdXRFbGVtZW50IHRvIG1ha2UgaXQgYXZhaWxhYmxlIGZvciB0aGUgbmV4dCBjYWxsCiAgLy8gdG8gdXBsb2FkRmlsZXNDb250aW51ZSBmcm9tIFB5dGhvbi4KICBvdXRwdXRFbGVtZW50LnN0ZXBzID0gc3RlcHM7CgogIHJldHVybiBfdXBsb2FkRmlsZXNDb250aW51ZShvdXRwdXRJZCk7Cn0KCi8vIFRoaXMgaXMgcm91Z2hseSBhbiBhc3luYyBnZW5lcmF0b3IgKG5vdCBzdXBwb3J0ZWQgaW4gdGhlIGJyb3dzZXIgeWV0KSwKLy8gd2hlcmUgdGhlcmUgYXJlIG11bHRpcGxlIGFzeW5jaHJvbm91cyBzdGVwcyBhbmQgdGhlIFB5dGhvbiBzaWRlIGlzIGdvaW5nCi8vIHRvIHBvbGwgZm9yIGNvbXBsZXRpb24gb2YgZWFjaCBzdGVwLgovLyBUaGlzIHVzZXMgYSBQcm9taXNlIHRvIGJsb2NrIHRoZSBweXRob24gc2lkZSBvbiBjb21wbGV0aW9uIG9mIGVhY2ggc3RlcCwKLy8gdGhlbiBwYXNzZXMgdGhlIHJlc3VsdCBvZiB0aGUgcHJldmlvdXMgc3RlcCBhcyB0aGUgaW5wdXQgdG8gdGhlIG5leHQgc3RlcC4KZnVuY3Rpb24gX3VwbG9hZEZpbGVzQ29udGludWUob3V0cHV0SWQpIHsKICBjb25zdCBvdXRwdXRFbGVtZW50ID0gZG9jdW1lbnQuZ2V0RWxlbWVudEJ5SWQob3V0cHV0SWQpOwogIGNvbnN0IHN0ZXBzID0gb3V0cHV0RWxlbWVudC5zdGVwczsKCiAgY29uc3QgbmV4dCA9IHN0ZXBzLm5leHQob3V0cHV0RWxlbWVudC5sYXN0UHJvbWlzZVZhbHVlKTsKICByZXR1cm4gUHJvbWlzZS5yZXNvbHZlKG5leHQudmFsdWUucHJvbWlzZSkudGhlbigodmFsdWUpID0+IHsKICAgIC8vIENhY2hlIHRoZSBsYXN0IHByb21pc2UgdmFsdWUgdG8gbWFrZSBpdCBhdmFpbGFibGUgdG8gdGhlIG5leHQKICAgIC8vIHN0ZXAgb2YgdGhlIGdlbmVyYXRvci4KICAgIG91dHB1dEVsZW1lbnQubGFzdFByb21pc2VWYWx1ZSA9IHZhbHVlOwogICAgcmV0dXJuIG5leHQudmFsdWUucmVzcG9uc2U7CiAgfSk7Cn0KCi8qKgogKiBHZW5lcmF0b3IgZnVuY3Rpb24gd2hpY2ggaXMgY2FsbGVkIGJldHdlZW4gZWFjaCBhc3luYyBzdGVwIG9mIHRoZSB1cGxvYWQKICogcHJvY2Vzcy4KICogQHBhcmFtIHtzdHJpbmd9IGlucHV0SWQgRWxlbWVudCBJRCBvZiB0aGUgaW5wdXQgZmlsZSBwaWNrZXIgZWxlbWVudC4KICogQHBhcmFtIHtzdHJpbmd9IG91dHB1dElkIEVsZW1lbnQgSUQgb2YgdGhlIG91dHB1dCBkaXNwbGF5LgogKiBAcmV0dXJuIHshSXRlcmFibGU8IU9iamVjdD59IEl0ZXJhYmxlIG9mIG5leHQgc3RlcHMuCiAqLwpmdW5jdGlvbiogdXBsb2FkRmlsZXNTdGVwKGlucHV0SWQsIG91dHB1dElkKSB7CiAgY29uc3QgaW5wdXRFbGVtZW50ID0gZG9jdW1lbnQuZ2V0RWxlbWVudEJ5SWQoaW5wdXRJZCk7CiAgaW5wdXRFbGVtZW50LmRpc2FibGVkID0gZmFsc2U7CgogIGNvbnN0IG91dHB1dEVsZW1lbnQgPSBkb2N1bWVudC5nZXRFbGVtZW50QnlJZChvdXRwdXRJZCk7CiAgb3V0cHV0RWxlbWVudC5pbm5lckhUTUwgPSAnJzsKCiAgY29uc3QgcGlja2VkUHJvbWlzZSA9IG5ldyBQcm9taXNlKChyZXNvbHZlKSA9PiB7CiAgICBpbnB1dEVsZW1lbnQuYWRkRXZlbnRMaXN0ZW5lcignY2hhbmdlJywgKGUpID0+IHsKICAgICAgcmVzb2x2ZShlLnRhcmdldC5maWxlcyk7CiAgICB9KTsKICB9KTsKCiAgY29uc3QgY2FuY2VsID0gZG9jdW1lbnQuY3JlYXRlRWxlbWVudCgnYnV0dG9uJyk7CiAgaW5wdXRFbGVtZW50LnBhcmVudEVsZW1lbnQuYXBwZW5kQ2hpbGQoY2FuY2VsKTsKICBjYW5jZWwudGV4dENvbnRlbnQgPSAnQ2FuY2VsIHVwbG9hZCc7CiAgY29uc3QgY2FuY2VsUHJvbWlzZSA9IG5ldyBQcm9taXNlKChyZXNvbHZlKSA9PiB7CiAgICBjYW5jZWwub25jbGljayA9ICgpID0+IHsKICAgICAgcmVzb2x2ZShudWxsKTsKICAgIH07CiAgfSk7CgogIC8vIENhbmNlbCB1cGxvYWQgaWYgdXNlciBoYXNuJ3QgcGlja2VkIGFueXRoaW5nIGluIHRpbWVvdXQuCiAgY29uc3QgdGltZW91dFByb21pc2UgPSBuZXcgUHJvbWlzZSgocmVzb2x2ZSkgPT4gewogICAgc2V0VGltZW91dCgoKSA9PiB7CiAgICAgIHJlc29sdmUobnVsbCk7CiAgICB9LCBGSUxFX0NIQU5HRV9USU1FT1VUX01TKTsKICB9KTsKCiAgLy8gV2FpdCBmb3IgdGhlIHVzZXIgdG8gcGljayB0aGUgZmlsZXMuCiAgY29uc3QgZmlsZXMgPSB5aWVsZCB7CiAgICBwcm9taXNlOiBQcm9taXNlLnJhY2UoW3BpY2tlZFByb21pc2UsIHRpbWVvdXRQcm9taXNlLCBjYW5jZWxQcm9taXNlXSksCiAgICByZXNwb25zZTogewogICAgICBhY3Rpb246ICdzdGFydGluZycsCiAgICB9CiAgfTsKCiAgaWYgKCFmaWxlcykgewogICAgcmV0dXJuIHsKICAgICAgcmVzcG9uc2U6IHsKICAgICAgICBhY3Rpb246ICdjb21wbGV0ZScsCiAgICAgIH0KICAgIH07CiAgfQoKICBjYW5jZWwucmVtb3ZlKCk7CgogIC8vIERpc2FibGUgdGhlIGlucHV0IGVsZW1lbnQgc2luY2UgZnVydGhlciBwaWNrcyBhcmUgbm90IGFsbG93ZWQuCiAgaW5wdXRFbGVtZW50LmRpc2FibGVkID0gdHJ1ZTsKCiAgZm9yIChjb25zdCBmaWxlIG9mIGZpbGVzKSB7CiAgICBjb25zdCBsaSA9IGRvY3VtZW50LmNyZWF0ZUVsZW1lbnQoJ2xpJyk7CiAgICBsaS5hcHBlbmQoc3BhbihmaWxlLm5hbWUsIHtmb250V2VpZ2h0OiAnYm9sZCd9KSk7CiAgICBsaS5hcHBlbmQoc3BhbigKICAgICAgICBgKCR7ZmlsZS50eXBlIHx8ICduL2EnfSkgLSAke2ZpbGUuc2l6ZX0gYnl0ZXMsIGAgKwogICAgICAgIGBsYXN0IG1vZGlmaWVkOiAkewogICAgICAgICAgICBmaWxlLmxhc3RNb2RpZmllZERhdGUgPyBmaWxlLmxhc3RNb2RpZmllZERhdGUudG9Mb2NhbGVEYXRlU3RyaW5nKCkgOgogICAgICAgICAgICAgICAgICAgICAgICAgICAgICAgICAgICAnbi9hJ30gLSBgKSk7CiAgICBjb25zdCBwZXJjZW50ID0gc3BhbignMCUgZG9uZScpOwogICAgbGkuYXBwZW5kQ2hpbGQocGVyY2VudCk7CgogICAgb3V0cHV0RWxlbWVudC5hcHBlbmRDaGlsZChsaSk7CgogICAgY29uc3QgZmlsZURhdGFQcm9taXNlID0gbmV3IFByb21pc2UoKHJlc29sdmUpID0+IHsKICAgICAgY29uc3QgcmVhZGVyID0gbmV3IEZpbGVSZWFkZXIoKTsKICAgICAgcmVhZGVyLm9ubG9hZCA9IChlKSA9PiB7CiAgICAgICAgcmVzb2x2ZShlLnRhcmdldC5yZXN1bHQpOwogICAgICB9OwogICAgICByZWFkZXIucmVhZEFzQXJyYXlCdWZmZXIoZmlsZSk7CiAgICB9KTsKICAgIC8vIFdhaXQgZm9yIHRoZSBkYXRhIHRvIGJlIHJlYWR5LgogICAgbGV0IGZpbGVEYXRhID0geWllbGQgewogICAgICBwcm9taXNlOiBmaWxlRGF0YVByb21pc2UsCiAgICAgIHJlc3BvbnNlOiB7CiAgICAgICAgYWN0aW9uOiAnY29udGludWUnLAogICAgICB9CiAgICB9OwoKICAgIC8vIFVzZSBhIGNodW5rZWQgc2VuZGluZyB0byBhdm9pZCBtZXNzYWdlIHNpemUgbGltaXRzLiBTZWUgYi82MjExNTY2MC4KICAgIGxldCBwb3NpdGlvbiA9IDA7CiAgICB3aGlsZSAocG9zaXRpb24gPCBmaWxlRGF0YS5ieXRlTGVuZ3RoKSB7CiAgICAgIGNvbnN0IGxlbmd0aCA9IE1hdGgubWluKGZpbGVEYXRhLmJ5dGVMZW5ndGggLSBwb3NpdGlvbiwgTUFYX1BBWUxPQURfU0laRSk7CiAgICAgIGNvbnN0IGNodW5rID0gbmV3IFVpbnQ4QXJyYXkoZmlsZURhdGEsIHBvc2l0aW9uLCBsZW5ndGgpOwogICAgICBwb3NpdGlvbiArPSBsZW5ndGg7CgogICAgICBjb25zdCBiYXNlNjQgPSBidG9hKFN0cmluZy5mcm9tQ2hhckNvZGUuYXBwbHkobnVsbCwgY2h1bmspKTsKICAgICAgeWllbGQgewogICAgICAgIHJlc3BvbnNlOiB7CiAgICAgICAgICBhY3Rpb246ICdhcHBlbmQnLAogICAgICAgICAgZmlsZTogZmlsZS5uYW1lLAogICAgICAgICAgZGF0YTogYmFzZTY0LAogICAgICAgIH0sCiAgICAgIH07CiAgICAgIHBlcmNlbnQudGV4dENvbnRlbnQgPQogICAgICAgICAgYCR7TWF0aC5yb3VuZCgocG9zaXRpb24gLyBmaWxlRGF0YS5ieXRlTGVuZ3RoKSAqIDEwMCl9JSBkb25lYDsKICAgIH0KICB9CgogIC8vIEFsbCBkb25lLgogIHlpZWxkIHsKICAgIHJlc3BvbnNlOiB7CiAgICAgIGFjdGlvbjogJ2NvbXBsZXRlJywKICAgIH0KICB9Owp9CgpzY29wZS5nb29nbGUgPSBzY29wZS5nb29nbGUgfHwge307CnNjb3BlLmdvb2dsZS5jb2xhYiA9IHNjb3BlLmdvb2dsZS5jb2xhYiB8fCB7fTsKc2NvcGUuZ29vZ2xlLmNvbGFiLl9maWxlcyA9IHsKICBfdXBsb2FkRmlsZXMsCiAgX3VwbG9hZEZpbGVzQ29udGludWUsCn07Cn0pKHNlbGYpOwo=",
              "ok": true,
              "headers": [
                [
                  "content-type",
                  "application/javascript"
                ]
              ],
              "status": 200,
              "status_text": ""
            }
          },
          "base_uri": "https://localhost:8080/",
          "height": 246
        }
      },
      "cell_type": "code",
      "source": [
        "from google.colab import files\n",
        "\n",
        "uploaded = files.upload()\n",
        "\n",
        "for fn in uploaded.keys():\n",
        "  print('User uploaded file \"{name}\" with length {length} bytes'.format(\n",
        "      name=fn, length=len(uploaded[fn])))"
      ],
      "execution_count": 0,
      "outputs": [
        {
          "output_type": "display_data",
          "data": {
            "text/html": [
              "\n",
              "     <input type=\"file\" id=\"files-ab7acfa0-e822-4c43-a881-a5f46eb24391\" name=\"files[]\" multiple disabled />\n",
              "     <output id=\"result-ab7acfa0-e822-4c43-a881-a5f46eb24391\">\n",
              "      Upload widget is only available when the cell has been executed in the\n",
              "      current browser session. Please rerun this cell to enable.\n",
              "      </output>\n",
              "      <script src=\"/nbextensions/google.colab/files.js\"></script> "
            ],
            "text/plain": [
              "<IPython.core.display.HTML object>"
            ]
          },
          "metadata": {
            "tags": []
          }
        },
        {
          "output_type": "stream",
          "text": [
            "Saving X_test_201701_201709.csv to X_test_201701_201709.csv\n",
            "Saving y_test_201701_201709.csv to y_test_201701_201709.csv\n",
            "Saving X_train_2014_2016.csv to X_train_2014_2016.csv\n",
            "Saving y_train_2014_2016.csv to y_train_2014_2016.csv\n",
            "User uploaded file \"X_test_201701_201709.csv\" with length 513161 bytes\n",
            "User uploaded file \"y_test_201701_201709.csv\" with length 18546 bytes\n",
            "User uploaded file \"X_train_2014_2016.csv\" with length 2025029 bytes\n",
            "User uploaded file \"y_train_2014_2016.csv\" with length 73801 bytes\n"
          ],
          "name": "stdout"
        }
      ]
    },
    {
      "metadata": {
        "id": "XxicacGTIgGB",
        "colab_type": "code",
        "outputId": "18fe4d46-1d12-4cee-82e2-f475c35b99c5",
        "colab": {
          "base_uri": "https://localhost:8080/",
          "height": 51
        }
      },
      "cell_type": "code",
      "source": [
        "!ls"
      ],
      "execution_count": 0,
      "outputs": [
        {
          "output_type": "stream",
          "text": [
            "gdrive\t     X_test_201701_201709_6h.csv  y_test_201701_201709_6h.csv\n",
            "sample_data  X_train_2014_2016_6h.csv\t  y_train_2014_2016_6h.csv\n"
          ],
          "name": "stdout"
        }
      ]
    },
    {
      "metadata": {
        "id": "CD1rMfVqXxY0",
        "colab_type": "code",
        "outputId": "bdf9e921-636a-4817-b372-114bc7fad974",
        "colab": {
          "base_uri": "https://localhost:8080/",
          "height": 34
        }
      },
      "cell_type": "code",
      "source": [
        " !rm *.csv*"
      ],
      "execution_count": 0,
      "outputs": [
        {
          "output_type": "stream",
          "text": [
            "rm: cannot remove '*.csv*': No such file or directory\n"
          ],
          "name": "stdout"
        }
      ]
    },
    {
      "metadata": {
        "id": "nVKFCFtVKR6B",
        "colab_type": "code",
        "colab": {}
      },
      "cell_type": "code",
      "source": [
        "#X_train = pd.read_csv(\"X_train_lite.csv\")\n",
        "#y_train = pd.read_csv(\"y_train_lite.csv\")\n",
        "\n",
        "X_train = pd.read_csv(\"X_train_2014_2016.csv\")\n",
        "y_train = pd.read_csv(\"y_train_2014_2016.csv\")\n",
        "\n",
        "#X_train = pd.read_csv(\"X_train_2009_2016.csv\")\n",
        "#y_train = pd.read_csv(\"y_train_2009_2016.csv\")\n",
        "\n",
        "X_test = pd.read_csv(\"X_test_201701_201709.csv\")\n",
        "y_test = pd.read_csv(\"y_test_201701_201709.csv\")\n",
        "\n",
        "#X_test = pd.read_csv(\"X_test.csv\")\n",
        "#y_test = pd.read_csv(\"y_test.csv\")"
      ],
      "execution_count": 0,
      "outputs": []
    },
    {
      "metadata": {
        "id": "jzcUyy0tKINw",
        "colab_type": "code",
        "outputId": "5cbaad41-2972-4072-b644-67b4c19b811c",
        "colab": {
          "base_uri": "https://localhost:8080/",
          "height": 255
        }
      },
      "cell_type": "code",
      "source": [
        "X_train.head()"
      ],
      "execution_count": 0,
      "outputs": [
        {
          "output_type": "execute_result",
          "data": {
            "text/html": [
              "<div>\n",
              "<style scoped>\n",
              "    .dataframe tbody tr th:only-of-type {\n",
              "        vertical-align: middle;\n",
              "    }\n",
              "\n",
              "    .dataframe tbody tr th {\n",
              "        vertical-align: top;\n",
              "    }\n",
              "\n",
              "    .dataframe thead th {\n",
              "        text-align: right;\n",
              "    }\n",
              "</style>\n",
              "<table border=\"1\" class=\"dataframe\">\n",
              "  <thead>\n",
              "    <tr style=\"text-align: right;\">\n",
              "      <th></th>\n",
              "      <th>PM10_1_arg</th>\n",
              "      <th>hour</th>\n",
              "      <th>week_day</th>\n",
              "      <th>month</th>\n",
              "      <th>lab</th>\n",
              "      <th>PM10_1</th>\n",
              "      <th>PM10_2</th>\n",
              "      <th>PM10_3</th>\n",
              "      <th>PM10_4</th>\n",
              "      <th>NO2_1</th>\n",
              "      <th>...</th>\n",
              "      <th>SO2_4</th>\n",
              "      <th>vv_1</th>\n",
              "      <th>vv_2</th>\n",
              "      <th>vv_3</th>\n",
              "      <th>vv_4</th>\n",
              "      <th>wd_1</th>\n",
              "      <th>wd_2</th>\n",
              "      <th>wd_3</th>\n",
              "      <th>wd_4</th>\n",
              "      <th>PM25_1</th>\n",
              "    </tr>\n",
              "  </thead>\n",
              "  <tbody>\n",
              "    <tr>\n",
              "      <th>0</th>\n",
              "      <td>18</td>\n",
              "      <td>4</td>\n",
              "      <td>3</td>\n",
              "      <td>1</td>\n",
              "      <td>no_lab</td>\n",
              "      <td>21</td>\n",
              "      <td>16</td>\n",
              "      <td>20</td>\n",
              "      <td>22</td>\n",
              "      <td>29</td>\n",
              "      <td>...</td>\n",
              "      <td>2</td>\n",
              "      <td>0.11</td>\n",
              "      <td>0.10</td>\n",
              "      <td>0.17</td>\n",
              "      <td>0.23</td>\n",
              "      <td>SSW</td>\n",
              "      <td>SSE</td>\n",
              "      <td>WS</td>\n",
              "      <td>S</td>\n",
              "      <td>17</td>\n",
              "    </tr>\n",
              "    <tr>\n",
              "      <th>1</th>\n",
              "      <td>19</td>\n",
              "      <td>5</td>\n",
              "      <td>3</td>\n",
              "      <td>1</td>\n",
              "      <td>no_lab</td>\n",
              "      <td>14</td>\n",
              "      <td>21</td>\n",
              "      <td>16</td>\n",
              "      <td>20</td>\n",
              "      <td>20</td>\n",
              "      <td>...</td>\n",
              "      <td>3</td>\n",
              "      <td>0.10</td>\n",
              "      <td>0.11</td>\n",
              "      <td>0.10</td>\n",
              "      <td>0.17</td>\n",
              "      <td>SE</td>\n",
              "      <td>SSW</td>\n",
              "      <td>SSE</td>\n",
              "      <td>WS</td>\n",
              "      <td>10</td>\n",
              "    </tr>\n",
              "    <tr>\n",
              "      <th>2</th>\n",
              "      <td>15</td>\n",
              "      <td>6</td>\n",
              "      <td>3</td>\n",
              "      <td>1</td>\n",
              "      <td>no_lab</td>\n",
              "      <td>14</td>\n",
              "      <td>14</td>\n",
              "      <td>21</td>\n",
              "      <td>16</td>\n",
              "      <td>23</td>\n",
              "      <td>...</td>\n",
              "      <td>2</td>\n",
              "      <td>0.11</td>\n",
              "      <td>0.10</td>\n",
              "      <td>0.11</td>\n",
              "      <td>0.10</td>\n",
              "      <td>SW</td>\n",
              "      <td>SE</td>\n",
              "      <td>SSW</td>\n",
              "      <td>SSE</td>\n",
              "      <td>16</td>\n",
              "    </tr>\n",
              "    <tr>\n",
              "      <th>3</th>\n",
              "      <td>9</td>\n",
              "      <td>7</td>\n",
              "      <td>3</td>\n",
              "      <td>1</td>\n",
              "      <td>no_lab</td>\n",
              "      <td>12</td>\n",
              "      <td>14</td>\n",
              "      <td>14</td>\n",
              "      <td>21</td>\n",
              "      <td>23</td>\n",
              "      <td>...</td>\n",
              "      <td>2</td>\n",
              "      <td>0.10</td>\n",
              "      <td>0.11</td>\n",
              "      <td>0.10</td>\n",
              "      <td>0.11</td>\n",
              "      <td>SSW</td>\n",
              "      <td>SW</td>\n",
              "      <td>SE</td>\n",
              "      <td>SSW</td>\n",
              "      <td>17</td>\n",
              "    </tr>\n",
              "    <tr>\n",
              "      <th>4</th>\n",
              "      <td>8</td>\n",
              "      <td>8</td>\n",
              "      <td>3</td>\n",
              "      <td>1</td>\n",
              "      <td>no_lab</td>\n",
              "      <td>9</td>\n",
              "      <td>12</td>\n",
              "      <td>14</td>\n",
              "      <td>14</td>\n",
              "      <td>20</td>\n",
              "      <td>...</td>\n",
              "      <td>2</td>\n",
              "      <td>0.91</td>\n",
              "      <td>0.10</td>\n",
              "      <td>0.11</td>\n",
              "      <td>0.10</td>\n",
              "      <td>SE</td>\n",
              "      <td>SSW</td>\n",
              "      <td>SW</td>\n",
              "      <td>SE</td>\n",
              "      <td>16</td>\n",
              "    </tr>\n",
              "  </tbody>\n",
              "</table>\n",
              "<p>5 rows × 26 columns</p>\n",
              "</div>"
            ],
            "text/plain": [
              "   PM10_1_arg  hour  week_day  month     lab  PM10_1  PM10_2  PM10_3  PM10_4  \\\n",
              "0          18     4         3      1  no_lab      21      16      20      22   \n",
              "1          19     5         3      1  no_lab      14      21      16      20   \n",
              "2          15     6         3      1  no_lab      14      14      21      16   \n",
              "3           9     7         3      1  no_lab      12      14      14      21   \n",
              "4           8     8         3      1  no_lab       9      12      14      14   \n",
              "\n",
              "   NO2_1   ...    SO2_4  vv_1  vv_2  vv_3  vv_4  wd_1  wd_2  wd_3  wd_4  \\\n",
              "0     29   ...        2  0.11  0.10  0.17  0.23   SSW   SSE    WS     S   \n",
              "1     20   ...        3  0.10  0.11  0.10  0.17    SE   SSW   SSE    WS   \n",
              "2     23   ...        2  0.11  0.10  0.11  0.10    SW    SE   SSW   SSE   \n",
              "3     23   ...        2  0.10  0.11  0.10  0.11   SSW    SW    SE   SSW   \n",
              "4     20   ...        2  0.91  0.10  0.11  0.10    SE   SSW    SW    SE   \n",
              "\n",
              "   PM25_1  \n",
              "0      17  \n",
              "1      10  \n",
              "2      16  \n",
              "3      17  \n",
              "4      16  \n",
              "\n",
              "[5 rows x 26 columns]"
            ]
          },
          "metadata": {
            "tags": []
          },
          "execution_count": 101
        }
      ]
    },
    {
      "metadata": {
        "id": "j0X1VH_86kzj",
        "colab_type": "code",
        "outputId": "9ddae8e5-b633-4464-f93a-be9b8cd4418d",
        "colab": {
          "base_uri": "https://localhost:8080/",
          "height": 255
        }
      },
      "cell_type": "code",
      "source": [
        "X_test.head()"
      ],
      "execution_count": 0,
      "outputs": [
        {
          "output_type": "execute_result",
          "data": {
            "text/html": [
              "<div>\n",
              "<style scoped>\n",
              "    .dataframe tbody tr th:only-of-type {\n",
              "        vertical-align: middle;\n",
              "    }\n",
              "\n",
              "    .dataframe tbody tr th {\n",
              "        vertical-align: top;\n",
              "    }\n",
              "\n",
              "    .dataframe thead th {\n",
              "        text-align: right;\n",
              "    }\n",
              "</style>\n",
              "<table border=\"1\" class=\"dataframe\">\n",
              "  <thead>\n",
              "    <tr style=\"text-align: right;\">\n",
              "      <th></th>\n",
              "      <th>PM10_1_arg</th>\n",
              "      <th>hour</th>\n",
              "      <th>week_day</th>\n",
              "      <th>month</th>\n",
              "      <th>lab</th>\n",
              "      <th>PM10_1</th>\n",
              "      <th>PM10_2</th>\n",
              "      <th>PM10_3</th>\n",
              "      <th>PM10_4</th>\n",
              "      <th>NO2_1</th>\n",
              "      <th>...</th>\n",
              "      <th>SO2_4</th>\n",
              "      <th>vv_1</th>\n",
              "      <th>vv_2</th>\n",
              "      <th>vv_3</th>\n",
              "      <th>vv_4</th>\n",
              "      <th>wd_1</th>\n",
              "      <th>wd_2</th>\n",
              "      <th>wd_3</th>\n",
              "      <th>wd_4</th>\n",
              "      <th>PM25_1</th>\n",
              "    </tr>\n",
              "  </thead>\n",
              "  <tbody>\n",
              "    <tr>\n",
              "      <th>0</th>\n",
              "      <td>42</td>\n",
              "      <td>4</td>\n",
              "      <td>7</td>\n",
              "      <td>1</td>\n",
              "      <td>no_lab</td>\n",
              "      <td>36</td>\n",
              "      <td>35</td>\n",
              "      <td>38</td>\n",
              "      <td>46</td>\n",
              "      <td>40</td>\n",
              "      <td>...</td>\n",
              "      <td>3</td>\n",
              "      <td>0.10</td>\n",
              "      <td>0.11</td>\n",
              "      <td>0.11</td>\n",
              "      <td>0.10</td>\n",
              "      <td>WNW</td>\n",
              "      <td>W</td>\n",
              "      <td>W</td>\n",
              "      <td>SSW</td>\n",
              "      <td>24</td>\n",
              "    </tr>\n",
              "    <tr>\n",
              "      <th>1</th>\n",
              "      <td>42</td>\n",
              "      <td>5</td>\n",
              "      <td>7</td>\n",
              "      <td>1</td>\n",
              "      <td>no_lab</td>\n",
              "      <td>31</td>\n",
              "      <td>36</td>\n",
              "      <td>35</td>\n",
              "      <td>38</td>\n",
              "      <td>39</td>\n",
              "      <td>...</td>\n",
              "      <td>3</td>\n",
              "      <td>0.11</td>\n",
              "      <td>0.10</td>\n",
              "      <td>0.11</td>\n",
              "      <td>0.11</td>\n",
              "      <td>W</td>\n",
              "      <td>WNW</td>\n",
              "      <td>W</td>\n",
              "      <td>W</td>\n",
              "      <td>32</td>\n",
              "    </tr>\n",
              "    <tr>\n",
              "      <th>2</th>\n",
              "      <td>38</td>\n",
              "      <td>6</td>\n",
              "      <td>7</td>\n",
              "      <td>1</td>\n",
              "      <td>no_lab</td>\n",
              "      <td>22</td>\n",
              "      <td>31</td>\n",
              "      <td>36</td>\n",
              "      <td>35</td>\n",
              "      <td>37</td>\n",
              "      <td>...</td>\n",
              "      <td>5</td>\n",
              "      <td>0.12</td>\n",
              "      <td>0.11</td>\n",
              "      <td>0.10</td>\n",
              "      <td>0.11</td>\n",
              "      <td>WNW</td>\n",
              "      <td>W</td>\n",
              "      <td>WNW</td>\n",
              "      <td>W</td>\n",
              "      <td>21</td>\n",
              "    </tr>\n",
              "    <tr>\n",
              "      <th>3</th>\n",
              "      <td>41</td>\n",
              "      <td>7</td>\n",
              "      <td>7</td>\n",
              "      <td>1</td>\n",
              "      <td>no_lab</td>\n",
              "      <td>32</td>\n",
              "      <td>22</td>\n",
              "      <td>31</td>\n",
              "      <td>36</td>\n",
              "      <td>40</td>\n",
              "      <td>...</td>\n",
              "      <td>7</td>\n",
              "      <td>0.11</td>\n",
              "      <td>0.12</td>\n",
              "      <td>0.11</td>\n",
              "      <td>0.10</td>\n",
              "      <td>WNW</td>\n",
              "      <td>WNW</td>\n",
              "      <td>W</td>\n",
              "      <td>WNW</td>\n",
              "      <td>29</td>\n",
              "    </tr>\n",
              "    <tr>\n",
              "      <th>4</th>\n",
              "      <td>46</td>\n",
              "      <td>8</td>\n",
              "      <td>7</td>\n",
              "      <td>1</td>\n",
              "      <td>no_lab</td>\n",
              "      <td>21</td>\n",
              "      <td>32</td>\n",
              "      <td>22</td>\n",
              "      <td>31</td>\n",
              "      <td>38</td>\n",
              "      <td>...</td>\n",
              "      <td>8</td>\n",
              "      <td>0.10</td>\n",
              "      <td>0.11</td>\n",
              "      <td>0.12</td>\n",
              "      <td>0.11</td>\n",
              "      <td>NW</td>\n",
              "      <td>WNW</td>\n",
              "      <td>WNW</td>\n",
              "      <td>W</td>\n",
              "      <td>29</td>\n",
              "    </tr>\n",
              "  </tbody>\n",
              "</table>\n",
              "<p>5 rows × 26 columns</p>\n",
              "</div>"
            ],
            "text/plain": [
              "   PM10_1_arg  hour  week_day  month     lab  PM10_1  PM10_2  PM10_3  PM10_4  \\\n",
              "0          42     4         7      1  no_lab      36      35      38      46   \n",
              "1          42     5         7      1  no_lab      31      36      35      38   \n",
              "2          38     6         7      1  no_lab      22      31      36      35   \n",
              "3          41     7         7      1  no_lab      32      22      31      36   \n",
              "4          46     8         7      1  no_lab      21      32      22      31   \n",
              "\n",
              "   NO2_1   ...    SO2_4  vv_1  vv_2  vv_3  vv_4  wd_1  wd_2  wd_3  wd_4  \\\n",
              "0     40   ...        3  0.10  0.11  0.11  0.10   WNW     W     W   SSW   \n",
              "1     39   ...        3  0.11  0.10  0.11  0.11     W   WNW     W     W   \n",
              "2     37   ...        5  0.12  0.11  0.10  0.11   WNW     W   WNW     W   \n",
              "3     40   ...        7  0.11  0.12  0.11  0.10   WNW   WNW     W   WNW   \n",
              "4     38   ...        8  0.10  0.11  0.12  0.11    NW   WNW   WNW     W   \n",
              "\n",
              "   PM25_1  \n",
              "0      24  \n",
              "1      32  \n",
              "2      21  \n",
              "3      29  \n",
              "4      29  \n",
              "\n",
              "[5 rows x 26 columns]"
            ]
          },
          "metadata": {
            "tags": []
          },
          "execution_count": 102
        }
      ]
    },
    {
      "metadata": {
        "id": "GuK_KZmvGAqh",
        "colab_type": "text"
      },
      "cell_type": "markdown",
      "source": [
        "Convertimos a strings las variables hour, week_day y month"
      ]
    },
    {
      "metadata": {
        "id": "OxAB-U7RxLSs",
        "colab_type": "code",
        "colab": {}
      },
      "cell_type": "code",
      "source": [
        "X_train.hour = X_train.hour.astype(str)\n",
        "X_test.hour = X_test.hour.astype(str)\n",
        "\n",
        "\n",
        "X_train.week_day = X_train.week_day.astype(str)\n",
        "X_test.week_day = X_test.week_day.astype(str)\n",
        "\n",
        "X_train.month = X_train.month.astype(str)\n",
        "X_test.month = X_test.month.astype(str)"
      ],
      "execution_count": 0,
      "outputs": []
    },
    {
      "metadata": {
        "id": "Zm-QaiPCLWuP",
        "colab_type": "text"
      },
      "cell_type": "markdown",
      "source": [
        "One hot encoding"
      ]
    },
    {
      "metadata": {
        "id": "iqw5gcYbQIQW",
        "colab_type": "code",
        "colab": {}
      },
      "cell_type": "code",
      "source": [
        "X_train = pd.get_dummies(X_train)\n",
        "X_test  = pd.get_dummies(X_test)"
      ],
      "execution_count": 0,
      "outputs": []
    },
    {
      "metadata": {
        "id": "GC2YFfzDbuIE",
        "colab_type": "code",
        "colab": {}
      },
      "cell_type": "code",
      "source": [
        "X_train.info(null_counts=True, verbose=True)"
      ],
      "execution_count": 0,
      "outputs": []
    },
    {
      "metadata": {
        "id": "J62ncY2KQIVU",
        "colab_type": "code",
        "outputId": "8b53d26a-5eb4-4b53-bb5e-b31686f3dca3",
        "colab": {
          "base_uri": "https://localhost:8080/",
          "height": 34
        }
      },
      "cell_type": "code",
      "source": [
        "X_train.shape"
      ],
      "execution_count": 0,
      "outputs": [
        {
          "output_type": "execute_result",
          "data": {
            "text/plain": [
              "(25544, 125)"
            ]
          },
          "metadata": {
            "tags": []
          },
          "execution_count": 68
        }
      ]
    },
    {
      "metadata": {
        "id": "kwIMDbAyQIbT",
        "colab_type": "code",
        "outputId": "386845e3-771e-449c-99ce-135c24c83929",
        "colab": {
          "base_uri": "https://localhost:8080/",
          "height": 34
        }
      },
      "cell_type": "code",
      "source": [
        "X_test.shape"
      ],
      "execution_count": 0,
      "outputs": [
        {
          "output_type": "execute_result",
          "data": {
            "text/plain": [
              "(6475, 122)"
            ]
          },
          "metadata": {
            "tags": []
          },
          "execution_count": 69
        }
      ]
    },
    {
      "metadata": {
        "id": "el7UT_sFSEmB",
        "colab_type": "text"
      },
      "cell_type": "markdown",
      "source": [
        "Al hacer el one hot encoding el X_train y el X_test tienen distintas dimensiones. X_train tiene 47 variables y X_test 44. Por que? Porque el dataset de test tiene solo 9 meses, de enero a septiembre, y entonces la variable month solo se convierte en 9 variables, mientras que el dataset tendriamos 12, los 12 meses del anho. \n",
        "Con el siguiente codigo solucionamos el problema (falta referencia)"
      ]
    },
    {
      "metadata": {
        "id": "wr-ywngFWMmd",
        "colab_type": "code",
        "colab": {}
      },
      "cell_type": "code",
      "source": [
        "# Get missing columns in the training test\n",
        "missing_cols = set( X_train.columns ) - set( X_test.columns )\n",
        "# Add a missing column in test set with default value equal to 0\n",
        "for c in missing_cols:\n",
        "    X_test[c] = 0\n",
        "# Ensure the order of column in the test set is in the same order than in train set\n",
        "X_test = X_test[X_train.columns]\n",
        "# This code also ensure that column resulting from category in the test dataset but not present in the training dataset will be removed"
      ],
      "execution_count": 0,
      "outputs": []
    },
    {
      "metadata": {
        "id": "nIFbNhKeLf-3",
        "colab_type": "text"
      },
      "cell_type": "markdown",
      "source": [
        ""
      ]
    },
    {
      "metadata": {
        "id": "SRla1ULdO47a",
        "colab_type": "code",
        "outputId": "891349aa-f97a-4eda-c187-b1bca6a78891",
        "colab": {
          "base_uri": "https://localhost:8080/",
          "height": 265
        }
      },
      "cell_type": "code",
      "source": [
        "plt.plot(y_test[\"PM10_0\"]);"
      ],
      "execution_count": 0,
      "outputs": [
        {
          "output_type": "display_data",
          "data": {
            "image/png": "[encoded data removed]",
            "text/plain": [
              "<matplotlib.figure.Figure at 0x7f720cad8128>"
            ]
          },
          "metadata": {
            "tags": []
          }
        }
      ]
    },
    {
      "metadata": {
        "id": "vqCay0q0OEhx",
        "colab_type": "text"
      },
      "cell_type": "markdown",
      "source": [
        "Linear Regression"
      ]
    },
    {
      "metadata": {
        "id": "UrOFxuTIx945",
        "colab_type": "code",
        "colab": {}
      },
      "cell_type": "code",
      "source": [
        "from sklearn.linear_model import LinearRegression\n",
        "from sklearn.metrics import mean_squared_error\n",
        "from sklearn.metrics import r2_score\n",
        "\n"
      ],
      "execution_count": 0,
      "outputs": []
    },
    {
      "metadata": {
        "id": "FIcaps1EoaP7",
        "colab_type": "text"
      },
      "cell_type": "markdown",
      "source": [
        "XGBoost"
      ]
    },
    {
      "metadata": {
        "id": "0UizqGOMoeTD",
        "colab_type": "code",
        "outputId": "c5b90a2f-54f2-4ce8-da1c-73336ad76030",
        "colab": {
          "base_uri": "https://localhost:8080/",
          "height": 121
        }
      },
      "cell_type": "code",
      "source": [
        "from xgboost import XGBRegressor\n",
        "import os\n",
        "os.environ[\"KMP_DUPLICATE_LIB_OK\"]=\"TRUE\"\n",
        "#regXGB = GridSearchCV(XGBRegressor(n_estimators=100, min_samples_leaf=1,max_depth=4),\n",
        " #                  param_grid={\"min_samples_leaf\":[10,20,30,40,70,100],\n",
        "  #                            \"max_depth\":range(2,10)},\n",
        "   #                scoring=\"neg_mean_squared_error\")\n",
        "\n",
        "regXGB = XGBRegressor(n_estimators=350, min_samples_leaf=10,max_depth=3)\n",
        "\n",
        "regXGB.fit(X_train,y_train)\n",
        "\n",
        "#print(regXGB.best_params_)\n",
        "#print(regXGB.best_score_)\n",
        "#print(np.sqrt(-regXGB.best_score_))\n",
        "#print(mean_absolute_error(y_test, y_pred))\n"
      ],
      "execution_count": 0,
      "outputs": [
        {
          "output_type": "execute_result",
          "data": {
            "text/plain": [
              "XGBRegressor(base_score=0.5, booster='gbtree', colsample_bylevel=1,\n",
              "       colsample_bytree=1, gamma=0, learning_rate=0.1, max_delta_step=0,\n",
              "       max_depth=3, min_child_weight=1, min_samples_leaf=10, missing=None,\n",
              "       n_estimators=350, n_jobs=1, nthread=None, objective='reg:linear',\n",
              "       random_state=0, reg_alpha=0, reg_lambda=1, scale_pos_weight=1,\n",
              "       seed=None, silent=True, subsample=1)"
            ]
          },
          "metadata": {
            "tags": []
          },
          "execution_count": 106
        }
      ]
    },
    {
      "metadata": {
        "id": "2B_dcgmJABoR",
        "colab_type": "code",
        "outputId": "8aa91ea2-cd7b-4b43-9f02-62fcf75a8f11",
        "colab": {
          "base_uri": "https://localhost:8080/",
          "height": 69
        }
      },
      "cell_type": "code",
      "source": [
        "# Evaluacion con train\n",
        "\n",
        "y_pred = regXGB.predict(X_train)\n",
        "r2 = r2_score(y_train, y_pred)\n",
        "print(r2)\n",
        "r2_adjusted = 1 - (1-r2)*(len(y_train)-1)/(len(y_train)-X_train.shape[1]-1)\n",
        "print(r2_adjusted)\n",
        "rmse = np.sqrt(mean_squared_error(y_train, y_pred))\n",
        "print(rmse)"
      ],
      "execution_count": 0,
      "outputs": [
        {
          "output_type": "stream",
          "text": [
            "0.7158746433859251\n",
            "0.7144418889570989\n",
            "7.984338653641078\n"
          ],
          "name": "stdout"
        }
      ]
    },
    {
      "metadata": {
        "id": "XD0ROMWSIxfz",
        "colab_type": "code",
        "outputId": "fd576b45-1dbb-49df-fb8e-e44854a19497",
        "colab": {
          "base_uri": "https://localhost:8080/",
          "height": 69
        }
      },
      "cell_type": "code",
      "source": [
        "# Evaluacion con test\n",
        "y_pred = regXGB.predict(X_test)\n",
        "r2 = r2_score(y_test, y_pred)\n",
        "print(r2)\n",
        "r2_adjusted = 1 - (1-r2)*(len(y_test)-1)/(len(y_test)-X_test.shape[1]-1)\n",
        "print(r2_adjusted)\n",
        "rmse = np.sqrt(mean_squared_error(y_test, y_pred))\n",
        "print(rmse)"
      ],
      "execution_count": 0,
      "outputs": [
        {
          "output_type": "stream",
          "text": [
            "0.6147745549714891\n",
            "0.6070051994817923\n",
            "6.781618222268876\n"
          ],
          "name": "stdout"
        }
      ]
    },
    {
      "metadata": {
        "colab_type": "code",
        "id": "h70RZaF7_2op",
        "colab": {}
      },
      "cell_type": "code",
      "source": [
        "from xgboost import XGBRegressor\n",
        "from sklearn.model_selection import GridSearchCV\n",
        "import os\n",
        "os.environ[\"KMP_DUPLICATE_LIB_OK\"]=\"TRUE\"\n",
        "regXGB = GridSearchCV(XGBRegressor(n_estimators=350, min_samples_leaf=1,max_depth=4),\n",
        "                   param_grid={\"n_estimators\":[100, 200, 300, 400, 500, 1000],\n",
        "                                \"min_samples_leaf\":[10,20,30,40,70,100],\n",
        "                                  \"max_depth\":range(2,10)},\n",
        "                                    scoring=\"neg_mean_squared_error\")\n",
        "\n",
        "regXGB.fit(X_train,y_train)\n",
        "\n",
        "print(regXGB.best_params_)\n",
        "print(regXGB.best_score_)\n",
        "print(np.sqrt(-regXGB.best_score_))\n",
        "print(mean_absolute_error(y_test, y_pred))\n"
      ],
      "execution_count": 0,
      "outputs": []
    },
    {
      "metadata": {
        "id": "4pWRJTuev2CU",
        "colab_type": "text"
      },
      "cell_type": "markdown",
      "source": [
        "\n",
        "\n"
      ]
    },
    {
      "metadata": {
        "id": "pqqk9mmG1LeF",
        "colab_type": "code",
        "outputId": "37be3e8c-f3f8-4042-a79b-12abfcf33f79",
        "colab": {
          "base_uri": "https://localhost:8080/",
          "height": 609
        }
      },
      "cell_type": "code",
      "source": [
        "y_pred = y_pred.astype(float)\n",
        "y_test = pd.DataFrame(y_test)\n",
        "y_test = y_test.values\n",
        "y_pred = pd.DataFrame(y_pred)\n",
        "plt.figure(figsize=(20,10))\n",
        "plt.scatter(x = y_test, y = y_pred)"
      ],
      "execution_count": 0,
      "outputs": [
        {
          "output_type": "execute_result",
          "data": {
            "text/plain": [
              "<matplotlib.collections.PathCollection at 0x7f720cbadc50>"
            ]
          },
          "metadata": {
            "tags": []
          },
          "execution_count": 74
        },
        {
          "output_type": "display_data",
          "data": {
            "image/png": "[encoded data removed]",
            "text/plain": [
              "<matplotlib.figure.Figure at 0x7f720cc88f28>"
            ]
          },
          "metadata": {
            "tags": []
          }
        }
      ]
    },
    {
      "metadata": {
        "id": "9txDe0Z73XGB",
        "colab_type": "text"
      },
      "cell_type": "markdown",
      "source": [
        ""
      ]
    }
  ]
}