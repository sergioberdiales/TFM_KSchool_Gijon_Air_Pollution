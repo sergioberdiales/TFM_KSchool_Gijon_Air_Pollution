{
 "cells": [
  {
   "cell_type": "markdown",
   "metadata": {
    "colab_type": "text",
    "id": "IIniHIeSBcLu"
   },
   "source": [
    "Testing different machine learning models.  \n",
    "Only auto regressive variables.  \n",
    "PM10 / NO2  \n",
    "h = 1  \n",
    "train period: 201401-201612, 201610-201612 and 200901-201612 \n",
    "test period: 201701-201709  "
   ]
  },
  {
   "cell_type": "code",
   "execution_count": 0,
   "metadata": {
    "colab": {
     "base_uri": "https://localhost:8080/",
     "height": 51
    },
    "colab_type": "code",
    "id": "AO5YerXkLhmX",
    "outputId": "56f4303d-a7e7-4b09-efa6-d2b438a9c6aa"
   },
   "outputs": [
    {
     "name": "stdout",
     "output_type": "stream",
     "text": [
      "Populating the interactive namespace from numpy and matplotlib\n",
      "Requirement already satisfied: pyreadr in /usr/local/lib/python3.6/dist-packages (0.1.6)\n"
     ]
    }
   ],
   "source": [
    "%pylab inline\n",
    "import pandas as pd\n",
    "\n",
    "# We install and import pyreadr, in order to read rds objects.  \n",
    "# https://github.com/ofajardo/pyreadr\n",
    "\n",
    "!pip install pyreadr\n",
    "import pyreadr\n",
    "\n",
    "\n",
    "# Importing models\n",
    "\n",
    "\n",
    "import statsmodels.api as sm\n",
    "from sklearn.linear_model import LinearRegression\n",
    "from sklearn.ensemble import RandomForestRegressor\n",
    "from xgboost import XGBRegressor\n",
    "import os\n",
    "os.environ[\"KMP_DUPLICATE_LIB_OK\"]=\"TRUE\"\n",
    "\n",
    "# Importing metrics\n",
    "\n",
    "from sklearn.metrics import mean_squared_error\n",
    "from sklearn.metrics import mean_absolute_error\n",
    "from sklearn.metrics import r2_score\n",
    "\n",
    "# Model selection\n",
    "from sklearn.model_selection import GridSearchCV\n",
    "\n",
    "# Variable selection\n",
    "\n",
    "import sklearn\n",
    "from sklearn.feature_selection import f_regression\n"
   ]
  },
  {
   "cell_type": "markdown",
   "metadata": {
    "colab_type": "text",
    "id": "adowIIZEus6d"
   },
   "source": [
    "\n",
    "\n"
   ]
  },
  {
   "cell_type": "markdown",
   "metadata": {
    "colab_type": "text",
    "id": "6MwdXIIoKJ1t"
   },
   "source": [
    "We upload the train and test data. All rds files from this folder  ~\\`TFM_KSchool_Gijon_Air_Pollution\\train_test\\Prediction_Models_ML_0_AR"
   ]
  },
  {
   "cell_type": "code",
   "execution_count": 0,
   "metadata": {
    "colab": {
     "base_uri": "https://localhost:8080/",
     "height": 1313,
     "resources": {
      "http://localhost:8080/nbextensions/google.colab/files.js": {
       "data": "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",
       "headers": [
        [
         "content-type",
         "application/javascript"
        ]
       ],
       "ok": true,
       "status": 200,
       "status_text": ""
      }
     }
    },
    "colab_type": "code",
    "id": "SWHZXA-kLl8M",
    "outputId": "442bd65a-b4ed-4148-eeb1-2f2c6a05b4f3"
   },
   "outputs": [
    {
     "data": {
      "text/html": [
       "\n",
       "     <input type=\"file\" id=\"files-aebdc8e1-60cd-490c-93f4-c3a20233dae7\" name=\"files[]\" multiple disabled />\n",
       "     <output id=\"result-aebdc8e1-60cd-490c-93f4-c3a20233dae7\">\n",
       "      Upload widget is only available when the cell has been executed in the\n",
       "      current browser session. Please rerun this cell to enable.\n",
       "      </output>\n",
       "      <script src=\"/nbextensions/google.colab/files.js\"></script> "
      ],
      "text/plain": [
       "<IPython.core.display.HTML object>"
      ]
     },
     "metadata": {
      "tags": []
     },
     "output_type": "display_data"
    },
    {
     "name": "stdout",
     "output_type": "stream",
     "text": [
      "Saving X_test_NO2_201701_201709.rds to X_test_NO2_201701_201709.rds\n",
      "Saving X_test_NO2_20170101_20170114.rds to X_test_NO2_20170101_20170114.rds\n",
      "Saving X_test_PM10_201701_201709.rds to X_test_PM10_201701_201709.rds\n",
      "Saving X_test_PM10_20170101_20170114.rds to X_test_PM10_20170101_20170114.rds\n",
      "Saving X_train_NO2_200901_201612.rds to X_train_NO2_200901_201612.rds\n",
      "Saving X_train_NO2_201401_201612.rds to X_train_NO2_201401_201612.rds\n",
      "Saving X_train_NO2_201610_201612.rds to X_train_NO2_201610_201612.rds\n",
      "Saving X_train_PM10_200901_201612.rds to X_train_PM10_200901_201612.rds\n",
      "Saving X_train_PM10_201401_201612.rds to X_train_PM10_201401_201612.rds\n",
      "Saving X_train_PM10_201610_2016_12.rds to X_train_PM10_201610_2016_12.rds\n",
      "Saving X_train_PM10_201610_201612.rds to X_train_PM10_201610_201612.rds\n",
      "Saving X_validation_NO2_201710_201712.rds to X_validation_NO2_201710_201712.rds\n",
      "Saving X_validation_PM10_201710_201712.rds to X_validation_PM10_201710_201712.rds\n",
      "Saving y_test_NO2_201701_201709.rds to y_test_NO2_201701_201709.rds\n",
      "Saving y_test_NO2_20170101_20170114.rds to y_test_NO2_20170101_20170114.rds\n",
      "Saving y_test_PM10_201701_201709.rds to y_test_PM10_201701_201709.rds\n",
      "Saving y_test_PM10_20170101_20170114.rds to y_test_PM10_20170101_20170114.rds\n",
      "Saving y_train_NO2_200901_201612.rds to y_train_NO2_200901_201612.rds\n",
      "Saving y_train_NO2_201401_201612.rds to y_train_NO2_201401_201612.rds\n",
      "Saving y_train_NO2_201610_201612.rds to y_train_NO2_201610_201612.rds\n",
      "Saving y_train_PM10_200901_201612.rds to y_train_PM10_200901_201612.rds\n",
      "Saving y_train_PM10_201401_201612.rds to y_train_PM10_201401_201612.rds\n",
      "Saving y_train_PM10_201610_201612.rds to y_train_PM10_201610_201612.rds\n",
      "Saving y_validation_NO2_201710_201712.rds to y_validation_NO2_201710_201712.rds\n",
      "Saving y_validation_PM10_201710_201712.rds to y_validation_PM10_201710_201712.rds\n",
      "User uploaded file \"X_test_NO2_201701_201709.rds\" with length 258950 bytes\n",
      "User uploaded file \"X_test_NO2_20170101_20170114.rds\" with length 2408 bytes\n",
      "User uploaded file \"X_test_PM10_201701_201709.rds\" with length 230580 bytes\n",
      "User uploaded file \"X_test_PM10_20170101_20170114.rds\" with length 2284 bytes\n",
      "User uploaded file \"X_train_NO2_200901_201612.rds\" with length 2812374 bytes\n",
      "User uploaded file \"X_train_NO2_201401_201612.rds\" with length 969850 bytes\n",
      "User uploaded file \"X_train_NO2_201610_201612.rds\" with length 17499 bytes\n",
      "User uploaded file \"X_train_PM10_200901_201612.rds\" with length 2667932 bytes\n",
      "User uploaded file \"X_train_PM10_201401_201612.rds\" with length 974424 bytes\n",
      "User uploaded file \"X_train_PM10_201610_2016_12.rds\" with length 23636 bytes\n",
      "User uploaded file \"X_train_PM10_201610_201612.rds\" with length 22458 bytes\n",
      "User uploaded file \"X_validation_NO2_201710_201712.rds\" with length 16566 bytes\n",
      "User uploaded file \"X_validation_PM10_201710_201712.rds\" with length 27652 bytes\n",
      "User uploaded file \"y_test_NO2_201701_201709.rds\" with length 9275 bytes\n",
      "User uploaded file \"y_test_NO2_20170101_20170114.rds\" with length 1225 bytes\n",
      "User uploaded file \"y_test_PM10_201701_201709.rds\" with length 8389 bytes\n",
      "User uploaded file \"y_test_PM10_20170101_20170114.rds\" with length 1179 bytes\n",
      "User uploaded file \"y_train_NO2_200901_201612.rds\" with length 86733 bytes\n",
      "User uploaded file \"y_train_NO2_201401_201612.rds\" with length 31005 bytes\n",
      "User uploaded file \"y_train_NO2_201610_201612.rds\" with length 3910 bytes\n",
      "User uploaded file \"y_train_PM10_200901_201612.rds\" with length 82438 bytes\n",
      "User uploaded file \"y_train_PM10_201401_201612.rds\" with length 31101 bytes\n",
      "User uploaded file \"y_train_PM10_201610_201612.rds\" with length 3558 bytes\n",
      "User uploaded file \"y_validation_NO2_201710_201712.rds\" with length 4084 bytes\n",
      "User uploaded file \"y_validation_PM10_201710_201712.rds\" with length 3607 bytes\n"
     ]
    }
   ],
   "source": [
    "from google.colab import files\n",
    "\n",
    "uploaded = files.upload()\n",
    "\n",
    "for fn in uploaded.keys():\n",
    "  print('User uploaded file \"{name}\" with length {length} bytes'.format(\n",
    "      name=fn, length=len(uploaded[fn])))"
   ]
  },
  {
   "cell_type": "code",
   "execution_count": 0,
   "metadata": {
    "colab": {
     "base_uri": "https://localhost:8080/",
     "height": 34
    },
    "colab_type": "code",
    "id": "XxicacGTIgGB",
    "outputId": "a7f03eb6-d68d-4e77-dcf2-da35374fc9a7"
   },
   "outputs": [
    {
     "name": "stdout",
     "output_type": "stream",
     "text": [
      "sample_data\n"
     ]
    }
   ],
   "source": [
    "!ls"
   ]
  },
  {
   "cell_type": "markdown",
   "metadata": {
    "colab_type": "text",
    "id": "oytAsB0os3OL"
   },
   "source": [
    "# PM10 forecasts 1 hour ahead"
   ]
  },
  {
   "cell_type": "markdown",
   "metadata": {
    "colab_type": "text",
    "id": "LdZ_SMGkcfpi"
   },
   "source": [
    "We import the train and test data for the PM10 target.   \n",
    "We start with the three month training dataset and the nine month testing dataset."
   ]
  },
  {
   "cell_type": "code",
   "execution_count": 0,
   "metadata": {
    "colab": {},
    "colab_type": "code",
    "id": "710ZM0JJdSz8"
   },
   "outputs": [],
   "source": [
    "X_train = pyreadr.read_r(\"X_train_PM10_201610_201612.rds\")\n",
    "y_train = pyreadr.read_r(\"y_train_PM10_201610_201612.rds\")\n",
    "\n",
    "X_test = pyreadr.read_r(\"X_test_PM10_201701_201709.rds\")\n",
    "y_test = pyreadr.read_r(\"y_test_PM10_201701_201709.rds\")\n",
    "\n",
    "X_train = X_train[None]\n",
    "y_train = y_train[None]\n",
    "X_test = X_test[None]\n",
    "y_test = y_test[None]"
   ]
  },
  {
   "cell_type": "code",
   "execution_count": 0,
   "metadata": {
    "colab": {
     "base_uri": "https://localhost:8080/",
     "height": 388
    },
    "colab_type": "code",
    "id": "jzcUyy0tKINw",
    "outputId": "d4e79a00-2a40-47a0-b78c-0f53b764890f"
   },
   "outputs": [
    {
     "data": {
      "text/html": [
       "<div>\n",
       "<style scoped>\n",
       "    .dataframe tbody tr th:only-of-type {\n",
       "        vertical-align: middle;\n",
       "    }\n",
       "\n",
       "    .dataframe tbody tr th {\n",
       "        vertical-align: top;\n",
       "    }\n",
       "\n",
       "    .dataframe thead th {\n",
       "        text-align: right;\n",
       "    }\n",
       "</style>\n",
       "<table border=\"1\" class=\"dataframe\">\n",
       "  <thead>\n",
       "    <tr style=\"text-align: right;\">\n",
       "      <th></th>\n",
       "      <th>PM10_1</th>\n",
       "      <th>PM10_2</th>\n",
       "      <th>PM10_3</th>\n",
       "      <th>PM10_4</th>\n",
       "      <th>PM10_5</th>\n",
       "      <th>PM10_6</th>\n",
       "      <th>PM10_7</th>\n",
       "      <th>PM10_8</th>\n",
       "      <th>PM10_9</th>\n",
       "      <th>PM10_10</th>\n",
       "      <th>...</th>\n",
       "      <th>PM10_24</th>\n",
       "      <th>PM10_25</th>\n",
       "      <th>PM10_26</th>\n",
       "      <th>PM10_27</th>\n",
       "      <th>PM10_48</th>\n",
       "      <th>PM10_72</th>\n",
       "      <th>PM10_96</th>\n",
       "      <th>PM10_120</th>\n",
       "      <th>PM10_144</th>\n",
       "      <th>PM10_168</th>\n",
       "    </tr>\n",
       "  </thead>\n",
       "  <tbody>\n",
       "    <tr>\n",
       "      <th>0</th>\n",
       "      <td>19.0</td>\n",
       "      <td>9.0</td>\n",
       "      <td>14.0</td>\n",
       "      <td>11.0</td>\n",
       "      <td>20.0</td>\n",
       "      <td>16.0</td>\n",
       "      <td>15.0</td>\n",
       "      <td>12.0</td>\n",
       "      <td>11.0</td>\n",
       "      <td>15.0</td>\n",
       "      <td>...</td>\n",
       "      <td>9.0</td>\n",
       "      <td>8.0</td>\n",
       "      <td>6.0</td>\n",
       "      <td>8.0</td>\n",
       "      <td>12.0</td>\n",
       "      <td>18.0</td>\n",
       "      <td>28.0</td>\n",
       "      <td>4.0</td>\n",
       "      <td>9.0</td>\n",
       "      <td>22.0</td>\n",
       "    </tr>\n",
       "    <tr>\n",
       "      <th>1</th>\n",
       "      <td>18.0</td>\n",
       "      <td>19.0</td>\n",
       "      <td>9.0</td>\n",
       "      <td>14.0</td>\n",
       "      <td>11.0</td>\n",
       "      <td>20.0</td>\n",
       "      <td>16.0</td>\n",
       "      <td>15.0</td>\n",
       "      <td>12.0</td>\n",
       "      <td>11.0</td>\n",
       "      <td>...</td>\n",
       "      <td>11.0</td>\n",
       "      <td>9.0</td>\n",
       "      <td>8.0</td>\n",
       "      <td>6.0</td>\n",
       "      <td>11.0</td>\n",
       "      <td>25.0</td>\n",
       "      <td>25.0</td>\n",
       "      <td>14.0</td>\n",
       "      <td>2.0</td>\n",
       "      <td>13.0</td>\n",
       "    </tr>\n",
       "    <tr>\n",
       "      <th>2</th>\n",
       "      <td>16.0</td>\n",
       "      <td>18.0</td>\n",
       "      <td>19.0</td>\n",
       "      <td>9.0</td>\n",
       "      <td>14.0</td>\n",
       "      <td>11.0</td>\n",
       "      <td>20.0</td>\n",
       "      <td>16.0</td>\n",
       "      <td>15.0</td>\n",
       "      <td>12.0</td>\n",
       "      <td>...</td>\n",
       "      <td>6.0</td>\n",
       "      <td>11.0</td>\n",
       "      <td>9.0</td>\n",
       "      <td>8.0</td>\n",
       "      <td>12.0</td>\n",
       "      <td>18.0</td>\n",
       "      <td>24.0</td>\n",
       "      <td>13.0</td>\n",
       "      <td>3.0</td>\n",
       "      <td>5.0</td>\n",
       "    </tr>\n",
       "    <tr>\n",
       "      <th>3</th>\n",
       "      <td>12.0</td>\n",
       "      <td>16.0</td>\n",
       "      <td>18.0</td>\n",
       "      <td>19.0</td>\n",
       "      <td>9.0</td>\n",
       "      <td>14.0</td>\n",
       "      <td>11.0</td>\n",
       "      <td>20.0</td>\n",
       "      <td>16.0</td>\n",
       "      <td>15.0</td>\n",
       "      <td>...</td>\n",
       "      <td>8.0</td>\n",
       "      <td>6.0</td>\n",
       "      <td>11.0</td>\n",
       "      <td>9.0</td>\n",
       "      <td>8.0</td>\n",
       "      <td>12.0</td>\n",
       "      <td>20.0</td>\n",
       "      <td>12.0</td>\n",
       "      <td>8.0</td>\n",
       "      <td>5.0</td>\n",
       "    </tr>\n",
       "    <tr>\n",
       "      <th>4</th>\n",
       "      <td>13.0</td>\n",
       "      <td>12.0</td>\n",
       "      <td>16.0</td>\n",
       "      <td>18.0</td>\n",
       "      <td>19.0</td>\n",
       "      <td>9.0</td>\n",
       "      <td>14.0</td>\n",
       "      <td>11.0</td>\n",
       "      <td>20.0</td>\n",
       "      <td>16.0</td>\n",
       "      <td>...</td>\n",
       "      <td>6.0</td>\n",
       "      <td>8.0</td>\n",
       "      <td>6.0</td>\n",
       "      <td>11.0</td>\n",
       "      <td>11.0</td>\n",
       "      <td>14.0</td>\n",
       "      <td>25.0</td>\n",
       "      <td>8.0</td>\n",
       "      <td>6.0</td>\n",
       "      <td>8.0</td>\n",
       "    </tr>\n",
       "    <tr>\n",
       "      <th>5</th>\n",
       "      <td>9.0</td>\n",
       "      <td>13.0</td>\n",
       "      <td>12.0</td>\n",
       "      <td>16.0</td>\n",
       "      <td>18.0</td>\n",
       "      <td>19.0</td>\n",
       "      <td>9.0</td>\n",
       "      <td>14.0</td>\n",
       "      <td>11.0</td>\n",
       "      <td>20.0</td>\n",
       "      <td>...</td>\n",
       "      <td>6.0</td>\n",
       "      <td>6.0</td>\n",
       "      <td>8.0</td>\n",
       "      <td>6.0</td>\n",
       "      <td>8.0</td>\n",
       "      <td>16.0</td>\n",
       "      <td>14.0</td>\n",
       "      <td>7.0</td>\n",
       "      <td>7.0</td>\n",
       "      <td>6.0</td>\n",
       "    </tr>\n",
       "    <tr>\n",
       "      <th>6</th>\n",
       "      <td>14.0</td>\n",
       "      <td>9.0</td>\n",
       "      <td>13.0</td>\n",
       "      <td>12.0</td>\n",
       "      <td>16.0</td>\n",
       "      <td>18.0</td>\n",
       "      <td>19.0</td>\n",
       "      <td>9.0</td>\n",
       "      <td>14.0</td>\n",
       "      <td>11.0</td>\n",
       "      <td>...</td>\n",
       "      <td>4.0</td>\n",
       "      <td>6.0</td>\n",
       "      <td>6.0</td>\n",
       "      <td>8.0</td>\n",
       "      <td>13.0</td>\n",
       "      <td>11.0</td>\n",
       "      <td>10.0</td>\n",
       "      <td>2.0</td>\n",
       "      <td>5.0</td>\n",
       "      <td>9.0</td>\n",
       "    </tr>\n",
       "    <tr>\n",
       "      <th>7</th>\n",
       "      <td>11.0</td>\n",
       "      <td>14.0</td>\n",
       "      <td>9.0</td>\n",
       "      <td>13.0</td>\n",
       "      <td>12.0</td>\n",
       "      <td>16.0</td>\n",
       "      <td>18.0</td>\n",
       "      <td>19.0</td>\n",
       "      <td>9.0</td>\n",
       "      <td>14.0</td>\n",
       "      <td>...</td>\n",
       "      <td>10.0</td>\n",
       "      <td>4.0</td>\n",
       "      <td>6.0</td>\n",
       "      <td>6.0</td>\n",
       "      <td>14.0</td>\n",
       "      <td>15.0</td>\n",
       "      <td>15.0</td>\n",
       "      <td>11.0</td>\n",
       "      <td>11.0</td>\n",
       "      <td>5.0</td>\n",
       "    </tr>\n",
       "    <tr>\n",
       "      <th>8</th>\n",
       "      <td>10.0</td>\n",
       "      <td>11.0</td>\n",
       "      <td>14.0</td>\n",
       "      <td>9.0</td>\n",
       "      <td>13.0</td>\n",
       "      <td>12.0</td>\n",
       "      <td>16.0</td>\n",
       "      <td>18.0</td>\n",
       "      <td>19.0</td>\n",
       "      <td>9.0</td>\n",
       "      <td>...</td>\n",
       "      <td>11.0</td>\n",
       "      <td>10.0</td>\n",
       "      <td>4.0</td>\n",
       "      <td>6.0</td>\n",
       "      <td>29.0</td>\n",
       "      <td>8.0</td>\n",
       "      <td>25.0</td>\n",
       "      <td>10.0</td>\n",
       "      <td>8.0</td>\n",
       "      <td>5.0</td>\n",
       "    </tr>\n",
       "    <tr>\n",
       "      <th>9</th>\n",
       "      <td>12.0</td>\n",
       "      <td>10.0</td>\n",
       "      <td>11.0</td>\n",
       "      <td>14.0</td>\n",
       "      <td>9.0</td>\n",
       "      <td>13.0</td>\n",
       "      <td>12.0</td>\n",
       "      <td>16.0</td>\n",
       "      <td>18.0</td>\n",
       "      <td>19.0</td>\n",
       "      <td>...</td>\n",
       "      <td>14.0</td>\n",
       "      <td>11.0</td>\n",
       "      <td>10.0</td>\n",
       "      <td>4.0</td>\n",
       "      <td>19.0</td>\n",
       "      <td>15.0</td>\n",
       "      <td>27.0</td>\n",
       "      <td>13.0</td>\n",
       "      <td>4.0</td>\n",
       "      <td>11.0</td>\n",
       "    </tr>\n",
       "  </tbody>\n",
       "</table>\n",
       "<p>10 rows × 33 columns</p>\n",
       "</div>"
      ],
      "text/plain": [
       "   PM10_1  PM10_2  PM10_3  PM10_4  PM10_5  PM10_6  PM10_7  PM10_8  PM10_9  \\\n",
       "0    19.0     9.0    14.0    11.0    20.0    16.0    15.0    12.0    11.0   \n",
       "1    18.0    19.0     9.0    14.0    11.0    20.0    16.0    15.0    12.0   \n",
       "2    16.0    18.0    19.0     9.0    14.0    11.0    20.0    16.0    15.0   \n",
       "3    12.0    16.0    18.0    19.0     9.0    14.0    11.0    20.0    16.0   \n",
       "4    13.0    12.0    16.0    18.0    19.0     9.0    14.0    11.0    20.0   \n",
       "5     9.0    13.0    12.0    16.0    18.0    19.0     9.0    14.0    11.0   \n",
       "6    14.0     9.0    13.0    12.0    16.0    18.0    19.0     9.0    14.0   \n",
       "7    11.0    14.0     9.0    13.0    12.0    16.0    18.0    19.0     9.0   \n",
       "8    10.0    11.0    14.0     9.0    13.0    12.0    16.0    18.0    19.0   \n",
       "9    12.0    10.0    11.0    14.0     9.0    13.0    12.0    16.0    18.0   \n",
       "\n",
       "   PM10_10    ...     PM10_24  PM10_25  PM10_26  PM10_27  PM10_48  PM10_72  \\\n",
       "0     15.0    ...         9.0      8.0      6.0      8.0     12.0     18.0   \n",
       "1     11.0    ...        11.0      9.0      8.0      6.0     11.0     25.0   \n",
       "2     12.0    ...         6.0     11.0      9.0      8.0     12.0     18.0   \n",
       "3     15.0    ...         8.0      6.0     11.0      9.0      8.0     12.0   \n",
       "4     16.0    ...         6.0      8.0      6.0     11.0     11.0     14.0   \n",
       "5     20.0    ...         6.0      6.0      8.0      6.0      8.0     16.0   \n",
       "6     11.0    ...         4.0      6.0      6.0      8.0     13.0     11.0   \n",
       "7     14.0    ...        10.0      4.0      6.0      6.0     14.0     15.0   \n",
       "8      9.0    ...        11.0     10.0      4.0      6.0     29.0      8.0   \n",
       "9     19.0    ...        14.0     11.0     10.0      4.0     19.0     15.0   \n",
       "\n",
       "   PM10_96  PM10_120  PM10_144  PM10_168  \n",
       "0     28.0       4.0       9.0      22.0  \n",
       "1     25.0      14.0       2.0      13.0  \n",
       "2     24.0      13.0       3.0       5.0  \n",
       "3     20.0      12.0       8.0       5.0  \n",
       "4     25.0       8.0       6.0       8.0  \n",
       "5     14.0       7.0       7.0       6.0  \n",
       "6     10.0       2.0       5.0       9.0  \n",
       "7     15.0      11.0      11.0       5.0  \n",
       "8     25.0      10.0       8.0       5.0  \n",
       "9     27.0      13.0       4.0      11.0  \n",
       "\n",
       "[10 rows x 33 columns]"
      ]
     },
     "execution_count": 94,
     "metadata": {
      "tags": []
     },
     "output_type": "execute_result"
    }
   ],
   "source": [
    "X_train.head(10)"
   ]
  },
  {
   "cell_type": "code",
   "execution_count": 0,
   "metadata": {
    "colab": {
     "base_uri": "https://localhost:8080/",
     "height": 663
    },
    "colab_type": "code",
    "id": "j0X1VH_86kzj",
    "outputId": "0a0f2582-1d9e-4ef4-ac78-96d6d7703ae5"
   },
   "outputs": [
    {
     "name": "stdout",
     "output_type": "stream",
     "text": [
      "<class 'pandas.core.frame.DataFrame'>\n",
      "RangeIndex: 2041 entries, 0 to 2040\n",
      "Data columns (total 33 columns):\n",
      "PM10_1      2041 non-null float64\n",
      "PM10_2      2041 non-null float64\n",
      "PM10_3      2041 non-null float64\n",
      "PM10_4      2041 non-null float64\n",
      "PM10_5      2041 non-null float64\n",
      "PM10_6      2041 non-null float64\n",
      "PM10_7      2041 non-null float64\n",
      "PM10_8      2041 non-null float64\n",
      "PM10_9      2041 non-null float64\n",
      "PM10_10     2041 non-null float64\n",
      "PM10_11     2041 non-null float64\n",
      "PM10_12     2041 non-null float64\n",
      "PM10_13     2041 non-null float64\n",
      "PM10_14     2041 non-null float64\n",
      "PM10_15     2041 non-null float64\n",
      "PM10_16     2041 non-null float64\n",
      "PM10_17     2041 non-null float64\n",
      "PM10_18     2041 non-null float64\n",
      "PM10_19     2041 non-null float64\n",
      "PM10_20     2041 non-null float64\n",
      "PM10_21     2041 non-null float64\n",
      "PM10_22     2041 non-null float64\n",
      "PM10_23     2041 non-null float64\n",
      "PM10_24     2041 non-null float64\n",
      "PM10_25     2041 non-null float64\n",
      "PM10_26     2041 non-null float64\n",
      "PM10_27     2041 non-null float64\n",
      "PM10_48     2041 non-null float64\n",
      "PM10_72     2041 non-null float64\n",
      "PM10_96     2041 non-null float64\n",
      "PM10_120    2041 non-null float64\n",
      "PM10_144    2041 non-null float64\n",
      "PM10_168    2041 non-null float64\n",
      "dtypes: float64(33)\n",
      "memory usage: 526.3 KB\n"
     ]
    }
   ],
   "source": [
    "X_train.info()"
   ]
  },
  {
   "cell_type": "code",
   "execution_count": 0,
   "metadata": {
    "colab": {
     "base_uri": "https://localhost:8080/",
     "height": 204
    },
    "colab_type": "code",
    "id": "S8uTzVv5KIQy",
    "outputId": "89d053aa-2bb9-4a4a-880a-c0b6c9ab8f71"
   },
   "outputs": [
    {
     "data": {
      "text/html": [
       "<div>\n",
       "<style scoped>\n",
       "    .dataframe tbody tr th:only-of-type {\n",
       "        vertical-align: middle;\n",
       "    }\n",
       "\n",
       "    .dataframe tbody tr th {\n",
       "        vertical-align: top;\n",
       "    }\n",
       "\n",
       "    .dataframe thead th {\n",
       "        text-align: right;\n",
       "    }\n",
       "</style>\n",
       "<table border=\"1\" class=\"dataframe\">\n",
       "  <thead>\n",
       "    <tr style=\"text-align: right;\">\n",
       "      <th></th>\n",
       "      <th>PM10_0</th>\n",
       "    </tr>\n",
       "  </thead>\n",
       "  <tbody>\n",
       "    <tr>\n",
       "      <th>0</th>\n",
       "      <td>18.0</td>\n",
       "    </tr>\n",
       "    <tr>\n",
       "      <th>1</th>\n",
       "      <td>16.0</td>\n",
       "    </tr>\n",
       "    <tr>\n",
       "      <th>2</th>\n",
       "      <td>12.0</td>\n",
       "    </tr>\n",
       "    <tr>\n",
       "      <th>3</th>\n",
       "      <td>13.0</td>\n",
       "    </tr>\n",
       "    <tr>\n",
       "      <th>4</th>\n",
       "      <td>9.0</td>\n",
       "    </tr>\n",
       "  </tbody>\n",
       "</table>\n",
       "</div>"
      ],
      "text/plain": [
       "   PM10_0\n",
       "0    18.0\n",
       "1    16.0\n",
       "2    12.0\n",
       "3    13.0\n",
       "4     9.0"
      ]
     },
     "execution_count": 96,
     "metadata": {
      "tags": []
     },
     "output_type": "execute_result"
    }
   ],
   "source": [
    "y_train.head()"
   ]
  },
  {
   "cell_type": "markdown",
   "metadata": {
    "colab_type": "text",
    "id": "nIFbNhKeLf-3"
   },
   "source": []
  },
  {
   "cell_type": "code",
   "execution_count": 0,
   "metadata": {
    "colab": {
     "base_uri": "https://localhost:8080/",
     "height": 265
    },
    "colab_type": "code",
    "id": "Gz3wf1kBOs00",
    "outputId": "99cac9bc-cd27-4e72-8d86-b24738e44138"
   },
   "outputs": [
    {
     "data": {
      "image/png": "[encoded data removed]",
      "text/plain": [
       "<matplotlib.figure.Figure at 0x7f04caf535f8>"
      ]
     },
     "metadata": {
      "tags": []
     },
     "output_type": "display_data"
    }
   ],
   "source": [
    "plt.plot(y_train[\"PM10_0\"]);"
   ]
  },
  {
   "cell_type": "code",
   "execution_count": 0,
   "metadata": {
    "colab": {
     "base_uri": "https://localhost:8080/",
     "height": 265
    },
    "colab_type": "code",
    "id": "M97O44d3O-bi",
    "outputId": "0c867a12-bb4f-442b-d46f-59f4555f6b5a"
   },
   "outputs": [
    {
     "data": {
      "image/png": "[encoded data removed]",
      "text/plain": [
       "<matplotlib.figure.Figure at 0x7f04c967a320>"
      ]
     },
     "metadata": {
      "tags": []
     },
     "output_type": "display_data"
    }
   ],
   "source": [
    "plt.plot(y_train[\"PM10_0\"].iloc[-168:]);"
   ]
  },
  {
   "cell_type": "code",
   "execution_count": 0,
   "metadata": {
    "colab": {
     "base_uri": "https://localhost:8080/",
     "height": 265
    },
    "colab_type": "code",
    "id": "SRla1ULdO47a",
    "outputId": "ae4f6010-f59f-496b-c418-d924ca9c8396"
   },
   "outputs": [
    {
     "data": {
      "image/png": "[encoded data removed]",
      "text/plain": [
       "<matplotlib.figure.Figure at 0x7f04c95f1278>"
      ]
     },
     "metadata": {
      "tags": []
     },
     "output_type": "display_data"
    }
   ],
   "source": [
    "plt.plot(y_test[\"PM10_0\"]);"
   ]
  },
  {
   "cell_type": "markdown",
   "metadata": {
    "colab_type": "text",
    "id": "vqCay0q0OEhx"
   },
   "source": [
    "# Linear Regression"
   ]
  },
  {
   "cell_type": "markdown",
   "metadata": {
    "colab_type": "text",
    "id": "9qOePLq_Y-S0"
   },
   "source": [
    "### Train 201610-201612"
   ]
  },
  {
   "cell_type": "code",
   "execution_count": 0,
   "metadata": {
    "colab": {
     "base_uri": "https://localhost:8080/",
     "height": 221
    },
    "colab_type": "code",
    "id": "MHZLeNE91LNB",
    "outputId": "8b1c3c02-53ea-4cb4-956a-a3756b7fd7af"
   },
   "outputs": [
    {
     "name": "stdout",
     "output_type": "stream",
     "text": [
      "R^2 train: 0.5965684264063533\n",
      "R^2 adjusted train: 0.5899350223562336\n",
      "Mean Absolute Error train: 5.207043758507682\n",
      "Root Mean Squared Error train: 8.417094958566404\n",
      "Standard Deviation train: PM10_0    13.251874\n",
      "dtype: float64\n",
      "R^2 test: 0.581601909061324\n",
      "R^2 adjusted test: 0.5794272143060907\n",
      "Mean Absolute Error test: 4.935874244572473\n",
      "Root Mean Squared Error test: 6.953128067306267\n",
      "Standard Deviation test: PM10_0    10.749429\n",
      "dtype: float64\n"
     ]
    }
   ],
   "source": [
    "regLR = LinearRegression()\n",
    "regLR.fit(X_train, y_train)\n",
    "\n",
    "\n",
    "# Compute train scores\n",
    "\n",
    "y_pred = regLR.predict(X_train)\n",
    "\n",
    "r2_train = r2_score(y_train, y_pred)\n",
    "rmse_train = np.sqrt(mean_squared_error(y_train, y_pred))\n",
    "mae_train = mean_absolute_error(y_train, y_pred)\n",
    "r2_adjusted_train = 1 - (1-r2_score(y_train, y_pred))*(len(y_train)-1)/(len(y_train)-X_train.shape[1]-1)\n",
    "sd_train = std(y_train)\n",
    "\n",
    "print(\"R^2 train: {}\".format(r2_train))\n",
    "print(\"R^2 adjusted train: {}\".format(r2_adjusted_train))\n",
    "print(\"Mean Absolute Error train: {}\".format(mae_train))\n",
    "print(\"Root Mean Squared Error train: {}\".format(rmse_train)) \n",
    "print(\"Standard Deviation train: {}\".format(sd_train))  \n",
    "\n",
    "# Compute test scores\n",
    "\n",
    "y_pred = regLR.predict(X_test)\n",
    "\n",
    "r2_test = r2_score(y_test, y_pred)\n",
    "rmse_test = np.sqrt(mean_squared_error(y_test, y_pred))\n",
    "mae_test = mean_absolute_error(y_test, y_pred)\n",
    "r2_adjusted_test = 1 - (1-r2_score(y_test, y_pred))*(len(y_test)-1)/(len(y_test)-X_test.shape[1]-1)\n",
    "sd_test = std(y_test)\n",
    "\n",
    "print(\"R^2 test: {}\".format(r2_test))\n",
    "print(\"R^2 adjusted test: {}\".format(r2_adjusted_test))\n",
    "print(\"Mean Absolute Error test: {}\".format(mae_test))\n",
    "print(\"Root Mean Squared Error test: {}\".format(rmse_test))\n",
    "print(\"Standard Deviation test: {}\".format(sd_test))  \n",
    "\n"
   ]
  },
  {
   "cell_type": "code",
   "execution_count": 0,
   "metadata": {
    "colab": {
     "base_uri": "https://localhost:8080/",
     "height": 119
    },
    "colab_type": "code",
    "id": "yEcghNvf2wdo",
    "outputId": "9f112c7d-13c2-4ff7-b2d9-d6d089ba57b3"
   },
   "outputs": [
    {
     "name": "stdout",
     "output_type": "stream",
     "text": [
      "<class 'pandas.core.frame.DataFrame'>\n",
      "RangeIndex: 6383 entries, 0 to 6382\n",
      "Data columns (total 1 columns):\n",
      "PM10_0    6383 non-null float64\n",
      "dtypes: float64(1)\n",
      "memory usage: 49.9 KB\n"
     ]
    }
   ],
   "source": [
    "y_test.info()"
   ]
  },
  {
   "cell_type": "code",
   "execution_count": 0,
   "metadata": {
    "colab": {
     "base_uri": "https://localhost:8080/",
     "height": 609
    },
    "colab_type": "code",
    "id": "v5Ahc7GF1LWM",
    "outputId": "c1fd314b-7f9d-44c6-a0b8-bc5758c9ce53"
   },
   "outputs": [
    {
     "data": {
      "text/plain": [
       "[<matplotlib.lines.Line2D at 0x7f04cd819a20>]"
      ]
     },
     "execution_count": 100,
     "metadata": {
      "tags": []
     },
     "output_type": "execute_result"
    },
    {
     "data": {
      "image/png": "[encoded data removed]",
      "text/plain": [
       "<matplotlib.figure.Figure at 0x7f04c9715668>"
      ]
     },
     "metadata": {
      "tags": []
     },
     "output_type": "display_data"
    }
   ],
   "source": [
    "plt.figure(figsize=(20,10))\n",
    "plot(y_test)\n",
    "plot(y_pred)"
   ]
  },
  {
   "cell_type": "markdown",
   "metadata": {
    "colab_type": "text",
    "id": "Z7xxnmfY1phA"
   },
   "source": []
  },
  {
   "cell_type": "code",
   "execution_count": 0,
   "metadata": {
    "colab": {
     "base_uri": "https://localhost:8080/",
     "height": 609
    },
    "colab_type": "code",
    "id": "iPXlMk8e3VMu",
    "outputId": "1b00daf2-7635-4ca9-84d6-ba6bc4b4d3cb"
   },
   "outputs": [
    {
     "data": {
      "text/plain": [
       "<matplotlib.collections.PathCollection at 0x7f04c96856d8>"
      ]
     },
     "execution_count": 91,
     "metadata": {
      "tags": []
     },
     "output_type": "execute_result"
    },
    {
     "data": {
      "image/png": "[encoded data removed]",
      "text/plain": [
       "<matplotlib.figure.Figure at 0x7f04c95a1320>"
      ]
     },
     "metadata": {
      "tags": []
     },
     "output_type": "display_data"
    }
   ],
   "source": [
    "\n",
    "y_pred = y_pred.astype(float)\n",
    "y_test = pd.DataFrame(y_test)\n",
    "y_test = y_test.values\n",
    "y_pred = pd.DataFrame(y_pred)\n",
    "plt.figure(figsize=(20,10))\n",
    "plt.scatter(x = y_test, y = y_pred)\n"
   ]
  },
  {
   "cell_type": "code",
   "execution_count": 0,
   "metadata": {
    "colab": {},
    "colab_type": "code",
    "id": "frJVzMSF1LRO"
   },
   "outputs": [],
   "source": [
    "#y_test.to_csv('y_test_1', encoding='utf-8', index=False)\n",
    "#y_pred.to_csv('y_pred_1', encoding='utf-8', index=False)\n"
   ]
  },
  {
   "cell_type": "markdown",
   "metadata": {
    "colab_type": "text",
    "id": "S6j2os4ja3jw"
   },
   "source": [
    "### Train 201401-201612"
   ]
  },
  {
   "cell_type": "code",
   "execution_count": 0,
   "metadata": {
    "colab": {
     "base_uri": "https://localhost:8080/",
     "height": 221
    },
    "colab_type": "code",
    "id": "HQbWpXPy9AkI",
    "outputId": "b2054f75-9d85-4839-d51d-d21e5c00be41"
   },
   "outputs": [
    {
     "name": "stdout",
     "output_type": "stream",
     "text": [
      "R^2 train: 0.6096387080552057\n",
      "R^2 adjusted train: 0.6091451856188339\n",
      "Mean Absolute Error train: 5.698412150834916\n",
      "Root Mean Squared Error train: 9.209215086456275\n",
      "Standard Deviation train: PM10_0    14.73972\n",
      "dtype: float64\n",
      "R^2 test: 0.5964598686543375\n",
      "R^2 adjusted test: 0.5943624006539585\n",
      "Mean Absolute Error test: 4.817711210905664\n",
      "Root Mean Squared Error test: 6.828553981272685\n",
      "Standard Deviation test: PM10_0    10.749429\n",
      "dtype: float64\n"
     ]
    }
   ],
   "source": [
    "X_train = pyreadr.read_r(\"X_train_PM10_201401_201612.rds\")\n",
    "y_train = pyreadr.read_r(\"y_train_PM10_201401_201612.rds\")\n",
    "\n",
    "X_test = pyreadr.read_r(\"X_test_PM10_201701_201709.rds\")\n",
    "y_test = pyreadr.read_r(\"y_test_PM10_201701_201709.rds\")\n",
    "\n",
    "X_train = X_train[None]\n",
    "y_train = y_train[None]\n",
    "X_test = X_test[None]\n",
    "y_test = y_test[None]\n",
    "\n",
    "regLR = LinearRegression()\n",
    "regLR.fit(X_train, y_train)\n",
    "\n",
    "# Compute train scores\n",
    "\n",
    "y_pred = regLR.predict(X_train)\n",
    "\n",
    "r2_train = r2_score(y_train, y_pred)\n",
    "rmse_train = np.sqrt(mean_squared_error(y_train, y_pred))\n",
    "mae_train = mean_absolute_error(y_train, y_pred)\n",
    "r2_adjusted_train = 1 - (1-r2_score(y_train, y_pred))*(len(y_train)-1)/(len(y_train)-X_train.shape[1]-1)\n",
    "sd_train = std(y_train)\n",
    "\n",
    "print(\"R^2 train: {}\".format(r2_train))\n",
    "print(\"R^2 adjusted train: {}\".format(r2_adjusted_train))\n",
    "print(\"Mean Absolute Error train: {}\".format(mae_train))\n",
    "print(\"Root Mean Squared Error train: {}\".format(rmse_train)) \n",
    "print(\"Standard Deviation train: {}\".format(sd_train))  \n",
    "\n",
    "# Compute test scores\n",
    "\n",
    "y_pred = regLR.predict(X_test)\n",
    "\n",
    "r2_test = r2_score(y_test, y_pred)\n",
    "rmse_test = np.sqrt(mean_squared_error(y_test, y_pred))\n",
    "mae_test = mean_absolute_error(y_test, y_pred)\n",
    "r2_adjusted_test = 1 - (1-r2_score(y_test, y_pred))*(len(y_test)-1)/(len(y_test)-X_test.shape[1]-1)\n",
    "sd_test = std(y_test)\n",
    "\n",
    "print(\"R^2 test: {}\".format(r2_test))\n",
    "print(\"R^2 adjusted test: {}\".format(r2_adjusted_test))\n",
    "print(\"Mean Absolute Error test: {}\".format(mae_test))\n",
    "print(\"Root Mean Squared Error test: {}\".format(rmse_test))\n",
    "print(\"Standard Deviation test: {}\".format(sd_test))  \n",
    "\n"
   ]
  },
  {
   "cell_type": "markdown",
   "metadata": {
    "colab_type": "text",
    "id": "7D5D9BXU8QAn"
   },
   "source": [
    "### Train 200901-201612"
   ]
  },
  {
   "cell_type": "code",
   "execution_count": 0,
   "metadata": {
    "colab": {
     "base_uri": "https://localhost:8080/",
     "height": 221
    },
    "colab_type": "code",
    "id": "MH1-bPnW8Dh6",
    "outputId": "5053ab87-a72b-4c11-981d-400d642dd3cb"
   },
   "outputs": [
    {
     "name": "stdout",
     "output_type": "stream",
     "text": [
      "R^2 train: 0.570733207739831\n",
      "R^2 adjusted train: 0.5705306249502451\n",
      "Mean Absolute Error train: 6.270526977810944\n",
      "Root Mean Squared Error train: 11.154391084224148\n",
      "Standard Deviation train: PM10_0    17.024808\n",
      "dtype: float64\n",
      "R^2 test: 0.590168855355538\n",
      "R^2 adjusted test: 0.5880386887508338\n",
      "Mean Absolute Error test: 4.872723620628168\n",
      "Root Mean Squared Error test: 6.881575213769833\n",
      "Standard Deviation test: PM10_0    10.749429\n",
      "dtype: float64\n"
     ]
    }
   ],
   "source": [
    "X_train = pyreadr.read_r(\"X_train_PM10_200901_201612.rds\")\n",
    "y_train = pyreadr.read_r(\"y_train_PM10_200901_201612.rds\")\n",
    "\n",
    "X_test = pyreadr.read_r(\"X_test_PM10_201701_201709.rds\")\n",
    "y_test = pyreadr.read_r(\"y_test_PM10_201701_201709.rds\")\n",
    "\n",
    "X_train = X_train[None]\n",
    "y_train = y_train[None]\n",
    "X_test = X_test[None]\n",
    "y_test = y_test[None]\n",
    "\n",
    "regLR = LinearRegression()\n",
    "regLR.fit(X_train, y_train)\n",
    "\n",
    "# Compute train scores\n",
    "\n",
    "y_pred = regLR.predict(X_train)\n",
    "\n",
    "r2_train = r2_score(y_train, y_pred)\n",
    "rmse_train = np.sqrt(mean_squared_error(y_train, y_pred))\n",
    "mae_train = mean_absolute_error(y_train, y_pred)\n",
    "r2_adjusted_train = 1 - (1-r2_score(y_train, y_pred))*(len(y_train)-1)/(len(y_train)-X_train.shape[1]-1)\n",
    "sd_train = std(y_train)\n",
    "\n",
    "print(\"R^2 train: {}\".format(r2_train))\n",
    "print(\"R^2 adjusted train: {}\".format(r2_adjusted_train))\n",
    "print(\"Mean Absolute Error train: {}\".format(mae_train))\n",
    "print(\"Root Mean Squared Error train: {}\".format(rmse_train)) \n",
    "print(\"Standard Deviation train: {}\".format(sd_train))  \n",
    "\n",
    "# Compute test scores\n",
    "\n",
    "y_pred = regLR.predict(X_test)\n",
    "\n",
    "r2_test = r2_score(y_test, y_pred)\n",
    "rmse_test = np.sqrt(mean_squared_error(y_test, y_pred))\n",
    "mae_test = mean_absolute_error(y_test, y_pred)\n",
    "r2_adjusted_test = 1 - (1-r2_score(y_test, y_pred))*(len(y_test)-1)/(len(y_test)-X_test.shape[1]-1)\n",
    "sd_test = std(y_test)\n",
    "\n",
    "print(\"R^2 test: {}\".format(r2_test))\n",
    "print(\"R^2 adjusted test: {}\".format(r2_adjusted_test))\n",
    "print(\"Mean Absolute Error test: {}\".format(mae_test))\n",
    "print(\"Root Mean Squared Error test: {}\".format(rmse_test))\n",
    "print(\"Standard Deviation test: {}\".format(sd_test))  \n",
    "\n"
   ]
  },
  {
   "cell_type": "markdown",
   "metadata": {
    "colab_type": "text",
    "id": "jkI_i_P_vHq6"
   },
   "source": [
    "# PENDIENTE COMENTAR RESULTADOS.\n",
    "\n",
    "The train period 2014-01 - 2016-12 obtains better test scores (smaller MAE and bigger R2 - adjusted) than the other two periods. As happened with the ARIMA models. And as we can see in the table the MAE scores are very similar to the best ARIMA model, being a bit smaller in the linear regression model.  "
   ]
  },
  {
   "cell_type": "markdown",
   "metadata": {
    "colab_type": "text",
    "id": "3Aw1YbEaFVv8"
   },
   "source": [
    "## Variable Selection"
   ]
  },
  {
   "cell_type": "markdown",
   "metadata": {
    "colab_type": "text",
    "id": "RRMokukMFei-"
   },
   "source": [
    "We are using 33 variables to predict the value of the PM10_0 variable. These variables are lagged values of the independent term. We initially included the PM10 values of the 27 precedent hours,  and the values of two days to seven days before (48 to 168 hours), looking for the 24 hours seasonality  found by the ARIMA models.\n",
    "\n",
    "But we did not check yet the individual contribution of each variable. \n",
    "\n",
    "First aproach. \n",
    "We use the statsmodel to obtain the OLS coefficients and p-values.\n",
    "\n",
    "We use the train period 201401-201612 because it is the period with better scores until now."
   ]
  },
  {
   "cell_type": "code",
   "execution_count": 0,
   "metadata": {
    "colab": {
     "base_uri": "https://localhost:8080/",
     "height": 1173
    },
    "colab_type": "code",
    "id": "U5klzQVX0L9o",
    "outputId": "6e26d0f7-84c2-4913-b30b-79038a286cbe"
   },
   "outputs": [
    {
     "name": "stdout",
     "output_type": "stream",
     "text": [
      "                            OLS Regression Results                            \n",
      "==============================================================================\n",
      "Dep. Variable:                 PM10_0   R-squared:                       0.897\n",
      "Model:                            OLS   Adj. R-squared:                  0.897\n",
      "Method:                 Least Squares   F-statistic:                     6912.\n",
      "Date:                Mon, 07 Jan 2019   Prob (F-statistic):               0.00\n",
      "Time:                        11:05:11   Log-Likelihood:                -95126.\n",
      "No. Observations:               26136   AIC:                         1.903e+05\n",
      "Df Residuals:                   26103   BIC:                         1.906e+05\n",
      "Df Model:                          33                                         \n",
      "Covariance Type:            nonrobust                                         \n",
      "==============================================================================\n",
      "                 coef    std err          t      P>|t|      [0.025      0.975]\n",
      "------------------------------------------------------------------------------\n",
      "PM10_1         0.5664      0.006     91.500      0.000       0.554       0.579\n",
      "PM10_2         0.1252      0.007     17.598      0.000       0.111       0.139\n",
      "PM10_3         0.0288      0.007      4.021      0.000       0.015       0.043\n",
      "PM10_4         0.0253      0.007      3.542      0.000       0.011       0.039\n",
      "PM10_5         0.0142      0.007      1.992      0.046       0.000       0.028\n",
      "PM10_6         0.0004      0.007      0.060      0.952      -0.014       0.014\n",
      "PM10_7         0.0068      0.007      0.957      0.339      -0.007       0.021\n",
      "PM10_8         0.0020      0.007      0.280      0.779      -0.012       0.016\n",
      "PM10_9         0.0049      0.007      0.683      0.495      -0.009       0.019\n",
      "PM10_10        0.0149      0.007      2.089      0.037       0.001       0.029\n",
      "PM10_11        0.0123      0.007      1.720      0.086      -0.002       0.026\n",
      "PM10_12        0.0023      0.007      0.326      0.744      -0.012       0.016\n",
      "PM10_13        0.0071      0.007      0.994      0.320      -0.007       0.021\n",
      "PM10_14    -5.659e-05      0.007     -0.008      0.994      -0.014       0.014\n",
      "PM10_15        0.0059      0.007      0.823      0.411      -0.008       0.020\n",
      "PM10_16       -0.0054      0.007     -0.752      0.452      -0.019       0.009\n",
      "PM10_17        0.0092      0.007      1.289      0.198      -0.005       0.023\n",
      "PM10_18       -0.0081      0.007     -1.140      0.254      -0.022       0.006\n",
      "PM10_19        0.0086      0.007      1.199      0.231      -0.005       0.023\n",
      "PM10_20        0.0151      0.007      2.110      0.035       0.001       0.029\n",
      "PM10_21        0.0077      0.007      1.082      0.279      -0.006       0.022\n",
      "PM10_22        0.0317      0.007      4.436      0.000       0.018       0.046\n",
      "PM10_23        0.0181      0.007      2.534      0.011       0.004       0.032\n",
      "PM10_24        0.0284      0.007      3.971      0.000       0.014       0.042\n",
      "PM10_25       -0.0004      0.007     -0.053      0.957      -0.014       0.014\n",
      "PM10_26       -0.0086      0.007     -1.203      0.229      -0.022       0.005\n",
      "PM10_27       -0.0323      0.006     -5.233      0.000      -0.044      -0.020\n",
      "PM10_48        0.0353      0.004      7.927      0.000       0.027       0.044\n",
      "PM10_72        0.0101      0.004      2.300      0.021       0.001       0.019\n",
      "PM10_96        0.0151      0.004      3.442      0.001       0.006       0.024\n",
      "PM10_120       0.0157      0.004      3.599      0.000       0.007       0.024\n",
      "PM10_144       0.0194      0.004      4.499      0.000       0.011       0.028\n",
      "PM10_168       0.0199      0.004      4.800      0.000       0.012       0.028\n",
      "==============================================================================\n",
      "Omnibus:                    28280.624   Durbin-Watson:                   1.999\n",
      "Prob(Omnibus):                  0.000   Jarque-Bera (JB):         33279129.991\n",
      "Skew:                           4.545   Prob(JB):                         0.00\n",
      "Kurtosis:                     177.576   Cond. No.                         24.1\n",
      "==============================================================================\n",
      "\n",
      "Warnings:\n",
      "[1] Standard Errors assume that the covariance matrix of the errors is correctly specified.\n",
      "R^2 train: 0.6092535156257839\n",
      "R^2 adjusted train: 0.6087595062018183\n",
      "Mean Absolute Error train: 5.692848977914776\n",
      "Root Mean Squared Error train: 9.213757603029537\n",
      "Standard Deviation train: PM10_0    14.73972\n",
      "dtype: float64\n",
      "R^2 test: 0.5958787513344947\n",
      "R^2 adjusted test: 0.593778262878681\n",
      "Mean Absolute Error test: 4.800362203218628\n",
      "Root Mean Squared Error test: 6.833468936578\n",
      "Standard Deviation test: PM10_0    10.749429\n",
      "dtype: float64\n"
     ]
    }
   ],
   "source": [
    "X_train = pyreadr.read_r(\"X_train_PM10_201401_201612.rds\")\n",
    "y_train = pyreadr.read_r(\"y_train_PM10_201401_201612.rds\")\n",
    "\n",
    "X_test = pyreadr.read_r(\"X_test_PM10_201701_201709.rds\")\n",
    "y_test = pyreadr.read_r(\"y_test_PM10_201701_201709.rds\")\n",
    "\n",
    "X_train = X_train[None]\n",
    "y_train = y_train[None]\n",
    "X_test = X_test[None]\n",
    "y_test = y_test[None]\n",
    "\n",
    "#X_train = np.asarray(X_train)\n",
    "\n",
    "#y_train = np.asarray(X_train)\n",
    "\n",
    "results = sm.OLS(y_train, X_train).fit()\n",
    "\n",
    "results_summary = results.summary()\n",
    "\n",
    "print(results.summary())\n",
    "\n",
    "# Compute train scores\n",
    "\n",
    "y_pred = results.predict(X_train)\n",
    "\n",
    "r2_train = r2_score(y_train, y_pred)\n",
    "rmse_train = np.sqrt(mean_squared_error(y_train, y_pred))\n",
    "mae_train = mean_absolute_error(y_train, y_pred)\n",
    "r2_adjusted_train = 1 - (1-r2_score(y_train, y_pred))*(len(y_train)-1)/(len(y_train)-X_train.shape[1]-1)\n",
    "sd_train = std(y_train)\n",
    "\n",
    "print(\"R^2 train: {}\".format(r2_train))\n",
    "print(\"R^2 adjusted train: {}\".format(r2_adjusted_train))\n",
    "print(\"Mean Absolute Error train: {}\".format(mae_train))\n",
    "print(\"Root Mean Squared Error train: {}\".format(rmse_train)) \n",
    "print(\"Standard Deviation train: {}\".format(sd_train))  \n",
    "\n",
    "# Compute test scores\n",
    "\n",
    "y_pred = results.predict(X_test)\n",
    "\n",
    "r2_test = r2_score(y_test, y_pred)\n",
    "rmse_test = np.sqrt(mean_squared_error(y_test, y_pred))\n",
    "mae_test = mean_absolute_error(y_test, y_pred)\n",
    "r2_adjusted_test = 1 - (1-r2_score(y_test, y_pred))*(len(y_test)-1)/(len(y_test)-X_test.shape[1]-1)\n",
    "sd_test = std(y_test)\n",
    "\n",
    "print(\"R^2 test: {}\".format(r2_test))\n",
    "print(\"R^2 adjusted test: {}\".format(r2_adjusted_test))\n",
    "print(\"Mean Absolute Error test: {}\".format(mae_test))\n",
    "print(\"Root Mean Squared Error test: {}\".format(rmse_test))\n",
    "print(\"Standard Deviation test: {}\".format(sd_test))  \n"
   ]
  },
  {
   "cell_type": "markdown",
   "metadata": {
    "colab_type": "text",
    "id": "jycI9wrqJxon"
   },
   "source": [
    "We extract the table with the variables, coefficientes, p-values, etc."
   ]
  },
  {
   "cell_type": "code",
   "execution_count": 0,
   "metadata": {
    "colab": {
     "base_uri": "https://localhost:8080/",
     "height": 359
    },
    "colab_type": "code",
    "id": "-DVTIGMlJl4Y",
    "outputId": "e1d42bf4-6afb-4c35-8410-e9a99648eefe"
   },
   "outputs": [
    {
     "data": {
      "text/html": [
       "<div>\n",
       "<style scoped>\n",
       "    .dataframe tbody tr th:only-of-type {\n",
       "        vertical-align: middle;\n",
       "    }\n",
       "\n",
       "    .dataframe tbody tr th {\n",
       "        vertical-align: top;\n",
       "    }\n",
       "\n",
       "    .dataframe thead th {\n",
       "        text-align: right;\n",
       "    }\n",
       "</style>\n",
       "<table border=\"1\" class=\"dataframe\">\n",
       "  <thead>\n",
       "    <tr style=\"text-align: right;\">\n",
       "      <th></th>\n",
       "      <th>coef</th>\n",
       "      <th>std err</th>\n",
       "      <th>t</th>\n",
       "      <th>P&gt;|t|</th>\n",
       "      <th>[0.025</th>\n",
       "      <th>0.975]</th>\n",
       "    </tr>\n",
       "  </thead>\n",
       "  <tbody>\n",
       "    <tr>\n",
       "      <th>PM10_1</th>\n",
       "      <td>0.5664</td>\n",
       "      <td>0.006</td>\n",
       "      <td>91.500</td>\n",
       "      <td>0.000</td>\n",
       "      <td>0.554</td>\n",
       "      <td>0.579</td>\n",
       "    </tr>\n",
       "    <tr>\n",
       "      <th>PM10_2</th>\n",
       "      <td>0.1252</td>\n",
       "      <td>0.007</td>\n",
       "      <td>17.598</td>\n",
       "      <td>0.000</td>\n",
       "      <td>0.111</td>\n",
       "      <td>0.139</td>\n",
       "    </tr>\n",
       "    <tr>\n",
       "      <th>PM10_3</th>\n",
       "      <td>0.0288</td>\n",
       "      <td>0.007</td>\n",
       "      <td>4.021</td>\n",
       "      <td>0.000</td>\n",
       "      <td>0.015</td>\n",
       "      <td>0.043</td>\n",
       "    </tr>\n",
       "    <tr>\n",
       "      <th>PM10_4</th>\n",
       "      <td>0.0253</td>\n",
       "      <td>0.007</td>\n",
       "      <td>3.542</td>\n",
       "      <td>0.000</td>\n",
       "      <td>0.011</td>\n",
       "      <td>0.039</td>\n",
       "    </tr>\n",
       "    <tr>\n",
       "      <th>PM10_5</th>\n",
       "      <td>0.0142</td>\n",
       "      <td>0.007</td>\n",
       "      <td>1.992</td>\n",
       "      <td>0.046</td>\n",
       "      <td>0.000</td>\n",
       "      <td>0.028</td>\n",
       "    </tr>\n",
       "    <tr>\n",
       "      <th>PM10_6</th>\n",
       "      <td>0.0004</td>\n",
       "      <td>0.007</td>\n",
       "      <td>0.060</td>\n",
       "      <td>0.952</td>\n",
       "      <td>-0.014</td>\n",
       "      <td>0.014</td>\n",
       "    </tr>\n",
       "    <tr>\n",
       "      <th>PM10_7</th>\n",
       "      <td>0.0068</td>\n",
       "      <td>0.007</td>\n",
       "      <td>0.957</td>\n",
       "      <td>0.339</td>\n",
       "      <td>-0.007</td>\n",
       "      <td>0.021</td>\n",
       "    </tr>\n",
       "    <tr>\n",
       "      <th>PM10_8</th>\n",
       "      <td>0.0020</td>\n",
       "      <td>0.007</td>\n",
       "      <td>0.280</td>\n",
       "      <td>0.779</td>\n",
       "      <td>-0.012</td>\n",
       "      <td>0.016</td>\n",
       "    </tr>\n",
       "    <tr>\n",
       "      <th>PM10_9</th>\n",
       "      <td>0.0049</td>\n",
       "      <td>0.007</td>\n",
       "      <td>0.683</td>\n",
       "      <td>0.495</td>\n",
       "      <td>-0.009</td>\n",
       "      <td>0.019</td>\n",
       "    </tr>\n",
       "    <tr>\n",
       "      <th>PM10_10</th>\n",
       "      <td>0.0149</td>\n",
       "      <td>0.007</td>\n",
       "      <td>2.089</td>\n",
       "      <td>0.037</td>\n",
       "      <td>0.001</td>\n",
       "      <td>0.029</td>\n",
       "    </tr>\n",
       "  </tbody>\n",
       "</table>\n",
       "</div>"
      ],
      "text/plain": [
       "           coef  std err       t  P>|t|  [0.025  0.975]\n",
       "PM10_1   0.5664    0.006  91.500  0.000   0.554   0.579\n",
       "PM10_2   0.1252    0.007  17.598  0.000   0.111   0.139\n",
       "PM10_3   0.0288    0.007   4.021  0.000   0.015   0.043\n",
       "PM10_4   0.0253    0.007   3.542  0.000   0.011   0.039\n",
       "PM10_5   0.0142    0.007   1.992  0.046   0.000   0.028\n",
       "PM10_6   0.0004    0.007   0.060  0.952  -0.014   0.014\n",
       "PM10_7   0.0068    0.007   0.957  0.339  -0.007   0.021\n",
       "PM10_8   0.0020    0.007   0.280  0.779  -0.012   0.016\n",
       "PM10_9   0.0049    0.007   0.683  0.495  -0.009   0.019\n",
       "PM10_10  0.0149    0.007   2.089  0.037   0.001   0.029"
      ]
     },
     "execution_count": 19,
     "metadata": {
      "tags": []
     },
     "output_type": "execute_result"
    }
   ],
   "source": [
    "results_as_html = results_summary.tables[1].as_html()\n",
    "table_p = pd.read_html(results_as_html, header=0, index_col=0)[0]\n",
    "table_p.head(10)"
   ]
  },
  {
   "cell_type": "markdown",
   "metadata": {
    "colab_type": "text",
    "id": "wcn-8JPL6TAr"
   },
   "source": [
    "Using the p-value of each variable as selecting guide I conserve only the next variables: \n",
    "\n",
    "The most near values to the target variable PM10_0: PM10_1, PM10_2, PM10_3, PM10_4.  \n",
    "And the 24 hours seasonal references: PM10_22, PM10_23, PM10_24, PM10_48, PM10_72, PM10_96, PM10_120, PM10_144 and PM10_168.\n"
   ]
  },
  {
   "cell_type": "code",
   "execution_count": 0,
   "metadata": {
    "colab": {},
    "colab_type": "code",
    "id": "zXyESHHwBT8Q"
   },
   "outputs": [],
   "source": [
    "#from sklearn.feature_selection import SelectKBest\n",
    "#featureSelector = SelectKBest(score_func=f_regression,k=2)\n",
    "#featureSelector.fit(X_train,y_train.values.ravel())\n",
    "\n",
    "# no soy capaz de sacar nada limpio de esto"
   ]
  },
  {
   "cell_type": "markdown",
   "metadata": {
    "colab_type": "text",
    "id": "mFOF4mDKFdIw"
   },
   "source": [
    "We fit again the model (train period: 201401-201612) with the 13 selected variables and we compare the results to the former 33 variables model."
   ]
  },
  {
   "cell_type": "code",
   "execution_count": 0,
   "metadata": {
    "colab": {
     "base_uri": "https://localhost:8080/",
     "height": 221
    },
    "colab_type": "code",
    "id": "8e40oRtPDv_W",
    "outputId": "a0b5ca58-17c4-40f3-cb40-acf3bcf03711"
   },
   "outputs": [
    {
     "name": "stdout",
     "output_type": "stream",
     "text": [
      "R^2 train: 0.6072056185643651\n",
      "R^2 adjusted train: 0.6070101386256672\n",
      "Mean Absolute Error train: 5.716221560548706\n",
      "Root Mean Squared Error train: 9.237870640037904\n",
      "Standard Deviation train: PM10_0    14.73972\n",
      "dtype: float64\n",
      "R^2 test: 0.5940716694598334\n",
      "R^2 adjusted test: 0.593243114224\n",
      "Mean Absolute Error test: 4.835916638923838\n",
      "Root Mean Squared Error test: 6.848730277118603\n",
      "Standard Deviation test: PM10_0    10.749429\n",
      "dtype: float64\n"
     ]
    }
   ],
   "source": [
    "X_train = pyreadr.read_r(\"X_train_PM10_201401_201612.rds\")\n",
    "y_train = pyreadr.read_r(\"y_train_PM10_201401_201612.rds\")\n",
    "\n",
    "X_test = pyreadr.read_r(\"X_test_PM10_201701_201709.rds\")\n",
    "y_test = pyreadr.read_r(\"y_test_PM10_201701_201709.rds\")\n",
    "\n",
    "X_train = X_train[None]\n",
    "y_train = y_train[None]\n",
    "X_test = X_test[None]\n",
    "y_test = y_test[None]\n",
    "\n",
    "# We select the X variables\n",
    "X_train = X_train[['PM10_1', 'PM10_2', 'PM10_3', 'PM10_4', 'PM10_22', 'PM10_23', 'PM10_24', 'PM10_48', 'PM10_72', 'PM10_96', 'PM10_120', 'PM10_144', 'PM10_168']]\n",
    "X_test = X_test[['PM10_1', 'PM10_2', 'PM10_3', 'PM10_4', 'PM10_22', 'PM10_23', 'PM10_24', 'PM10_48', 'PM10_72', 'PM10_96', 'PM10_120', 'PM10_144', 'PM10_168']]\n",
    "\n",
    "\n",
    "regLR = LinearRegression()\n",
    "regLR.fit(X_train, y_train)\n",
    "\n",
    "# Compute train scores\n",
    "\n",
    "y_pred = regLR.predict(X_train)\n",
    "\n",
    "r2_train = r2_score(y_train, y_pred)\n",
    "rmse_train = np.sqrt(mean_squared_error(y_train, y_pred))\n",
    "mae_train = mean_absolute_error(y_train, y_pred)\n",
    "r2_adjusted_train = 1 - (1-r2_score(y_train, y_pred))*(len(y_train)-1)/(len(y_train)-X_train.shape[1]-1)\n",
    "sd_train = std(y_train)\n",
    "\n",
    "print(\"R^2 train: {}\".format(r2_train))\n",
    "print(\"R^2 adjusted train: {}\".format(r2_adjusted_train))\n",
    "print(\"Mean Absolute Error train: {}\".format(mae_train))\n",
    "print(\"Root Mean Squared Error train: {}\".format(rmse_train)) \n",
    "print(\"Standard Deviation train: {}\".format(sd_train))  \n",
    "\n",
    "# Compute test scores\n",
    "\n",
    "y_pred = regLR.predict(X_test)\n",
    "\n",
    "r2_test = r2_score(y_test, y_pred)\n",
    "rmse_test = np.sqrt(mean_squared_error(y_test, y_pred))\n",
    "mae_test = mean_absolute_error(y_test, y_pred)\n",
    "r2_adjusted_test = 1 - (1-r2_score(y_test, y_pred))*(len(y_test)-1)/(len(y_test)-X_test.shape[1]-1)\n",
    "sd_test = std(y_test)\n",
    "\n",
    "print(\"R^2 test: {}\".format(r2_test))\n",
    "print(\"R^2 adjusted test: {}\".format(r2_adjusted_test))\n",
    "print(\"Mean Absolute Error test: {}\".format(mae_test))\n",
    "print(\"Root Mean Squared Error test: {}\".format(rmse_test))\n",
    "print(\"Standard Deviation test: {}\".format(sd_test))  "
   ]
  },
  {
   "cell_type": "markdown",
   "metadata": {
    "colab_type": "text",
    "id": "fn0CMdOOHPdy"
   },
   "source": [
    "The MAE value only increases in 0.02 points. From 4.82, with 33 lagged variables, to 4.84, with just 13 lagged variables. And the R2-adjusted only drops from 0.5944 to 0.5932.  \n",
    "So, the suppression of these 20 variables barely affects the explanatory power of the model. Therefore, we reduce the X variables to these 13 ones."
   ]
  },
  {
   "cell_type": "markdown",
   "metadata": {
    "colab_type": "text",
    "id": "1JDoR7llJr3L"
   },
   "source": [
    "# Random Forest Regressor"
   ]
  },
  {
   "cell_type": "markdown",
   "metadata": {
    "colab_type": "text",
    "id": "t06Sc1eqcXca"
   },
   "source": [
    "### Train 201610-201612"
   ]
  },
  {
   "cell_type": "code",
   "execution_count": 0,
   "metadata": {
    "colab": {},
    "colab_type": "code",
    "id": "jdfKs59XJr3N"
   },
   "outputs": [],
   "source": [
    "X_train = pyreadr.read_r(\"X_train_PM10_201610_201612.rds\")\n",
    "y_train = pyreadr.read_r(\"y_train_PM10_201610_201612.rds\")\n",
    "\n",
    "X_test = pyreadr.read_r(\"X_test_PM10_201701_201709.rds\")\n",
    "y_test = pyreadr.read_r(\"y_test_PM10_201701_201709.rds\")\n",
    "\n",
    "X_train = X_train[None]\n",
    "y_train = y_train[None]\n",
    "X_test = X_test[None]\n",
    "y_test = y_test[None]\n",
    "\n",
    "\n",
    "regRFR = GridSearchCV(RandomForestRegressor(n_estimators=350,min_samples_leaf=1,max_depth=4, random_state=42),\n",
    "                   param_grid={\"n_estimators\":[100, 350, 500, 1000],\n",
    "                              \"min_samples_leaf\":[5,10,20,30,40,70,100],\n",
    "                              \"max_depth\":range(2,15)},\n",
    "                   scoring=\"neg_mean_absolute_error\")\n",
    "regRFR.fit(X_train,y_train.values.ravel())\n",
    "print(regRFR.best_params_)\n",
    "print(regRFR.best_score_)\n",
    "\n",
    "\n",
    "# Compute train scores\n",
    "\n",
    "y_pred = regRFR.predict(X_train)\n",
    "\n",
    "r2_train = r2_score(y_train, y_pred)\n",
    "rmse_train = np.sqrt(mean_squared_error(y_train, y_pred))\n",
    "mae_train = mean_absolute_error(y_train, y_pred)\n",
    "r2_adjusted_train = 1 - (1-r2_score(y_train, y_pred))*(len(y_train)-1)/(len(y_train)-X_train.shape[1]-1)\n",
    "sd_train = std(y_train)\n",
    "\n",
    "print(\"R^2 train: {}\".format(r2_train))\n",
    "print(\"R^2 adjusted train: {}\".format(r2_adjusted_train))\n",
    "print(\"Mean Absolute Error train: {}\".format(mae_train))\n",
    "print(\"Root Mean Squared Error train: {}\".format(rmse_train)) \n",
    "print(\"Standard Deviation train: {}\".format(sd_train))  \n",
    "\n",
    "# Compute test scores\n",
    "\n",
    "y_pred = regRFR.predict(X_test)\n",
    "\n",
    "r2_test = r2_score(y_test, y_pred)\n",
    "rmse_test = np.sqrt(mean_squared_error(y_test, y_pred))\n",
    "mae_test = mean_absolute_error(y_test, y_pred)\n",
    "r2_adjusted_test = 1 - (1-r2_score(y_test, y_pred))*(len(y_test)-1)/(len(y_test)-X_test.shape[1]-1)\n",
    "sd_test = std(y_test)\n",
    "\n",
    "print(\"R^2 test: {}\".format(r2_test))\n",
    "print(\"R^2 adjusted test: {}\".format(r2_adjusted_test))\n",
    "print(\"Mean Absolute Error test: {}\".format(mae_test))\n",
    "print(\"Root Mean Squared Error test: {}\".format(rmse_test))\n",
    "print(\"Standard Deviation test: {}\".format(sd_test))  \n",
    "\n"
   ]
  },
  {
   "cell_type": "markdown",
   "metadata": {
    "colab_type": "text",
    "id": "uJux7lLyK8UH"
   },
   "source": [
    "The parameters of the best model selected by GridsearchCV are:  {'max_depth': 5, 'min_samples_leaf': 10, 'n_estimators': 500}"
   ]
  },
  {
   "cell_type": "code",
   "execution_count": 0,
   "metadata": {
    "colab": {
     "base_uri": "https://localhost:8080/",
     "height": 221
    },
    "colab_type": "code",
    "id": "P72S2s_yK5Lg",
    "outputId": "1770a29e-5457-4298-c7e7-ff79112541ec"
   },
   "outputs": [
    {
     "name": "stdout",
     "output_type": "stream",
     "text": [
      "R^2 train: 0.6939095733303099\n",
      "R^2 adjusted train: 0.6888766963596573\n",
      "Mean Absolute Error train: 4.649013802907381\n",
      "Root Mean Squared Error train: 7.331657321425988\n",
      "Standard Deviation train: PM10_0    13.251874\n",
      "dtype: float64\n",
      "R^2 test: 0.5773652610772334\n",
      "R^2 adjusted test: 0.5751685456284302\n",
      "Mean Absolute Error test: 4.899718592696808\n",
      "Root Mean Squared Error test: 6.988242662604194\n",
      "Standard Deviation test: PM10_0    10.749429\n",
      "dtype: float64\n"
     ]
    }
   ],
   "source": [
    "X_train = pyreadr.read_r(\"X_train_PM10_201610_201612.rds\")\n",
    "y_train = pyreadr.read_r(\"y_train_PM10_201610_201612.rds\")\n",
    "\n",
    "X_test = pyreadr.read_r(\"X_test_PM10_201701_201709.rds\")\n",
    "y_test = pyreadr.read_r(\"y_test_PM10_201701_201709.rds\")\n",
    "\n",
    "X_train = X_train[None]\n",
    "y_train = y_train[None]\n",
    "X_test = X_test[None]\n",
    "y_test = y_test[None]\n",
    "\n",
    "\n",
    "regRFR = RandomForestRegressor(n_estimators=500,min_samples_leaf=10,max_depth=5, random_state=42)\n",
    "\n",
    "regRFR.fit(X_train,y_train.values.ravel())\n",
    "\n",
    "\n",
    "# Compute train scores\n",
    "\n",
    "y_pred = regRFR.predict(X_train)\n",
    "\n",
    "r2_train = r2_score(y_train, y_pred)\n",
    "rmse_train = np.sqrt(mean_squared_error(y_train, y_pred))\n",
    "mae_train = mean_absolute_error(y_train, y_pred)\n",
    "r2_adjusted_train = 1 - (1-r2_score(y_train, y_pred))*(len(y_train)-1)/(len(y_train)-X_train.shape[1]-1)\n",
    "sd_train = std(y_train)\n",
    "\n",
    "print(\"R^2 train: {}\".format(r2_train))\n",
    "print(\"R^2 adjusted train: {}\".format(r2_adjusted_train))\n",
    "print(\"Mean Absolute Error train: {}\".format(mae_train))\n",
    "print(\"Root Mean Squared Error train: {}\".format(rmse_train)) \n",
    "print(\"Standard Deviation train: {}\".format(sd_train))  \n",
    "\n",
    "# Compute test scores\n",
    "\n",
    "y_pred = regRFR.predict(X_test)\n",
    "\n",
    "r2_test = r2_score(y_test, y_pred)\n",
    "rmse_test = np.sqrt(mean_squared_error(y_test, y_pred))\n",
    "mae_test = mean_absolute_error(y_test, y_pred)\n",
    "r2_adjusted_test = 1 - (1-r2_score(y_test, y_pred))*(len(y_test)-1)/(len(y_test)-X_test.shape[1]-1)\n",
    "sd_test = std(y_test)\n",
    "\n",
    "print(\"R^2 test: {}\".format(r2_test))\n",
    "print(\"R^2 adjusted test: {}\".format(r2_adjusted_test))\n",
    "print(\"Mean Absolute Error test: {}\".format(mae_test))\n",
    "print(\"Root Mean Squared Error test: {}\".format(rmse_test))\n",
    "print(\"Standard Deviation test: {}\".format(sd_test))  \n",
    "\n"
   ]
  },
  {
   "cell_type": "markdown",
   "metadata": {
    "colab_type": "text",
    "id": "1K8psdqkv3PU"
   },
   "source": [
    "### Train 201401-201612"
   ]
  },
  {
   "cell_type": "code",
   "execution_count": 0,
   "metadata": {
    "colab": {},
    "colab_type": "code",
    "id": "W47dIaZ4v3PW"
   },
   "outputs": [],
   "source": [
    "X_train = pyreadr.read_r(\"X_train_PM10_201401_201612.rds\")\n",
    "y_train = pyreadr.read_r(\"y_train_PM10_201401_201612.rds\")\n",
    "\n",
    "X_test = pyreadr.read_r(\"X_test_PM10_201701_201709.rds\")\n",
    "y_test = pyreadr.read_r(\"y_test_PM10_201701_201709.rds\")\n",
    "\n",
    "X_train = X_train[None]\n",
    "y_train = y_train[None]\n",
    "X_test = X_test[None]\n",
    "y_test = y_test[None]\n",
    "\n",
    "\n",
    "regRFR = GridSearchCV(RandomForestRegressor(n_estimators=350,min_samples_leaf=1,max_depth=4, random_state=42),\n",
    "                   param_grid={\"n_estimators\":[100, 350, 500, 1000],\n",
    "                              \"min_samples_leaf\":[5,10,20,30,40,70,100],\n",
    "                              \"max_depth\":range(2,15)},\n",
    "                   scoring=\"neg_mean_absolute_error\")\n",
    "regRFR.fit(X_train,y_train.values.ravel())\n",
    "print(regRFR.best_params_)\n",
    "print(regRFR.best_score_)\n",
    "\n",
    "\n",
    "# Compute train scores\n",
    "\n",
    "y_pred = regRFR.predict(X_train)\n",
    "\n",
    "r2_train = r2_score(y_train, y_pred)\n",
    "rmse_train = np.sqrt(mean_squared_error(y_train, y_pred))\n",
    "mae_train = mean_absolute_error(y_train, y_pred)\n",
    "r2_adjusted_train = 1 - (1-r2_score(y_train, y_pred))*(len(y_train)-1)/(len(y_train)-X_train.shape[1]-1)\n",
    "sd_train = std(y_train)\n",
    "\n",
    "print(\"R^2 train: {}\".format(r2_train))\n",
    "print(\"R^2 adjusted train: {}\".format(r2_adjusted_train))\n",
    "print(\"Mean Absolute Error train: {}\".format(mae_train))\n",
    "print(\"Root Mean Squared Error train: {}\".format(rmse_train)) \n",
    "print(\"Standard Deviation train: {}\".format(sd_train))  \n",
    "\n",
    "# Compute test scores\n",
    "\n",
    "y_pred = regRFR.predict(X_test)\n",
    "\n",
    "r2_test = r2_score(y_test, y_pred)\n",
    "rmse_test = np.sqrt(mean_squared_error(y_test, y_pred))\n",
    "mae_test = mean_absolute_error(y_test, y_pred)\n",
    "r2_adjusted_test = 1 - (1-r2_score(y_test, y_pred))*(len(y_test)-1)/(len(y_test)-X_test.shape[1]-1)\n",
    "sd_test = std(y_test)\n",
    "\n",
    "print(\"R^2 test: {}\".format(r2_test))\n",
    "print(\"R^2 adjusted test: {}\".format(r2_adjusted_test))\n",
    "print(\"Mean Absolute Error test: {}\".format(mae_test))\n",
    "print(\"Root Mean Squared Error test: {}\".format(rmse_test))\n",
    "print(\"Standard Deviation test: {}\".format(sd_test))  \n",
    "\n"
   ]
  },
  {
   "cell_type": "markdown",
   "metadata": {
    "colab_type": "text",
    "id": "OOHQSlrQuHP2"
   },
   "source": []
  },
  {
   "cell_type": "markdown",
   "metadata": {
    "colab_type": "text",
    "id": "VIvqK2ibuH_I"
   },
   "source": []
  },
  {
   "cell_type": "markdown",
   "metadata": {
    "colab_type": "text",
    "id": "eFrMuflVwY_h"
   },
   "source": [
    "### Train 200901-201612"
   ]
  },
  {
   "cell_type": "code",
   "execution_count": 0,
   "metadata": {
    "colab": {},
    "colab_type": "code",
    "id": "uKfamwddwY_i"
   },
   "outputs": [],
   "source": [
    "X_train = pyreadr.read_r(\"X_train_PM10_200901_201612.rds\")\n",
    "y_train = pyreadr.read_r(\"y_train_PM10_200901_201612.rds\")\n",
    "\n",
    "X_test = pyreadr.read_r(\"X_test_PM10_201701_201709.rds\")\n",
    "y_test = pyreadr.read_r(\"y_test_PM10_201701_201709.rds\")\n",
    "\n",
    "X_train = X_train[None]\n",
    "y_train = y_train[None]\n",
    "X_test = X_test[None]\n",
    "y_test = y_test[None]\n",
    "\n",
    "\n",
    "regRFR = GridSearchCV(RandomForestRegressor(n_estimators=350,min_samples_leaf=1,max_depth=4, random_state=42),\n",
    "                   param_grid={\"n_estimators\":[100, 350, 500, 1000],\n",
    "                              \"min_samples_leaf\":[5,10,20,30,40,70,100],\n",
    "                              \"max_depth\":range(2,15)},\n",
    "                   scoring=\"neg_mean_absolute_error\")\n",
    "regRFR.fit(X_train,y_train.values.ravel())\n",
    "print(regRFR.best_params_)\n",
    "print(regRFR.best_score_)\n",
    "\n",
    "\n",
    "# Compute train scores\n",
    "\n",
    "y_pred = regRFR.predict(X_train)\n",
    "\n",
    "r2_train = r2_score(y_train, y_pred)\n",
    "rmse_train = np.sqrt(mean_squared_error(y_train, y_pred))\n",
    "mae_train = mean_absolute_error(y_train, y_pred)\n",
    "r2_adjusted_train = 1 - (1-r2_score(y_train, y_pred))*(len(y_train)-1)/(len(y_train)-X_train.shape[1]-1)\n",
    "sd_train = std(y_train)\n",
    "\n",
    "print(\"R^2 train: {}\".format(r2_train))\n",
    "print(\"R^2 adjusted train: {}\".format(r2_adjusted_train))\n",
    "print(\"Mean Absolute Error train: {}\".format(mae_train))\n",
    "print(\"Root Mean Squared Error train: {}\".format(rmse_train)) \n",
    "print(\"Standard Deviation train: {}\".format(sd_train))  \n",
    "\n",
    "# Compute test scores\n",
    "\n",
    "y_pred = regRFR.predict(X_test)\n",
    "\n",
    "r2_test = r2_score(y_test, y_pred)\n",
    "rmse_test = np.sqrt(mean_squared_error(y_test, y_pred))\n",
    "mae_test = mean_absolute_error(y_test, y_pred)\n",
    "r2_adjusted_test = 1 - (1-r2_score(y_test, y_pred))*(len(y_test)-1)/(len(y_test)-X_test.shape[1]-1)\n",
    "sd_test = std(y_test)\n",
    "\n",
    "print(\"R^2 test: {}\".format(r2_test))\n",
    "print(\"R^2 adjusted test: {}\".format(r2_adjusted_test))\n",
    "print(\"Mean Absolute Error test: {}\".format(mae_test))\n",
    "print(\"Root Mean Squared Error test: {}\".format(rmse_test))\n",
    "print(\"Standard Deviation test: {}\".format(sd_test))  \n",
    "\n"
   ]
  },
  {
   "cell_type": "markdown",
   "metadata": {
    "colab_type": "text",
    "id": "Q5hyrlLqu5r-"
   },
   "source": [
    "Now, we fit again the Random Forest model with the 201401-201612 training periodo but with the selection of 13 lagged variables."
   ]
  },
  {
   "cell_type": "markdown",
   "metadata": {
    "colab_type": "text",
    "id": "6A9Jc7vru4n9"
   },
   "source": [
    "### Train 201401-201612"
   ]
  },
  {
   "cell_type": "code",
   "execution_count": 0,
   "metadata": {
    "colab": {},
    "colab_type": "code",
    "id": "LbHv9a4JuH_J"
   },
   "outputs": [],
   "source": [
    "X_train = pyreadr.read_r(\"X_train_PM10_201401_201612.rds\")\n",
    "y_train = pyreadr.read_r(\"y_train_PM10_201401_201612.rds\")\n",
    "\n",
    "X_test = pyreadr.read_r(\"X_test_PM10_201701_201709.rds\")\n",
    "y_test = pyreadr.read_r(\"y_test_PM10_201701_201709.rds\")\n",
    "\n",
    "X_train = X_train[None]\n",
    "y_train = y_train[None]\n",
    "X_test = X_test[None]\n",
    "y_test = y_test[None]\n",
    "\n",
    "# We select the X variables\n",
    "X_train = X_train[['PM10_1', 'PM10_2', 'PM10_3', 'PM10_4', 'PM10_22', 'PM10_23', 'PM10_24', 'PM10_48', 'PM10_72', 'PM10_96', 'PM10_120', 'PM10_144', 'PM10_168']]\n",
    "X_test = X_test[['PM10_1', 'PM10_2', 'PM10_3', 'PM10_4', 'PM10_22', 'PM10_23', 'PM10_24', 'PM10_48', 'PM10_72', 'PM10_96', 'PM10_120', 'PM10_144', 'PM10_168']]\n",
    "\n",
    "\n",
    "regRFR = GridSearchCV(RandomForestRegressor(n_estimators=350,min_samples_leaf=1,max_depth=4, random_state=42),\n",
    "                   param_grid={\"n_estimators\":[100, 350, 500, 1000],\n",
    "                              \"min_samples_leaf\":[5,10,20,30,40,70,100],\n",
    "                              \"max_depth\":range(2,15)},\n",
    "                   scoring=\"neg_mean_absolute_error\")\n",
    "regRFR.fit(X_train,y_train.values.ravel())\n",
    "print(regRFR.best_params_)\n",
    "print(regRFR.best_score_)\n",
    "\n",
    "\n",
    "# Compute train scores\n",
    "\n",
    "y_pred = regRFR.predict(X_train)\n",
    "\n",
    "r2_train = r2_score(y_train, y_pred)\n",
    "rmse_train = np.sqrt(mean_squared_error(y_train, y_pred))\n",
    "mae_train = mean_absolute_error(y_train, y_pred)\n",
    "r2_adjusted_train = 1 - (1-r2_score(y_train, y_pred))*(len(y_train)-1)/(len(y_train)-X_train.shape[1]-1)\n",
    "sd_train = std(y_train)\n",
    "\n",
    "print(\"R^2 train: {}\".format(r2_train))\n",
    "print(\"R^2 adjusted train: {}\".format(r2_adjusted_train))\n",
    "print(\"Mean Absolute Error train: {}\".format(mae_train))\n",
    "print(\"Root Mean Squared Error train: {}\".format(rmse_train)) \n",
    "print(\"Standard Deviation train: {}\".format(sd_train))  \n",
    "\n",
    "# Compute test scores\n",
    "\n",
    "y_pred = regRFR.predict(X_test)\n",
    "\n",
    "r2_test = r2_score(y_test, y_pred)\n",
    "rmse_test = np.sqrt(mean_squared_error(y_test, y_pred))\n",
    "mae_test = mean_absolute_error(y_test, y_pred)\n",
    "r2_adjusted_test = 1 - (1-r2_score(y_test, y_pred))*(len(y_test)-1)/(len(y_test)-X_test.shape[1]-1)\n",
    "sd_test = std(y_test)\n",
    "\n",
    "print(\"R^2 test: {}\".format(r2_test))\n",
    "print(\"R^2 adjusted test: {}\".format(r2_adjusted_test))\n",
    "print(\"Mean Absolute Error test: {}\".format(mae_test))\n",
    "print(\"Root Mean Squared Error test: {}\".format(rmse_test))\n",
    "print(\"Standard Deviation test: {}\".format(sd_test))  \n",
    "\n"
   ]
  },
  {
   "cell_type": "markdown",
   "metadata": {
    "colab_type": "text",
    "id": "DQtb46iJKP04"
   },
   "source": []
  },
  {
   "cell_type": "markdown",
   "metadata": {
    "colab_type": "text",
    "id": "eYnUYp24nlO2"
   },
   "source": [
    "# XGBoost"
   ]
  },
  {
   "cell_type": "markdown",
   "metadata": {
    "colab_type": "text",
    "id": "ArCZCLucnrI8"
   },
   "source": [
    "### Train 201610-201612"
   ]
  },
  {
   "cell_type": "code",
   "execution_count": 0,
   "metadata": {
    "colab": {
     "base_uri": "https://localhost:8080/",
     "height": 123
    },
    "colab_type": "code",
    "id": "UZvqJvnlQZss",
    "outputId": "b4610976-53d6-4013-f90e-8760cc73138b"
   },
   "outputs": [
    {
     "name": "stderr",
     "output_type": "stream",
     "text": [
      "/usr/local/lib/python3.6/dist-packages/sklearn/model_selection/_split.py:2053: FutureWarning: You should specify a value for 'cv' instead of relying on the default value. The default value will change from 3 to 5 in version 0.22.\n",
      "  warnings.warn(CV_WARNING, FutureWarning)\n"
     ]
    },
    {
     "name": "stdout",
     "output_type": "stream",
     "text": [
      "{'max_depth': 2, 'min_samples_leaf': 10, 'n_estimators': 100}\n",
      "-5.377260599148392\n",
      "4.90162220006988\n"
     ]
    }
   ],
   "source": [
    "X_train = pyreadr.read_r(\"X_train_PM10_201610_201612.rds\")\n",
    "y_train = pyreadr.read_r(\"y_train_PM10_201610_201612.rds\")\n",
    "\n",
    "X_test = pyreadr.read_r(\"X_test_PM10_201701_201709.rds\")\n",
    "y_test = pyreadr.read_r(\"y_test_PM10_201701_201709.rds\")\n",
    "\n",
    "X_train = X_train[None]\n",
    "y_train = y_train[None]\n",
    "X_test = X_test[None]\n",
    "y_test = y_test[None]\n",
    "\n",
    "regXGB = GridSearchCV(XGBRegressor(n_estimators=350, min_samples_leaf=1,max_depth=4, random_state=42),\n",
    "                   param_grid={\"n_estimators\":[100, 200, 300, 400, 500, 1000],\n",
    "                                \"min_samples_leaf\":[10,20,30,40,70,100],\n",
    "                                  \"max_depth\":range(2,10)},\n",
    "                                    scoring=\"neg_mean_absolute_error\")\n",
    "\n",
    "regXGB.fit(X_train,y_train)\n",
    "\n",
    "print(regXGB.best_params_)\n",
    "print(regXGB.best_score_)\n",
    "print(mean_absolute_error(y_test, y_pred))\n",
    "\n",
    "# Compute train scores\n",
    "\n",
    "y_pred = regXGB.predict(X_train)\n",
    "\n",
    "r2_train = r2_score(y_train, y_pred)\n",
    "rmse_train = np.sqrt(mean_squared_error(y_train, y_pred))\n",
    "mae_train = mean_absolute_error(y_train, y_pred)\n",
    "r2_adjusted_train = 1 - (1-r2_score(y_train, y_pred))*(len(y_train)-1)/(len(y_train)-X_train.shape[1]-1)\n",
    "sd_train = std(y_train)\n",
    "\n",
    "print(\"R^2 train: {}\".format(r2_train))\n",
    "print(\"R^2 adjusted train: {}\".format(r2_adjusted_train))\n",
    "print(\"Mean Absolute Error train: {}\".format(mae_train))\n",
    "print(\"Root Mean Squared Error train: {}\".format(rmse_train)) \n",
    "print(\"Standard Deviation train: {}\".format(sd_train))  \n",
    "\n",
    "# Compute test scores\n",
    "\n",
    "y_pred = regXGB.predict(X_test)\n",
    "\n",
    "r2_test = r2_score(y_test, y_pred)\n",
    "rmse_test = np.sqrt(mean_squared_error(y_test, y_pred))\n",
    "mae_test = mean_absolute_error(y_test, y_pred)\n",
    "r2_adjusted_test = 1 - (1-r2_score(y_test, y_pred))*(len(y_test)-1)/(len(y_test)-X_test.shape[1]-1)\n",
    "sd_test = std(y_test)\n",
    "\n",
    "print(\"R^2 test: {}\".format(r2_test))\n",
    "print(\"R^2 adjusted test: {}\".format(r2_adjusted_test))\n",
    "print(\"Mean Absolute Error test: {}\".format(mae_test))\n",
    "print(\"Root Mean Squared Error test: {}\".format(rmse_test))\n",
    "print(\"Standard Deviation test: {}\".format(sd_test))  "
   ]
  },
  {
   "cell_type": "markdown",
   "metadata": {
    "colab_type": "text",
    "id": "LNLijTwsw7on"
   },
   "source": [
    "The best parameters {'max_depth': 2, 'min_samples_leaf': 10, 'n_estimators': 100}"
   ]
  },
  {
   "cell_type": "code",
   "execution_count": 0,
   "metadata": {
    "colab": {
     "base_uri": "https://localhost:8080/",
     "height": 221
    },
    "colab_type": "code",
    "id": "fHkv33YNwpbq",
    "outputId": "e5c50c61-c705-4b9a-f9d7-aeabd49671ac"
   },
   "outputs": [
    {
     "name": "stdout",
     "output_type": "stream",
     "text": [
      "R^2 train: 0.7389768711052307\n",
      "R^2 adjusted train: 0.7346850109888743\n",
      "Mean Absolute Error train: 4.704194023699739\n",
      "Root Mean Squared Error train: 6.770438231867509\n",
      "Standard Deviation train: PM10_0    13.251874\n",
      "dtype: float64\n",
      "R^2 test: 0.5825421132322486\n",
      "R^2 adjusted test: 0.5803723053470169\n",
      "Mean Absolute Error test: 4.886845953941177\n",
      "Root Mean Squared Error test: 6.945311305119211\n",
      "Standard Deviation test: PM10_0    10.749429\n",
      "dtype: float64\n"
     ]
    }
   ],
   "source": [
    "X_train = pyreadr.read_r(\"X_train_PM10_201610_201612.rds\")\n",
    "y_train = pyreadr.read_r(\"y_train_PM10_201610_201612.rds\")\n",
    "\n",
    "X_test = pyreadr.read_r(\"X_test_PM10_201701_201709.rds\")\n",
    "y_test = pyreadr.read_r(\"y_test_PM10_201701_201709.rds\")\n",
    "\n",
    "X_train = X_train[None]\n",
    "y_train = y_train[None]\n",
    "X_test = X_test[None]\n",
    "y_test = y_test[None]\n",
    "\n",
    "regXGB = XGBRegressor(n_estimators=100, min_samples_leaf=10,max_depth=2, random_state=42)\n",
    "regXGB.fit(X_train,y_train)\n",
    "\n",
    "\n",
    "# Compute train scores\n",
    "\n",
    "y_pred = regXGB.predict(X_train)\n",
    "\n",
    "r2_train = r2_score(y_train, y_pred)\n",
    "rmse_train = np.sqrt(mean_squared_error(y_train, y_pred))\n",
    "mae_train = mean_absolute_error(y_train, y_pred)\n",
    "r2_adjusted_train = 1 - (1-r2_score(y_train, y_pred))*(len(y_train)-1)/(len(y_train)-X_train.shape[1]-1)\n",
    "sd_train = std(y_train)\n",
    "\n",
    "print(\"R^2 train: {}\".format(r2_train))\n",
    "print(\"R^2 adjusted train: {}\".format(r2_adjusted_train))\n",
    "print(\"Mean Absolute Error train: {}\".format(mae_train))\n",
    "print(\"Root Mean Squared Error train: {}\".format(rmse_train)) \n",
    "print(\"Standard Deviation train: {}\".format(sd_train))  \n",
    "\n",
    "# Compute test scores\n",
    "\n",
    "y_pred = regXGB.predict(X_test)\n",
    "\n",
    "r2_test = r2_score(y_test, y_pred)\n",
    "rmse_test = np.sqrt(mean_squared_error(y_test, y_pred))\n",
    "mae_test = mean_absolute_error(y_test, y_pred)\n",
    "r2_adjusted_test = 1 - (1-r2_score(y_test, y_pred))*(len(y_test)-1)/(len(y_test)-X_test.shape[1]-1)\n",
    "sd_test = std(y_test)\n",
    "\n",
    "print(\"R^2 test: {}\".format(r2_test))\n",
    "print(\"R^2 adjusted test: {}\".format(r2_adjusted_test))\n",
    "print(\"Mean Absolute Error test: {}\".format(mae_test))\n",
    "print(\"Root Mean Squared Error test: {}\".format(rmse_test))\n",
    "print(\"Standard Deviation test: {}\".format(sd_test))  "
   ]
  },
  {
   "cell_type": "markdown",
   "metadata": {
    "colab_type": "text",
    "id": "sKvQgR87ylPm"
   },
   "source": [
    "Same training period, same parameters, selection of 13 variables"
   ]
  },
  {
   "cell_type": "code",
   "execution_count": 0,
   "metadata": {
    "colab": {
     "base_uri": "https://localhost:8080/",
     "height": 221
    },
    "colab_type": "code",
    "id": "K3-FvpHwyhLn",
    "outputId": "38d65e61-4525-4cd3-d109-affda179d690"
   },
   "outputs": [
    {
     "name": "stdout",
     "output_type": "stream",
     "text": [
      "R^2 train: 0.676497558351991\n",
      "R^2 adjusted train: 0.674422801696133\n",
      "Mean Absolute Error train: 4.7373128123819495\n",
      "Root Mean Squared Error train: 7.537304593208814\n",
      "Standard Deviation train: PM10_0    13.251874\n",
      "dtype: float64\n",
      "R^2 test: 0.5787547007010632\n",
      "R^2 adjusted test: 0.5778948814373034\n",
      "Mean Absolute Error test: 4.9213013425051075\n",
      "Root Mean Squared Error test: 6.9767460511566\n",
      "Standard Deviation test: PM10_0    10.749429\n",
      "dtype: float64\n"
     ]
    }
   ],
   "source": [
    "X_train = pyreadr.read_r(\"X_train_PM10_201610_201612.rds\")\n",
    "y_train = pyreadr.read_r(\"y_train_PM10_201610_201612.rds\")\n",
    "\n",
    "X_test = pyreadr.read_r(\"X_test_PM10_201701_201709.rds\")\n",
    "y_test = pyreadr.read_r(\"y_test_PM10_201701_201709.rds\")\n",
    "\n",
    "X_train = X_train[None]\n",
    "y_train = y_train[None]\n",
    "X_test = X_test[None]\n",
    "y_test = y_test[None]\n",
    "\n",
    "# We select the X variables\n",
    "X_train = X_train[['PM10_1', 'PM10_2', 'PM10_3', 'PM10_4', 'PM10_22', 'PM10_23', 'PM10_24', 'PM10_48', 'PM10_72', 'PM10_96', 'PM10_120', 'PM10_144', 'PM10_168']]\n",
    "X_test = X_test[['PM10_1', 'PM10_2', 'PM10_3', 'PM10_4', 'PM10_22', 'PM10_23', 'PM10_24', 'PM10_48', 'PM10_72', 'PM10_96', 'PM10_120', 'PM10_144', 'PM10_168']]\n",
    "\n",
    "\n",
    "regXGB = XGBRegressor(n_estimators=100, min_samples_leaf=10,max_depth=2, random_state=42)\n",
    "regXGB.fit(X_train,y_train)\n",
    "\n",
    "\n",
    "# Compute train scores\n",
    "\n",
    "y_pred = regXGB.predict(X_train)\n",
    "\n",
    "r2_train = r2_score(y_train, y_pred)\n",
    "rmse_train = np.sqrt(mean_squared_error(y_train, y_pred))\n",
    "mae_train = mean_absolute_error(y_train, y_pred)\n",
    "r2_adjusted_train = 1 - (1-r2_score(y_train, y_pred))*(len(y_train)-1)/(len(y_train)-X_train.shape[1]-1)\n",
    "sd_train = std(y_train)\n",
    "\n",
    "print(\"R^2 train: {}\".format(r2_train))\n",
    "print(\"R^2 adjusted train: {}\".format(r2_adjusted_train))\n",
    "print(\"Mean Absolute Error train: {}\".format(mae_train))\n",
    "print(\"Root Mean Squared Error train: {}\".format(rmse_train)) \n",
    "print(\"Standard Deviation train: {}\".format(sd_train))  \n",
    "\n",
    "# Compute test scores\n",
    "\n",
    "y_pred = regXGB.predict(X_test)\n",
    "\n",
    "r2_test = r2_score(y_test, y_pred)\n",
    "rmse_test = np.sqrt(mean_squared_error(y_test, y_pred))\n",
    "mae_test = mean_absolute_error(y_test, y_pred)\n",
    "r2_adjusted_test = 1 - (1-r2_score(y_test, y_pred))*(len(y_test)-1)/(len(y_test)-X_test.shape[1]-1)\n",
    "sd_test = std(y_test)\n",
    "\n",
    "print(\"R^2 test: {}\".format(r2_test))\n",
    "print(\"R^2 adjusted test: {}\".format(r2_adjusted_test))\n",
    "print(\"Mean Absolute Error test: {}\".format(mae_test))\n",
    "print(\"Root Mean Squared Error test: {}\".format(rmse_test))\n",
    "print(\"Standard Deviation test: {}\".format(sd_test))  "
   ]
  },
  {
   "cell_type": "markdown",
   "metadata": {
    "colab_type": "text",
    "id": "YKNax0CU0Q58"
   },
   "source": [
    "Sale un poco peor que con 33 variables, pero habr'ia que hacerlo con el gridsearchcv. No creo que los best params sean los mismos para las 33 variables que para las 13.   \n",
    "A destacar como baja el R2 en training, no moviendose apenas el MAE. Overfitting supongo. "
   ]
  },
  {
   "cell_type": "code",
   "execution_count": 0,
   "metadata": {
    "colab": {},
    "colab_type": "code",
    "id": "hXMDgVIn1R4x"
   },
   "outputs": [],
   "source": []
  },
  {
   "cell_type": "markdown",
   "metadata": {
    "colab_type": "text",
    "id": "SlS3IRCj1SOs"
   },
   "source": [
    "### Train 201401-201612"
   ]
  },
  {
   "cell_type": "markdown",
   "metadata": {
    "colab_type": "text",
    "id": "Y1GUlNWb126e"
   },
   "source": [
    "Lo hago con los best params del anterior periodo. Hay que hacer el gridsearch."
   ]
  },
  {
   "cell_type": "code",
   "execution_count": 0,
   "metadata": {
    "colab": {
     "base_uri": "https://localhost:8080/",
     "height": 221
    },
    "colab_type": "code",
    "id": "DpxcXf9V1EdW",
    "outputId": "40ca64a6-806a-4403-dbd0-237052412e2d"
   },
   "outputs": [
    {
     "name": "stdout",
     "output_type": "stream",
     "text": [
      "R^2 train: 0.6465534525235511\n",
      "R^2 adjusted train: 0.6461066003257607\n",
      "Mean Absolute Error train: 5.558925771748468\n",
      "Root Mean Squared Error train: 8.762965761377789\n",
      "Standard Deviation train: PM10_0    14.73972\n",
      "dtype: float64\n",
      "R^2 test: 0.5990186094795216\n",
      "R^2 adjusted test: 0.5969344409668147\n",
      "Mean Absolute Error test: 4.804592832595892\n",
      "Root Mean Squared Error test: 6.806870530520655\n",
      "Standard Deviation test: PM10_0    10.749429\n",
      "dtype: float64\n"
     ]
    }
   ],
   "source": [
    "X_train = pyreadr.read_r(\"X_train_PM10_201401_201612.rds\")\n",
    "y_train = pyreadr.read_r(\"y_train_PM10_201401_201612.rds\")\n",
    "\n",
    "X_test = pyreadr.read_r(\"X_test_PM10_201701_201709.rds\")\n",
    "y_test = pyreadr.read_r(\"y_test_PM10_201701_201709.rds\")\n",
    "\n",
    "X_train = X_train[None]\n",
    "y_train = y_train[None]\n",
    "X_test = X_test[None]\n",
    "y_test = y_test[None]\n",
    "\n",
    "regXGB = XGBRegressor(n_estimators=100, min_samples_leaf=10,max_depth=2, random_state=42)\n",
    "regXGB.fit(X_train,y_train)\n",
    "\n",
    "\n",
    "# Compute train scores\n",
    "\n",
    "y_pred = regXGB.predict(X_train)\n",
    "\n",
    "r2_train = r2_score(y_train, y_pred)\n",
    "rmse_train = np.sqrt(mean_squared_error(y_train, y_pred))\n",
    "mae_train = mean_absolute_error(y_train, y_pred)\n",
    "r2_adjusted_train = 1 - (1-r2_score(y_train, y_pred))*(len(y_train)-1)/(len(y_train)-X_train.shape[1]-1)\n",
    "sd_train = std(y_train)\n",
    "\n",
    "print(\"R^2 train: {}\".format(r2_train))\n",
    "print(\"R^2 adjusted train: {}\".format(r2_adjusted_train))\n",
    "print(\"Mean Absolute Error train: {}\".format(mae_train))\n",
    "print(\"Root Mean Squared Error train: {}\".format(rmse_train)) \n",
    "print(\"Standard Deviation train: {}\".format(sd_train))  \n",
    "\n",
    "# Compute test scores\n",
    "\n",
    "y_pred = regXGB.predict(X_test)\n",
    "\n",
    "r2_test = r2_score(y_test, y_pred)\n",
    "rmse_test = np.sqrt(mean_squared_error(y_test, y_pred))\n",
    "mae_test = mean_absolute_error(y_test, y_pred)\n",
    "r2_adjusted_test = 1 - (1-r2_score(y_test, y_pred))*(len(y_test)-1)/(len(y_test)-X_test.shape[1]-1)\n",
    "sd_test = std(y_test)\n",
    "\n",
    "print(\"R^2 test: {}\".format(r2_test))\n",
    "print(\"R^2 adjusted test: {}\".format(r2_adjusted_test))\n",
    "print(\"Mean Absolute Error test: {}\".format(mae_test))\n",
    "print(\"Root Mean Squared Error test: {}\".format(rmse_test))\n",
    "print(\"Standard Deviation test: {}\".format(sd_test))  "
   ]
  },
  {
   "cell_type": "code",
   "execution_count": 0,
   "metadata": {
    "colab": {
     "base_uri": "https://localhost:8080/",
     "height": 221
    },
    "colab_type": "code",
    "id": "ahJ1quXR1Z-X",
    "outputId": "1a9fc119-f524-4aa7-881e-243d07090992"
   },
   "outputs": [
    {
     "name": "stdout",
     "output_type": "stream",
     "text": [
      "R^2 train: 0.640829747627156\n",
      "R^2 adjusted train: 0.640651001234045\n",
      "Mean Absolute Error train: 5.563796439135541\n",
      "Root Mean Squared Error train: 8.83363443714619\n",
      "Standard Deviation train: PM10_0    14.73972\n",
      "dtype: float64\n",
      "R^2 test: 0.5978387170698884\n",
      "R^2 adjusted test: 0.5970178508933943\n",
      "Mean Absolute Error test: 4.810564217644158\n",
      "Root Mean Squared Error test: 6.81687782217422\n",
      "Standard Deviation test: PM10_0    10.749429\n",
      "dtype: float64\n"
     ]
    }
   ],
   "source": [
    "X_train = pyreadr.read_r(\"X_train_PM10_201401_201612.rds\")\n",
    "y_train = pyreadr.read_r(\"y_train_PM10_201401_201612.rds\")\n",
    "\n",
    "X_test = pyreadr.read_r(\"X_test_PM10_201701_201709.rds\")\n",
    "y_test = pyreadr.read_r(\"y_test_PM10_201701_201709.rds\")\n",
    "\n",
    "X_train = X_train[None]\n",
    "y_train = y_train[None]\n",
    "X_test = X_test[None]\n",
    "y_test = y_test[None]\n",
    "\n",
    "# We select the X variables\n",
    "X_train = X_train[['PM10_1', 'PM10_2', 'PM10_3', 'PM10_4', 'PM10_22', 'PM10_23', 'PM10_24', 'PM10_48', 'PM10_72', 'PM10_96', 'PM10_120', 'PM10_144', 'PM10_168']]\n",
    "X_test = X_test[['PM10_1', 'PM10_2', 'PM10_3', 'PM10_4', 'PM10_22', 'PM10_23', 'PM10_24', 'PM10_48', 'PM10_72', 'PM10_96', 'PM10_120', 'PM10_144', 'PM10_168']]\n",
    "\n",
    "regXGB = XGBRegressor(n_estimators=100, min_samples_leaf=10,max_depth=2, random_state=42)\n",
    "regXGB.fit(X_train,y_train)\n",
    "\n",
    "\n",
    "# Compute train scores\n",
    "\n",
    "y_pred = regXGB.predict(X_train)\n",
    "\n",
    "r2_train = r2_score(y_train, y_pred)\n",
    "rmse_train = np.sqrt(mean_squared_error(y_train, y_pred))\n",
    "mae_train = mean_absolute_error(y_train, y_pred)\n",
    "r2_adjusted_train = 1 - (1-r2_score(y_train, y_pred))*(len(y_train)-1)/(len(y_train)-X_train.shape[1]-1)\n",
    "sd_train = std(y_train)\n",
    "\n",
    "print(\"R^2 train: {}\".format(r2_train))\n",
    "print(\"R^2 adjusted train: {}\".format(r2_adjusted_train))\n",
    "print(\"Mean Absolute Error train: {}\".format(mae_train))\n",
    "print(\"Root Mean Squared Error train: {}\".format(rmse_train)) \n",
    "print(\"Standard Deviation train: {}\".format(sd_train))  \n",
    "\n",
    "# Compute test scores\n",
    "\n",
    "y_pred = regXGB.predict(X_test)\n",
    "\n",
    "r2_test = r2_score(y_test, y_pred)\n",
    "rmse_test = np.sqrt(mean_squared_error(y_test, y_pred))\n",
    "mae_test = mean_absolute_error(y_test, y_pred)\n",
    "r2_adjusted_test = 1 - (1-r2_score(y_test, y_pred))*(len(y_test)-1)/(len(y_test)-X_test.shape[1]-1)\n",
    "sd_test = std(y_test)\n",
    "\n",
    "print(\"R^2 test: {}\".format(r2_test))\n",
    "print(\"R^2 adjusted test: {}\".format(r2_adjusted_test))\n",
    "print(\"Mean Absolute Error test: {}\".format(mae_test))\n",
    "print(\"Root Mean Squared Error test: {}\".format(rmse_test))\n",
    "print(\"Standard Deviation test: {}\".format(sd_test))  \n"
   ]
  },
  {
   "cell_type": "markdown",
   "metadata": {
    "colab_type": "text",
    "id": "LTsVQvdB1E2i"
   },
   "source": [
    "La reduccion de variables apenas le afecta.\n"
   ]
  },
  {
   "cell_type": "markdown",
   "metadata": {
    "colab_type": "text",
    "id": "raSfuj1FtPSt"
   },
   "source": [
    "# NO2 forecasts 1 hour ahead"
   ]
  },
  {
   "cell_type": "markdown",
   "metadata": {
    "colab_type": "text",
    "id": "HkI7ARZLdoLo"
   },
   "source": []
  },
  {
   "cell_type": "markdown",
   "metadata": {
    "colab_type": "text",
    "id": "TrDKK4mdtqeN"
   },
   "source": [
    "# Linear Regression"
   ]
  },
  {
   "cell_type": "markdown",
   "metadata": {
    "colab_type": "text",
    "id": "071d4A_7dogw"
   },
   "source": []
  },
  {
   "cell_type": "markdown",
   "metadata": {
    "colab_type": "text",
    "id": "C5mSM9eVtwo0"
   },
   "source": [
    "### Train 201610-201612"
   ]
  },
  {
   "cell_type": "code",
   "execution_count": 0,
   "metadata": {
    "colab": {
     "base_uri": "https://localhost:8080/",
     "height": 221
    },
    "colab_type": "code",
    "id": "outQMGVsnjCN",
    "outputId": "76a0072a-d1d7-47ab-853d-e0cd9ce9d317"
   },
   "outputs": [
    {
     "name": "stdout",
     "output_type": "stream",
     "text": [
      "R^2 train: 0.822822715267767\n",
      "R^2 adjusted train: 0.8199094863708244\n",
      "Mean Absolute Error train: 5.514907355119336\n",
      "Root Mean Squared Error train: 7.61264667288017\n",
      "Standard Deviation train: NO2_0    18.085547\n",
      "dtype: float64\n",
      "R^2 test: 0.7669273364145439\n",
      "R^2 adjusted test: 0.7657159018739359\n",
      "Mean Absolute Error test: 5.954549731695322\n",
      "Root Mean Squared Error test: 8.910119651694329\n",
      "Standard Deviation train: NO2_0    18.456012\n",
      "dtype: float64\n"
     ]
    }
   ],
   "source": [
    "X_train = pyreadr.read_r(\"X_train_NO2_201610_201612.rds\")\n",
    "y_train = pyreadr.read_r(\"y_train_NO2_201610_201612.rds\")\n",
    "\n",
    "X_test = pyreadr.read_r(\"X_test_NO2_201701_201709.rds\")\n",
    "y_test = pyreadr.read_r(\"y_test_NO2_201701_201709.rds\")\n",
    "\n",
    "X_train = X_train[None]\n",
    "y_train = y_train[None]\n",
    "X_test = X_test[None]\n",
    "y_test = y_test[None]\n",
    "\n",
    "regLR = LinearRegression()\n",
    "regLR.fit(X_train, y_train)\n",
    "\n",
    "\n",
    "# Compute train scores\n",
    "\n",
    "y_pred = regLR.predict(X_train)\n",
    "\n",
    "r2_train = r2_score(y_train, y_pred)\n",
    "rmse_train = np.sqrt(mean_squared_error(y_train, y_pred))\n",
    "mae_train = mean_absolute_error(y_train, y_pred)\n",
    "r2_adjusted_train = 1 - (1-r2_score(y_train, y_pred))*(len(y_train)-1)/(len(y_train)-X_train.shape[1]-1)\n",
    "sd_train = std(y_train)\n",
    "\n",
    "print(\"R^2 train: {}\".format(r2_train))\n",
    "print(\"R^2 adjusted train: {}\".format(r2_adjusted_train))\n",
    "print(\"Mean Absolute Error train: {}\".format(mae_train))\n",
    "print(\"Root Mean Squared Error train: {}\".format(rmse_train)) \n",
    "print(\"Standard Deviation train: {}\".format(sd_train))  \n",
    "\n",
    "# Compute test scores\n",
    "\n",
    "y_pred = regLR.predict(X_test)\n",
    "\n",
    "r2_test = r2_score(y_test, y_pred)\n",
    "rmse_test = np.sqrt(mean_squared_error(y_test, y_pred))\n",
    "mae_test = mean_absolute_error(y_test, y_pred)\n",
    "r2_adjusted_test = 1 - (1-r2_score(y_test, y_pred))*(len(y_test)-1)/(len(y_test)-X_test.shape[1]-1)\n",
    "sd_test = std(y_test)\n",
    "\n",
    "print(\"R^2 test: {}\".format(r2_test))\n",
    "print(\"R^2 adjusted test: {}\".format(r2_adjusted_test))\n",
    "print(\"Mean Absolute Error test: {}\".format(mae_test))\n",
    "print(\"Root Mean Squared Error test: {}\".format(rmse_test))\n",
    "print(\"Standard Deviation test: {}\".format(sd_test))  \n"
   ]
  },
  {
   "cell_type": "markdown",
   "metadata": {
    "colab_type": "text",
    "id": "OvRLeYYQuCAo"
   },
   "source": [
    "### Train 201401-201612"
   ]
  },
  {
   "cell_type": "code",
   "execution_count": 0,
   "metadata": {
    "colab": {
     "base_uri": "https://localhost:8080/",
     "height": 221
    },
    "colab_type": "code",
    "id": "TeP4XhCcuCAp",
    "outputId": "e1287aee-1827-4ccd-ef9a-972e5e3ec9c5"
   },
   "outputs": [
    {
     "name": "stdout",
     "output_type": "stream",
     "text": [
      "R^2 train: 0.818215372810397\n",
      "R^2 adjusted train: 0.8179855477894309\n",
      "Mean Absolute Error train: 4.5889369714975\n",
      "Root Mean Squared Error train: 6.5792277585662475\n",
      "Standard Deviation train: NO2_0    15.431081\n",
      "dtype: float64\n",
      "R^2 test: 0.7706682754709603\n",
      "R^2 adjusted test: 0.7694762850930333\n",
      "Mean Absolute Error test: 5.850088698986023\n",
      "Root Mean Squared Error test: 8.838324340614871\n",
      "Standard Deviation train: NO2_0    18.456012\n",
      "dtype: float64\n"
     ]
    }
   ],
   "source": [
    "X_train = pyreadr.read_r(\"X_train_NO2_201401_201612.rds\")\n",
    "y_train = pyreadr.read_r(\"y_train_NO2_201401_201612.rds\")\n",
    "\n",
    "X_test = pyreadr.read_r(\"X_test_NO2_201701_201709.rds\")\n",
    "y_test = pyreadr.read_r(\"y_test_NO2_201701_201709.rds\")\n",
    "\n",
    "X_train = X_train[None]\n",
    "y_train = y_train[None]\n",
    "X_test = X_test[None]\n",
    "y_test = y_test[None]\n",
    "\n",
    "regLR = LinearRegression()\n",
    "regLR.fit(X_train, y_train)\n",
    "\n",
    "# Compute train scores\n",
    "\n",
    "y_pred = regLR.predict(X_train)\n",
    "\n",
    "r2_train = r2_score(y_train, y_pred)\n",
    "rmse_train = np.sqrt(mean_squared_error(y_train, y_pred))\n",
    "mae_train = mean_absolute_error(y_train, y_pred)\n",
    "r2_adjusted_train = 1 - (1-r2_score(y_train, y_pred))*(len(y_train)-1)/(len(y_train)-X_train.shape[1]-1)\n",
    "sd_train = std(y_train)\n",
    "\n",
    "print(\"R^2 train: {}\".format(r2_train))\n",
    "print(\"R^2 adjusted train: {}\".format(r2_adjusted_train))\n",
    "print(\"Mean Absolute Error train: {}\".format(mae_train))\n",
    "print(\"Root Mean Squared Error train: {}\".format(rmse_train)) \n",
    "print(\"Standard Deviation train: {}\".format(sd_train))  \n",
    "\n",
    "# Compute test scores\n",
    "\n",
    "y_pred = regLR.predict(X_test)\n",
    "\n",
    "r2_test = r2_score(y_test, y_pred)\n",
    "rmse_test = np.sqrt(mean_squared_error(y_test, y_pred))\n",
    "mae_test = mean_absolute_error(y_test, y_pred)\n",
    "r2_adjusted_test = 1 - (1-r2_score(y_test, y_pred))*(len(y_test)-1)/(len(y_test)-X_test.shape[1]-1)\n",
    "sd_test = std(y_test)\n",
    "\n",
    "print(\"R^2 test: {}\".format(r2_test))\n",
    "print(\"R^2 adjusted test: {}\".format(r2_adjusted_test))\n",
    "print(\"Mean Absolute Error test: {}\".format(mae_test))\n",
    "print(\"Root Mean Squared Error test: {}\".format(rmse_test))\n",
    "print(\"Standard Deviation test: {}\".format(sd_test))  \n",
    "\n"
   ]
  },
  {
   "cell_type": "markdown",
   "metadata": {
    "colab_type": "text",
    "id": "igu5zTt5uCAw"
   },
   "source": [
    "### Train 200901-201612"
   ]
  },
  {
   "cell_type": "code",
   "execution_count": 0,
   "metadata": {
    "colab": {
     "base_uri": "https://localhost:8080/",
     "height": 221
    },
    "colab_type": "code",
    "id": "f99SiPLGuCAx",
    "outputId": "7c8d200c-86b7-4b77-f6ac-bb2415d5c061"
   },
   "outputs": [
    {
     "name": "stdout",
     "output_type": "stream",
     "text": [
      "R^2 train: 0.8228218436039392\n",
      "R^2 adjusted train: 0.822738228365529\n",
      "Mean Absolute Error train: 5.850253455720028\n",
      "Root Mean Squared Error train: 8.673466552842386\n",
      "Standard Deviation train: NO2_0    20.605712\n",
      "dtype: float64\n",
      "R^2 test: 0.7703529882932582\n",
      "R^2 adjusted test: 0.7691593591569654\n",
      "Mean Absolute Error test: 5.8269012801995945\n",
      "Root Mean Squared Error test: 8.844397755090519\n",
      "Standard Deviation train: NO2_0    18.456012\n",
      "dtype: float64\n"
     ]
    }
   ],
   "source": [
    "X_train = pyreadr.read_r(\"X_train_NO2_200901_201612.rds\")\n",
    "y_train = pyreadr.read_r(\"y_train_NO2_200901_201612.rds\")\n",
    "\n",
    "X_test = pyreadr.read_r(\"X_test_NO2_201701_201709.rds\")\n",
    "y_test = pyreadr.read_r(\"y_test_NO2_201701_201709.rds\")\n",
    "\n",
    "X_train = X_train[None]\n",
    "y_train = y_train[None]\n",
    "X_test = X_test[None]\n",
    "y_test = y_test[None]\n",
    "\n",
    "regLR = LinearRegression()\n",
    "regLR.fit(X_train, y_train)\n",
    "\n",
    "# Compute train scores\n",
    "\n",
    "y_pred = regLR.predict(X_train)\n",
    "\n",
    "r2_train = r2_score(y_train, y_pred)\n",
    "rmse_train = np.sqrt(mean_squared_error(y_train, y_pred))\n",
    "mae_train = mean_absolute_error(y_train, y_pred)\n",
    "r2_adjusted_train = 1 - (1-r2_score(y_train, y_pred))*(len(y_train)-1)/(len(y_train)-X_train.shape[1]-1)\n",
    "sd_train = std(y_train)\n",
    "\n",
    "print(\"R^2 train: {}\".format(r2_train))\n",
    "print(\"R^2 adjusted train: {}\".format(r2_adjusted_train))\n",
    "print(\"Mean Absolute Error train: {}\".format(mae_train))\n",
    "print(\"Root Mean Squared Error train: {}\".format(rmse_train)) \n",
    "print(\"Standard Deviation train: {}\".format(sd_train))  \n",
    "\n",
    "# Compute test scores\n",
    "\n",
    "y_pred = regLR.predict(X_test)\n",
    "\n",
    "r2_test = r2_score(y_test, y_pred)\n",
    "rmse_test = np.sqrt(mean_squared_error(y_test, y_pred))\n",
    "mae_test = mean_absolute_error(y_test, y_pred)\n",
    "r2_adjusted_test = 1 - (1-r2_score(y_test, y_pred))*(len(y_test)-1)/(len(y_test)-X_test.shape[1]-1)\n",
    "sd_test = std(y_test)\n",
    "\n",
    "print(\"R^2 test: {}\".format(r2_test))\n",
    "print(\"R^2 adjusted test: {}\".format(r2_adjusted_test))\n",
    "print(\"Mean Absolute Error test: {}\".format(mae_test))\n",
    "print(\"Root Mean Squared Error test: {}\".format(rmse_test))\n",
    "print(\"Standard Deviation test: {}\".format(sd_test))  \n",
    "\n"
   ]
  },
  {
   "cell_type": "markdown",
   "metadata": {
    "colab_type": "text",
    "id": "AX8g0b8ZuCA3"
   },
   "source": [
    "The training period with better results is the 2014-01 - 2016-12. So, from now on this is period we are going to apply as default. "
   ]
  },
  {
   "cell_type": "code",
   "execution_count": 0,
   "metadata": {
    "colab": {},
    "colab_type": "code",
    "id": "Gc0Fu-ot4FZO"
   },
   "outputs": [],
   "source": []
  },
  {
   "cell_type": "markdown",
   "metadata": {
    "colab_type": "text",
    "id": "spGCrtz64F4f"
   },
   "source": [
    "## Variable Selection"
   ]
  },
  {
   "cell_type": "markdown",
   "metadata": {
    "colab_type": "text",
    "id": "9stOxoxl4F4g"
   },
   "source": [
    "We will use the same method to select the variables that we used before with the PM10 models.\n",
    "\n",
    "We use the statsmodel to obtain the OLS coefficients and p-values."
   ]
  },
  {
   "cell_type": "code",
   "execution_count": 0,
   "metadata": {
    "colab": {
     "base_uri": "https://localhost:8080/",
     "height": 1173
    },
    "colab_type": "code",
    "id": "o_Ejf-AA4F4h",
    "outputId": "8d819c55-b6bb-4da5-d601-965b9ff211b8"
   },
   "outputs": [
    {
     "name": "stdout",
     "output_type": "stream",
     "text": [
      "                            OLS Regression Results                            \n",
      "==============================================================================\n",
      "Dep. Variable:                  NO2_0   R-squared:                       0.949\n",
      "Model:                            OLS   Adj. R-squared:                  0.949\n",
      "Method:                 Least Squares   F-statistic:                 1.474e+04\n",
      "Date:                Mon, 07 Jan 2019   Prob (F-statistic):               0.00\n",
      "Time:                        15:16:22   Log-Likelihood:                -86325.\n",
      "No. Observations:               26136   AIC:                         1.727e+05\n",
      "Df Residuals:                   26103   BIC:                         1.730e+05\n",
      "Df Model:                          33                                         \n",
      "Covariance Type:            nonrobust                                         \n",
      "==============================================================================\n",
      "                 coef    std err          t      P>|t|      [0.025      0.975]\n",
      "------------------------------------------------------------------------------\n",
      "NO2_1          0.8992      0.006    144.530      0.000       0.887       0.911\n",
      "NO2_2         -0.1226      0.008    -14.702      0.000      -0.139      -0.106\n",
      "NO2_3          0.0076      0.008      0.910      0.363      -0.009       0.024\n",
      "NO2_4         -0.0116      0.008     -1.393      0.164      -0.028       0.005\n",
      "NO2_5          0.0152      0.008      1.819      0.069      -0.001       0.032\n",
      "NO2_6         -0.0115      0.008     -1.385      0.166      -0.028       0.005\n",
      "NO2_7         -0.0003      0.008     -0.041      0.967      -0.017       0.016\n",
      "NO2_8          0.0099      0.008      1.193      0.233      -0.006       0.026\n",
      "NO2_9         -0.0032      0.008     -0.387      0.699      -0.020       0.013\n",
      "NO2_10         0.0367      0.008      4.398      0.000       0.020       0.053\n",
      "NO2_11         0.0186      0.008      2.235      0.025       0.002       0.035\n",
      "NO2_12         0.0043      0.008      0.510      0.610      -0.012       0.021\n",
      "NO2_13        -0.0013      0.008     -0.155      0.877      -0.018       0.015\n",
      "NO2_14        -0.0130      0.008     -1.553      0.120      -0.029       0.003\n",
      "NO2_15        -0.0230      0.008     -2.763      0.006      -0.039      -0.007\n",
      "NO2_16        -0.0116      0.008     -1.391      0.164      -0.028       0.005\n",
      "NO2_17         0.0036      0.008      0.438      0.662      -0.013       0.020\n",
      "NO2_18         0.0075      0.008      0.895      0.371      -0.009       0.024\n",
      "NO2_19         0.0081      0.008      0.974      0.330      -0.008       0.024\n",
      "NO2_20        -0.0072      0.008     -0.858      0.391      -0.023       0.009\n",
      "NO2_21         0.0035      0.008      0.422      0.673      -0.013       0.020\n",
      "NO2_22         0.0570      0.008      6.834      0.000       0.041       0.073\n",
      "NO2_23         0.0570      0.008      6.822      0.000       0.041       0.073\n",
      "NO2_24         0.0605      0.008      7.216      0.000       0.044       0.077\n",
      "NO2_25        -0.0420      0.008     -5.010      0.000      -0.058      -0.026\n",
      "NO2_26        -0.0305      0.008     -3.661      0.000      -0.047      -0.014\n",
      "NO2_27        -0.0457      0.006     -7.520      0.000      -0.058      -0.034\n",
      "NO2_48         0.0242      0.004      6.678      0.000       0.017       0.031\n",
      "NO2_72         0.0156      0.004      4.316      0.000       0.008       0.023\n",
      "NO2_96         0.0150      0.004      4.153      0.000       0.008       0.022\n",
      "NO2_120        0.0102      0.004      2.824      0.005       0.003       0.017\n",
      "NO2_144        0.0234      0.004      6.529      0.000       0.016       0.030\n",
      "NO2_168        0.0454      0.003     13.036      0.000       0.039       0.052\n",
      "==============================================================================\n",
      "Omnibus:                     3794.392   Durbin-Watson:                   1.978\n",
      "Prob(Omnibus):                  0.000   Jarque-Bera (JB):            30904.451\n",
      "Skew:                           0.454   Prob(JB):                         0.00\n",
      "Kurtosis:                       8.249   Cond. No.                         47.3\n",
      "==============================================================================\n",
      "\n",
      "Warnings:\n",
      "[1] Standard Errors assume that the covariance matrix of the errors is correctly specified.\n",
      "R^2 train: 0.8181914436175173\n",
      "R^2 adjusted train: 0.817961588343568\n",
      "Mean Absolute Error train: 4.5843315389765715\n",
      "Root Mean Squared Error train: 6.579660772159877\n",
      "Standard Deviation train: NO2_0    15.431081\n",
      "dtype: float64\n",
      "R^2 test: 0.7706390739447018\n",
      "R^2 adjusted test: 0.7694469317869093\n",
      "Mean Absolute Error test: 5.848091679664535\n",
      "Root Mean Squared Error test: 8.838887028453707\n",
      "Standard Deviation test: NO2_0    18.456012\n",
      "dtype: float64\n"
     ]
    }
   ],
   "source": [
    "X_train = pyreadr.read_r(\"X_train_NO2_201401_201612.rds\")\n",
    "y_train = pyreadr.read_r(\"y_train_NO2_201401_201612.rds\")\n",
    "\n",
    "X_test = pyreadr.read_r(\"X_test_NO2_201701_201709.rds\")\n",
    "y_test = pyreadr.read_r(\"y_test_NO2_201701_201709.rds\")\n",
    "\n",
    "X_train = X_train[None]\n",
    "y_train = y_train[None]\n",
    "X_test = X_test[None]\n",
    "y_test = y_test[None]\n",
    "\n",
    "results = sm.OLS(y_train, X_train).fit()\n",
    "\n",
    "results_summary = results.summary()\n",
    "\n",
    "print(results.summary())\n",
    "\n",
    "# Compute train scores\n",
    "\n",
    "y_pred = results.predict(X_train)\n",
    "\n",
    "r2_train = r2_score(y_train, y_pred)\n",
    "rmse_train = np.sqrt(mean_squared_error(y_train, y_pred))\n",
    "mae_train = mean_absolute_error(y_train, y_pred)\n",
    "r2_adjusted_train = 1 - (1-r2_score(y_train, y_pred))*(len(y_train)-1)/(len(y_train)-X_train.shape[1]-1)\n",
    "sd_train = std(y_train)\n",
    "\n",
    "print(\"R^2 train: {}\".format(r2_train))\n",
    "print(\"R^2 adjusted train: {}\".format(r2_adjusted_train))\n",
    "print(\"Mean Absolute Error train: {}\".format(mae_train))\n",
    "print(\"Root Mean Squared Error train: {}\".format(rmse_train)) \n",
    "print(\"Standard Deviation train: {}\".format(sd_train))  \n",
    "\n",
    "# Compute test scores\n",
    "\n",
    "y_pred = results.predict(X_test)\n",
    "\n",
    "r2_test = r2_score(y_test, y_pred)\n",
    "rmse_test = np.sqrt(mean_squared_error(y_test, y_pred))\n",
    "mae_test = mean_absolute_error(y_test, y_pred)\n",
    "r2_adjusted_test = 1 - (1-r2_score(y_test, y_pred))*(len(y_test)-1)/(len(y_test)-X_test.shape[1]-1)\n",
    "sd_test = std(y_test)\n",
    "\n",
    "print(\"R^2 test: {}\".format(r2_test))\n",
    "print(\"R^2 adjusted test: {}\".format(r2_adjusted_test))\n",
    "print(\"Mean Absolute Error test: {}\".format(mae_test))\n",
    "print(\"Root Mean Squared Error test: {}\".format(rmse_test))\n",
    "print(\"Standard Deviation test: {}\".format(sd_test))  \n"
   ]
  },
  {
   "cell_type": "markdown",
   "metadata": {
    "colab_type": "text",
    "id": "Fi2fMhBc4F4l"
   },
   "source": [
    "We extract the table with the variables, coefficientes, p-values, etc."
   ]
  },
  {
   "cell_type": "code",
   "execution_count": 0,
   "metadata": {
    "colab": {
     "base_uri": "https://localhost:8080/",
     "height": 204
    },
    "colab_type": "code",
    "id": "OQ70NKmG4F4m",
    "outputId": "a531a1b5-8954-4766-8fbf-dd073a1d6a2f"
   },
   "outputs": [
    {
     "data": {
      "text/html": [
       "<div>\n",
       "<style scoped>\n",
       "    .dataframe tbody tr th:only-of-type {\n",
       "        vertical-align: middle;\n",
       "    }\n",
       "\n",
       "    .dataframe tbody tr th {\n",
       "        vertical-align: top;\n",
       "    }\n",
       "\n",
       "    .dataframe thead th {\n",
       "        text-align: right;\n",
       "    }\n",
       "</style>\n",
       "<table border=\"1\" class=\"dataframe\">\n",
       "  <thead>\n",
       "    <tr style=\"text-align: right;\">\n",
       "      <th></th>\n",
       "      <th>coef</th>\n",
       "      <th>std err</th>\n",
       "      <th>t</th>\n",
       "      <th>P&gt;|t|</th>\n",
       "      <th>[0.025</th>\n",
       "      <th>0.975]</th>\n",
       "    </tr>\n",
       "  </thead>\n",
       "  <tbody>\n",
       "    <tr>\n",
       "      <th>NO2_1</th>\n",
       "      <td>0.8992</td>\n",
       "      <td>0.006</td>\n",
       "      <td>144.530</td>\n",
       "      <td>0.000</td>\n",
       "      <td>0.887</td>\n",
       "      <td>0.911</td>\n",
       "    </tr>\n",
       "    <tr>\n",
       "      <th>NO2_2</th>\n",
       "      <td>-0.1226</td>\n",
       "      <td>0.008</td>\n",
       "      <td>-14.702</td>\n",
       "      <td>0.000</td>\n",
       "      <td>-0.139</td>\n",
       "      <td>-0.106</td>\n",
       "    </tr>\n",
       "    <tr>\n",
       "      <th>NO2_3</th>\n",
       "      <td>0.0076</td>\n",
       "      <td>0.008</td>\n",
       "      <td>0.910</td>\n",
       "      <td>0.363</td>\n",
       "      <td>-0.009</td>\n",
       "      <td>0.024</td>\n",
       "    </tr>\n",
       "    <tr>\n",
       "      <th>NO2_4</th>\n",
       "      <td>-0.0116</td>\n",
       "      <td>0.008</td>\n",
       "      <td>-1.393</td>\n",
       "      <td>0.164</td>\n",
       "      <td>-0.028</td>\n",
       "      <td>0.005</td>\n",
       "    </tr>\n",
       "    <tr>\n",
       "      <th>NO2_5</th>\n",
       "      <td>0.0152</td>\n",
       "      <td>0.008</td>\n",
       "      <td>1.819</td>\n",
       "      <td>0.069</td>\n",
       "      <td>-0.001</td>\n",
       "      <td>0.032</td>\n",
       "    </tr>\n",
       "  </tbody>\n",
       "</table>\n",
       "</div>"
      ],
      "text/plain": [
       "         coef  std err        t  P>|t|  [0.025  0.975]\n",
       "NO2_1  0.8992    0.006  144.530  0.000   0.887   0.911\n",
       "NO2_2 -0.1226    0.008  -14.702  0.000  -0.139  -0.106\n",
       "NO2_3  0.0076    0.008    0.910  0.363  -0.009   0.024\n",
       "NO2_4 -0.0116    0.008   -1.393  0.164  -0.028   0.005\n",
       "NO2_5  0.0152    0.008    1.819  0.069  -0.001   0.032"
      ]
     },
     "execution_count": 66,
     "metadata": {
      "tags": []
     },
     "output_type": "execute_result"
    }
   ],
   "source": [
    "results_as_html = results_summary.tables[1].as_html()\n",
    "table_p = pd.read_html(results_as_html, header=0, index_col=0)[0]\n",
    "table_p.head()"
   ]
  },
  {
   "cell_type": "markdown",
   "metadata": {
    "colab_type": "text",
    "id": "DpWI9DfA4F4r"
   },
   "source": [
    "Using the p-value of each variable as selecting guide I conserve only the next variables: \n",
    "\n",
    "The most near values to the target variable NO2_0: NO2_1, NO2_2.  \n",
    "The NO2_10 and NO2_15 lagged variables.\n",
    "And the 24 hours seasonal references: NO2_22, NO2_23, NO2_24, NO2_48, NO2_72, NO2_96, NO2_120, NO2_144 and NO2_168."
   ]
  },
  {
   "cell_type": "markdown",
   "metadata": {
    "colab_type": "text",
    "id": "sdE9MwfI5h04"
   },
   "source": [
    "We fit again the model to check the effect of removing the variables"
   ]
  },
  {
   "cell_type": "code",
   "execution_count": 0,
   "metadata": {
    "colab": {
     "base_uri": "https://localhost:8080/",
     "height": 221
    },
    "colab_type": "code",
    "id": "WvYn7L275hJq",
    "outputId": "b972dd81-1b8b-4e17-c229-4eb6f7d1c4d0"
   },
   "outputs": [
    {
     "name": "stdout",
     "output_type": "stream",
     "text": [
      "R^2 train: 0.8142366716733853\n",
      "R^2 adjusted train: 0.8141442238030749\n",
      "Mean Absolute Error train: 4.645832049722074\n",
      "Root Mean Squared Error train: 6.650837485922134\n",
      "Standard Deviation train: NO2_0    15.431081\n",
      "dtype: float64\n",
      "R^2 test: 0.7669109801968373\n",
      "R^2 adjusted test: 0.7664352136310592\n",
      "Mean Absolute Error test: 5.933575730644735\n",
      "Root Mean Squared Error test: 8.910432286599372\n",
      "Standard Deviation test: NO2_0    18.456012\n",
      "dtype: float64\n"
     ]
    }
   ],
   "source": [
    "X_train = pyreadr.read_r(\"X_train_NO2_201401_201612.rds\")\n",
    "y_train = pyreadr.read_r(\"y_train_NO2_201401_201612.rds\")\n",
    "\n",
    "X_test = pyreadr.read_r(\"X_test_NO2_201701_201709.rds\")\n",
    "y_test = pyreadr.read_r(\"y_test_NO2_201701_201709.rds\")\n",
    "\n",
    "X_train = X_train[None]\n",
    "y_train = y_train[None]\n",
    "X_test = X_test[None]\n",
    "y_test = y_test[None]\n",
    "\n",
    "# We select the X variables\n",
    "X_train = X_train[['NO2_1', 'NO2_2', 'NO2_10', 'NO2_15', 'NO2_22', 'NO2_23', 'NO2_24', 'NO2_48', 'NO2_72', 'NO2_96', 'NO2_120', 'NO2_144', 'NO2_168']]\n",
    "X_test = X_test[['NO2_1', 'NO2_2', 'NO2_10', 'NO2_15', 'NO2_22', 'NO2_23', 'NO2_24', 'NO2_48', 'NO2_72', 'NO2_96', 'NO2_120', 'NO2_144', 'NO2_168']]\n",
    "\n",
    "regLR = LinearRegression()\n",
    "regLR.fit(X_train, y_train)\n",
    "\n",
    "# Compute train scores\n",
    "\n",
    "y_pred = regLR.predict(X_train)\n",
    "\n",
    "r2_train = r2_score(y_train, y_pred)\n",
    "rmse_train = np.sqrt(mean_squared_error(y_train, y_pred))\n",
    "mae_train = mean_absolute_error(y_train, y_pred)\n",
    "r2_adjusted_train = 1 - (1-r2_score(y_train, y_pred))*(len(y_train)-1)/(len(y_train)-X_train.shape[1]-1)\n",
    "sd_train = std(y_train)\n",
    "\n",
    "print(\"R^2 train: {}\".format(r2_train))\n",
    "print(\"R^2 adjusted train: {}\".format(r2_adjusted_train))\n",
    "print(\"Mean Absolute Error train: {}\".format(mae_train))\n",
    "print(\"Root Mean Squared Error train: {}\".format(rmse_train)) \n",
    "print(\"Standard Deviation train: {}\".format(sd_train))  \n",
    "\n",
    "# Compute test scores\n",
    "\n",
    "y_pred = regLR.predict(X_test)\n",
    "\n",
    "r2_test = r2_score(y_test, y_pred)\n",
    "rmse_test = np.sqrt(mean_squared_error(y_test, y_pred))\n",
    "mae_test = mean_absolute_error(y_test, y_pred)\n",
    "r2_adjusted_test = 1 - (1-r2_score(y_test, y_pred))*(len(y_test)-1)/(len(y_test)-X_test.shape[1]-1)\n",
    "sd_test = std(y_test)\n",
    "\n",
    "print(\"R^2 test: {}\".format(r2_test))\n",
    "print(\"R^2 adjusted test: {}\".format(r2_adjusted_test))\n",
    "print(\"Mean Absolute Error test: {}\".format(mae_test))\n",
    "print(\"Root Mean Squared Error test: {}\".format(rmse_test))\n",
    "print(\"Standard Deviation test: {}\".format(sd_test))  \n",
    "\n"
   ]
  },
  {
   "cell_type": "markdown",
   "metadata": {
    "colab_type": "text",
    "id": "iwd8DCPg8sHy"
   },
   "source": [
    "# RANDOM FOREST REGRESSOR"
   ]
  },
  {
   "cell_type": "markdown",
   "metadata": {
    "colab_type": "text",
    "id": "IET8Ck1-83jl"
   },
   "source": [
    "### Train 201401-201612 / 13 lagged variables"
   ]
  },
  {
   "cell_type": "code",
   "execution_count": 0,
   "metadata": {
    "colab": {
     "base_uri": "https://localhost:8080/",
     "height": 51
    },
    "colab_type": "code",
    "id": "Vs_eVrUt8rXc",
    "outputId": "7fcaf203-5f0d-4d33-fdee-ba635c0efb49"
   },
   "outputs": [
    {
     "name": "stderr",
     "output_type": "stream",
     "text": [
      "/usr/local/lib/python3.6/dist-packages/sklearn/model_selection/_split.py:2053: FutureWarning: You should specify a value for 'cv' instead of relying on the default value. The default value will change from 3 to 5 in version 0.22.\n",
      "  warnings.warn(CV_WARNING, FutureWarning)\n"
     ]
    }
   ],
   "source": [
    "X_train = pyreadr.read_r(\"X_train_NO2_201401_201612.rds\")\n",
    "y_train = pyreadr.read_r(\"y_train_NO2_201401_201612.rds\")\n",
    "\n",
    "X_test = pyreadr.read_r(\"X_test_NO2_201701_201709.rds\")\n",
    "y_test = pyreadr.read_r(\"y_test_NO2_201701_201709.rds\")\n",
    "\n",
    "X_train = X_train[None]\n",
    "y_train = y_train[None]\n",
    "X_test = X_test[None]\n",
    "y_test = y_test[None]\n",
    "\n",
    "# We select the X variables\n",
    "X_train = X_train[['NO2_1', 'NO2_2', 'NO2_10', 'NO2_15', 'NO2_22', 'NO2_23', 'NO2_24', 'NO2_48', 'NO2_72', 'NO2_96', 'NO2_120', 'NO2_144', 'NO2_168']]\n",
    "X_test = X_test[['NO2_1', 'NO2_2', 'NO2_10', 'NO2_15', 'NO2_22', 'NO2_23', 'NO2_24', 'NO2_48', 'NO2_72', 'NO2_96', 'NO2_120', 'NO2_144', 'NO2_168']]\n",
    "\n",
    "\n",
    "regRFR = GridSearchCV(RandomForestRegressor(n_estimators=350,min_samples_leaf=1,max_depth=4, random_state=42),\n",
    "                   param_grid={\"n_estimators\":[100, 350, 500, 1000],\n",
    "                              \"min_samples_leaf\":[5,10,20,30,40,70,100],\n",
    "                              \"max_depth\":range(2,15)},\n",
    "                   scoring=\"neg_mean_absolute_error\")\n",
    "regRFR.fit(X_train,y_train.values.ravel())\n",
    "print(regRFR.best_params_)\n",
    "print(regRFR.best_score_)\n",
    "\n",
    "\n",
    "# Compute train scores\n",
    "\n",
    "y_pred = regRFR.predict(X_train)\n",
    "\n",
    "r2_train = r2_score(y_train, y_pred)\n",
    "rmse_train = np.sqrt(mean_squared_error(y_train, y_pred))\n",
    "mae_train = mean_absolute_error(y_train, y_pred)\n",
    "r2_adjusted_train = 1 - (1-r2_score(y_train, y_pred))*(len(y_train)-1)/(len(y_train)-X_train.shape[1]-1)\n",
    "sd_train = std(y_train)\n",
    "\n",
    "print(\"R^2 train: {}\".format(r2_train))\n",
    "print(\"R^2 adjusted train: {}\".format(r2_adjusted_train))\n",
    "print(\"Mean Absolute Error train: {}\".format(mae_train))\n",
    "print(\"Root Mean Squared Error train: {}\".format(rmse_train)) \n",
    "print(\"Standard Deviation train: {}\".format(sd_train))  \n",
    "\n",
    "# Compute test scores\n",
    "\n",
    "y_pred = regRFR.predict(X_test)\n",
    "\n",
    "r2_test = r2_score(y_test, y_pred)\n",
    "rmse_test = np.sqrt(mean_squared_error(y_test, y_pred))\n",
    "mae_test = mean_absolute_error(y_test, y_pred)\n",
    "r2_adjusted_test = 1 - (1-r2_score(y_test, y_pred))*(len(y_test)-1)/(len(y_test)-X_test.shape[1]-1)\n",
    "sd_test = std(y_test)\n",
    "\n",
    "print(\"R^2 test: {}\".format(r2_test))\n",
    "print(\"R^2 adjusted test: {}\".format(r2_adjusted_test))\n",
    "print(\"Mean Absolute Error test: {}\".format(mae_test))\n",
    "print(\"Root Mean Squared Error test: {}\".format(rmse_test))\n",
    "print(\"Standard Deviation test: {}\".format(sd_test))  \n",
    "\n",
    "\n",
    "\n"
   ]
  }
 ],
 "metadata": {
  "accelerator": "GPU",
  "colab": {
   "collapsed_sections": [],
   "name": "21_Prediction_Models_ML_0_AR.ipynb",
   "provenance": [],
   "version": "0.3.2"
  },
  "kernelspec": {
   "display_name": "Python 3",
   "language": "python",
   "name": "python3"
  },
  "language_info": {
   "codemirror_mode": {
    "name": "ipython",
    "version": 3
   },
   "file_extension": ".py",
   "mimetype": "text/x-python",
   "name": "python",
   "nbconvert_exporter": "python",
   "pygments_lexer": "ipython3",
   "version": "3.6.5"
  }
 },
 "nbformat": 4,
 "nbformat_minor": 1
}
